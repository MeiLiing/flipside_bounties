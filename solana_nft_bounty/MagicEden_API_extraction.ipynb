{
 "cells": [
  {
   "cell_type": "code",
   "execution_count": 1,
   "metadata": {},
   "outputs": [],
   "source": [
    "import requests\n",
    "import json\n",
    "import time\n",
    "import pandas as pd \n",
    "import numpy as np\n",
    "import matplotlib.pyplot as plt\n",
    "import seaborn as sns"
   ]
  },
  {
   "cell_type": "code",
   "execution_count": null,
   "metadata": {},
   "outputs": [],
   "source": [
    "collections = []\n",
    "\n",
    "for n in range(0,6000,500):\n",
    "    print('Started collections offset: ',n)\n",
    "\n",
    "    offset = str(n)\n",
    "    url = \"http://api-mainnet.magiceden.dev/v2/collections?offset=\"+offset+\"&limit=500\"\n",
    "    payload = {}\n",
    "    headers = {}\n",
    "\n",
    "    response = requests.request(\"GET\", url, headers=headers, data=payload)\n",
    "    response_collections_json = response.json()\n",
    "\n",
    "    for i in range(0,len(response_collections_json)):\n",
    "        symbol = response_collections_json[i]['symbol']\n",
    "\n",
    "        print('Started inner collection (collections/inner offset): ',n,'/',i)\n",
    "        print('Symbol: ',symbol)\n",
    "        \n",
    "        url = \"http://api-mainnet.magiceden.dev/v2/collections/\"+symbol+\"/stats\"\n",
    "        payload = {}\n",
    "        headers = {}\n",
    "        response = requests.request(\"GET\", url, headers=headers, data=payload)\n",
    "        response_symbol_json = response.json()\n",
    "        print('response_symbol_json complete')\n",
    "\n",
    "        url = \"http://api-mainnet.magiceden.dev/v2/collections/\"+symbol+\"/listings?offset=0&limit=1\"\n",
    "        payload = {}\n",
    "        headers = {}\n",
    "        response_listing = requests.request(\"GET\", url, headers=headers, data=payload)\n",
    "        response_listing_json = response_listing.json()\n",
    "        print('response_listing_json complete')\n",
    "        \n",
    "        if len(response_listing_json) > 0:\n",
    "            response_symbol_json['mint'] = response_listing_json[0]['tokenMint']\n",
    "        else:\n",
    "            response_symbol_json['mint'] = '0'\n",
    "\n",
    "        collections += [response_symbol_json]\n",
    "\n",
    "        print('Ended inner collection: ',n,'/',i)\n",
    "        print('Symbol: ',symbol)\n",
    "        # print(collections)\n",
    "        time.sleep(0.001)\n",
    "    \n",
    "    print('Ended collections offset: ',n)"
   ]
  },
  {
   "cell_type": "code",
   "execution_count": null,
   "metadata": {},
   "outputs": [],
   "source": [
    "with open('magiceden_stats.json','w') as outfile:\n",
    "    json.dump(collections, outfile)"
   ]
  },
  {
   "cell_type": "code",
   "execution_count": null,
   "metadata": {},
   "outputs": [],
   "source": [
    "# Part 2 starting clean\n",
    "\n",
    "collections = []\n",
    "\n",
    "for n in range(3052,6052,500):\n",
    "    print('STARTED collections offset: ',n)\n",
    "\n",
    "    offset = str(n)\n",
    "    url = \"http://api-mainnet.magiceden.dev/v2/collections?offset=\"+offset+\"&limit=500\"\n",
    "    payload = {}\n",
    "    headers = {}\n",
    "\n",
    "    response = requests.request(\"GET\", url, headers=headers, data=payload)\n",
    "    response_collections_json = response.json()\n",
    "\n",
    "    for i in range(0,len(response_collections_json)):\n",
    "        symbol = response_collections_json[i]['symbol']\n",
    "\n",
    "        print('STARTED inner collection (collections/inner offset): ',n,'/',i)\n",
    "        print('Symbol: ',symbol)\n",
    "        \n",
    "        url = \"http://api-mainnet.magiceden.dev/v2/collections/\"+symbol+\"/stats\"\n",
    "        payload = {}\n",
    "        headers = {}\n",
    "        response = requests.request(\"GET\", url, headers=headers, data=payload)\n",
    "        response_symbol_json = response.json()\n",
    "        print('response_symbol_json complete')\n",
    "\n",
    "        url = \"http://api-mainnet.magiceden.dev/v2/collections/\"+symbol+\"/listings?offset=0&limit=1\"\n",
    "        payload = {}\n",
    "        headers = {}\n",
    "        response_listing = requests.request(\"GET\", url, headers=headers, data=payload)\n",
    "        response_listing_json = response_listing.json()\n",
    "        print('response_listing_json complete')\n",
    "        \n",
    "        if len(response_listing_json) > 0:\n",
    "            response_symbol_json['mint'] = response_listing_json[0]['tokenMint']\n",
    "        else:\n",
    "            response_symbol_json['mint'] = '0'\n",
    "\n",
    "        collections += [response_symbol_json]\n",
    "\n",
    "        print('ENDED inner collection: ',n,'/',i)\n",
    "        print('Symbol: ',symbol)\n",
    "        # print(collections)\n",
    "        time.sleep(0.001)\n",
    "    \n",
    "    print('ENDED collections offset: ',n)"
   ]
  },
  {
   "cell_type": "code",
   "execution_count": null,
   "metadata": {},
   "outputs": [],
   "source": [
    "with open('magiceden_stats_2.json','w') as outfile:\n",
    "    json.dump(collections, outfile)"
   ]
  },
  {
   "cell_type": "code",
   "execution_count": 26,
   "metadata": {},
   "outputs": [
    {
     "name": "stdout",
     "output_type": "stream",
     "text": [
      "<class 'pandas.core.frame.DataFrame'>\n",
      "Int64Index: 5675 entries, 0 to 5823\n",
      "Data columns (total 4 columns):\n",
      " #   Column          Non-Null Count  Dtype  \n",
      "---  ------          --------------  -----  \n",
      " 0   symbol          5675 non-null   object \n",
      " 1   floor_price     5675 non-null   float64\n",
      " 2   trading_volume  5675 non-null   float64\n",
      " 3   mint            5675 non-null   object \n",
      "dtypes: float64(2), object(2)\n",
      "memory usage: 221.7+ KB\n"
     ]
    }
   ],
   "source": [
    "df1 = pd.read_json('magiceden_stats.json')\n",
    "df2 = pd.read_json('magiceden_stats_2.json')\n",
    "\n",
    "magiceden_df = pd.concat([df1,df2], ignore_index=True)\n",
    "magiceden_df.drop(['listedCount','avgPrice24hr'], axis=1, inplace=True)\n",
    "magiceden_df.drop_duplicates(subset=['symbol','mint'], keep='last', inplace=True, ignore_index=True)\n",
    "magiceden_df.dropna(axis=0, subset=['floorPrice'], inplace=True)\n",
    "magiceden_df.fillna(value={'volumeAll':'0'}, inplace=True)\n",
    "magiceden_df.rename(columns={\n",
    "    'floorPrice': 'floor_price',\n",
    "    'volumeAll': 'trading_volume'\n",
    "}, inplace=True)\n",
    "\n",
    "magiceden_df['floor_price'] = magiceden_df.floor_price.apply(\n",
    "    lambda x: float(x) / 10**9\n",
    ")\n",
    "magiceden_df['trading_volume'] = magiceden_df.trading_volume.apply(\n",
    "    lambda x: float(x) / 10**9\n",
    ")\n",
    "magiceden_df = magiceden_df[magiceden_df['mint'] != '0']\n",
    "magiceden_df.info()"
   ]
  },
  {
   "cell_type": "code",
   "execution_count": 27,
   "metadata": {},
   "outputs": [
    {
     "data": {
      "text/html": [
       "<div>\n",
       "<style scoped>\n",
       "    .dataframe tbody tr th:only-of-type {\n",
       "        vertical-align: middle;\n",
       "    }\n",
       "\n",
       "    .dataframe tbody tr th {\n",
       "        vertical-align: top;\n",
       "    }\n",
       "\n",
       "    .dataframe thead th {\n",
       "        text-align: right;\n",
       "    }\n",
       "</style>\n",
       "<table border=\"1\" class=\"dataframe\">\n",
       "  <thead>\n",
       "    <tr style=\"text-align: right;\">\n",
       "      <th></th>\n",
       "      <th>symbol</th>\n",
       "      <th>floor_price</th>\n",
       "      <th>trading_volume</th>\n",
       "      <th>mint</th>\n",
       "    </tr>\n",
       "  </thead>\n",
       "  <tbody>\n",
       "    <tr>\n",
       "      <th>0</th>\n",
       "      <td>sol_chocked_man</td>\n",
       "      <td>0.400</td>\n",
       "      <td>1.200000</td>\n",
       "      <td>CR2rcWaHWJgcMSzdewSs7S6QLryJZnt5eMQHQf9mQULS</td>\n",
       "    </tr>\n",
       "    <tr>\n",
       "      <th>1</th>\n",
       "      <td>_peguimonkey</td>\n",
       "      <td>0.380</td>\n",
       "      <td>27.740000</td>\n",
       "      <td>ByX4fiQNFjeHiL9xCXaee39XhWeptC5zWxdwvHCcqC8b</td>\n",
       "    </tr>\n",
       "    <tr>\n",
       "      <th>2</th>\n",
       "      <td>soa</td>\n",
       "      <td>1.700</td>\n",
       "      <td>0.000000</td>\n",
       "      <td>GTVeFkLD5bjfY1imyEkkhcSTocKE1Vnkxc4gC2T8JUbs</td>\n",
       "    </tr>\n",
       "    <tr>\n",
       "      <th>3</th>\n",
       "      <td>asciipunk</td>\n",
       "      <td>0.027</td>\n",
       "      <td>15.334369</td>\n",
       "      <td>H68LSpMfzHsAvwUistfeGXhCN3xfqpyMrq2BodEYuXrJ</td>\n",
       "    </tr>\n",
       "    <tr>\n",
       "      <th>4</th>\n",
       "      <td>koala_solana</td>\n",
       "      <td>0.100</td>\n",
       "      <td>1.389000</td>\n",
       "      <td>DeRtQA4dxGJPP3w83vw5VsB7NZjLxBGTXgWSsKK6FXnj</td>\n",
       "    </tr>\n",
       "  </tbody>\n",
       "</table>\n",
       "</div>"
      ],
      "text/plain": [
       "            symbol  floor_price  trading_volume  \\\n",
       "0  sol_chocked_man        0.400        1.200000   \n",
       "1     _peguimonkey        0.380       27.740000   \n",
       "2              soa        1.700        0.000000   \n",
       "3        asciipunk        0.027       15.334369   \n",
       "4     koala_solana        0.100        1.389000   \n",
       "\n",
       "                                           mint  \n",
       "0  CR2rcWaHWJgcMSzdewSs7S6QLryJZnt5eMQHQf9mQULS  \n",
       "1  ByX4fiQNFjeHiL9xCXaee39XhWeptC5zWxdwvHCcqC8b  \n",
       "2  GTVeFkLD5bjfY1imyEkkhcSTocKE1Vnkxc4gC2T8JUbs  \n",
       "3  H68LSpMfzHsAvwUistfeGXhCN3xfqpyMrq2BodEYuXrJ  \n",
       "4  DeRtQA4dxGJPP3w83vw5VsB7NZjLxBGTXgWSsKK6FXnj  "
      ]
     },
     "execution_count": 27,
     "metadata": {},
     "output_type": "execute_result"
    }
   ],
   "source": [
    "magiceden_df.head()"
   ]
  },
  {
   "cell_type": "code",
   "execution_count": 28,
   "metadata": {},
   "outputs": [],
   "source": [
    "magiceden_df.to_json('magiceden_cleaned.json')\n",
    "magiceden_df[['symbol','floor_price','mint']].to_json('magiceden_cleaned_floor.json')"
   ]
  },
  {
   "cell_type": "code",
   "execution_count": null,
   "metadata": {},
   "outputs": [],
   "source": [
    "mints = [mint for mint in magiceden_df.mint]\n",
    "# for mint in magiceden_df.mint:\n",
    "#     mints.append(mint)\n",
    "\n",
    "print(mints)"
   ]
  },
  {
   "cell_type": "code",
   "execution_count": 38,
   "metadata": {},
   "outputs": [
    {
     "name": "stdout",
     "output_type": "stream",
     "text": [
      "0\n",
      "1135\n",
      "2270\n",
      "3405\n",
      "4540\n"
     ]
    }
   ],
   "source": [
    "for i in range(0, len(mints), 1135):\n",
    "    start = i \n",
    "    end = i + 1135\n",
    "    print(i)\n",
    "    with open('mints'+str(i)+'.txt', 'w') as txt:\n",
    "        txt.write(\"'\" + \"','\".join(mints[start:end]) + \"'\")\n",
    "\n",
    "# print(len(mints))\n",
    "# with open('mints.txt', 'w') as txt:\n",
    "#     txt.write(\"'\" + \"','\".join(mints) + \"'\")"
   ]
  }
 ],
 "metadata": {
  "interpreter": {
   "hash": "a0a5145e6c304e2a9afaf5b930a2955b950bd4b81fe94f7c42930f43f42762eb"
  },
  "kernelspec": {
   "display_name": "Python 3.10.2 64-bit",
   "language": "python",
   "name": "python3"
  },
  "language_info": {
   "codemirror_mode": {
    "name": "ipython",
    "version": 3
   },
   "file_extension": ".py",
   "mimetype": "text/x-python",
   "name": "python",
   "nbconvert_exporter": "python",
   "pygments_lexer": "ipython3",
   "version": "3.10.2"
  },
  "orig_nbformat": 4
 },
 "nbformat": 4,
 "nbformat_minor": 2
}
