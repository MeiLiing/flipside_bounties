{
 "cells": [
  {
   "cell_type": "code",
   "execution_count": 214,
   "metadata": {},
   "outputs": [],
   "source": [
    "import requests\n",
    "import json\n",
    "import pandas as pd \n",
    "import numpy as np\n",
    "import matplotlib.pyplot as plt\n",
    "import seaborn as sns"
   ]
  },
  {
   "cell_type": "code",
   "execution_count": null,
   "metadata": {},
   "outputs": [],
   "source": [
    "launchpad_price_mint = {}\n",
    "\n",
    "url = \"http://api-mainnet.magiceden.dev/v2/launchpad/collections?offset=0&limit=500\"\n",
    "payload={}\n",
    "headers = {}\n",
    "\n",
    "response = requests.request(\"GET\", url, headers=headers, data=payload)\n",
    "response_json = response.json()\n",
    "\n",
    "for n in range(0,len(response_json)):\n",
    "    launchpad_price_mint.update(\n",
    "        {\n",
    "            response_json[n]['symbol']: response_json[n]['price']\n",
    "        }\n",
    "    )"
   ]
  },
  {
   "cell_type": "code",
   "execution_count": 71,
   "metadata": {},
   "outputs": [],
   "source": [
    "collection_price_floor = {}\n",
    "\n",
    "for key in launchpad_mint_price.keys():\n",
    "    url = \"http://api-mainnet.magiceden.dev/v2/collections/\"+key+\"/stats\"\n",
    "    payload= {}\n",
    "    headers = {}\n",
    "\n",
    "    response = requests.request(\"GET\", url, headers=headers, data=payload)\n",
    "    response_json = response.json()\n",
    "\n",
    "    try:\n",
    "        collection_price_floor.update(\n",
    "            {\n",
    "                response_json['symbol']: response_json['floorPrice']\n",
    "            }\n",
    "        )\n",
    "    except:\n",
    "        collection_price_floor.update(\n",
    "            {\n",
    "                response_json['symbol']: 0\n",
    "            }\n",
    "        )"
   ]
  },
  {
   "cell_type": "code",
   "execution_count": 88,
   "metadata": {},
   "outputs": [],
   "source": [
    "collection_stats = {\n",
    "    'symbol': list(launchpad_mint_price.keys()),\n",
    "    'price_mint': list(launchpad_mint_price.values()),\n",
    "    'price_floor': list(collection_price_floor.values())\n",
    "}"
   ]
  },
  {
   "cell_type": "code",
   "execution_count": null,
   "metadata": {},
   "outputs": [],
   "source": [
    "df = pd.DataFrame(collection_stats)\n",
    "df = df[df.price_floor > 0].reset_index(drop=True) # Excluding collections with no floor price\n",
    "df = df[df.price_mint > 0].reset_index(drop=True) # Excluding collections with no mint price\n",
    "\n",
    "df['price_floor'] = df.price_floor.apply(lambda x: x / (10**9)) # price floor to 9 decimals\n",
    "df['roi_times'] = df.price_floor / df.price_mint\n",
    "# df.head()"
   ]
  },
  {
   "cell_type": "code",
   "execution_count": 120,
   "metadata": {},
   "outputs": [],
   "source": [
    "def bin_mint(x):\n",
    "    assigned_bin = ''\n",
    "\n",
    "    if x < 1:\n",
    "        assigned_bin = 'Less than 1'\n",
    "    elif 1 <= x < 2:\n",
    "        assigned_bin = '1-2'\n",
    "    elif 2 <= x < 3:\n",
    "        assigned_bin = '2-3'\n",
    "    else:\n",
    "        assigned_bin = 'More than 3'\n",
    "    \n",
    "    return assigned_bin\n",
    "\n",
    "def bin_roi(x):\n",
    "    assigned_bin = ''\n",
    "    if x < 1:\n",
    "        assigned_bin = 'Less than 1x Returns'\n",
    "    elif 1 <= x < 5:\n",
    "        assigned_bin = '1-5x Returns'\n",
    "    elif 5 <= x < 10:\n",
    "        assigned_bin = '5-10x Returns'\n",
    "    elif 10 <= x < 20:\n",
    "        assigned_bin = '10-20x Returns'\n",
    "    else:\n",
    "        assigned_bin = 'More than 20x Returns'\n",
    "\n",
    "    return assigned_bin\n",
    "\n",
    "df['bin_price_mint'] = df.price_mint.apply(bin_mint)\n",
    "df['bin_returns'] = df.roi_times.apply(bin_roi)"
   ]
  },
  {
   "cell_type": "markdown",
   "metadata": {},
   "source": [
    "___\n",
    "## Results"
   ]
  },
  {
   "cell_type": "code",
   "execution_count": 209,
   "metadata": {},
   "outputs": [
    {
     "data": {
      "text/html": [
       "<div>\n",
       "<style scoped>\n",
       "    .dataframe tbody tr th:only-of-type {\n",
       "        vertical-align: middle;\n",
       "    }\n",
       "\n",
       "    .dataframe tbody tr th {\n",
       "        vertical-align: top;\n",
       "    }\n",
       "\n",
       "    .dataframe thead th {\n",
       "        text-align: right;\n",
       "    }\n",
       "</style>\n",
       "<table border=\"1\" class=\"dataframe\">\n",
       "  <thead>\n",
       "    <tr style=\"text-align: right;\">\n",
       "      <th></th>\n",
       "      <th>Less than 1x Returns</th>\n",
       "      <th>1-5x Returns</th>\n",
       "      <th>5-10x Returns</th>\n",
       "      <th>10-20x Returns</th>\n",
       "      <th>More than 20x Returns</th>\n",
       "    </tr>\n",
       "    <tr>\n",
       "      <th>Mint Price (SOL)</th>\n",
       "      <th></th>\n",
       "      <th></th>\n",
       "      <th></th>\n",
       "      <th></th>\n",
       "      <th></th>\n",
       "    </tr>\n",
       "  </thead>\n",
       "  <tbody>\n",
       "    <tr>\n",
       "      <th>Less than 1</th>\n",
       "      <td>25</td>\n",
       "      <td>8</td>\n",
       "      <td>0</td>\n",
       "      <td>2</td>\n",
       "      <td>2</td>\n",
       "    </tr>\n",
       "    <tr>\n",
       "      <th>1-2</th>\n",
       "      <td>45</td>\n",
       "      <td>13</td>\n",
       "      <td>0</td>\n",
       "      <td>0</td>\n",
       "      <td>0</td>\n",
       "    </tr>\n",
       "    <tr>\n",
       "      <th>2-3</th>\n",
       "      <td>8</td>\n",
       "      <td>9</td>\n",
       "      <td>1</td>\n",
       "      <td>1</td>\n",
       "      <td>0</td>\n",
       "    </tr>\n",
       "    <tr>\n",
       "      <th>More than 3</th>\n",
       "      <td>0</td>\n",
       "      <td>1</td>\n",
       "      <td>0</td>\n",
       "      <td>0</td>\n",
       "      <td>0</td>\n",
       "    </tr>\n",
       "  </tbody>\n",
       "</table>\n",
       "</div>"
      ],
      "text/plain": [
       "                  Less than 1x Returns  1-5x Returns  5-10x Returns  \\\n",
       "Mint Price (SOL)                                                      \n",
       "Less than 1                         25             8              0   \n",
       "1-2                                 45            13              0   \n",
       "2-3                                  8             9              1   \n",
       "More than 3                          0             1              0   \n",
       "\n",
       "                  10-20x Returns  More than 20x Returns  \n",
       "Mint Price (SOL)                                         \n",
       "Less than 1                    2                      2  \n",
       "1-2                            0                      0  \n",
       "2-3                            1                      0  \n",
       "More than 3                    0                      0  "
      ]
     },
     "execution_count": 209,
     "metadata": {},
     "output_type": "execute_result"
    }
   ],
   "source": [
    "binned_df = df.groupby(['bin_price_mint','bin_returns']).symbol.count().reset_index()\n",
    "\n",
    "pivoted = binned_df.pivot(index='bin_price_mint',columns='bin_returns',values='symbol').reset_index()\n",
    "pivoted = pivoted.fillna(0)\n",
    "pivoted = pivoted.rename(columns={\n",
    "        'bin_price_mint': 'Mint Price (SOL)'\n",
    "    },\n",
    "    index={\n",
    "        0: 1,\n",
    "        1: 2,\n",
    "        2: 0,\n",
    "        3: 3\n",
    "    })\n",
    "col_order = ['Mint Price (SOL)','Less than 1x Returns','1-5x Returns','5-10x Returns','10-20x Returns','More than 20x Returns']\n",
    "pivoted = pivoted[col_order]\n",
    "\n",
    "pivoted.sort_index(ascending=True, inplace=True)\n",
    "pivoted.set_index('Mint Price (SOL)', inplace=True)\n",
    "pivoted.columns.name = None\n",
    "\n",
    "for column in pivoted.columns:\n",
    "    pivoted[column] = pivoted[column].apply(\n",
    "        lambda x: int(x)\n",
    "    )\n",
    "\n",
    "pivoted"
   ]
  },
  {
   "cell_type": "code",
   "execution_count": 230,
   "metadata": {},
   "outputs": [
    {
     "data": {
      "text/plain": [
       "Text(1.0, 1.0, 'MagicEden Launchpad: Returns based on Minting Price')"
      ]
     },
     "execution_count": 230,
     "metadata": {},
     "output_type": "execute_result"
    },
    {
     "data": {
      "image/png": "[encoded data removed]",
      "text/plain": [
       "<Figure size 864x288 with 1 Axes>"
      ]
     },
     "metadata": {
      "needs_background": "light"
     },
     "output_type": "display_data"
    }
   ],
   "source": [
    "plt.figure(figsize=(12,4))\n",
    "ax = sns.heatmap(pivoted, annot=True, cbar=False)\n",
    "ax.invert_yaxis()\n",
    "plt.title('MagicEden Launchpad: Returns based on Minting Price', \n",
    "    loc='right',\n",
    "    size='large'\n",
    "    )"
   ]
  },
  {
   "cell_type": "code",
   "execution_count": 205,
   "metadata": {},
   "outputs": [],
   "source": [
    "# Flipside API export of labeled NFT collections ROI table\n",
    "url = 'https://api.flipsidecrypto.com/api/v2/queries/67a16632-5fa8-4fcd-acd7-f12e03544d39/data/latest'\n",
    "response = requests.request(\"GET\", url)\n",
    "response_json = response.json()"
   ]
  },
  {
   "cell_type": "code",
   "execution_count": 207,
   "metadata": {},
   "outputs": [
    {
     "data": {
      "text/html": [
       "<div>\n",
       "<style scoped>\n",
       "    .dataframe tbody tr th:only-of-type {\n",
       "        vertical-align: middle;\n",
       "    }\n",
       "\n",
       "    .dataframe tbody tr th {\n",
       "        vertical-align: top;\n",
       "    }\n",
       "\n",
       "    .dataframe thead th {\n",
       "        text-align: right;\n",
       "    }\n",
       "</style>\n",
       "<table border=\"1\" class=\"dataframe\">\n",
       "  <thead>\n",
       "    <tr style=\"text-align: right;\">\n",
       "      <th></th>\n",
       "      <th>Less than 1x Returns</th>\n",
       "      <th>1-5x Returns</th>\n",
       "      <th>5-10x Returns</th>\n",
       "      <th>10-20x Returns</th>\n",
       "      <th>More than 20x Returns</th>\n",
       "    </tr>\n",
       "    <tr>\n",
       "      <th>Mint Price (SOL)</th>\n",
       "      <th></th>\n",
       "      <th></th>\n",
       "      <th></th>\n",
       "      <th></th>\n",
       "      <th></th>\n",
       "    </tr>\n",
       "  </thead>\n",
       "  <tbody>\n",
       "    <tr>\n",
       "      <th>Less than 1</th>\n",
       "      <td>0</td>\n",
       "      <td>1</td>\n",
       "      <td>0</td>\n",
       "      <td>0</td>\n",
       "      <td>1</td>\n",
       "    </tr>\n",
       "    <tr>\n",
       "      <th>1-2</th>\n",
       "      <td>0</td>\n",
       "      <td>1</td>\n",
       "      <td>0</td>\n",
       "      <td>0</td>\n",
       "      <td>2</td>\n",
       "    </tr>\n",
       "    <tr>\n",
       "      <th>2-3</th>\n",
       "      <td>0</td>\n",
       "      <td>1</td>\n",
       "      <td>1</td>\n",
       "      <td>1</td>\n",
       "      <td>1</td>\n",
       "    </tr>\n",
       "    <tr>\n",
       "      <th>More than 3</th>\n",
       "      <td>0</td>\n",
       "      <td>0</td>\n",
       "      <td>1</td>\n",
       "      <td>1</td>\n",
       "      <td>1</td>\n",
       "    </tr>\n",
       "  </tbody>\n",
       "</table>\n",
       "</div>"
      ],
      "text/plain": [
       "                  Less than 1x Returns  1-5x Returns  5-10x Returns  \\\n",
       "Mint Price (SOL)                                                      \n",
       " Less than 1                         0             1              0   \n",
       " 1-2                                 0             1              0   \n",
       " 2-3                                 0             1              1   \n",
       " More than 3                         0             0              1   \n",
       "\n",
       "                  10-20x Returns  More than 20x Returns  \n",
       "Mint Price (SOL)                                         \n",
       " Less than 1                   0                      1  \n",
       " 1-2                           0                      2  \n",
       " 2-3                           1                      1  \n",
       " More than 3                   1                      1  "
      ]
     },
     "execution_count": 207,
     "metadata": {},
     "output_type": "execute_result"
    }
   ],
   "source": [
    "collections_flipside = pd.DataFrame(response_json)\n",
    "collections_flipside['Mint Price (SOL)'] = collections_flipside['Mint Price (SOL)'].apply(\n",
    "    lambda x: x[2:] # Trim value numbering\n",
    ")\n",
    "collections_flipside = collections_flipside[col_order]\n",
    "collections_flipside.set_index('Mint Price (SOL)', inplace=True)\n",
    "\n",
    "collections_flipside"
   ]
  },
  {
   "cell_type": "code",
   "execution_count": 231,
   "metadata": {},
   "outputs": [
    {
     "data": {
      "text/plain": [
       "Text(1.0, 1.0, 'MagicEden Popular Collections: Returns based on Minting Price')"
      ]
     },
     "execution_count": 231,
     "metadata": {},
     "output_type": "execute_result"
    },
    {
     "data": {
      "image/png": "[encoded data removed]",
      "text/plain": [
       "<Figure size 864x288 with 1 Axes>"
      ]
     },
     "metadata": {
      "needs_background": "light"
     },
     "output_type": "display_data"
    }
   ],
   "source": [
    "plt.figure(figsize=(12,4))\n",
    "ax = sns.heatmap(collections_flipside, annot=True, cbar=False)\n",
    "ax.invert_yaxis()\n",
    "plt.title('MagicEden Popular Collections: Returns based on Minting Price', \n",
    "    loc='right',\n",
    "    size='large'\n",
    "    )"
   ]
  }
 ],
 "metadata": {
  "interpreter": {
   "hash": "31f2aee4e71d21fbe5cf8b01ff0e069b9275f58929596ceb00d14d90e3e16cd6"
  },
  "kernelspec": {
   "display_name": "Python 3.8.9 64-bit",
   "language": "python",
   "name": "python3"
  },
  "language_info": {
   "codemirror_mode": {
    "name": "ipython",
    "version": 3
   },
   "file_extension": ".py",
   "mimetype": "text/x-python",
   "name": "python",
   "nbconvert_exporter": "python",
   "pygments_lexer": "ipython3",
   "version": "3.10.2"
  },
  "orig_nbformat": 4
 },
 "nbformat": 4,
 "nbformat_minor": 2
}
