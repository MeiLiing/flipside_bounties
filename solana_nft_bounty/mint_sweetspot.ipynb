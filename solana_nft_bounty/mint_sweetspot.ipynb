{
 "cells": [
  {
   "cell_type": "code",
   "execution_count": 73,
   "metadata": {},
   "outputs": [],
   "source": [
    "import requests\n",
    "import json\n",
    "import pandas as pd \n",
    "import numpy as np"
   ]
  },
  {
   "cell_type": "code",
   "execution_count": null,
   "metadata": {},
   "outputs": [],
   "source": [
    "launchpad_price_mint = {}\n",
    "\n",
    "url = \"http://api-mainnet.magiceden.dev/v2/launchpad/collections?offset=0&limit=500\"\n",
    "payload={}\n",
    "headers = {}\n",
    "\n",
    "response = requests.request(\"GET\", url, headers=headers, data=payload)\n",
    "response_json = response.json()\n",
    "\n",
    "for n in range(0,len(response_json)):\n",
    "    launchpad_price_mint.update(\n",
    "        {\n",
    "            response_json[n]['symbol']: response_json[n]['price']\n",
    "        }\n",
    "    )"
   ]
  },
  {
   "cell_type": "code",
   "execution_count": null,
   "metadata": {},
   "outputs": [],
   "source": [
    "print(len(launchpad_mint_price))\n",
    "print(launchpad_mint_price)"
   ]
  },
  {
   "cell_type": "code",
   "execution_count": 71,
   "metadata": {},
   "outputs": [],
   "source": [
    "collection_price_floor = {}\n",
    "\n",
    "for key in launchpad_mint_price.keys():\n",
    "    url = \"http://api-mainnet.magiceden.dev/v2/collections/\"+key+\"/stats\"\n",
    "    payload={}\n",
    "    headers = {}\n",
    "\n",
    "    response = requests.request(\"GET\", url, headers=headers, data=payload)\n",
    "    response_json = response.json()\n",
    "\n",
    "    try:\n",
    "        collection_price_floor.update(\n",
    "            {\n",
    "                response_json['symbol']: response_json['floorPrice']\n",
    "            }\n",
    "        )\n",
    "    except:\n",
    "        collection_price_floor.update(\n",
    "            {\n",
    "                response_json['symbol']: 0\n",
    "            }\n",
    "        )"
   ]
  },
  {
   "cell_type": "code",
   "execution_count": null,
   "metadata": {},
   "outputs": [],
   "source": [
    "print(len(collection_price_floor))\n",
    "print(collection_price_floor)"
   ]
  },
  {
   "cell_type": "code",
   "execution_count": 88,
   "metadata": {},
   "outputs": [],
   "source": [
    "collection_stats = {\n",
    "    'symbol': list(launchpad_mint_price.keys()),\n",
    "    'price_mint': list(launchpad_mint_price.values()),\n",
    "    'price_floor': list(collection_price_floor.values())\n",
    "}\n",
    "# print(len(collection_stats['symbol']))\n",
    "# print(len(collection_stats['price_mint']))\n",
    "# print(len(collection_stats['price_floor']))"
   ]
  },
  {
   "cell_type": "code",
   "execution_count": 94,
   "metadata": {},
   "outputs": [
    {
     "data": {
      "text/html": [
       "<div>\n",
       "<style scoped>\n",
       "    .dataframe tbody tr th:only-of-type {\n",
       "        vertical-align: middle;\n",
       "    }\n",
       "\n",
       "    .dataframe tbody tr th {\n",
       "        vertical-align: top;\n",
       "    }\n",
       "\n",
       "    .dataframe thead th {\n",
       "        text-align: right;\n",
       "    }\n",
       "</style>\n",
       "<table border=\"1\" class=\"dataframe\">\n",
       "  <thead>\n",
       "    <tr style=\"text-align: right;\">\n",
       "      <th></th>\n",
       "      <th>symbol</th>\n",
       "      <th>price_mint</th>\n",
       "      <th>price_floor</th>\n",
       "    </tr>\n",
       "  </thead>\n",
       "  <tbody>\n",
       "    <tr>\n",
       "      <th>0</th>\n",
       "      <td>solshades_vouchers</td>\n",
       "      <td>1.25</td>\n",
       "      <td>0.289</td>\n",
       "    </tr>\n",
       "    <tr>\n",
       "      <th>1</th>\n",
       "      <td>infinity_serpents</td>\n",
       "      <td>1.00</td>\n",
       "      <td>0.790</td>\n",
       "    </tr>\n",
       "    <tr>\n",
       "      <th>2</th>\n",
       "      <td>sovana</td>\n",
       "      <td>1.00</td>\n",
       "      <td>2.950</td>\n",
       "    </tr>\n",
       "    <tr>\n",
       "      <th>3</th>\n",
       "      <td>metaheaven_keys</td>\n",
       "      <td>1.19</td>\n",
       "      <td>0.240</td>\n",
       "    </tr>\n",
       "    <tr>\n",
       "      <th>4</th>\n",
       "      <td>balloonsville</td>\n",
       "      <td>1.00</td>\n",
       "      <td>3.100</td>\n",
       "    </tr>\n",
       "  </tbody>\n",
       "</table>\n",
       "</div>"
      ],
      "text/plain": [
       "               symbol  price_mint  price_floor\n",
       "0  solshades_vouchers        1.25        0.289\n",
       "1   infinity_serpents        1.00        0.790\n",
       "2              sovana        1.00        2.950\n",
       "3     metaheaven_keys        1.19        0.240\n",
       "4       balloonsville        1.00        3.100"
      ]
     },
     "execution_count": 94,
     "metadata": {},
     "output_type": "execute_result"
    }
   ],
   "source": [
    "df = pd.DataFrame(collection_stats)\n",
    "df = df[df.price_floor > 0].reset_index(drop=True)\n",
    "df['price_floor'] = df.price_floor.apply(lambda x: x / (10**9))\n",
    "df.head()"
   ]
  }
 ],
 "metadata": {
  "interpreter": {
   "hash": "31f2aee4e71d21fbe5cf8b01ff0e069b9275f58929596ceb00d14d90e3e16cd6"
  },
  "kernelspec": {
   "display_name": "Python 3.8.9 64-bit",
   "language": "python",
   "name": "python3"
  },
  "language_info": {
   "codemirror_mode": {
    "name": "ipython",
    "version": 3
   },
   "file_extension": ".py",
   "mimetype": "text/x-python",
   "name": "python",
   "nbconvert_exporter": "python",
   "pygments_lexer": "ipython3",
   "version": "3.10.2"
  },
  "orig_nbformat": 4
 },
 "nbformat": 4,
 "nbformat_minor": 2
}
