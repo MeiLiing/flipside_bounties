{
 "cells": [
  {
   "cell_type": "markdown",
   "metadata": {},
   "source": [
    "# NFT Mint Sweetspot\n",
    "\n",
    "\n",
    "___\n",
    "## Introduction"
   ]
  },
  {
   "cell_type": "markdown",
   "metadata": {},
   "source": [
    "## Methodology"
   ]
  },
  {
   "cell_type": "code",
   "execution_count": 1,
   "metadata": {},
   "outputs": [],
   "source": [
    "import requests\n",
    "import json\n",
    "import pandas as pd \n",
    "import numpy as np\n",
    "import matplotlib.pyplot as plt\n",
    "import seaborn as sns"
   ]
  },
  {
   "cell_type": "code",
   "execution_count": 6,
   "metadata": {},
   "outputs": [
    {
     "data": {
      "text/html": [
       "<div>\n",
       "<style scoped>\n",
       "    .dataframe tbody tr th:only-of-type {\n",
       "        vertical-align: middle;\n",
       "    }\n",
       "\n",
       "    .dataframe tbody tr th {\n",
       "        vertical-align: top;\n",
       "    }\n",
       "\n",
       "    .dataframe thead th {\n",
       "        text-align: right;\n",
       "    }\n",
       "</style>\n",
       "<table border=\"1\" class=\"dataframe\">\n",
       "  <thead>\n",
       "    <tr style=\"text-align: right;\">\n",
       "      <th></th>\n",
       "      <th>symbol</th>\n",
       "      <th>floor_price</th>\n",
       "      <th>trading_volume</th>\n",
       "      <th>mint</th>\n",
       "    </tr>\n",
       "  </thead>\n",
       "  <tbody>\n",
       "    <tr>\n",
       "      <th>0</th>\n",
       "      <td>sol_chocked_man</td>\n",
       "      <td>0.400</td>\n",
       "      <td>1.200000</td>\n",
       "      <td>CR2rcWaHWJgcMSzdewSs7S6QLryJZnt5eMQHQf9mQULS</td>\n",
       "    </tr>\n",
       "    <tr>\n",
       "      <th>1</th>\n",
       "      <td>_peguimonkey</td>\n",
       "      <td>0.380</td>\n",
       "      <td>27.740000</td>\n",
       "      <td>ByX4fiQNFjeHiL9xCXaee39XhWeptC5zWxdwvHCcqC8b</td>\n",
       "    </tr>\n",
       "    <tr>\n",
       "      <th>2</th>\n",
       "      <td>soa</td>\n",
       "      <td>1.700</td>\n",
       "      <td>0.000000</td>\n",
       "      <td>GTVeFkLD5bjfY1imyEkkhcSTocKE1Vnkxc4gC2T8JUbs</td>\n",
       "    </tr>\n",
       "    <tr>\n",
       "      <th>3</th>\n",
       "      <td>asciipunk</td>\n",
       "      <td>0.027</td>\n",
       "      <td>15.334369</td>\n",
       "      <td>H68LSpMfzHsAvwUistfeGXhCN3xfqpyMrq2BodEYuXrJ</td>\n",
       "    </tr>\n",
       "    <tr>\n",
       "      <th>4</th>\n",
       "      <td>koala_solana</td>\n",
       "      <td>0.100</td>\n",
       "      <td>1.389000</td>\n",
       "      <td>DeRtQA4dxGJPP3w83vw5VsB7NZjLxBGTXgWSsKK6FXnj</td>\n",
       "    </tr>\n",
       "  </tbody>\n",
       "</table>\n",
       "</div>"
      ],
      "text/plain": [
       "            symbol  floor_price  trading_volume  \\\n",
       "0  sol_chocked_man        0.400        1.200000   \n",
       "1     _peguimonkey        0.380       27.740000   \n",
       "2              soa        1.700        0.000000   \n",
       "3        asciipunk        0.027       15.334369   \n",
       "4     koala_solana        0.100        1.389000   \n",
       "\n",
       "                                           mint  \n",
       "0  CR2rcWaHWJgcMSzdewSs7S6QLryJZnt5eMQHQf9mQULS  \n",
       "1  ByX4fiQNFjeHiL9xCXaee39XhWeptC5zWxdwvHCcqC8b  \n",
       "2  GTVeFkLD5bjfY1imyEkkhcSTocKE1Vnkxc4gC2T8JUbs  \n",
       "3  H68LSpMfzHsAvwUistfeGXhCN3xfqpyMrq2BodEYuXrJ  \n",
       "4  DeRtQA4dxGJPP3w83vw5VsB7NZjLxBGTXgWSsKK6FXnj  "
      ]
     },
     "execution_count": 6,
     "metadata": {},
     "output_type": "execute_result"
    }
   ],
   "source": [
    "df = pd.read_json('magiceden_cleaned.json')\n",
    "df.head()"
   ]
  }
 ],
 "metadata": {
  "interpreter": {
   "hash": "a0a5145e6c304e2a9afaf5b930a2955b950bd4b81fe94f7c42930f43f42762eb"
  },
  "kernelspec": {
   "display_name": "Python 3.10.2 64-bit",
   "language": "python",
   "name": "python3"
  },
  "language_info": {
   "codemirror_mode": {
    "name": "ipython",
    "version": 3
   },
   "file_extension": ".py",
   "mimetype": "text/x-python",
   "name": "python",
   "nbconvert_exporter": "python",
   "pygments_lexer": "ipython3",
   "version": "3.10.2"
  },
  "orig_nbformat": 4
 },
 "nbformat": 4,
 "nbformat_minor": 2
}
