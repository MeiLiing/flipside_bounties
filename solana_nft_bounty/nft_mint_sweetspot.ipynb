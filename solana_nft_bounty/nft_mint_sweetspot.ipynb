{
 "cells": [
  {
   "cell_type": "markdown",
   "metadata": {},
   "source": [
    "# NFT Mint Sweetspot\n",
    "\n",
    "\n",
    "___\n",
    "## Introduction"
   ]
  },
  {
   "cell_type": "markdown",
   "metadata": {},
   "source": [
    "## Methodology"
   ]
  },
  {
   "cell_type": "code",
   "execution_count": 1,
   "metadata": {},
   "outputs": [],
   "source": [
    "import requests\n",
    "import json\n",
    "import pandas as pd \n",
    "import numpy as np\n",
    "import matplotlib.pyplot as plt\n",
    "import seaborn as sns"
   ]
  },
  {
   "cell_type": "code",
   "execution_count": 10,
   "metadata": {},
   "outputs": [
    {
     "data": {
      "text/html": [
       "<div>\n",
       "<style scoped>\n",
       "    .dataframe tbody tr th:only-of-type {\n",
       "        vertical-align: middle;\n",
       "    }\n",
       "\n",
       "    .dataframe tbody tr th {\n",
       "        vertical-align: top;\n",
       "    }\n",
       "\n",
       "    .dataframe thead th {\n",
       "        text-align: right;\n",
       "    }\n",
       "</style>\n",
       "<table border=\"1\" class=\"dataframe\">\n",
       "  <thead>\n",
       "    <tr style=\"text-align: right;\">\n",
       "      <th></th>\n",
       "      <th>symbol</th>\n",
       "      <th>floor_price</th>\n",
       "      <th>trading_volume</th>\n",
       "      <th>mint</th>\n",
       "    </tr>\n",
       "  </thead>\n",
       "  <tbody>\n",
       "    <tr>\n",
       "      <th>0</th>\n",
       "      <td>sol_chocked_man</td>\n",
       "      <td>0.400</td>\n",
       "      <td>1.200000</td>\n",
       "      <td>CR2rcWaHWJgcMSzdewSs7S6QLryJZnt5eMQHQf9mQULS</td>\n",
       "    </tr>\n",
       "    <tr>\n",
       "      <th>1</th>\n",
       "      <td>_peguimonkey</td>\n",
       "      <td>0.380</td>\n",
       "      <td>27.740000</td>\n",
       "      <td>ByX4fiQNFjeHiL9xCXaee39XhWeptC5zWxdwvHCcqC8b</td>\n",
       "    </tr>\n",
       "    <tr>\n",
       "      <th>2</th>\n",
       "      <td>soa</td>\n",
       "      <td>1.700</td>\n",
       "      <td>0.000000</td>\n",
       "      <td>GTVeFkLD5bjfY1imyEkkhcSTocKE1Vnkxc4gC2T8JUbs</td>\n",
       "    </tr>\n",
       "    <tr>\n",
       "      <th>3</th>\n",
       "      <td>asciipunk</td>\n",
       "      <td>0.027</td>\n",
       "      <td>15.334369</td>\n",
       "      <td>H68LSpMfzHsAvwUistfeGXhCN3xfqpyMrq2BodEYuXrJ</td>\n",
       "    </tr>\n",
       "    <tr>\n",
       "      <th>4</th>\n",
       "      <td>koala_solana</td>\n",
       "      <td>0.100</td>\n",
       "      <td>1.389000</td>\n",
       "      <td>DeRtQA4dxGJPP3w83vw5VsB7NZjLxBGTXgWSsKK6FXnj</td>\n",
       "    </tr>\n",
       "  </tbody>\n",
       "</table>\n",
       "</div>"
      ],
      "text/plain": [
       "            symbol  floor_price  trading_volume  \\\n",
       "0  sol_chocked_man        0.400        1.200000   \n",
       "1     _peguimonkey        0.380       27.740000   \n",
       "2              soa        1.700        0.000000   \n",
       "3        asciipunk        0.027       15.334369   \n",
       "4     koala_solana        0.100        1.389000   \n",
       "\n",
       "                                           mint  \n",
       "0  CR2rcWaHWJgcMSzdewSs7S6QLryJZnt5eMQHQf9mQULS  \n",
       "1  ByX4fiQNFjeHiL9xCXaee39XhWeptC5zWxdwvHCcqC8b  \n",
       "2  GTVeFkLD5bjfY1imyEkkhcSTocKE1Vnkxc4gC2T8JUbs  \n",
       "3  H68LSpMfzHsAvwUistfeGXhCN3xfqpyMrq2BodEYuXrJ  \n",
       "4  DeRtQA4dxGJPP3w83vw5VsB7NZjLxBGTXgWSsKK6FXnj  "
      ]
     },
     "execution_count": 10,
     "metadata": {},
     "output_type": "execute_result"
    }
   ],
   "source": [
    "magiceden_df = pd.read_json('magiceden_cleaned.json')\n",
    "magiceden_df.head()"
   ]
  },
  {
   "cell_type": "code",
   "execution_count": 12,
   "metadata": {},
   "outputs": [
    {
     "name": "stdout",
     "output_type": "stream",
     "text": [
      "<class 'pandas.core.frame.DataFrame'>\n",
      "Int64Index: 4033 entries, 0 to 58\n",
      "Data columns (total 2 columns):\n",
      " #   Column      Non-Null Count  Dtype  \n",
      "---  ------      --------------  -----  \n",
      " 0   mint        4033 non-null   object \n",
      " 1   mint_price  4033 non-null   float64\n",
      "dtypes: float64(1), object(1)\n",
      "memory usage: 94.5+ KB\n"
     ]
    }
   ],
   "source": [
    "mint_prices1 = pd.read_csv('download.csv')\n",
    "mint_prices2 = pd.read_csv('download(1).csv')\n",
    "mint_prices3 = pd.read_csv('download(2).csv')\n",
    "mint_prices4 = pd.read_csv('download(3).csv')\n",
    "mint_prices5 = pd.read_csv('download(4).csv')\n",
    "\n",
    "mint_prices = pd.concat([mint_prices1,mint_prices2,mint_prices3,mint_prices4,mint_prices5])\n",
    "mint_prices.rename(columns={\n",
    "    'MINT':'mint',\n",
    "    'MINT_PRICE':'mint_price'\n",
    "}, inplace=True)\n",
    "mint_prices.info()"
   ]
  },
  {
   "cell_type": "code",
   "execution_count": 13,
   "metadata": {},
   "outputs": [
    {
     "data": {
      "text/html": [
       "<div>\n",
       "<style scoped>\n",
       "    .dataframe tbody tr th:only-of-type {\n",
       "        vertical-align: middle;\n",
       "    }\n",
       "\n",
       "    .dataframe tbody tr th {\n",
       "        vertical-align: top;\n",
       "    }\n",
       "\n",
       "    .dataframe thead th {\n",
       "        text-align: right;\n",
       "    }\n",
       "</style>\n",
       "<table border=\"1\" class=\"dataframe\">\n",
       "  <thead>\n",
       "    <tr style=\"text-align: right;\">\n",
       "      <th></th>\n",
       "      <th>index</th>\n",
       "      <th>symbol</th>\n",
       "      <th>floor_price</th>\n",
       "      <th>trading_volume</th>\n",
       "      <th>mint</th>\n",
       "      <th>mint_price</th>\n",
       "    </tr>\n",
       "  </thead>\n",
       "  <tbody>\n",
       "    <tr>\n",
       "      <th>0</th>\n",
       "      <td>0</td>\n",
       "      <td>sol_chocked_man</td>\n",
       "      <td>0.4</td>\n",
       "      <td>1.200</td>\n",
       "      <td>CR2rcWaHWJgcMSzdewSs7S6QLryJZnt5eMQHQf9mQULS</td>\n",
       "      <td>0.091470</td>\n",
       "    </tr>\n",
       "    <tr>\n",
       "      <th>1</th>\n",
       "      <td>1</td>\n",
       "      <td>soa</td>\n",
       "      <td>1.7</td>\n",
       "      <td>0.000</td>\n",
       "      <td>GTVeFkLD5bjfY1imyEkkhcSTocKE1Vnkxc4gC2T8JUbs</td>\n",
       "      <td>1.008470</td>\n",
       "    </tr>\n",
       "    <tr>\n",
       "      <th>2</th>\n",
       "      <td>2</td>\n",
       "      <td>koala_solana</td>\n",
       "      <td>0.1</td>\n",
       "      <td>1.389</td>\n",
       "      <td>DeRtQA4dxGJPP3w83vw5VsB7NZjLxBGTXgWSsKK6FXnj</td>\n",
       "      <td>0.057345</td>\n",
       "    </tr>\n",
       "    <tr>\n",
       "      <th>3</th>\n",
       "      <td>3</td>\n",
       "      <td>quokkaqommunity</td>\n",
       "      <td>0.9</td>\n",
       "      <td>0.000</td>\n",
       "      <td>4tHqQmH7uPPMLowgQvw63dwMUikyxuwx9w6dS6qCRwCo</td>\n",
       "      <td>0.508470</td>\n",
       "    </tr>\n",
       "    <tr>\n",
       "      <th>4</th>\n",
       "      <td>4</td>\n",
       "      <td>founders_of_solana</td>\n",
       "      <td>0.4</td>\n",
       "      <td>4.250</td>\n",
       "      <td>4UhgpZtyn3AG7C7av6nTuNV4jVuMA5RGJf9QS5v6r6Lh</td>\n",
       "      <td>0.338470</td>\n",
       "    </tr>\n",
       "  </tbody>\n",
       "</table>\n",
       "</div>"
      ],
      "text/plain": [
       "   index              symbol  floor_price  trading_volume  \\\n",
       "0      0     sol_chocked_man          0.4           1.200   \n",
       "1      1                 soa          1.7           0.000   \n",
       "2      2        koala_solana          0.1           1.389   \n",
       "3      3     quokkaqommunity          0.9           0.000   \n",
       "4      4  founders_of_solana          0.4           4.250   \n",
       "\n",
       "                                           mint  mint_price  \n",
       "0  CR2rcWaHWJgcMSzdewSs7S6QLryJZnt5eMQHQf9mQULS    0.091470  \n",
       "1  GTVeFkLD5bjfY1imyEkkhcSTocKE1Vnkxc4gC2T8JUbs    1.008470  \n",
       "2  DeRtQA4dxGJPP3w83vw5VsB7NZjLxBGTXgWSsKK6FXnj    0.057345  \n",
       "3  4tHqQmH7uPPMLowgQvw63dwMUikyxuwx9w6dS6qCRwCo    0.508470  \n",
       "4  4UhgpZtyn3AG7C7av6nTuNV4jVuMA5RGJf9QS5v6r6Lh    0.338470  "
      ]
     },
     "execution_count": 13,
     "metadata": {},
     "output_type": "execute_result"
    }
   ],
   "source": [
    "df = pd.merge(magiceden_df, mint_prices, how='inner', on='mint').reset_index()\n",
    "df.head()"
   ]
  }
 ],
 "metadata": {
  "interpreter": {
   "hash": "a0a5145e6c304e2a9afaf5b930a2955b950bd4b81fe94f7c42930f43f42762eb"
  },
  "kernelspec": {
   "display_name": "Python 3.10.2 64-bit",
   "language": "python",
   "name": "python3"
  },
  "language_info": {
   "codemirror_mode": {
    "name": "ipython",
    "version": 3
   },
   "file_extension": ".py",
   "mimetype": "text/x-python",
   "name": "python",
   "nbconvert_exporter": "python",
   "pygments_lexer": "ipython3",
   "version": "3.10.2"
  },
  "orig_nbformat": 4
 },
 "nbformat": 4,
 "nbformat_minor": 2
}
