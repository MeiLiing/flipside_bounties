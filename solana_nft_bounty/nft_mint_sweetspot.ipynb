{
 "cells": [
  {
   "cell_type": "markdown",
   "metadata": {},
   "source": [
    "# NFT Mint Sweetspot\n",
    "Data analysis on Solana NFT minting price and its impact on generated returns.\n",
    "\n",
    "___\n",
    "## Introduction\n",
    "During the early months of the 2021 NFT craze, something just had to be minted and would most likely get sold out immediatly. Since then however, launching an NFT project has become a much more involved process where each part is carefully considered in order to maximize returns to the creators and the community.\n",
    "\n",
    "In this report we will have a closer look at how the minting price of an NFT project and how that might influence the return achieved over time."
   ]
  },
  {
   "cell_type": "markdown",
   "metadata": {},
   "source": [
    "___\n",
    "## Methodology\n",
    "The data will cover the NFT collection statistics of projects on the Solana blockchain. Although there are many marketplaces operating on the network, we will only make use of data for projects that have been listed on the `Magic Eden` marketplace. This however should not skew the data too much as it is the greatest marketplace by trading volume and number of projects and should therefore reflect a relevant picture for the overall ecosystem.\n",
    "\n",
    "The report will be built on four indicators:\n",
    "- `mint price`: The NFT minting price of the collection.\n",
    "- `floor price`: The smallest marketplace ask price for a listed piece from a collection.\n",
    "- `trading volume`: The overall amount of SOL traded on the marketplace across all pieces of a collection.\n",
    "- `roi`: Multiplication factor of the minting price to reach the current collection floor price.\n",
    "- `mint cap`: Limit on the number of NFTs that can be minted by any individual wallet.\n",
    "\n",
    "*All prices and trading volumes are expressed in SOL.*\n",
    "\n",
    "The data will be obtained through two sources:\n",
    "1. FlipsideCrypto: https://app.flipsidecrypto.com\n",
    "2. Magic Eden API: https://api.magiceden.dev/\n",
    "\n",
    "Once we have the data, we will join it all together into a Pandas DataFrame so we can plot and analyze it using Python. Below we have imported the necessary modules."
   ]
  },
  {
   "cell_type": "code",
   "execution_count": 23,
   "metadata": {},
   "outputs": [],
   "source": [
    "import pandas as pd \n",
    "import numpy as np\n",
    "import matplotlib.pyplot as plt\n",
    "import seaborn as sns"
   ]
  },
  {
   "cell_type": "markdown",
   "metadata": {},
   "source": [
    "Then we can build our DataFrames. Below we have the data extracted from the Magic Eden API which was transformed and cleaned in the `MagicEden_API_extraction.ipynb` notebook in the same directory. The `mint` field represents one random piece from each collection that will then be used to join the DataFrame with the other half of the data.\n",
    "\n",
    "From the API we are left with **5,675 NFT Collections** along with their current floor price and all-time trading volume on the marketplace."
   ]
  },
  {
   "cell_type": "code",
   "execution_count": 93,
   "metadata": {},
   "outputs": [
    {
     "data": {
      "text/html": [
       "<div>\n",
       "<style scoped>\n",
       "    .dataframe tbody tr th:only-of-type {\n",
       "        vertical-align: middle;\n",
       "    }\n",
       "\n",
       "    .dataframe tbody tr th {\n",
       "        vertical-align: top;\n",
       "    }\n",
       "\n",
       "    .dataframe thead th {\n",
       "        text-align: right;\n",
       "    }\n",
       "</style>\n",
       "<table border=\"1\" class=\"dataframe\">\n",
       "  <thead>\n",
       "    <tr style=\"text-align: right;\">\n",
       "      <th></th>\n",
       "      <th>symbol</th>\n",
       "      <th>floor_price</th>\n",
       "      <th>trading_volume</th>\n",
       "      <th>mint</th>\n",
       "    </tr>\n",
       "  </thead>\n",
       "  <tbody>\n",
       "    <tr>\n",
       "      <th>0</th>\n",
       "      <td>sol_chocked_man</td>\n",
       "      <td>0.400</td>\n",
       "      <td>1.200000</td>\n",
       "      <td>CR2rcWaHWJgcMSzdewSs7S6QLryJZnt5eMQHQf9mQULS</td>\n",
       "    </tr>\n",
       "    <tr>\n",
       "      <th>1</th>\n",
       "      <td>_peguimonkey</td>\n",
       "      <td>0.380</td>\n",
       "      <td>27.740000</td>\n",
       "      <td>ByX4fiQNFjeHiL9xCXaee39XhWeptC5zWxdwvHCcqC8b</td>\n",
       "    </tr>\n",
       "    <tr>\n",
       "      <th>2</th>\n",
       "      <td>soa</td>\n",
       "      <td>1.700</td>\n",
       "      <td>0.000000</td>\n",
       "      <td>GTVeFkLD5bjfY1imyEkkhcSTocKE1Vnkxc4gC2T8JUbs</td>\n",
       "    </tr>\n",
       "    <tr>\n",
       "      <th>3</th>\n",
       "      <td>asciipunk</td>\n",
       "      <td>0.027</td>\n",
       "      <td>15.334369</td>\n",
       "      <td>H68LSpMfzHsAvwUistfeGXhCN3xfqpyMrq2BodEYuXrJ</td>\n",
       "    </tr>\n",
       "    <tr>\n",
       "      <th>4</th>\n",
       "      <td>koala_solana</td>\n",
       "      <td>0.100</td>\n",
       "      <td>1.389000</td>\n",
       "      <td>DeRtQA4dxGJPP3w83vw5VsB7NZjLxBGTXgWSsKK6FXnj</td>\n",
       "    </tr>\n",
       "  </tbody>\n",
       "</table>\n",
       "</div>"
      ],
      "text/plain": [
       "            symbol  floor_price  trading_volume  \\\n",
       "0  sol_chocked_man        0.400        1.200000   \n",
       "1     _peguimonkey        0.380       27.740000   \n",
       "2              soa        1.700        0.000000   \n",
       "3        asciipunk        0.027       15.334369   \n",
       "4     koala_solana        0.100        1.389000   \n",
       "\n",
       "                                           mint  \n",
       "0  CR2rcWaHWJgcMSzdewSs7S6QLryJZnt5eMQHQf9mQULS  \n",
       "1  ByX4fiQNFjeHiL9xCXaee39XhWeptC5zWxdwvHCcqC8b  \n",
       "2  GTVeFkLD5bjfY1imyEkkhcSTocKE1Vnkxc4gC2T8JUbs  \n",
       "3  H68LSpMfzHsAvwUistfeGXhCN3xfqpyMrq2BodEYuXrJ  \n",
       "4  DeRtQA4dxGJPP3w83vw5VsB7NZjLxBGTXgWSsKK6FXnj  "
      ]
     },
     "execution_count": 93,
     "metadata": {},
     "output_type": "execute_result"
    }
   ],
   "source": [
    "magiceden_df = pd.read_json('./data/magiceden_cleaned.json')\n",
    "magiceden_df.reset_index(inplace=True, drop=True)\n",
    "magiceden_df.head()"
   ]
  },
  {
   "cell_type": "code",
   "execution_count": 70,
   "metadata": {},
   "outputs": [
    {
     "name": "stdout",
     "output_type": "stream",
     "text": [
      "<class 'pandas.core.frame.DataFrame'>\n",
      "RangeIndex: 5675 entries, 0 to 5674\n",
      "Data columns (total 4 columns):\n",
      " #   Column          Non-Null Count  Dtype  \n",
      "---  ------          --------------  -----  \n",
      " 0   symbol          5675 non-null   object \n",
      " 1   floor_price     5675 non-null   float64\n",
      " 2   trading_volume  5675 non-null   float64\n",
      " 3   mint            5675 non-null   object \n",
      "dtypes: float64(2), object(2)\n",
      "memory usage: 177.5+ KB\n"
     ]
    }
   ],
   "source": [
    "magiceden_df.info()"
   ]
  },
  {
   "cell_type": "markdown",
   "metadata": {},
   "source": [
    "The mint addresses from the previous data set were exported and sliced into 5 equal parts so they can be fed through FlipsideCrypto's app. After running the query, the 5 resulting downloads were concatenated in one single DataFrame. Through this process we could find the mint price of **4033 NFT Collections**.\n",
    "\n",
    "*Caveat: In some cases, projects choose to offer a lower minting price for members who participated in a way or have met some eligibility criteria. However, the bulk of the NFTs in a collection are minted at the regular price so this approach should still return collection mint prices close to the average mint price.*"
   ]
  },
  {
   "cell_type": "code",
   "execution_count": 94,
   "metadata": {},
   "outputs": [
    {
     "name": "stdout",
     "output_type": "stream",
     "text": [
      "<class 'pandas.core.frame.DataFrame'>\n",
      "Int64Index: 3106 entries, 0 to 58\n",
      "Data columns (total 4 columns):\n",
      " #   Column      Non-Null Count  Dtype  \n",
      "---  ------      --------------  -----  \n",
      " 0   mint        15 non-null     object \n",
      " 1   capped      15 non-null     object \n",
      " 2   mint        3091 non-null   object \n",
      " 3   mint_price  3091 non-null   float64\n",
      "dtypes: float64(1), object(3)\n",
      "memory usage: 121.3+ KB\n"
     ]
    }
   ],
   "source": [
    "mint_prices1 = pd.read_csv('./data/download_mintp.csv')\n",
    "mint_prices2 = pd.read_csv('./data/download_mintp(1).csv')\n",
    "mint_prices3 = pd.read_csv('./data/download_mintp(2).csv')\n",
    "mint_prices4 = pd.read_csv('./data/download_mintp(3).csv')\n",
    "mint_prices5 = pd.read_csv('./data/download_mintp(4).csv')\n",
    "\n",
    "mint_prices = pd.concat([mint_prices1,mint_prices2,mint_prices3,mint_prices4,mint_prices5])\n",
    "mint_prices.rename(columns={\n",
    "    'MINT':'mint',\n",
    "    'MINT_PRICE':'mint_price'\n",
    "}, inplace=True)\n",
    "mint_prices.info()"
   ]
  },
  {
   "cell_type": "markdown",
   "metadata": {},
   "source": [
    "Using the same process as before, the mint addresses were run through FlipsideCrypto to try and find projects that have a cap on the number of mints a wallet can make. They were then concatenated in a single DataFrame containing 98 collections that were capped."
   ]
  },
  {
   "cell_type": "code",
   "execution_count": 90,
   "metadata": {},
   "outputs": [
    {
     "name": "stdout",
     "output_type": "stream",
     "text": [
      "<class 'pandas.core.frame.DataFrame'>\n",
      "Int64Index: 98 entries, 0 to 32\n",
      "Data columns (total 2 columns):\n",
      " #   Column  Non-Null Count  Dtype \n",
      "---  ------  --------------  ----- \n",
      " 0   mint    98 non-null     object\n",
      " 1   capped  98 non-null     bool  \n",
      "dtypes: bool(1), object(1)\n",
      "memory usage: 1.6+ KB\n"
     ]
    }
   ],
   "source": [
    "mint_cap1 = pd.read_csv('./data/download_nocap.csv')\n",
    "mint_cap2 = pd.read_csv('./data/download_nocap(1).csv')\n",
    "mint_cap3 = pd.read_csv('./data/download_nocap(2).csv')\n",
    "mint_cap4 = pd.read_csv('./data/download_nocap(3).csv')\n",
    "\n",
    "mint_cap = pd.concat([mint_cap1,mint_cap2,mint_cap3,mint_cap4])\n",
    "mint_cap.info()"
   ]
  },
  {
   "cell_type": "code",
   "execution_count": null,
   "metadata": {},
   "outputs": [],
   "source": []
  },
  {
   "cell_type": "markdown",
   "metadata": {},
   "source": [
    "The merging process left out collections for which we could not obtain a minting price. After the merger we can calculate the roi (*return on investment*) and add it as a column for each project.\n",
    "\n",
    "With this step, we are good to go."
   ]
  },
  {
   "cell_type": "code",
   "execution_count": 89,
   "metadata": {},
   "outputs": [
    {
     "data": {
      "text/html": [
       "<div>\n",
       "<style scoped>\n",
       "    .dataframe tbody tr th:only-of-type {\n",
       "        vertical-align: middle;\n",
       "    }\n",
       "\n",
       "    .dataframe tbody tr th {\n",
       "        vertical-align: top;\n",
       "    }\n",
       "\n",
       "    .dataframe thead th {\n",
       "        text-align: right;\n",
       "    }\n",
       "</style>\n",
       "<table border=\"1\" class=\"dataframe\">\n",
       "  <thead>\n",
       "    <tr style=\"text-align: right;\">\n",
       "      <th></th>\n",
       "      <th>symbol</th>\n",
       "      <th>floor_price</th>\n",
       "      <th>trading_volume</th>\n",
       "      <th>mint</th>\n",
       "      <th>mint_price</th>\n",
       "      <th>capped</th>\n",
       "      <th>roi</th>\n",
       "    </tr>\n",
       "  </thead>\n",
       "  <tbody>\n",
       "    <tr>\n",
       "      <th>0</th>\n",
       "      <td>sol_chocked_man</td>\n",
       "      <td>0.4</td>\n",
       "      <td>1.200</td>\n",
       "      <td>CR2rcWaHWJgcMSzdewSs7S6QLryJZnt5eMQHQf9mQULS</td>\n",
       "      <td>0.091470</td>\n",
       "      <td>FALSE</td>\n",
       "      <td>4.373003</td>\n",
       "    </tr>\n",
       "    <tr>\n",
       "      <th>1</th>\n",
       "      <td>soa</td>\n",
       "      <td>1.7</td>\n",
       "      <td>0.000</td>\n",
       "      <td>GTVeFkLD5bjfY1imyEkkhcSTocKE1Vnkxc4gC2T8JUbs</td>\n",
       "      <td>1.008470</td>\n",
       "      <td>FALSE</td>\n",
       "      <td>1.685721</td>\n",
       "    </tr>\n",
       "    <tr>\n",
       "      <th>2</th>\n",
       "      <td>koala_solana</td>\n",
       "      <td>0.1</td>\n",
       "      <td>1.389</td>\n",
       "      <td>DeRtQA4dxGJPP3w83vw5VsB7NZjLxBGTXgWSsKK6FXnj</td>\n",
       "      <td>0.057345</td>\n",
       "      <td>FALSE</td>\n",
       "      <td>1.743821</td>\n",
       "    </tr>\n",
       "    <tr>\n",
       "      <th>3</th>\n",
       "      <td>quokkaqommunity</td>\n",
       "      <td>0.9</td>\n",
       "      <td>0.000</td>\n",
       "      <td>4tHqQmH7uPPMLowgQvw63dwMUikyxuwx9w6dS6qCRwCo</td>\n",
       "      <td>0.508470</td>\n",
       "      <td>FALSE</td>\n",
       "      <td>1.770015</td>\n",
       "    </tr>\n",
       "    <tr>\n",
       "      <th>4</th>\n",
       "      <td>founders_of_solana</td>\n",
       "      <td>0.4</td>\n",
       "      <td>4.250</td>\n",
       "      <td>4UhgpZtyn3AG7C7av6nTuNV4jVuMA5RGJf9QS5v6r6Lh</td>\n",
       "      <td>0.338470</td>\n",
       "      <td>FALSE</td>\n",
       "      <td>1.181788</td>\n",
       "    </tr>\n",
       "  </tbody>\n",
       "</table>\n",
       "</div>"
      ],
      "text/plain": [
       "               symbol  floor_price  trading_volume  \\\n",
       "0     sol_chocked_man          0.4           1.200   \n",
       "1                 soa          1.7           0.000   \n",
       "2        koala_solana          0.1           1.389   \n",
       "3     quokkaqommunity          0.9           0.000   \n",
       "4  founders_of_solana          0.4           4.250   \n",
       "\n",
       "                                           mint  mint_price capped       roi  \n",
       "0  CR2rcWaHWJgcMSzdewSs7S6QLryJZnt5eMQHQf9mQULS    0.091470  FALSE  4.373003  \n",
       "1  GTVeFkLD5bjfY1imyEkkhcSTocKE1Vnkxc4gC2T8JUbs    1.008470  FALSE  1.685721  \n",
       "2  DeRtQA4dxGJPP3w83vw5VsB7NZjLxBGTXgWSsKK6FXnj    0.057345  FALSE  1.743821  \n",
       "3  4tHqQmH7uPPMLowgQvw63dwMUikyxuwx9w6dS6qCRwCo    0.508470  FALSE  1.770015  \n",
       "4  4UhgpZtyn3AG7C7av6nTuNV4jVuMA5RGJf9QS5v6r6Lh    0.338470  FALSE  1.181788  "
      ]
     },
     "execution_count": 89,
     "metadata": {},
     "output_type": "execute_result"
    }
   ],
   "source": [
    "df = pd.merge(magiceden_df, mint_prices, how='inner', on='mint').reset_index(drop=True)\n",
    "df = pd.merge(df, mint_cap, how='left', on='mint').reset_index(drop=True)\n",
    "df.fillna(value={'capped':'FALSE'}, inplace=True)\n",
    "df['roi'] = df.floor_price / df.mint_price\n",
    "df.head()"
   ]
  },
  {
   "cell_type": "markdown",
   "metadata": {},
   "source": [
    "___\n",
    "## Results\n",
    "The first thing we are interested in is whether minting price ranges correlate with the return achieved over time. To do this, we will bin the data by the mint price and by the current roi.\n",
    "\n",
    "Below we have a couple of functions to take care of the labeling, and they will be used to create a new column each in our DataFrame."
   ]
  },
  {
   "cell_type": "code",
   "execution_count": 91,
   "metadata": {},
   "outputs": [],
   "source": [
    "def bin_mint(x):\n",
    "    assigned_bin = ''\n",
    "\n",
    "    if x < 1:\n",
    "        assigned_bin = 'Less than 1'\n",
    "    elif 1 <= x < 2:\n",
    "        assigned_bin = '1-2'\n",
    "    elif 2 <= x < 3:\n",
    "        assigned_bin = '2-3'\n",
    "    else:\n",
    "        assigned_bin = 'More than 3'\n",
    "    \n",
    "    return assigned_bin\n",
    "\n",
    "def bin_roi(x):\n",
    "    assigned_bin = ''\n",
    "    if x < 1:\n",
    "        assigned_bin = 'Less than 1x Returns'\n",
    "    elif 1 <= x < 5:\n",
    "        assigned_bin = '1-5x Returns'\n",
    "    elif 5 <= x < 10:\n",
    "        assigned_bin = '5-10x Returns'\n",
    "    elif 10 <= x < 20:\n",
    "        assigned_bin = '10-20x Returns'\n",
    "    else:\n",
    "        assigned_bin = 'More than 20x Returns'\n",
    "\n",
    "    return assigned_bin\n",
    "\n",
    "df['Mint Price (SOL)'] = df.mint_price.apply(bin_mint)\n",
    "df['roi_bin'] = df.roi.apply(bin_roi)"
   ]
  },
  {
   "cell_type": "code",
   "execution_count": 92,
   "metadata": {},
   "outputs": [
    {
     "data": {
      "text/html": [
       "<div>\n",
       "<style scoped>\n",
       "    .dataframe tbody tr th:only-of-type {\n",
       "        vertical-align: middle;\n",
       "    }\n",
       "\n",
       "    .dataframe tbody tr th {\n",
       "        vertical-align: top;\n",
       "    }\n",
       "\n",
       "    .dataframe thead th {\n",
       "        text-align: right;\n",
       "    }\n",
       "</style>\n",
       "<table border=\"1\" class=\"dataframe\">\n",
       "  <thead>\n",
       "    <tr style=\"text-align: right;\">\n",
       "      <th></th>\n",
       "      <th>Less than 1x Returns</th>\n",
       "      <th>1-5x Returns</th>\n",
       "      <th>5-10x Returns</th>\n",
       "      <th>10-20x Returns</th>\n",
       "      <th>More than 20x Returns</th>\n",
       "    </tr>\n",
       "    <tr>\n",
       "      <th>Mint Price (SOL)</th>\n",
       "      <th></th>\n",
       "      <th></th>\n",
       "      <th></th>\n",
       "      <th></th>\n",
       "      <th></th>\n",
       "    </tr>\n",
       "  </thead>\n",
       "  <tbody>\n",
       "    <tr>\n",
       "      <th>Less than 1</th>\n",
       "      <td>1834</td>\n",
       "      <td>804</td>\n",
       "      <td>196</td>\n",
       "      <td>148</td>\n",
       "      <td>319</td>\n",
       "    </tr>\n",
       "    <tr>\n",
       "      <th>1-2</th>\n",
       "      <td>404</td>\n",
       "      <td>105</td>\n",
       "      <td>15</td>\n",
       "      <td>6</td>\n",
       "      <td>5</td>\n",
       "    </tr>\n",
       "    <tr>\n",
       "      <th>2-3</th>\n",
       "      <td>66</td>\n",
       "      <td>36</td>\n",
       "      <td>5</td>\n",
       "      <td>4</td>\n",
       "      <td>1</td>\n",
       "    </tr>\n",
       "    <tr>\n",
       "      <th>More than 3</th>\n",
       "      <td>67</td>\n",
       "      <td>15</td>\n",
       "      <td>2</td>\n",
       "      <td>0</td>\n",
       "      <td>1</td>\n",
       "    </tr>\n",
       "  </tbody>\n",
       "</table>\n",
       "</div>"
      ],
      "text/plain": [
       "                  Less than 1x Returns  1-5x Returns  5-10x Returns  \\\n",
       "Mint Price (SOL)                                                      \n",
       "Less than 1                       1834           804            196   \n",
       "1-2                                404           105             15   \n",
       "2-3                                 66            36              5   \n",
       "More than 3                         67            15              2   \n",
       "\n",
       "                  10-20x Returns  More than 20x Returns  \n",
       "Mint Price (SOL)                                         \n",
       "Less than 1                  148                    319  \n",
       "1-2                            6                      5  \n",
       "2-3                            4                      1  \n",
       "More than 3                    0                      1  "
      ]
     },
     "execution_count": 92,
     "metadata": {},
     "output_type": "execute_result"
    }
   ],
   "source": [
    "binned_df = df.groupby(['Mint Price (SOL)','roi_bin']).symbol.count().reset_index()\n",
    "\n",
    "pivoted = binned_df.pivot(index='Mint Price (SOL)',columns='roi_bin',values='symbol').reset_index()\n",
    "pivoted = pivoted.fillna(0)\n",
    "pivoted = pivoted.rename(index={\n",
    "        0: 1,\n",
    "        1: 2,\n",
    "        2: 0,\n",
    "        3: 3\n",
    "    })\n",
    "col_order = ['Mint Price (SOL)','Less than 1x Returns','1-5x Returns','5-10x Returns','10-20x Returns','More than 20x Returns']\n",
    "pivoted = pivoted[col_order]\n",
    "\n",
    "pivoted.sort_index(ascending=True, inplace=True)\n",
    "pivoted.set_index('Mint Price (SOL)', inplace=True)\n",
    "pivoted.columns.name = None\n",
    "\n",
    "for column in pivoted.columns:\n",
    "    pivoted[column] = pivoted[column].apply(\n",
    "        lambda x: int(x)\n",
    "    )\n",
    "\n",
    "pivoted"
   ]
  },
  {
   "cell_type": "code",
   "execution_count": 75,
   "metadata": {},
   "outputs": [
    {
     "data": {
      "text/plain": [
       "Text(1.0, 1.0, 'MagicEden NFTs: Returns based on Minting Price')"
      ]
     },
     "execution_count": 75,
     "metadata": {},
     "output_type": "execute_result"
    },
    {
     "data": {
      "image/png": "[encoded data removed]",
      "text/plain": [
       "<Figure size 864x288 with 1 Axes>"
      ]
     },
     "metadata": {
      "needs_background": "light"
     },
     "output_type": "display_data"
    }
   ],
   "source": [
    "plt.figure(figsize=(12,4))\n",
    "ax = sns.heatmap(pivoted, annot=True, cbar=False, fmt='g')\n",
    "ax.invert_yaxis()\n",
    "plt.title('MagicEden NFTs: Returns based on Minting Price', \n",
    "    loc='right',\n",
    "    size='large'\n",
    "    )"
   ]
  }
 ],
 "metadata": {
  "interpreter": {
   "hash": "a0a5145e6c304e2a9afaf5b930a2955b950bd4b81fe94f7c42930f43f42762eb"
  },
  "kernelspec": {
   "display_name": "Python 3.10.2 64-bit",
   "language": "python",
   "name": "python3"
  },
  "language_info": {
   "codemirror_mode": {
    "name": "ipython",
    "version": 3
   },
   "file_extension": ".py",
   "mimetype": "text/x-python",
   "name": "python",
   "nbconvert_exporter": "python",
   "pygments_lexer": "ipython3",
   "version": "3.10.2"
  },
  "orig_nbformat": 4
 },
 "nbformat": 4,
 "nbformat_minor": 2
}
