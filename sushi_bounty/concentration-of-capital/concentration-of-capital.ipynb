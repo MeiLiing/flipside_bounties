{
 "cells": [
  {
   "cell_type": "code",
   "execution_count": 27,
   "metadata": {},
   "outputs": [],
   "source": [
    "import pandas as pd\n",
    "import matplotlib.pyplot as plt\n",
    "import seaborn as sns"
   ]
  },
  {
   "cell_type": "code",
   "execution_count": 28,
   "metadata": {},
   "outputs": [],
   "source": [
    "# https://github.com/Protean-Labs/subgrounds\n",
    "from subgrounds.subgrounds import Subgrounds\n",
    "from subgrounds.subgraph import SyntheticField\n",
    "from datetime import date, datetime, timedelta\n",
    "\n",
    "sg = Subgrounds()"
   ]
  },
  {
   "cell_type": "code",
   "execution_count": 29,
   "metadata": {},
   "outputs": [],
   "source": [
    "# SushiSwap theGraph node 1\n",
    "sushi_1 = sg.load_subgraph('https://api.thegraph.com/subgraphs/name/sushiswap/exchange')\n",
    "\n",
    "# # SushiSwap theGraph node fork 2 from dev docs\n",
    "# sushi_2 = sg.load_subgraph('https://api.thegraph.com/subgraphs/name/zippoxer/sushiswap-subgraph-fork')"
   ]
  },
  {
   "cell_type": "code",
   "execution_count": 30,
   "metadata": {},
   "outputs": [
    {
     "name": "stdout",
     "output_type": "stream",
     "text": [
      "1641244625\n"
     ]
    }
   ],
   "source": [
    "timestamp_90d = int(round((datetime.today() - timedelta(90)).timestamp()))\n",
    "\n",
    "print(timestamp_90d)"
   ]
  },
  {
   "cell_type": "code",
   "execution_count": 52,
   "metadata": {},
   "outputs": [],
   "source": [
    "sushi_1.Pair.datetime = SyntheticField(\n",
    "    f = lambda timestamp: str(datetime.fromtimestamp(timestamp)),\n",
    "    type_ = SyntheticField.STRING,\n",
    "    deps = sushi_1.Pair.timestamp\n",
    ")\n",
    "\n",
    "timestamp_90d = int(round((datetime.today() - timedelta(90)).timestamp()))\n",
    "\n",
    "## Current date provider count\n",
    "lp_positions = sushi_1.Query.pairs(\n",
    "    first = 1000000,\n",
    "    orderBy = 'timestamp',\n",
    "    orderDirection = 'desc',\n",
    "    where = {\n",
    "        'id': '0x6a091a3406e0073c3cd6340122143009adac0eda'\n",
    "        # 'timestamp_gt': timestamp_90d\n",
    "    }\n",
    ")\n",
    "\n",
    "lp_df = sg.query_df([ \n",
    "    lp_positions.datetime,\n",
    "    lp_positions.id,\n",
    "    lp_positions.name,\n",
    "    lp_positions.liquidityProviderCount,\n",
    "    lp_positions.liquidityPositions.id\n",
    "])"
   ]
  },
  {
   "cell_type": "code",
   "execution_count": 53,
   "metadata": {},
   "outputs": [
    {
     "data": {
      "text/html": [
       "<div>\n",
       "<style scoped>\n",
       "    .dataframe tbody tr th:only-of-type {\n",
       "        vertical-align: middle;\n",
       "    }\n",
       "\n",
       "    .dataframe tbody tr th {\n",
       "        vertical-align: top;\n",
       "    }\n",
       "\n",
       "    .dataframe thead th {\n",
       "        text-align: right;\n",
       "    }\n",
       "</style>\n",
       "<table border=\"1\" class=\"dataframe\">\n",
       "  <thead>\n",
       "    <tr style=\"text-align: right;\">\n",
       "      <th></th>\n",
       "      <th>pairs_datetime</th>\n",
       "      <th>pairs_id</th>\n",
       "      <th>pairs_name</th>\n",
       "      <th>pairs_liquidityProviderCount</th>\n",
       "      <th>pairs_liquidityPositions_id</th>\n",
       "    </tr>\n",
       "  </thead>\n",
       "  <tbody>\n",
       "    <tr>\n",
       "      <th>0</th>\n",
       "      <td>2021-04-02 18:25:40</td>\n",
       "      <td>0x6a091a3406e0073c3cd6340122143009adac0eda</td>\n",
       "      <td>ILV-WETH</td>\n",
       "      <td>0</td>\n",
       "      <td>0x6a091a3406e0073c3cd6340122143009adac0eda-0x</td>\n",
       "    </tr>\n",
       "    <tr>\n",
       "      <th>1</th>\n",
       "      <td>2021-04-02 18:25:40</td>\n",
       "      <td>0x6a091a3406e0073c3cd6340122143009adac0eda</td>\n",
       "      <td>ILV-WETH</td>\n",
       "      <td>0</td>\n",
       "      <td>0x6a091a3406e0073c3cd6340122143009adac0eda-0x0...</td>\n",
       "    </tr>\n",
       "    <tr>\n",
       "      <th>2</th>\n",
       "      <td>2021-04-02 18:25:40</td>\n",
       "      <td>0x6a091a3406e0073c3cd6340122143009adac0eda</td>\n",
       "      <td>ILV-WETH</td>\n",
       "      <td>0</td>\n",
       "      <td>0x6a091a3406e0073c3cd6340122143009adac0eda-0x0...</td>\n",
       "    </tr>\n",
       "    <tr>\n",
       "      <th>3</th>\n",
       "      <td>2021-04-02 18:25:40</td>\n",
       "      <td>0x6a091a3406e0073c3cd6340122143009adac0eda</td>\n",
       "      <td>ILV-WETH</td>\n",
       "      <td>0</td>\n",
       "      <td>0x6a091a3406e0073c3cd6340122143009adac0eda-0x0...</td>\n",
       "    </tr>\n",
       "    <tr>\n",
       "      <th>4</th>\n",
       "      <td>2021-04-02 18:25:40</td>\n",
       "      <td>0x6a091a3406e0073c3cd6340122143009adac0eda</td>\n",
       "      <td>ILV-WETH</td>\n",
       "      <td>0</td>\n",
       "      <td>0x6a091a3406e0073c3cd6340122143009adac0eda-0x0...</td>\n",
       "    </tr>\n",
       "  </tbody>\n",
       "</table>\n",
       "</div>"
      ],
      "text/plain": [
       "        pairs_datetime                                    pairs_id pairs_name  \\\n",
       "0  2021-04-02 18:25:40  0x6a091a3406e0073c3cd6340122143009adac0eda   ILV-WETH   \n",
       "1  2021-04-02 18:25:40  0x6a091a3406e0073c3cd6340122143009adac0eda   ILV-WETH   \n",
       "2  2021-04-02 18:25:40  0x6a091a3406e0073c3cd6340122143009adac0eda   ILV-WETH   \n",
       "3  2021-04-02 18:25:40  0x6a091a3406e0073c3cd6340122143009adac0eda   ILV-WETH   \n",
       "4  2021-04-02 18:25:40  0x6a091a3406e0073c3cd6340122143009adac0eda   ILV-WETH   \n",
       "\n",
       "   pairs_liquidityProviderCount  \\\n",
       "0                             0   \n",
       "1                             0   \n",
       "2                             0   \n",
       "3                             0   \n",
       "4                             0   \n",
       "\n",
       "                         pairs_liquidityPositions_id  \n",
       "0      0x6a091a3406e0073c3cd6340122143009adac0eda-0x  \n",
       "1  0x6a091a3406e0073c3cd6340122143009adac0eda-0x0...  \n",
       "2  0x6a091a3406e0073c3cd6340122143009adac0eda-0x0...  \n",
       "3  0x6a091a3406e0073c3cd6340122143009adac0eda-0x0...  \n",
       "4  0x6a091a3406e0073c3cd6340122143009adac0eda-0x0...  "
      ]
     },
     "execution_count": 53,
     "metadata": {},
     "output_type": "execute_result"
    }
   ],
   "source": [
    "lp_df.head()"
   ]
  },
  {
   "cell_type": "code",
   "execution_count": 54,
   "metadata": {},
   "outputs": [
    {
     "data": {
      "text/plain": [
       "'2021-04-02 18:25:40'"
      ]
     },
     "execution_count": 54,
     "metadata": {},
     "output_type": "execute_result"
    }
   ],
   "source": [
    "lp_df.pairs_datetime.max()"
   ]
  },
  {
   "cell_type": "code",
   "execution_count": 37,
   "metadata": {},
   "outputs": [],
   "source": [
    "## Synthetic field to transfer timestamp to datetime\n",
    "sushi_1.user.datetime = SyntheticField(\n",
    "    f = lambda timestamp: str(datetime.fromtimestamp(timestamp)),\n",
    "    type_ = SyntheticField.STRING,\n",
    "    deps = sushi_1.user.timestamp\n",
    ")\n",
    "\n",
    "timestamp_90d = int(round((datetime.today() - timedelta(90)).timestamp()))\n",
    "\n",
    "## Current date provider count\n",
    "user_lp_positions = sushi_1.Query.users(\n",
    "    first = 100000,\n",
    "    # orderBy = 'timestamp',\n",
    "    orderDirection = 'desc',\n",
    "    where = {\n",
    "        'liquidityTokenBalance_gt': 0.0000000001,\n",
    "        # 'timestamp_gt': timestamp_90d,\n",
    "        # 'pair_in': ['0xb84c45174bfc6b8f3eaecbae11dee63114f5c1b2'],\n",
    "        # 'user_in': ['0xdb23c6e1ba73acf067956a41c57eeeb06374370e']\n",
    "    }\n",
    ")"
   ]
  },
  {
   "cell_type": "code",
   "execution_count": 38,
   "metadata": {},
   "outputs": [
    {
     "data": {
      "text/html": [
       "<div>\n",
       "<style scoped>\n",
       "    .dataframe tbody tr th:only-of-type {\n",
       "        vertical-align: middle;\n",
       "    }\n",
       "\n",
       "    .dataframe tbody tr th {\n",
       "        vertical-align: top;\n",
       "    }\n",
       "\n",
       "    .dataframe thead th {\n",
       "        text-align: right;\n",
       "    }\n",
       "</style>\n",
       "<table border=\"1\" class=\"dataframe\">\n",
       "  <thead>\n",
       "    <tr style=\"text-align: right;\">\n",
       "      <th></th>\n",
       "      <th>liquidityPositions_datetime</th>\n",
       "      <th>liquidityPositions_user_id</th>\n",
       "      <th>liquidityPositions_pair_id</th>\n",
       "      <th>liquidityPositions_liquidityTokenBalance</th>\n",
       "    </tr>\n",
       "  </thead>\n",
       "  <tbody>\n",
       "    <tr>\n",
       "      <th>0</th>\n",
       "      <td>2022-04-03 21:27:00</td>\n",
       "      <td>0xdb23c6e1ba73acf067956a41c57eeeb06374370e</td>\n",
       "      <td>0xb84c45174bfc6b8f3eaecbae11dee63114f5c1b2</td>\n",
       "      <td>105.648746</td>\n",
       "    </tr>\n",
       "  </tbody>\n",
       "</table>\n",
       "</div>"
      ],
      "text/plain": [
       "  liquidityPositions_datetime                  liquidityPositions_user_id  \\\n",
       "0         2022-04-03 21:27:00  0xdb23c6e1ba73acf067956a41c57eeeb06374370e   \n",
       "\n",
       "                   liquidityPositions_pair_id  \\\n",
       "0  0xb84c45174bfc6b8f3eaecbae11dee63114f5c1b2   \n",
       "\n",
       "   liquidityPositions_liquidityTokenBalance  \n",
       "0                                105.648746  "
      ]
     },
     "execution_count": 38,
     "metadata": {},
     "output_type": "execute_result"
    }
   ],
   "source": [
    "user_lp_df = sg.query_df([ \n",
    "    user_lp_positions.datetime,\n",
    "    user_lp_positions.user.id,\n",
    "    user_lp_positions.pair.id,\n",
    "    user_lp_positions.liquidityTokenBalance\n",
    "])\n",
    "\n",
    "user_lp_df.rename(columns={\n",
    "    'liquidityPositions_datetime':'datetime',\n",
    "    'liquidityPositions_user_id':'user_id',\n",
    "    'liquidityPositions_pair_id':'pair_id',\n",
    "    'liquidityPositions_liquidityTokenBalance':'lp_token_balance'\n",
    "})\n",
    "\n",
    "user_lp_df.head()"
   ]
  },
  {
   "cell_type": "code",
   "execution_count": 36,
   "metadata": {},
   "outputs": [
    {
     "name": "stdout",
     "output_type": "stream",
     "text": [
      "<class 'pandas.core.frame.DataFrame'>\n",
      "RangeIndex: 2034 entries, 0 to 2033\n",
      "Data columns (total 4 columns):\n",
      " #   Column                                    Non-Null Count  Dtype  \n",
      "---  ------                                    --------------  -----  \n",
      " 0   liquidityPositions_datetime               2034 non-null   object \n",
      " 1   liquidityPositions_user_id                2034 non-null   object \n",
      " 2   liquidityPositions_pair_id                2034 non-null   object \n",
      " 3   liquidityPositions_liquidityTokenBalance  2034 non-null   float64\n",
      "dtypes: float64(1), object(3)\n",
      "memory usage: 63.7+ KB\n"
     ]
    }
   ],
   "source": [
    "user_lp_df.info()"
   ]
  }
 ],
 "metadata": {
  "interpreter": {
   "hash": "a0a5145e6c304e2a9afaf5b930a2955b950bd4b81fe94f7c42930f43f42762eb"
  },
  "kernelspec": {
   "display_name": "Python 3.10.2 64-bit",
   "language": "python",
   "name": "python3"
  },
  "language_info": {
   "codemirror_mode": {
    "name": "ipython",
    "version": 3
   },
   "file_extension": ".py",
   "mimetype": "text/x-python",
   "name": "python",
   "nbconvert_exporter": "python",
   "pygments_lexer": "ipython3",
   "version": "3.10.2"
  },
  "orig_nbformat": 4
 },
 "nbformat": 4,
 "nbformat_minor": 2
}
