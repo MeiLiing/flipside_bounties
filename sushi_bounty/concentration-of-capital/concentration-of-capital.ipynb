{
 "cells": [
  {
   "cell_type": "code",
   "execution_count": 149,
   "metadata": {},
   "outputs": [],
   "source": [
    "import pandas as pd\n",
    "import matplotlib.pyplot as plt\n",
    "import seaborn as sns"
   ]
  },
  {
   "cell_type": "code",
   "execution_count": 150,
   "metadata": {},
   "outputs": [],
   "source": [
    "# https://github.com/Protean-Labs/subgrounds\n",
    "from subgrounds.subgrounds import Subgrounds\n",
    "from subgrounds.subgraph import SyntheticField\n",
    "from datetime import datetime\n",
    "\n",
    "sg = Subgrounds()"
   ]
  },
  {
   "cell_type": "code",
   "execution_count": 151,
   "metadata": {},
   "outputs": [],
   "source": [
    "# SushiSwap theGraph node 1\n",
    "sushi_1 = sg.load_subgraph('https://api.thegraph.com/subgraphs/name/sushiswap/exchange')\n",
    "# SushiSwap theGraph node 2 from dev docs\n",
    "sushi_2 = sg.load_subgraph('https://api.thegraph.com/subgraphs/name/zippoxer/sushiswap-subgraph-fork')"
   ]
  },
  {
   "cell_type": "code",
   "execution_count": 152,
   "metadata": {},
   "outputs": [],
   "source": [
    "# LP snapshots containing provider, amount and timestamp\n",
    "liqPosSnaps = sushi_1.Query.liquidityPositionSnapshots(\n",
    "    first = 1000,\n",
    "    orderBy = 'timestamp',\n",
    "    orderDirection = 'desc',\n",
    "    where = {\n",
    "        'liquidityTokenBalance_gt': 0\n",
    "    }\n",
    ")\n",
    "\n",
    "# LP pairs\n",
    "pairs = sushi_1.Query.pairs(\n",
    "    first = 3000\n",
    ")\n",
    "\n",
    "## Synthetic field to transfer timestamp to datetime\n",
    "sushi_1.LiquidityPositionSnapshot.datetime = SyntheticField(\n",
    "    f = lambda timestamp: str(datetime.fromtimestamp(timestamp)),\n",
    "    type_ = SyntheticField.STRING,\n",
    "    deps = sushi_1.LiquidityPositionSnapshot.timestamp\n",
    ")"
   ]
  },
  {
   "cell_type": "code",
   "execution_count": 153,
   "metadata": {},
   "outputs": [],
   "source": [
    "[pairs, lp_snaps] = sg.query_df([ \n",
    "    pairs.id,\n",
    "    pairs.name,\n",
    "    liqPosSnaps.datetime,\n",
    "    # liqPosSnaps.timestamp,\n",
    "    liqPosSnaps.user.id,\n",
    "    liqPosSnaps.pair.id,\n",
    "    liqPosSnaps.liquidityTokenBalance\n",
    "])\n",
    "\n",
    "pairs.columns = ['id','name']\n",
    "lp_snaps.columns = ['datetime','user_id','pair_id','lp_token_balance']\n",
    "\n",
    "sushi_df = pd.merge(\n",
    "        lp_snaps, \n",
    "        pairs, \n",
    "        how='left', \n",
    "        left_on='pair_id', \n",
    "        right_on='id'\n",
    "    )\\\n",
    "    .drop(\n",
    "        labels=['id'],\n",
    "        axis=1\n",
    "    )\n"
   ]
  },
  {
   "cell_type": "code",
   "execution_count": 155,
   "metadata": {},
   "outputs": [
    {
     "data": {
      "text/html": [
       "<div>\n",
       "<style scoped>\n",
       "    .dataframe tbody tr th:only-of-type {\n",
       "        vertical-align: middle;\n",
       "    }\n",
       "\n",
       "    .dataframe tbody tr th {\n",
       "        vertical-align: top;\n",
       "    }\n",
       "\n",
       "    .dataframe thead th {\n",
       "        text-align: right;\n",
       "    }\n",
       "</style>\n",
       "<table border=\"1\" class=\"dataframe\">\n",
       "  <thead>\n",
       "    <tr style=\"text-align: right;\">\n",
       "      <th></th>\n",
       "      <th>datetime</th>\n",
       "      <th>user_id</th>\n",
       "      <th>pair_id</th>\n",
       "      <th>lp_token_balance</th>\n",
       "      <th>name</th>\n",
       "    </tr>\n",
       "  </thead>\n",
       "  <tbody>\n",
       "    <tr>\n",
       "      <th>0</th>\n",
       "      <td>2022-04-03 19:59:49</td>\n",
       "      <td>0x5ad6211cd3fde39a9cecb5df6f380b8263d1e277</td>\n",
       "      <td>0xaf491d603db3c1138a5ee5db35eb0c7b6c4541a2</td>\n",
       "      <td>347.162593</td>\n",
       "      <td>PLAY-DOUGH</td>\n",
       "    </tr>\n",
       "    <tr>\n",
       "      <th>1</th>\n",
       "      <td>2022-04-03 19:59:01</td>\n",
       "      <td>0x2e54c2b2982a4ebc5522b4826518da2a7eb5bfdc</td>\n",
       "      <td>0xeefa3b448768dd561af4f743c9e925987a1f8d09</td>\n",
       "      <td>132522.564114</td>\n",
       "      <td>WETH-NFD</td>\n",
       "    </tr>\n",
       "    <tr>\n",
       "      <th>2</th>\n",
       "      <td>2022-04-03 19:58:59</td>\n",
       "      <td>0xaf2fe0d4fe879066b2baa68d9e56cc375df22815</td>\n",
       "      <td>0xaf491d603db3c1138a5ee5db35eb0c7b6c4541a2</td>\n",
       "      <td>23160.598051</td>\n",
       "      <td>PLAY-DOUGH</td>\n",
       "    </tr>\n",
       "    <tr>\n",
       "      <th>3</th>\n",
       "      <td>2022-04-03 19:58:59</td>\n",
       "      <td>0x79939118ef2af99e20310ecc5ccc0e9697d390fc</td>\n",
       "      <td>0xaf491d603db3c1138a5ee5db35eb0c7b6c4541a2</td>\n",
       "      <td>9950.000000</td>\n",
       "      <td>PLAY-DOUGH</td>\n",
       "    </tr>\n",
       "    <tr>\n",
       "      <th>4</th>\n",
       "      <td>2022-04-03 19:58:59</td>\n",
       "      <td>0x6de77a304609472a4811a0bfd47d8682aebc29df</td>\n",
       "      <td>0xaf491d603db3c1138a5ee5db35eb0c7b6c4541a2</td>\n",
       "      <td>526362.965587</td>\n",
       "      <td>PLAY-DOUGH</td>\n",
       "    </tr>\n",
       "  </tbody>\n",
       "</table>\n",
       "</div>"
      ],
      "text/plain": [
       "              datetime                                     user_id  \\\n",
       "0  2022-04-03 19:59:49  0x5ad6211cd3fde39a9cecb5df6f380b8263d1e277   \n",
       "1  2022-04-03 19:59:01  0x2e54c2b2982a4ebc5522b4826518da2a7eb5bfdc   \n",
       "2  2022-04-03 19:58:59  0xaf2fe0d4fe879066b2baa68d9e56cc375df22815   \n",
       "3  2022-04-03 19:58:59  0x79939118ef2af99e20310ecc5ccc0e9697d390fc   \n",
       "4  2022-04-03 19:58:59  0x6de77a304609472a4811a0bfd47d8682aebc29df   \n",
       "\n",
       "                                      pair_id  lp_token_balance        name  \n",
       "0  0xaf491d603db3c1138a5ee5db35eb0c7b6c4541a2        347.162593  PLAY-DOUGH  \n",
       "1  0xeefa3b448768dd561af4f743c9e925987a1f8d09     132522.564114    WETH-NFD  \n",
       "2  0xaf491d603db3c1138a5ee5db35eb0c7b6c4541a2      23160.598051  PLAY-DOUGH  \n",
       "3  0xaf491d603db3c1138a5ee5db35eb0c7b6c4541a2       9950.000000  PLAY-DOUGH  \n",
       "4  0xaf491d603db3c1138a5ee5db35eb0c7b6c4541a2     526362.965587  PLAY-DOUGH  "
      ]
     },
     "execution_count": 155,
     "metadata": {},
     "output_type": "execute_result"
    }
   ],
   "source": [
    "sushi_df.head()"
   ]
  }
 ],
 "metadata": {
  "interpreter": {
   "hash": "a0a5145e6c304e2a9afaf5b930a2955b950bd4b81fe94f7c42930f43f42762eb"
  },
  "kernelspec": {
   "display_name": "Python 3.10.2 64-bit",
   "language": "python",
   "name": "python3"
  },
  "language_info": {
   "codemirror_mode": {
    "name": "ipython",
    "version": 3
   },
   "file_extension": ".py",
   "mimetype": "text/x-python",
   "name": "python",
   "nbconvert_exporter": "python",
   "pygments_lexer": "ipython3",
   "version": "3.10.2"
  },
  "orig_nbformat": 4
 },
 "nbformat": 4,
 "nbformat_minor": 2
}
