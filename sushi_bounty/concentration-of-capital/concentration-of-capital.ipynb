{
 "cells": [
  {
   "cell_type": "code",
   "execution_count": 85,
   "metadata": {},
   "outputs": [],
   "source": [
    "import pandas as pd\n",
    "import matplotlib.pyplot as plt\n",
    "import seaborn as sns"
   ]
  },
  {
   "cell_type": "code",
   "execution_count": 86,
   "metadata": {},
   "outputs": [],
   "source": [
    "from subgrounds.subgrounds import Subgrounds\n",
    "from subgrounds.subgraph import SyntheticField\n",
    "from datetime import datetime\n",
    "\n",
    "sg = Subgrounds()\n",
    "\n",
    "sushi = sg.load_subgraph('https://api.thegraph.com/subgraphs/name/sushiswap/exchange')"
   ]
  },
  {
   "cell_type": "code",
   "execution_count": 92,
   "metadata": {},
   "outputs": [
    {
     "name": "stdout",
     "output_type": "stream",
     "text": [
      "query {\n",
      "  x75e638e15855ad02: liquidityPositionSnapshots(orderBy: timestamp, orderDirection: desc, where: {liquidityTokenBalance_gt: \"0.0\"}) {\n",
      "    datetime\n",
      "    user {\n",
      "      id\n",
      "    }\n",
      "    pair {\n",
      "      id\n",
      "    }\n",
      "    liquidityTokenBalance\n",
      "  }\n",
      "}\n"
     ]
    }
   ],
   "source": [
    "liqPosSnaps = sushi.Query.liquidityPositionSnapshots(\n",
    "    # first = 1000,\n",
    "    orderBy = 'timestamp',\n",
    "    orderDirection = 'desc',\n",
    "    where = {\n",
    "        'liquidityTokenBalance_gt': 0\n",
    "    }\n",
    ")\n",
    "\n",
    "pairs = sushi.Query.pairs\n",
    "\n",
    "## Synthetic field to transfer timestamp to datetime\n",
    "sushi.LiquidityPositionSnapshot.datetime = SyntheticField(\n",
    "    f = lambda timestamp: str(datetime.fromtimestamp(timestamp)),\n",
    "    type_ = SyntheticField.STRING,\n",
    "    deps = sushi.LiquidityPositionSnapshot.timestamp\n",
    ")\n",
    "\n",
    "req = sg.mk_request([\n",
    "    liqPosSnaps.datetime,\n",
    "    # liqPosSnaps.timestamp,\n",
    "    liqPosSnaps.user.id,\n",
    "    liqPosSnaps.pair.id,\n",
    "    liqPosSnaps.liquidityTokenBalance\n",
    "])\n",
    "\n",
    "print(req.graphql)"
   ]
  },
  {
   "cell_type": "code",
   "execution_count": 93,
   "metadata": {},
   "outputs": [],
   "source": [
    "[pairs, lp_snaps] = sg.query_df([ \n",
    "    pairs.id,\n",
    "    pairs.name,\n",
    "    liqPosSnaps.datetime,\n",
    "    # liqPosSnaps.timestamp,\n",
    "    liqPosSnaps.user.id,\n",
    "    liqPosSnaps.pair.id,\n",
    "    liqPosSnaps.liquidityTokenBalance\n",
    "])\n"
   ]
  },
  {
   "cell_type": "code",
   "execution_count": 94,
   "metadata": {},
   "outputs": [
    {
     "data": {
      "text/html": [
       "<div>\n",
       "<style scoped>\n",
       "    .dataframe tbody tr th:only-of-type {\n",
       "        vertical-align: middle;\n",
       "    }\n",
       "\n",
       "    .dataframe tbody tr th {\n",
       "        vertical-align: top;\n",
       "    }\n",
       "\n",
       "    .dataframe thead th {\n",
       "        text-align: right;\n",
       "    }\n",
       "</style>\n",
       "<table border=\"1\" class=\"dataframe\">\n",
       "  <thead>\n",
       "    <tr style=\"text-align: right;\">\n",
       "      <th></th>\n",
       "      <th>pairs_id</th>\n",
       "      <th>pairs_name</th>\n",
       "    </tr>\n",
       "  </thead>\n",
       "  <tbody>\n",
       "    <tr>\n",
       "      <th>0</th>\n",
       "      <td>0x00040a7ebfc9f6fbce4d23bd66b79a603ba1c323</td>\n",
       "      <td>TUSD-Xi</td>\n",
       "    </tr>\n",
       "    <tr>\n",
       "      <th>1</th>\n",
       "      <td>0x00088e1f7510370fab86a7bd10578b578c61c723</td>\n",
       "      <td>LON-SUSHI</td>\n",
       "    </tr>\n",
       "    <tr>\n",
       "      <th>2</th>\n",
       "      <td>0x0013df4ec514d5839ad4f535e4987498ebb58bf5</td>\n",
       "      <td>ORANGE-WETH</td>\n",
       "    </tr>\n",
       "    <tr>\n",
       "      <th>3</th>\n",
       "      <td>0x0018fb451a46ae397b8569936bc5bb5ff03cfd18</td>\n",
       "      <td>BEL-WETH</td>\n",
       "    </tr>\n",
       "    <tr>\n",
       "      <th>4</th>\n",
       "      <td>0x001b6450083e531a5a7bf310bd2c1af4247e23d4</td>\n",
       "      <td>UMA-WETH</td>\n",
       "    </tr>\n",
       "  </tbody>\n",
       "</table>\n",
       "</div>"
      ],
      "text/plain": [
       "                                     pairs_id   pairs_name\n",
       "0  0x00040a7ebfc9f6fbce4d23bd66b79a603ba1c323      TUSD-Xi\n",
       "1  0x00088e1f7510370fab86a7bd10578b578c61c723    LON-SUSHI\n",
       "2  0x0013df4ec514d5839ad4f535e4987498ebb58bf5  ORANGE-WETH\n",
       "3  0x0018fb451a46ae397b8569936bc5bb5ff03cfd18     BEL-WETH\n",
       "4  0x001b6450083e531a5a7bf310bd2c1af4247e23d4     UMA-WETH"
      ]
     },
     "execution_count": 94,
     "metadata": {},
     "output_type": "execute_result"
    }
   ],
   "source": [
    "pairs.head()"
   ]
  },
  {
   "cell_type": "code",
   "execution_count": 95,
   "metadata": {},
   "outputs": [
    {
     "data": {
      "text/html": [
       "<div>\n",
       "<style scoped>\n",
       "    .dataframe tbody tr th:only-of-type {\n",
       "        vertical-align: middle;\n",
       "    }\n",
       "\n",
       "    .dataframe tbody tr th {\n",
       "        vertical-align: top;\n",
       "    }\n",
       "\n",
       "    .dataframe thead th {\n",
       "        text-align: right;\n",
       "    }\n",
       "</style>\n",
       "<table border=\"1\" class=\"dataframe\">\n",
       "  <thead>\n",
       "    <tr style=\"text-align: right;\">\n",
       "      <th></th>\n",
       "      <th>liquidityPositionSnapshots_datetime</th>\n",
       "      <th>liquidityPositionSnapshots_user_id</th>\n",
       "      <th>liquidityPositionSnapshots_pair_id</th>\n",
       "      <th>liquidityPositionSnapshots_liquidityTokenBalance</th>\n",
       "    </tr>\n",
       "  </thead>\n",
       "  <tbody>\n",
       "    <tr>\n",
       "      <th>0</th>\n",
       "      <td>2022-04-03 18:40:10</td>\n",
       "      <td>0xe98477bdc16126bb0877c6e3882e3edd72571cc2</td>\n",
       "      <td>0x6a091a3406e0073c3cd6340122143009adac0eda</td>\n",
       "      <td>10561.220710</td>\n",
       "    </tr>\n",
       "    <tr>\n",
       "      <th>1</th>\n",
       "      <td>2022-04-03 18:40:10</td>\n",
       "      <td>0x5ad6211cd3fde39a9cecb5df6f380b8263d1e277</td>\n",
       "      <td>0x130f4322e5838463ee460d5854f5d472cfc8f253</td>\n",
       "      <td>0.118541</td>\n",
       "    </tr>\n",
       "    <tr>\n",
       "      <th>2</th>\n",
       "      <td>2022-04-03 18:38:41</td>\n",
       "      <td>0x5ad6211cd3fde39a9cecb5df6f380b8263d1e277</td>\n",
       "      <td>0x5fa4370164a2fabeef159b893299d59ff5dc1e6d</td>\n",
       "      <td>90.371186</td>\n",
       "    </tr>\n",
       "    <tr>\n",
       "      <th>3</th>\n",
       "      <td>2022-04-03 18:37:29</td>\n",
       "      <td>0xfa29484aa6b57b93748baf20fb9ed2bd46e11f5d</td>\n",
       "      <td>0x6a091a3406e0073c3cd6340122143009adac0eda</td>\n",
       "      <td>5.986459</td>\n",
       "    </tr>\n",
       "    <tr>\n",
       "      <th>4</th>\n",
       "      <td>2022-04-03 18:37:29</td>\n",
       "      <td>0x5ad6211cd3fde39a9cecb5df6f380b8263d1e277</td>\n",
       "      <td>0x6a091a3406e0073c3cd6340122143009adac0eda</td>\n",
       "      <td>0.506177</td>\n",
       "    </tr>\n",
       "  </tbody>\n",
       "</table>\n",
       "</div>"
      ],
      "text/plain": [
       "  liquidityPositionSnapshots_datetime  \\\n",
       "0                 2022-04-03 18:40:10   \n",
       "1                 2022-04-03 18:40:10   \n",
       "2                 2022-04-03 18:38:41   \n",
       "3                 2022-04-03 18:37:29   \n",
       "4                 2022-04-03 18:37:29   \n",
       "\n",
       "           liquidityPositionSnapshots_user_id  \\\n",
       "0  0xe98477bdc16126bb0877c6e3882e3edd72571cc2   \n",
       "1  0x5ad6211cd3fde39a9cecb5df6f380b8263d1e277   \n",
       "2  0x5ad6211cd3fde39a9cecb5df6f380b8263d1e277   \n",
       "3  0xfa29484aa6b57b93748baf20fb9ed2bd46e11f5d   \n",
       "4  0x5ad6211cd3fde39a9cecb5df6f380b8263d1e277   \n",
       "\n",
       "           liquidityPositionSnapshots_pair_id  \\\n",
       "0  0x6a091a3406e0073c3cd6340122143009adac0eda   \n",
       "1  0x130f4322e5838463ee460d5854f5d472cfc8f253   \n",
       "2  0x5fa4370164a2fabeef159b893299d59ff5dc1e6d   \n",
       "3  0x6a091a3406e0073c3cd6340122143009adac0eda   \n",
       "4  0x6a091a3406e0073c3cd6340122143009adac0eda   \n",
       "\n",
       "   liquidityPositionSnapshots_liquidityTokenBalance  \n",
       "0                                      10561.220710  \n",
       "1                                          0.118541  \n",
       "2                                         90.371186  \n",
       "3                                          5.986459  \n",
       "4                                          0.506177  "
      ]
     },
     "execution_count": 95,
     "metadata": {},
     "output_type": "execute_result"
    }
   ],
   "source": [
    "lp_snaps.head()"
   ]
  }
 ],
 "metadata": {
  "interpreter": {
   "hash": "a0a5145e6c304e2a9afaf5b930a2955b950bd4b81fe94f7c42930f43f42762eb"
  },
  "kernelspec": {
   "display_name": "Python 3.10.2 64-bit",
   "language": "python",
   "name": "python3"
  },
  "language_info": {
   "codemirror_mode": {
    "name": "ipython",
    "version": 3
   },
   "file_extension": ".py",
   "mimetype": "text/x-python",
   "name": "python",
   "nbconvert_exporter": "python",
   "pygments_lexer": "ipython3",
   "version": "3.10.2"
  },
  "orig_nbformat": 4
 },
 "nbformat": 4,
 "nbformat_minor": 2
}
