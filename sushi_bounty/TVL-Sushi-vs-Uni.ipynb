{
 "cells": [
  {
   "cell_type": "markdown",
   "metadata": {},
   "source": [
    "## Introduction\n",
    "In this report we will have a closer at the Total Value Locked (TVL) of Sushiswap and Uniswap on Ethereum and compare it over time."
   ]
  },
  {
   "cell_type": "markdown",
   "metadata": {},
   "source": [
    "### Preparing the environment\n",
    "1. Importing modules necessary for the processing and analysis of the data."
   ]
  },
  {
   "cell_type": "code",
   "execution_count": 124,
   "metadata": {},
   "outputs": [],
   "source": [
    "import pandas as pd\n",
    "import matplotlib.pyplot as plt\n",
    "import seaborn as sns\n",
    "sns.set_theme(style=\"darkgrid\")\n",
    "import numpy as np\n",
    "from gql import Client, gql\n",
    "from gql.transport.aiohttp import AIOHTTPTransport\n",
    "import requests"
   ]
  },
  {
   "cell_type": "markdown",
   "metadata": {},
   "source": [
    "2. Importing Total Value Locked information about each one of the decentralized exchanges protocols. The data will be imported using TheGraph API endpoints and then it is turned into a Pandas Dataframe so we can use Python to analyze and plot the data.\n",
    "\n",
    "First one is the daily TVL of Sushiswap:"
   ]
  },
  {
   "cell_type": "code",
   "execution_count": 125,
   "metadata": {},
   "outputs": [],
   "source": [
    "# Sushi TheGraph\n",
    "url = 'https://api.thegraph.com/subgraphs/name/zippoxer/sushiswap-subgraph-fork'\n",
    "transport = AIOHTTPTransport(url=url)\n",
    "client = Client(transport=transport)\n",
    "\n",
    "query_SushiTVL = gql(\n",
    "    '''{uniswapDayDatas (orderBy: date, orderDirection: desc, first: 90) \n",
    "  {\n",
    "    date\n",
    "    totalLiquidityUSD\n",
    "  }\n",
    "}'''\n",
    ")\n",
    "response_SushiTVL = await client.execute_async(query_SushiTVL)\n",
    "\n",
    "df_SushiTVL = pd.json_normalize(response_SushiTVL['uniswapDayDatas'])\\\n",
    "    .rename(columns={'date':'timestamp','totalLiquidityUSD':'tvlUSD'})\n",
    "df_SushiTVL['date'] = pd.to_datetime(df_SushiTVL.timestamp, unit='s')\n",
    "df_SushiTVL['dex'] = 'Sushi'\n",
    "df_SushiTVL.tvlUSD = df_SushiTVL.tvlUSD.apply(lambda x: float(x))"
   ]
  },
  {
   "cell_type": "markdown",
   "metadata": {},
   "source": [
    "Uniswap currently has 2 live versions, Uniswap V2 and V3, and in this report we will aggregate the TVL of both."
   ]
  },
  {
   "cell_type": "code",
   "execution_count": 126,
   "metadata": {},
   "outputs": [],
   "source": [
    "# Uniswap V3 TheGraph\n",
    "url = 'https://api.thegraph.com/subgraphs/name/uniswap/uniswap-v3'\n",
    "transport = AIOHTTPTransport(url=url)\n",
    "client = Client(transport=transport)\n",
    "\n",
    "query_Uni3TVL = gql(\n",
    "    '''{uniswapDayDatas (orderBy: date, orderDirection: desc, first: 90) \n",
    "  {\n",
    "    date\n",
    "    tvlUSD\n",
    "  }\n",
    "}'''\n",
    ")\n",
    "response_Uni3TVL = await client.execute_async(query_Uni3TVL)\n",
    "\n",
    "df_Uni3TVL = pd.json_normalize(response_Uni3TVL['uniswapDayDatas']).rename(columns={'date':'timestamp'})\n",
    "df_Uni3TVL['date'] = pd.to_datetime(df_Uni3TVL.timestamp, unit='s')\n",
    "df_Uni3TVL.tvlUSD = df_Uni3TVL.tvlUSD.apply(lambda x: float(x))"
   ]
  },
  {
   "cell_type": "code",
   "execution_count": 127,
   "metadata": {},
   "outputs": [],
   "source": [
    "# Uniswap V2 TheGraph\n",
    "url = 'https://api.thegraph.com/subgraphs/name/ianlapham/uniswapv2'\n",
    "transport = AIOHTTPTransport(url=url)\n",
    "client = Client(transport=transport)\n",
    "\n",
    "query_Uni2TVL = gql(\n",
    "    '''{uniswapDayDatas (orderBy: date, orderDirection: desc, first: 90) \n",
    "  {\n",
    "    date\n",
    "    totalLiquidityUSD\n",
    "  }\n",
    "}'''\n",
    ")\n",
    "response_Uni2TVL = await client.execute_async(query_Uni2TVL)\n",
    "\n",
    "df_Uni2TVL = pd.json_normalize(response_Uni2TVL['uniswapDayDatas'])\\\n",
    "  .rename(columns={'date':'timestamp','totalLiquidityUSD':'tvlUSD'})\n",
    "df_Uni2TVL['date'] = pd.to_datetime(df_Uni2TVL.timestamp, unit='s')\n",
    "df_Uni2TVL.tvlUSD = df_Uni2TVL.tvlUSD.apply(lambda x: float(x))"
   ]
  },
  {
   "cell_type": "markdown",
   "metadata": {},
   "source": [
    "Once we have the data for both versions of the exchange, we can use Pandas to merge the two dataframes and then sum the daily TVL."
   ]
  },
  {
   "cell_type": "code",
   "execution_count": 128,
   "metadata": {},
   "outputs": [
    {
     "data": {
      "text/html": [
       "<div>\n",
       "<style scoped>\n",
       "    .dataframe tbody tr th:only-of-type {\n",
       "        vertical-align: middle;\n",
       "    }\n",
       "\n",
       "    .dataframe tbody tr th {\n",
       "        vertical-align: top;\n",
       "    }\n",
       "\n",
       "    .dataframe thead th {\n",
       "        text-align: right;\n",
       "    }\n",
       "</style>\n",
       "<table border=\"1\" class=\"dataframe\">\n",
       "  <thead>\n",
       "    <tr style=\"text-align: right;\">\n",
       "      <th></th>\n",
       "      <th>date</th>\n",
       "      <th>tvlUSD</th>\n",
       "      <th>dex</th>\n",
       "    </tr>\n",
       "  </thead>\n",
       "  <tbody>\n",
       "    <tr>\n",
       "      <th>0</th>\n",
       "      <td>2021-11-17</td>\n",
       "      <td>9.861038e+09</td>\n",
       "      <td>Uniswap</td>\n",
       "    </tr>\n",
       "    <tr>\n",
       "      <th>1</th>\n",
       "      <td>2021-11-18</td>\n",
       "      <td>9.258397e+09</td>\n",
       "      <td>Uniswap</td>\n",
       "    </tr>\n",
       "    <tr>\n",
       "      <th>2</th>\n",
       "      <td>2021-11-19</td>\n",
       "      <td>9.850929e+09</td>\n",
       "      <td>Uniswap</td>\n",
       "    </tr>\n",
       "    <tr>\n",
       "      <th>3</th>\n",
       "      <td>2021-11-20</td>\n",
       "      <td>1.008030e+10</td>\n",
       "      <td>Uniswap</td>\n",
       "    </tr>\n",
       "    <tr>\n",
       "      <th>4</th>\n",
       "      <td>2021-11-21</td>\n",
       "      <td>9.821427e+09</td>\n",
       "      <td>Uniswap</td>\n",
       "    </tr>\n",
       "  </tbody>\n",
       "</table>\n",
       "</div>"
      ],
      "text/plain": [
       "        date        tvlUSD      dex\n",
       "0 2021-11-17  9.861038e+09  Uniswap\n",
       "1 2021-11-18  9.258397e+09  Uniswap\n",
       "2 2021-11-19  9.850929e+09  Uniswap\n",
       "3 2021-11-20  1.008030e+10  Uniswap\n",
       "4 2021-11-21  9.821427e+09  Uniswap"
      ]
     },
     "execution_count": 128,
     "metadata": {},
     "output_type": "execute_result"
    }
   ],
   "source": [
    "df_UniTVL = pd.concat([df_Uni2TVL,df_Uni3TVL]).reset_index().drop(columns=['index'])\n",
    "df_UniTVL = df_UniTVL.groupby(['date']).tvlUSD.sum().reset_index()\n",
    "df_UniTVL['dex'] = 'Uniswap'\n",
    "df_UniTVL.head()"
   ]
  },
  {
   "cell_type": "markdown",
   "metadata": {},
   "source": [
    "Before we can start plotting the data, we will create a common dataframe containing the labeled data for each exchange."
   ]
  },
  {
   "cell_type": "code",
   "execution_count": 129,
   "metadata": {},
   "outputs": [
    {
     "data": {
      "text/html": [
       "<div>\n",
       "<style scoped>\n",
       "    .dataframe tbody tr th:only-of-type {\n",
       "        vertical-align: middle;\n",
       "    }\n",
       "\n",
       "    .dataframe tbody tr th {\n",
       "        vertical-align: top;\n",
       "    }\n",
       "\n",
       "    .dataframe thead th {\n",
       "        text-align: right;\n",
       "    }\n",
       "</style>\n",
       "<table border=\"1\" class=\"dataframe\">\n",
       "  <thead>\n",
       "    <tr style=\"text-align: right;\">\n",
       "      <th></th>\n",
       "      <th>index</th>\n",
       "      <th>timestamp</th>\n",
       "      <th>tvlUSD</th>\n",
       "      <th>date</th>\n",
       "      <th>dex</th>\n",
       "    </tr>\n",
       "  </thead>\n",
       "  <tbody>\n",
       "    <tr>\n",
       "      <th>0</th>\n",
       "      <td>0</td>\n",
       "      <td>1.644797e+09</td>\n",
       "      <td>2.130854e+09</td>\n",
       "      <td>2022-02-14</td>\n",
       "      <td>Sushi</td>\n",
       "    </tr>\n",
       "    <tr>\n",
       "      <th>1</th>\n",
       "      <td>1</td>\n",
       "      <td>1.644710e+09</td>\n",
       "      <td>2.144697e+09</td>\n",
       "      <td>2022-02-13</td>\n",
       "      <td>Sushi</td>\n",
       "    </tr>\n",
       "    <tr>\n",
       "      <th>2</th>\n",
       "      <td>2</td>\n",
       "      <td>1.644624e+09</td>\n",
       "      <td>2.167220e+09</td>\n",
       "      <td>2022-02-12</td>\n",
       "      <td>Sushi</td>\n",
       "    </tr>\n",
       "    <tr>\n",
       "      <th>3</th>\n",
       "      <td>3</td>\n",
       "      <td>1.644538e+09</td>\n",
       "      <td>2.176018e+09</td>\n",
       "      <td>2022-02-11</td>\n",
       "      <td>Sushi</td>\n",
       "    </tr>\n",
       "    <tr>\n",
       "      <th>4</th>\n",
       "      <td>4</td>\n",
       "      <td>1.644451e+09</td>\n",
       "      <td>2.277868e+09</td>\n",
       "      <td>2022-02-10</td>\n",
       "      <td>Sushi</td>\n",
       "    </tr>\n",
       "  </tbody>\n",
       "</table>\n",
       "</div>"
      ],
      "text/plain": [
       "   index     timestamp        tvlUSD       date    dex\n",
       "0      0  1.644797e+09  2.130854e+09 2022-02-14  Sushi\n",
       "1      1  1.644710e+09  2.144697e+09 2022-02-13  Sushi\n",
       "2      2  1.644624e+09  2.167220e+09 2022-02-12  Sushi\n",
       "3      3  1.644538e+09  2.176018e+09 2022-02-11  Sushi\n",
       "4      4  1.644451e+09  2.277868e+09 2022-02-10  Sushi"
      ]
     },
     "execution_count": 129,
     "metadata": {},
     "output_type": "execute_result"
    }
   ],
   "source": [
    "df_tvl = pd.concat([df_SushiTVL,df_UniTVL]).reset_index()\n",
    "df_tvl.tvlUSD = df_tvl.tvlUSD.apply(lambda x: np.round(float(x),2))\n",
    "df_tvl.head()"
   ]
  },
  {
   "cell_type": "markdown",
   "metadata": {},
   "source": [
    "## DEX Total Value Locked Comparison\n",
    "\n",
    "Sushiswap and Uniswap are long time competitors on the Ethereum blockchain. They bot run on a suite of smart contracts that enable users to swap assets in a decentralized permissionless mode. \n",
    "\n",
    "Because they both work as Automated Market Makers, one of the most important metrics affecting the bottom line and the user experiece (cost), is the TVL. \n",
    "\n",
    "In the following graph we can see how this metric has changed for each of them over the last 90 days (3 months)."
   ]
  },
  {
   "cell_type": "code",
   "execution_count": 130,
   "metadata": {},
   "outputs": [
    {
     "data": {
      "image/png": "[encoded data removed]",
      "text/plain": [
       "<Figure size 864x576 with 1 Axes>"
      ]
     },
     "metadata": {},
     "output_type": "display_data"
    }
   ],
   "source": [
    "plt.figure(figsize=(12,8))\n",
    "ax = plt.subplot()\n",
    "\n",
    "sns.lineplot(data=df_tvl, x='date', y='tvlUSD', hue='dex')\n",
    "plt.title('Total Value Locked over the last 90 days')\n",
    "plt.axhline(np.mean(df_tvl[df_tvl.dex == 'Sushi'].tvlUSD), color='black', label='Mean', linestyle='--')\n",
    "plt.axhline(np.mean(df_tvl[df_tvl.dex == 'Uniswap'].tvlUSD), color='black', linestyle='--')\n",
    "\n",
    "plt.legend()\n",
    "plt.show()"
   ]
  },
  {
   "cell_type": "markdown",
   "metadata": {},
   "source": [
    "We can see that from the start of the period that there is a signifficant difference between the two, with Uniswap having 10.04B USD at the start of period across its two versions, whereas Sushiswap has a bit over 4.5B USD. This difference between the two is maintained throughout the last 90 days.\n",
    "\n",
    "Despite this difference, we can see how the TVL of the two move almost in tandem. When one drops, almost every time the other does too. It is worth noting though that the Uniswap TVL has sharper movements, whereas that of Sushiswap is relatively more stable.\n",
    "\n",
    "Another point of similarity is that compared to the start of the period they both had a drop of around 2B USD, which does translate as more painful for Sushiswap than for Uniswap."
   ]
  }
 ],
 "metadata": {
  "interpreter": {
   "hash": "b1e00c4c02fc48333235efc75f03fb75457c436b3b1518e216c638d11215803d"
  },
  "kernelspec": {
   "display_name": "Python 3.9.7 ('base')",
   "language": "python",
   "name": "python3"
  },
  "language_info": {
   "codemirror_mode": {
    "name": "ipython",
    "version": 3
   },
   "file_extension": ".py",
   "mimetype": "text/x-python",
   "name": "python",
   "nbconvert_exporter": "python",
   "pygments_lexer": "ipython3",
   "version": "3.9.7"
  },
  "orig_nbformat": 4
 },
 "nbformat": 4,
 "nbformat_minor": 2
}
