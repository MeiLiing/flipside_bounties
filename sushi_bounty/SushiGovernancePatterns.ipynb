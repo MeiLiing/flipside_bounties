{
 "cells": [
  {
   "cell_type": "markdown",
   "metadata": {},
   "source": [
    "# Introduction\n",
    "\n",
    "The purpose of this project is to analyze the results of governance proposals for SushiSwap and uncover any patterns amongst them that might be indicative of a success.\n",
    "\n",
    "**Data Source**<br>\n",
    "SushiSwap uses the Snapsot platform to manage governance proposal voting, so we can use the same platform to extract the data about all of the proposals.\n",
    "- **SushiSwap Snapshot** - https://snapshot.org/#/sushigov.eth\n",
    "- raw **proposal data** is in the `sushi_proposals.json` file\n",
    "- the full **queries used** can be found in the `snapshotQuery_sushi.gql` file\n",
    "\n",
    "## Setting up the environment\n",
    "1. Import modules"
   ]
  },
  {
   "cell_type": "code",
   "execution_count": 106,
   "metadata": {},
   "outputs": [],
   "source": [
    "import pandas as pd\n",
    "import numpy as np\n",
    "import matplotlib.pyplot as plt\n",
    "import seaborn as sns"
   ]
  },
  {
   "cell_type": "markdown",
   "metadata": {},
   "source": [
    "2. Set dataframe and graph options"
   ]
  },
  {
   "cell_type": "code",
   "execution_count": 107,
   "metadata": {},
   "outputs": [],
   "source": [
    "pd.set_option('display.max_colwidth', 20)\n",
    "sns.set_style('darkgrid')"
   ]
  },
  {
   "cell_type": "markdown",
   "metadata": {},
   "source": [
    "# Data\n",
    "\n",
    "## Loading the data\n",
    "The raw data will be imported into a `Pandas Dataframe` so we can use Python to handle and analyze it.\n",
    "\n",
    "- `id`(text): unique identifier for proposal\n",
    "- `title`(text): the title of the proposal\n",
    "- `choices`(list): contains all of the given voting options\n",
    "- `start`(number): unix timestamp of starting date\n",
    "- `end`(number): unix timestamp of ending date\n",
    "- `snapshot`(number): block that locks the state of community members who are able to vote\n",
    "- `author`(text): wallet address of the person who posted the proposal\n",
    "- `votes`(number): total number of votes casted\n",
    "- `scores`(list): contains the score for each available choice\n",
    "- `scores_total`(number): total voting power aka 'SUSHIPOWAH'\n",
    "\n",
    "In order to make the data more readable and interpretable, the `start` and `end` columns will be converted to ISO date and time formats.\n",
    "\n",
    "In addition to these columns, we will insert two more:\n",
    "- `num_choices`(number): count of options in the choices list\n",
    "- `is_admin`(bool): whether the author of the proposal is currently an admin"
   ]
  },
  {
   "cell_type": "code",
   "execution_count": 108,
   "metadata": {},
   "outputs": [
    {
     "data": {
      "text/html": [
       "<div>\n",
       "<style scoped>\n",
       "    .dataframe tbody tr th:only-of-type {\n",
       "        vertical-align: middle;\n",
       "    }\n",
       "\n",
       "    .dataframe tbody tr th {\n",
       "        vertical-align: top;\n",
       "    }\n",
       "\n",
       "    .dataframe thead th {\n",
       "        text-align: right;\n",
       "    }\n",
       "</style>\n",
       "<table border=\"1\" class=\"dataframe\">\n",
       "  <thead>\n",
       "    <tr style=\"text-align: right;\">\n",
       "      <th></th>\n",
       "      <th>id</th>\n",
       "      <th>title</th>\n",
       "      <th>choices</th>\n",
       "      <th>start</th>\n",
       "      <th>end</th>\n",
       "      <th>snapshot</th>\n",
       "      <th>author</th>\n",
       "      <th>votes</th>\n",
       "      <th>scores</th>\n",
       "      <th>scores_total</th>\n",
       "      <th>is_admin</th>\n",
       "      <th>num_choices</th>\n",
       "    </tr>\n",
       "  </thead>\n",
       "  <tbody>\n",
       "    <tr>\n",
       "      <th>0</th>\n",
       "      <td>0x3e8c549e82d973...</td>\n",
       "      <td>Fund Team to Onb...</td>\n",
       "      <td>[Yes, LFFFFGG, M...</td>\n",
       "      <td>2021-11-18 11:00:00</td>\n",
       "      <td>2021-11-21 11:00:00</td>\n",
       "      <td>13632357</td>\n",
       "      <td>0xBd31D988151DE3...</td>\n",
       "      <td>202</td>\n",
       "      <td>[106049.23305496...</td>\n",
       "      <td>1.080705e+05</td>\n",
       "      <td>False</td>\n",
       "      <td>3</td>\n",
       "    </tr>\n",
       "    <tr>\n",
       "      <th>1</th>\n",
       "      <td>0x8315ab4c4ef397...</td>\n",
       "      <td>Collateralize SU...</td>\n",
       "      <td>[Collateralize T...</td>\n",
       "      <td>2021-11-10 17:00:00</td>\n",
       "      <td>2021-11-15 17:00:00</td>\n",
       "      <td>13589329</td>\n",
       "      <td>0x1C0Aa8cCD568d9...</td>\n",
       "      <td>1027</td>\n",
       "      <td>[6728695.2336487...</td>\n",
       "      <td>6.746548e+06</td>\n",
       "      <td>True</td>\n",
       "      <td>3</td>\n",
       "    </tr>\n",
       "    <tr>\n",
       "      <th>2</th>\n",
       "      <td>QmcwEVRfidkg5U8n...</td>\n",
       "      <td>Community-Enable...</td>\n",
       "      <td>[Fund CEA, Nay]</td>\n",
       "      <td>2021-10-19 16:00:00</td>\n",
       "      <td>2021-10-23 19:00:00</td>\n",
       "      <td>13450939</td>\n",
       "      <td>0x1C0Aa8cCD568d9...</td>\n",
       "      <td>804</td>\n",
       "      <td>[3361810.2412042...</td>\n",
       "      <td>3.559517e+06</td>\n",
       "      <td>True</td>\n",
       "      <td>2</td>\n",
       "    </tr>\n",
       "    <tr>\n",
       "      <th>3</th>\n",
       "      <td>QmNT8bY7aJRFUMtf...</td>\n",
       "      <td>Multichain Expan...</td>\n",
       "      <td>[Yay, Nay]</td>\n",
       "      <td>2021-08-13 04:00:00</td>\n",
       "      <td>2021-08-17 19:00:00</td>\n",
       "      <td>13012538</td>\n",
       "      <td>0x285b7EEa81a5B6...</td>\n",
       "      <td>1108</td>\n",
       "      <td>[12358627.302780...</td>\n",
       "      <td>1.668710e+07</td>\n",
       "      <td>True</td>\n",
       "      <td>2</td>\n",
       "    </tr>\n",
       "    <tr>\n",
       "      <th>4</th>\n",
       "      <td>QmfEqngSUDtZHgQf...</td>\n",
       "      <td>oSUSHI [SIGNAL]</td>\n",
       "      <td>[Start the gauge...</td>\n",
       "      <td>2021-08-13 04:00:00</td>\n",
       "      <td>2021-08-17 19:00:00</td>\n",
       "      <td>13012525</td>\n",
       "      <td>0x285b7EEa81a5B6...</td>\n",
       "      <td>1089</td>\n",
       "      <td>[14266737.701309...</td>\n",
       "      <td>1.432602e+07</td>\n",
       "      <td>True</td>\n",
       "      <td>2</td>\n",
       "    </tr>\n",
       "  </tbody>\n",
       "</table>\n",
       "</div>"
      ],
      "text/plain": [
       "                    id                title              choices  \\\n",
       "0  0x3e8c549e82d973...  Fund Team to Onb...  [Yes, LFFFFGG, M...   \n",
       "1  0x8315ab4c4ef397...  Collateralize SU...  [Collateralize T...   \n",
       "2  QmcwEVRfidkg5U8n...  Community-Enable...      [Fund CEA, Nay]   \n",
       "3  QmNT8bY7aJRFUMtf...  Multichain Expan...           [Yay, Nay]   \n",
       "4  QmfEqngSUDtZHgQf...      oSUSHI [SIGNAL]  [Start the gauge...   \n",
       "\n",
       "                start                 end  snapshot               author  \\\n",
       "0 2021-11-18 11:00:00 2021-11-21 11:00:00  13632357  0xBd31D988151DE3...   \n",
       "1 2021-11-10 17:00:00 2021-11-15 17:00:00  13589329  0x1C0Aa8cCD568d9...   \n",
       "2 2021-10-19 16:00:00 2021-10-23 19:00:00  13450939  0x1C0Aa8cCD568d9...   \n",
       "3 2021-08-13 04:00:00 2021-08-17 19:00:00  13012538  0x285b7EEa81a5B6...   \n",
       "4 2021-08-13 04:00:00 2021-08-17 19:00:00  13012525  0x285b7EEa81a5B6...   \n",
       "\n",
       "   votes               scores  scores_total  is_admin  num_choices  \n",
       "0    202  [106049.23305496...  1.080705e+05     False            3  \n",
       "1   1027  [6728695.2336487...  6.746548e+06      True            3  \n",
       "2    804  [3361810.2412042...  3.559517e+06      True            2  \n",
       "3   1108  [12358627.302780...  1.668710e+07      True            2  \n",
       "4   1089  [14266737.701309...  1.432602e+07      True            2  "
      ]
     },
     "execution_count": 108,
     "metadata": {},
     "output_type": "execute_result"
    }
   ],
   "source": [
    "df = pd.read_json('sushi_proposals.json')\n",
    "df.start = pd.to_datetime(df.start, unit='s')\n",
    "df.end = pd.to_datetime(df.end, unit='s')\n",
    "\n",
    "admin = ['0x4bb4c1B0745ef7B4642fEECcd0740deC417ca0a0','0xb4A3f907ec1611F22543219AE9Bb33ec5E96e116','0x1C0Aa8cCD568d90d61659F060D1bFb1e6f855A20','0x285b7EEa81a5B66B62e7276a24c1e0F83F7409c1']\n",
    "df['is_admin'] = df.author.isin(admin)\n",
    "df['num_choices'] = df.choices.apply(lambda x: len(x))\n",
    "df.head()"
   ]
  },
  {
   "cell_type": "markdown",
   "metadata": {},
   "source": [
    "## Data exploration\n",
    "We can start off by checking the shape of the dataset. The **244 rows** each represent an observation of a single proposal posted by SushiSwap on their Snapshot page.\n",
    "\n",
    "The earliest proposal was posted on 26 Aug 2020, and the most recent one was posted on 18 Nov 2021."
   ]
  },
  {
   "cell_type": "code",
   "execution_count": 109,
   "metadata": {},
   "outputs": [
    {
     "name": "stdout",
     "output_type": "stream",
     "text": [
      "dataset shape: (244, 12)\n",
      "first proposal: 2020-08-26 12:00:00\n",
      "latest proposal: 2021-11-18 11:00:00\n"
     ]
    }
   ],
   "source": [
    "print('dataset shape:',df.shape)\n",
    "print('first proposal:', df.start.min())\n",
    "print('latest proposal:', df.start.max())"
   ]
  },
  {
   "cell_type": "markdown",
   "metadata": {},
   "source": [
    "When we look at the rest of the variables, we see that there have been proposals with **0 votes**, but the most voted proposal gathered **1627 votes**, a huge engagement if we consider that the 4th quartile starts with just 66. The scores_total, given its close relationship to the number of votes casted, tells a simmilar story.\n",
    "\n",
    "For the number of choices, it naturally starts at a minumum of 2, but it then goes up to 20 choices. That number is a clear outlier, as over 75% of all proposals only have 3 options or less."
   ]
  },
  {
   "cell_type": "code",
   "execution_count": 110,
   "metadata": {},
   "outputs": [
    {
     "data": {
      "text/html": [
       "<div>\n",
       "<style scoped>\n",
       "    .dataframe tbody tr th:only-of-type {\n",
       "        vertical-align: middle;\n",
       "    }\n",
       "\n",
       "    .dataframe tbody tr th {\n",
       "        vertical-align: top;\n",
       "    }\n",
       "\n",
       "    .dataframe thead th {\n",
       "        text-align: right;\n",
       "    }\n",
       "</style>\n",
       "<table border=\"1\" class=\"dataframe\">\n",
       "  <thead>\n",
       "    <tr style=\"text-align: right;\">\n",
       "      <th></th>\n",
       "      <th>votes</th>\n",
       "      <th>scores_total</th>\n",
       "      <th>num_choices</th>\n",
       "    </tr>\n",
       "  </thead>\n",
       "  <tbody>\n",
       "    <tr>\n",
       "      <th>count</th>\n",
       "      <td>244.000000</td>\n",
       "      <td>2.440000e+02</td>\n",
       "      <td>244.000000</td>\n",
       "    </tr>\n",
       "    <tr>\n",
       "      <th>mean</th>\n",
       "      <td>116.979508</td>\n",
       "      <td>1.331518e+06</td>\n",
       "      <td>2.774590</td>\n",
       "    </tr>\n",
       "    <tr>\n",
       "      <th>std</th>\n",
       "      <td>267.932327</td>\n",
       "      <td>4.108310e+06</td>\n",
       "      <td>1.864331</td>\n",
       "    </tr>\n",
       "    <tr>\n",
       "      <th>min</th>\n",
       "      <td>0.000000</td>\n",
       "      <td>0.000000e+00</td>\n",
       "      <td>2.000000</td>\n",
       "    </tr>\n",
       "    <tr>\n",
       "      <th>25%</th>\n",
       "      <td>4.000000</td>\n",
       "      <td>4.303730e+02</td>\n",
       "      <td>2.000000</td>\n",
       "    </tr>\n",
       "    <tr>\n",
       "      <th>50%</th>\n",
       "      <td>18.000000</td>\n",
       "      <td>6.987941e+03</td>\n",
       "      <td>2.000000</td>\n",
       "    </tr>\n",
       "    <tr>\n",
       "      <th>75%</th>\n",
       "      <td>66.500000</td>\n",
       "      <td>1.007082e+05</td>\n",
       "      <td>3.000000</td>\n",
       "    </tr>\n",
       "    <tr>\n",
       "      <th>max</th>\n",
       "      <td>1627.000000</td>\n",
       "      <td>2.603272e+07</td>\n",
       "      <td>20.000000</td>\n",
       "    </tr>\n",
       "  </tbody>\n",
       "</table>\n",
       "</div>"
      ],
      "text/plain": [
       "             votes  scores_total  num_choices\n",
       "count   244.000000  2.440000e+02   244.000000\n",
       "mean    116.979508  1.331518e+06     2.774590\n",
       "std     267.932327  4.108310e+06     1.864331\n",
       "min       0.000000  0.000000e+00     2.000000\n",
       "25%       4.000000  4.303730e+02     2.000000\n",
       "50%      18.000000  6.987941e+03     2.000000\n",
       "75%      66.500000  1.007082e+05     3.000000\n",
       "max    1627.000000  2.603272e+07    20.000000"
      ]
     },
     "execution_count": 110,
     "metadata": {},
     "output_type": "execute_result"
    }
   ],
   "source": [
    "df[['votes','scores_total','num_choices']].describe()"
   ]
  },
  {
   "cell_type": "code",
   "execution_count": 111,
   "metadata": {},
   "outputs": [
    {
     "data": {
      "image/png": "[encoded data removed]",
      "text/plain": [
       "<Figure size 864x288 with 1 Axes>"
      ]
     },
     "metadata": {},
     "output_type": "display_data"
    }
   ],
   "source": [
    "plt.figure(figsize=(12,4))\n",
    "\n",
    "ax1 = plt.subplot()\n",
    "plt.hist(x=df.num_choices, bins=18)\n",
    "ax1.set_xticks(range(2,21,2))\n",
    "plt.title('Number of Choices for Proposals')\n",
    "plt.ylabel('frequency')\n",
    "sns.rugplot(data=df, x='num_choices')\n",
    "\n",
    "plt.show()"
   ]
  },
  {
   "cell_type": "code",
   "execution_count": 112,
   "metadata": {},
   "outputs": [
    {
     "data": {
      "image/png": "[encoded data removed]",
      "text/plain": [
       "<Figure size 864x576 with 2 Axes>"
      ]
     },
     "metadata": {},
     "output_type": "display_data"
    }
   ],
   "source": [
    "plt.figure(figsize=(12,8))\n",
    "\n",
    "ax1 = plt.subplot(2,1,1)\n",
    "plt.hist(x=df.scores_total)\n",
    "plt.title('SUSHIPOWAH per proposal')\n",
    "plt.xlabel('sushipowah')\n",
    "plt.ylabel('frequency')\n",
    "sns.rugplot(data=df, x='scores_total')\n",
    "\n",
    "ax2 = plt.subplot(2,1,2)\n",
    "plt.hist(x=df.votes)\n",
    "plt.title('Votes per proposal')\n",
    "plt.ylabel('frequency')\n",
    "sns.rugplot(data=df, x='votes')\n",
    "\n",
    "plt.subplots_adjust(hspace=0.4)\n",
    "plt.show()"
   ]
  },
  {
   "cell_type": "markdown",
   "metadata": {},
   "source": [
    "It is also worth checking the overall volume of proposals through time, and we can see that right after the launch time, in September 2020, there were a lot of published proposals which is to be expected for a project just starting off. \n",
    "\n",
    "Shortly after we can see the number of monthly proposals falling under 20, and it remained at a similar volume to this day."
   ]
  },
  {
   "cell_type": "code",
   "execution_count": 113,
   "metadata": {},
   "outputs": [
    {
     "data": {
      "image/png": "[encoded data removed]",
      "text/plain": [
       "<Figure size 864x288 with 1 Axes>"
      ]
     },
     "metadata": {},
     "output_type": "display_data"
    }
   ],
   "source": [
    "monthly_proposals = df.groupby(pd.Grouper(key='start', freq='M'))\\\n",
    "    .id.count()\\\n",
    "    .reset_index()\n",
    "monthly_proposals.columns = ['publish_m','proposals']\n",
    "\n",
    "plt.figure(figsize=(12,4))\n",
    "ax = plt.subplot()\n",
    "sns.lineplot(data=monthly_proposals, x='publish_m', y='proposals')\n",
    "plt.title('Published Proposals Timeline')\n",
    "plt.xlabel('published date')\n",
    "plt.xticks(rotation=30)\n",
    "plt.show()"
   ]
  },
  {
   "cell_type": "markdown",
   "metadata": {},
   "source": [
    "# Patterns of a successful result\n",
    "### Admin posts\n",
    "We can see in the table below that there have been 124 authors, with only two of them being admins. One of the admins leads by the number of posted proposals, with 61, followed on the second spot with 16 proposals. In fact, the large majority of authors only have 2 proposals or less."
   ]
  },
  {
   "cell_type": "code",
   "execution_count": 114,
   "metadata": {},
   "outputs": [
    {
     "data": {
      "text/html": [
       "<div>\n",
       "<style scoped>\n",
       "    .dataframe tbody tr th:only-of-type {\n",
       "        vertical-align: middle;\n",
       "    }\n",
       "\n",
       "    .dataframe tbody tr th {\n",
       "        vertical-align: top;\n",
       "    }\n",
       "\n",
       "    .dataframe thead th {\n",
       "        text-align: right;\n",
       "    }\n",
       "</style>\n",
       "<table border=\"1\" class=\"dataframe\">\n",
       "  <thead>\n",
       "    <tr style=\"text-align: right;\">\n",
       "      <th></th>\n",
       "      <th>author</th>\n",
       "      <th>powah_sum</th>\n",
       "      <th>powah_mean</th>\n",
       "      <th>votes_sum</th>\n",
       "      <th>votes_mean</th>\n",
       "      <th>proposals</th>\n",
       "      <th>is_admin</th>\n",
       "    </tr>\n",
       "  </thead>\n",
       "  <tbody>\n",
       "    <tr>\n",
       "      <th>0</th>\n",
       "      <td>0x285b7EEa81a5B6...</td>\n",
       "      <td>2.389125e+08</td>\n",
       "      <td>3.916599e+06</td>\n",
       "      <td>12652</td>\n",
       "      <td>207.409836</td>\n",
       "      <td>61</td>\n",
       "      <td>True</td>\n",
       "    </tr>\n",
       "    <tr>\n",
       "      <th>1</th>\n",
       "      <td>0x30a0911731f6eC...</td>\n",
       "      <td>3.904298e+07</td>\n",
       "      <td>2.440186e+06</td>\n",
       "      <td>1104</td>\n",
       "      <td>69.000000</td>\n",
       "      <td>16</td>\n",
       "      <td>False</td>\n",
       "    </tr>\n",
       "    <tr>\n",
       "      <th>2</th>\n",
       "      <td>0xE80B5097862cAB...</td>\n",
       "      <td>2.386428e+06</td>\n",
       "      <td>3.409183e+05</td>\n",
       "      <td>1925</td>\n",
       "      <td>275.000000</td>\n",
       "      <td>7</td>\n",
       "      <td>False</td>\n",
       "    </tr>\n",
       "    <tr>\n",
       "      <th>3</th>\n",
       "      <td>0xF942Dba4159CB6...</td>\n",
       "      <td>2.026889e+06</td>\n",
       "      <td>3.378149e+05</td>\n",
       "      <td>2462</td>\n",
       "      <td>410.333333</td>\n",
       "      <td>6</td>\n",
       "      <td>False</td>\n",
       "    </tr>\n",
       "    <tr>\n",
       "      <th>4</th>\n",
       "      <td>0x10747f32528d08...</td>\n",
       "      <td>2.588651e+01</td>\n",
       "      <td>6.471626e+00</td>\n",
       "      <td>7</td>\n",
       "      <td>1.750000</td>\n",
       "      <td>4</td>\n",
       "      <td>False</td>\n",
       "    </tr>\n",
       "    <tr>\n",
       "      <th>...</th>\n",
       "      <td>...</td>\n",
       "      <td>...</td>\n",
       "      <td>...</td>\n",
       "      <td>...</td>\n",
       "      <td>...</td>\n",
       "      <td>...</td>\n",
       "      <td>...</td>\n",
       "    </tr>\n",
       "    <tr>\n",
       "      <th>119</th>\n",
       "      <td>0x7A9dbEAd85731D...</td>\n",
       "      <td>0.000000e+00</td>\n",
       "      <td>0.000000e+00</td>\n",
       "      <td>1</td>\n",
       "      <td>1.000000</td>\n",
       "      <td>1</td>\n",
       "      <td>False</td>\n",
       "    </tr>\n",
       "    <tr>\n",
       "      <th>120</th>\n",
       "      <td>0x79F2E52181cE6e...</td>\n",
       "      <td>9.027131e+03</td>\n",
       "      <td>9.027131e+03</td>\n",
       "      <td>3</td>\n",
       "      <td>3.000000</td>\n",
       "      <td>1</td>\n",
       "      <td>False</td>\n",
       "    </tr>\n",
       "    <tr>\n",
       "      <th>121</th>\n",
       "      <td>0x781562dA1647Ff...</td>\n",
       "      <td>0.000000e+00</td>\n",
       "      <td>0.000000e+00</td>\n",
       "      <td>0</td>\n",
       "      <td>0.000000</td>\n",
       "      <td>1</td>\n",
       "      <td>False</td>\n",
       "    </tr>\n",
       "    <tr>\n",
       "      <th>122</th>\n",
       "      <td>0x7813F757C33CF4...</td>\n",
       "      <td>1.075149e+03</td>\n",
       "      <td>1.075149e+03</td>\n",
       "      <td>16</td>\n",
       "      <td>16.000000</td>\n",
       "      <td>1</td>\n",
       "      <td>False</td>\n",
       "    </tr>\n",
       "    <tr>\n",
       "      <th>123</th>\n",
       "      <td>0x007F452d7fc26B...</td>\n",
       "      <td>0.000000e+00</td>\n",
       "      <td>0.000000e+00</td>\n",
       "      <td>1</td>\n",
       "      <td>1.000000</td>\n",
       "      <td>1</td>\n",
       "      <td>False</td>\n",
       "    </tr>\n",
       "  </tbody>\n",
       "</table>\n",
       "<p>124 rows × 7 columns</p>\n",
       "</div>"
      ],
      "text/plain": [
       "                  author     powah_sum    powah_mean  votes_sum  votes_mean  \\\n",
       "0    0x285b7EEa81a5B6...  2.389125e+08  3.916599e+06      12652  207.409836   \n",
       "1    0x30a0911731f6eC...  3.904298e+07  2.440186e+06       1104   69.000000   \n",
       "2    0xE80B5097862cAB...  2.386428e+06  3.409183e+05       1925  275.000000   \n",
       "3    0xF942Dba4159CB6...  2.026889e+06  3.378149e+05       2462  410.333333   \n",
       "4    0x10747f32528d08...  2.588651e+01  6.471626e+00          7    1.750000   \n",
       "..                   ...           ...           ...        ...         ...   \n",
       "119  0x7A9dbEAd85731D...  0.000000e+00  0.000000e+00          1    1.000000   \n",
       "120  0x79F2E52181cE6e...  9.027131e+03  9.027131e+03          3    3.000000   \n",
       "121  0x781562dA1647Ff...  0.000000e+00  0.000000e+00          0    0.000000   \n",
       "122  0x7813F757C33CF4...  1.075149e+03  1.075149e+03         16   16.000000   \n",
       "123  0x007F452d7fc26B...  0.000000e+00  0.000000e+00          1    1.000000   \n",
       "\n",
       "     proposals  is_admin  \n",
       "0           61      True  \n",
       "1           16     False  \n",
       "2            7     False  \n",
       "3            6     False  \n",
       "4            4     False  \n",
       "..         ...       ...  \n",
       "119          1     False  \n",
       "120          1     False  \n",
       "121          1     False  \n",
       "122          1     False  \n",
       "123          1     False  \n",
       "\n",
       "[124 rows x 7 columns]"
      ]
     },
     "execution_count": 114,
     "metadata": {},
     "output_type": "execute_result"
    }
   ],
   "source": [
    "authors = df.groupby('author').agg({'scores_total':['sum','mean'],'votes':['sum','mean'], 'id':['count']}).reset_index()\n",
    "authors.columns=['author','powah_sum','powah_mean','votes_sum','votes_mean','proposals']\n",
    "authors.sort_values('proposals', ascending=False, inplace=True, ignore_index=True)\n",
    "authors['is_admin'] = authors.author.isin(admin)\n",
    "authors"
   ]
  },
  {
   "cell_type": "markdown",
   "metadata": {},
   "source": [
    "Even if the top poster is an admin, the majority of proposals were authored by non-admin members, having 181 proposals to date."
   ]
  },
  {
   "cell_type": "code",
   "execution_count": 115,
   "metadata": {},
   "outputs": [
    {
     "data": {
      "text/plain": [
       "is_admin\n",
       "False    181\n",
       "True      63\n",
       "Name: proposals, dtype: int64"
      ]
     },
     "execution_count": 115,
     "metadata": {},
     "output_type": "execute_result"
    }
   ],
   "source": [
    "admins = authors.groupby('is_admin').proposals.sum()\n",
    "admins"
   ]
  },
  {
   "cell_type": "code",
   "execution_count": 116,
   "metadata": {},
   "outputs": [
    {
     "data": {
      "image/png": "[encoded data removed]",
      "text/plain": [
       "<Figure size 636.625x288 with 1 Axes>"
      ]
     },
     "metadata": {},
     "output_type": "display_data"
    }
   ],
   "source": [
    "sns.lmplot(data=df, x='votes', y='scores_total', hue='is_admin', height=4, aspect=2)\n",
    "plt.show()"
   ]
  },
  {
   "cell_type": "markdown",
   "metadata": {},
   "source": [
    "We can see here that the number of votes and the overall score are loosely correlated, but it does turn out that on average, proposals authored by admins gather both a larger number of votes and more SUSHIPOWAH. This might be a result of admins having more exposure to the community, as well as generally being more engaged on various channels and having closer ties with large stakeholders of governance tokens.\n",
    "\n",
    "Even so, we can see that on a few ocasions, non-admin members were able to rally huge support for a proposal, indicating that SushiSwap has an active and decentralized community."
   ]
  },
  {
   "cell_type": "markdown",
   "metadata": {},
   "source": [
    "### Number of choices\n",
    "For this analysis we will ignore the outlier proposals with more than 6 choices as they are singular events and we can't draw conclusions about the voting tendencies based on only that.\n",
    "\n",
    "In `fig.1` below we can see that proposals with 3 or 4 choices generally gather a number of votes above the average. Proposals with 2, 5, 6 or more choices, although at time able to rally an above average number of participans, generally they underperform. \n",
    "\n",
    "In `fig.2` we can see that only proposals with 3 choices stay over the line, with all others having a below average performance in regards to the SUSHIPOWER they were able to accumulate. The three options allow for polarised options, while keeping the way open for a compromise option or a middle way, and it seems to have worked out for the community.\n",
    "\n",
    "However, having 3 options to choose from seems to be the sweet spot of successful proposals."
   ]
  },
  {
   "cell_type": "code",
   "execution_count": 117,
   "metadata": {},
   "outputs": [
    {
     "data": {
      "image/png": "[encoded data removed]",
      "text/plain": [
       "<Figure size 576x576 with 2 Axes>"
      ]
     },
     "metadata": {},
     "output_type": "display_data"
    }
   ],
   "source": [
    "plt.figure(figsize=(8,8))\n",
    "ax1 = plt.subplot(2,1,1)\n",
    "sns.regplot(data=df, x='num_choices', y='votes', x_bins=18, fit_reg=False, ax=ax1)\n",
    "plt.axhline(np.mean(df.votes), label='mean votes', color='r')\n",
    "ax1.set_xticks(range(2,7))\n",
    "plt.title('fig1. Choices and Number of Votes')\n",
    "plt.legend()\n",
    "\n",
    "ax2 = plt.subplot(2,1,2)\n",
    "sns.regplot(data=df, x='num_choices', y='scores_total', x_bins=18, fit_reg=False, ax=ax2)\n",
    "plt.axhline(np.mean(df.scores_total), label='mean SUSHIPOWAH', color='r')\n",
    "ax2.set_xticks(range(2,7))\n",
    "plt.title('fig2. Choices and SUSHIPOWAH')\n",
    "plt.ylabel('sushipowah')\n",
    "plt.legend()\n",
    "\n",
    "plt.subplots_adjust(hspace=0.3)\n",
    "plt.show()"
   ]
  },
  {
   "cell_type": "markdown",
   "metadata": {},
   "source": [
    "# Results\n",
    "\n",
    "After this analysis we have determined two aspects that can lead to a more successful proposal:\n",
    "1. Community engagement: We have come to this conclusion correlating the average number of votes and average SUSHIPOWAH gathered, and we could see that admin posts are outperforming other proposals. This is most likely a result of admins being more engaged and connected to the community and its needs, and thus formulating proposals and choices that members respond better to.\n",
    "2. An optimum number of choices: And that sweet spot is 3. Having only 3 choices for a proposal can rally both more votes and of course, more SUSHIPOWAH!\n",
    "\n",
    "## Further research\n",
    "Further research is needed into particular proposal results, as well as how the voting went on in order to determine if there are crucial milestones while the voting is still open.\n",
    "\n",
    "Another interesting aspect to be looked into is how members (1)prepare and (2)respond to these proposals, by either buying more governing tokens or selling them."
   ]
  }
 ],
 "metadata": {
  "interpreter": {
   "hash": "b1e00c4c02fc48333235efc75f03fb75457c436b3b1518e216c638d11215803d"
  },
  "kernelspec": {
   "display_name": "Python 3.9.7 64-bit ('base': conda)",
   "language": "python",
   "name": "python3"
  },
  "language_info": {
   "codemirror_mode": {
    "name": "ipython",
    "version": 3
   },
   "file_extension": ".py",
   "mimetype": "text/x-python",
   "name": "python",
   "nbconvert_exporter": "python",
   "pygments_lexer": "ipython3",
   "version": "3.9.7"
  },
  "orig_nbformat": 4
 },
 "nbformat": 4,
 "nbformat_minor": 2
}
