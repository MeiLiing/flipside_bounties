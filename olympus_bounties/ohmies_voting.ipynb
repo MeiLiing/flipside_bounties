{
 "cells": [
  {
   "cell_type": "code",
   "execution_count": 185,
   "metadata": {},
   "outputs": [],
   "source": [
    "# https://github.com/Protean-Labs/subgrounds\n",
    "from subgrounds.subgrounds import Subgrounds\n",
    "from subgrounds.subgraph import SyntheticField\n",
    "import pandas as pd\n",
    "import plotly.express as px\n",
    "import plotly.graph_objects as go\n",
    "from plotly.subplots import make_subplots\n",
    "from datetime import date, datetime, timedelta\n",
    "from operator import add\n",
    "import warnings\n",
    "warnings.filterwarnings('ignore')"
   ]
  },
  {
   "cell_type": "code",
   "execution_count": 186,
   "metadata": {},
   "outputs": [],
   "source": [
    "sg = Subgrounds()\n",
    "snapshot = sg.load_api('https://hub.snapshot.org/graphql')"
   ]
  },
  {
   "cell_type": "code",
   "execution_count": 187,
   "metadata": {},
   "outputs": [],
   "source": [
    "proposal_id = '0xe52a4af6307bea40a34f2eaf9a93f11c8abf382020cca2d370ffaa0337620b6b'\n",
    "\n",
    "snapshot.Vote.date_vote = SyntheticField(\n",
    "    f = lambda timestamp: str(date.fromtimestamp(timestamp)),\n",
    "    type_ = SyntheticField.STRING,\n",
    "    deps = snapshot.Vote.created\n",
    ")\n",
    "\n",
    "snapshot.Vote.voter_choice = SyntheticField(\n",
    "    f = lambda x: 'Allow Ribbon Finance' if x == 1 else 'Do not allow Ribbon Finance',\n",
    "    type_ = SyntheticField.STRING,\n",
    "    deps = snapshot.Vote.choice\n",
    ")\n",
    "\n",
    "proposal = snapshot.Query.proposal(\n",
    "    id = proposal_id\n",
    ")\n",
    "\n",
    "votes = snapshot.Query.votes(\n",
    "    first = 226,\n",
    "    orderBy = 'created',\n",
    "    orderDirection = 'asc',\n",
    "    where = {\n",
    "        'proposal': proposal_id\n",
    "    }\n",
    ")"
   ]
  },
  {
   "cell_type": "code",
   "execution_count": 188,
   "metadata": {},
   "outputs": [
    {
     "data": {
      "text/html": [
       "<div>\n",
       "<style scoped>\n",
       "    .dataframe tbody tr th:only-of-type {\n",
       "        vertical-align: middle;\n",
       "    }\n",
       "\n",
       "    .dataframe tbody tr th {\n",
       "        vertical-align: top;\n",
       "    }\n",
       "\n",
       "    .dataframe thead th {\n",
       "        text-align: right;\n",
       "    }\n",
       "</style>\n",
       "<table border=\"1\" class=\"dataframe\">\n",
       "  <thead>\n",
       "    <tr style=\"text-align: right;\">\n",
       "      <th></th>\n",
       "      <th>asset</th>\n",
       "      <th>votes</th>\n",
       "    </tr>\n",
       "  </thead>\n",
       "  <tbody>\n",
       "    <tr>\n",
       "      <th>0</th>\n",
       "      <td>sOHM v1</td>\n",
       "      <td>9.100000e-08</td>\n",
       "    </tr>\n",
       "    <tr>\n",
       "      <th>1</th>\n",
       "      <td>OHM-DAI SLP</td>\n",
       "      <td>2.000000e-18</td>\n",
       "    </tr>\n",
       "    <tr>\n",
       "      <th>2</th>\n",
       "      <td>sOHM v2</td>\n",
       "      <td>1.246084e+01</td>\n",
       "    </tr>\n",
       "    <tr>\n",
       "      <th>3</th>\n",
       "      <td>sOHM v3</td>\n",
       "      <td>6.582513e+04</td>\n",
       "    </tr>\n",
       "    <tr>\n",
       "      <th>4</th>\n",
       "      <td>sOHM Multichain LP</td>\n",
       "      <td>1.168486e+04</td>\n",
       "    </tr>\n",
       "    <tr>\n",
       "      <th>5</th>\n",
       "      <td>gOHM</td>\n",
       "      <td>3.868778e+05</td>\n",
       "    </tr>\n",
       "  </tbody>\n",
       "</table>\n",
       "</div>"
      ],
      "text/plain": [
       "                asset         votes\n",
       "0             sOHM v1  9.100000e-08\n",
       "1         OHM-DAI SLP  2.000000e-18\n",
       "2             sOHM v2  1.246084e+01\n",
       "3             sOHM v3  6.582513e+04\n",
       "4  sOHM Multichain LP  1.168486e+04\n",
       "5                gOHM  3.868778e+05"
      ]
     },
     "execution_count": 188,
     "metadata": {},
     "output_type": "execute_result"
    }
   ],
   "source": [
    "proposal_scores_strat = sg.query_json([\n",
    "    proposal.scores_by_strategy\n",
    "    ])\n",
    "# print(proposal_scores_strat)\n",
    "scores_by_strategy = list(map(\n",
    "    add, \n",
    "    proposal_scores_strat[0]['x00695cf9dbf02ec0']['scores_by_strategy'][0], \n",
    "    proposal_scores_strat[0]['x00695cf9dbf02ec0']['scores_by_strategy'][1]\n",
    "    )\n",
    ")\n",
    "strat_names = ['sOHM v1', 'OHM-DAI SLP', 'sOHM v2', 'sOHM v3', 'sOHM Multichain LP', 'gOHM']\n",
    "\n",
    "proposal_scores_by_strat = pd.DataFrame(\n",
    "    data= {'votes': scores_by_strategy, 'asset': strat_names}, \n",
    "    columns= ['asset','votes'])\n",
    "proposal_scores_by_strat"
   ]
  },
  {
   "cell_type": "code",
   "execution_count": 189,
   "metadata": {},
   "outputs": [
    {
     "data": {
      "application/vnd.plotly.v1+json": {
       "config": {
        "plotlyServerURL": "https://plot.ly"
       },
       "data": [
        {
         "domain": {
          "x": [
           0,
           1
          ],
          "y": [
           0,
           1
          ]
         },
         "hovertemplate": "asset=%{label}<br>votes=%{value}<extra></extra>",
         "labels": [
          "sOHM v1",
          "OHM-DAI SLP",
          "sOHM v2",
          "sOHM v3",
          "sOHM Multichain LP",
          "gOHM"
         ],
         "legendgroup": "",
         "name": "",
         "showlegend": true,
         "type": "pie",
         "values": [
          9.1e-8,
          2e-18,
          12.460840829,
          65825.126070004,
          11684.860156794944,
          386877.8368909471
         ]
        }
       ],
       "layout": {
        "legend": {
         "tracegroupgap": 0
        },
        "template": {
         "data": {
          "bar": [
           {
            "error_x": {
             "color": "#2a3f5f"
            },
            "error_y": {
             "color": "#2a3f5f"
            },
            "marker": {
             "line": {
              "color": "#E5ECF6",
              "width": 0.5
             },
             "pattern": {
              "fillmode": "overlay",
              "size": 10,
              "solidity": 0.2
             }
            },
            "type": "bar"
           }
          ],
          "barpolar": [
           {
            "marker": {
             "line": {
              "color": "#E5ECF6",
              "width": 0.5
             },
             "pattern": {
              "fillmode": "overlay",
              "size": 10,
              "solidity": 0.2
             }
            },
            "type": "barpolar"
           }
          ],
          "carpet": [
           {
            "aaxis": {
             "endlinecolor": "#2a3f5f",
             "gridcolor": "white",
             "linecolor": "white",
             "minorgridcolor": "white",
             "startlinecolor": "#2a3f5f"
            },
            "baxis": {
             "endlinecolor": "#2a3f5f",
             "gridcolor": "white",
             "linecolor": "white",
             "minorgridcolor": "white",
             "startlinecolor": "#2a3f5f"
            },
            "type": "carpet"
           }
          ],
          "choropleth": [
           {
            "colorbar": {
             "outlinewidth": 0,
             "ticks": ""
            },
            "type": "choropleth"
           }
          ],
          "contour": [
           {
            "colorbar": {
             "outlinewidth": 0,
             "ticks": ""
            },
            "colorscale": [
             [
              0,
              "#0d0887"
             ],
             [
              0.1111111111111111,
              "#46039f"
             ],
             [
              0.2222222222222222,
              "#7201a8"
             ],
             [
              0.3333333333333333,
              "#9c179e"
             ],
             [
              0.4444444444444444,
              "#bd3786"
             ],
             [
              0.5555555555555556,
              "#d8576b"
             ],
             [
              0.6666666666666666,
              "#ed7953"
             ],
             [
              0.7777777777777778,
              "#fb9f3a"
             ],
             [
              0.8888888888888888,
              "#fdca26"
             ],
             [
              1,
              "#f0f921"
             ]
            ],
            "type": "contour"
           }
          ],
          "contourcarpet": [
           {
            "colorbar": {
             "outlinewidth": 0,
             "ticks": ""
            },
            "type": "contourcarpet"
           }
          ],
          "heatmap": [
           {
            "colorbar": {
             "outlinewidth": 0,
             "ticks": ""
            },
            "colorscale": [
             [
              0,
              "#0d0887"
             ],
             [
              0.1111111111111111,
              "#46039f"
             ],
             [
              0.2222222222222222,
              "#7201a8"
             ],
             [
              0.3333333333333333,
              "#9c179e"
             ],
             [
              0.4444444444444444,
              "#bd3786"
             ],
             [
              0.5555555555555556,
              "#d8576b"
             ],
             [
              0.6666666666666666,
              "#ed7953"
             ],
             [
              0.7777777777777778,
              "#fb9f3a"
             ],
             [
              0.8888888888888888,
              "#fdca26"
             ],
             [
              1,
              "#f0f921"
             ]
            ],
            "type": "heatmap"
           }
          ],
          "heatmapgl": [
           {
            "colorbar": {
             "outlinewidth": 0,
             "ticks": ""
            },
            "colorscale": [
             [
              0,
              "#0d0887"
             ],
             [
              0.1111111111111111,
              "#46039f"
             ],
             [
              0.2222222222222222,
              "#7201a8"
             ],
             [
              0.3333333333333333,
              "#9c179e"
             ],
             [
              0.4444444444444444,
              "#bd3786"
             ],
             [
              0.5555555555555556,
              "#d8576b"
             ],
             [
              0.6666666666666666,
              "#ed7953"
             ],
             [
              0.7777777777777778,
              "#fb9f3a"
             ],
             [
              0.8888888888888888,
              "#fdca26"
             ],
             [
              1,
              "#f0f921"
             ]
            ],
            "type": "heatmapgl"
           }
          ],
          "histogram": [
           {
            "marker": {
             "pattern": {
              "fillmode": "overlay",
              "size": 10,
              "solidity": 0.2
             }
            },
            "type": "histogram"
           }
          ],
          "histogram2d": [
           {
            "colorbar": {
             "outlinewidth": 0,
             "ticks": ""
            },
            "colorscale": [
             [
              0,
              "#0d0887"
             ],
             [
              0.1111111111111111,
              "#46039f"
             ],
             [
              0.2222222222222222,
              "#7201a8"
             ],
             [
              0.3333333333333333,
              "#9c179e"
             ],
             [
              0.4444444444444444,
              "#bd3786"
             ],
             [
              0.5555555555555556,
              "#d8576b"
             ],
             [
              0.6666666666666666,
              "#ed7953"
             ],
             [
              0.7777777777777778,
              "#fb9f3a"
             ],
             [
              0.8888888888888888,
              "#fdca26"
             ],
             [
              1,
              "#f0f921"
             ]
            ],
            "type": "histogram2d"
           }
          ],
          "histogram2dcontour": [
           {
            "colorbar": {
             "outlinewidth": 0,
             "ticks": ""
            },
            "colorscale": [
             [
              0,
              "#0d0887"
             ],
             [
              0.1111111111111111,
              "#46039f"
             ],
             [
              0.2222222222222222,
              "#7201a8"
             ],
             [
              0.3333333333333333,
              "#9c179e"
             ],
             [
              0.4444444444444444,
              "#bd3786"
             ],
             [
              0.5555555555555556,
              "#d8576b"
             ],
             [
              0.6666666666666666,
              "#ed7953"
             ],
             [
              0.7777777777777778,
              "#fb9f3a"
             ],
             [
              0.8888888888888888,
              "#fdca26"
             ],
             [
              1,
              "#f0f921"
             ]
            ],
            "type": "histogram2dcontour"
           }
          ],
          "mesh3d": [
           {
            "colorbar": {
             "outlinewidth": 0,
             "ticks": ""
            },
            "type": "mesh3d"
           }
          ],
          "parcoords": [
           {
            "line": {
             "colorbar": {
              "outlinewidth": 0,
              "ticks": ""
             }
            },
            "type": "parcoords"
           }
          ],
          "pie": [
           {
            "automargin": true,
            "type": "pie"
           }
          ],
          "scatter": [
           {
            "fillpattern": {
             "fillmode": "overlay",
             "size": 10,
             "solidity": 0.2
            },
            "type": "scatter"
           }
          ],
          "scatter3d": [
           {
            "line": {
             "colorbar": {
              "outlinewidth": 0,
              "ticks": ""
             }
            },
            "marker": {
             "colorbar": {
              "outlinewidth": 0,
              "ticks": ""
             }
            },
            "type": "scatter3d"
           }
          ],
          "scattercarpet": [
           {
            "marker": {
             "colorbar": {
              "outlinewidth": 0,
              "ticks": ""
             }
            },
            "type": "scattercarpet"
           }
          ],
          "scattergeo": [
           {
            "marker": {
             "colorbar": {
              "outlinewidth": 0,
              "ticks": ""
             }
            },
            "type": "scattergeo"
           }
          ],
          "scattergl": [
           {
            "marker": {
             "colorbar": {
              "outlinewidth": 0,
              "ticks": ""
             }
            },
            "type": "scattergl"
           }
          ],
          "scattermapbox": [
           {
            "marker": {
             "colorbar": {
              "outlinewidth": 0,
              "ticks": ""
             }
            },
            "type": "scattermapbox"
           }
          ],
          "scatterpolar": [
           {
            "marker": {
             "colorbar": {
              "outlinewidth": 0,
              "ticks": ""
             }
            },
            "type": "scatterpolar"
           }
          ],
          "scatterpolargl": [
           {
            "marker": {
             "colorbar": {
              "outlinewidth": 0,
              "ticks": ""
             }
            },
            "type": "scatterpolargl"
           }
          ],
          "scatterternary": [
           {
            "marker": {
             "colorbar": {
              "outlinewidth": 0,
              "ticks": ""
             }
            },
            "type": "scatterternary"
           }
          ],
          "surface": [
           {
            "colorbar": {
             "outlinewidth": 0,
             "ticks": ""
            },
            "colorscale": [
             [
              0,
              "#0d0887"
             ],
             [
              0.1111111111111111,
              "#46039f"
             ],
             [
              0.2222222222222222,
              "#7201a8"
             ],
             [
              0.3333333333333333,
              "#9c179e"
             ],
             [
              0.4444444444444444,
              "#bd3786"
             ],
             [
              0.5555555555555556,
              "#d8576b"
             ],
             [
              0.6666666666666666,
              "#ed7953"
             ],
             [
              0.7777777777777778,
              "#fb9f3a"
             ],
             [
              0.8888888888888888,
              "#fdca26"
             ],
             [
              1,
              "#f0f921"
             ]
            ],
            "type": "surface"
           }
          ],
          "table": [
           {
            "cells": {
             "fill": {
              "color": "#EBF0F8"
             },
             "line": {
              "color": "white"
             }
            },
            "header": {
             "fill": {
              "color": "#C8D4E3"
             },
             "line": {
              "color": "white"
             }
            },
            "type": "table"
           }
          ]
         },
         "layout": {
          "annotationdefaults": {
           "arrowcolor": "#2a3f5f",
           "arrowhead": 0,
           "arrowwidth": 1
          },
          "autotypenumbers": "strict",
          "coloraxis": {
           "colorbar": {
            "outlinewidth": 0,
            "ticks": ""
           }
          },
          "colorscale": {
           "diverging": [
            [
             0,
             "#8e0152"
            ],
            [
             0.1,
             "#c51b7d"
            ],
            [
             0.2,
             "#de77ae"
            ],
            [
             0.3,
             "#f1b6da"
            ],
            [
             0.4,
             "#fde0ef"
            ],
            [
             0.5,
             "#f7f7f7"
            ],
            [
             0.6,
             "#e6f5d0"
            ],
            [
             0.7,
             "#b8e186"
            ],
            [
             0.8,
             "#7fbc41"
            ],
            [
             0.9,
             "#4d9221"
            ],
            [
             1,
             "#276419"
            ]
           ],
           "sequential": [
            [
             0,
             "#0d0887"
            ],
            [
             0.1111111111111111,
             "#46039f"
            ],
            [
             0.2222222222222222,
             "#7201a8"
            ],
            [
             0.3333333333333333,
             "#9c179e"
            ],
            [
             0.4444444444444444,
             "#bd3786"
            ],
            [
             0.5555555555555556,
             "#d8576b"
            ],
            [
             0.6666666666666666,
             "#ed7953"
            ],
            [
             0.7777777777777778,
             "#fb9f3a"
            ],
            [
             0.8888888888888888,
             "#fdca26"
            ],
            [
             1,
             "#f0f921"
            ]
           ],
           "sequentialminus": [
            [
             0,
             "#0d0887"
            ],
            [
             0.1111111111111111,
             "#46039f"
            ],
            [
             0.2222222222222222,
             "#7201a8"
            ],
            [
             0.3333333333333333,
             "#9c179e"
            ],
            [
             0.4444444444444444,
             "#bd3786"
            ],
            [
             0.5555555555555556,
             "#d8576b"
            ],
            [
             0.6666666666666666,
             "#ed7953"
            ],
            [
             0.7777777777777778,
             "#fb9f3a"
            ],
            [
             0.8888888888888888,
             "#fdca26"
            ],
            [
             1,
             "#f0f921"
            ]
           ]
          },
          "colorway": [
           "#636efa",
           "#EF553B",
           "#00cc96",
           "#ab63fa",
           "#FFA15A",
           "#19d3f3",
           "#FF6692",
           "#B6E880",
           "#FF97FF",
           "#FECB52"
          ],
          "font": {
           "color": "#2a3f5f"
          },
          "geo": {
           "bgcolor": "white",
           "lakecolor": "white",
           "landcolor": "#E5ECF6",
           "showlakes": true,
           "showland": true,
           "subunitcolor": "white"
          },
          "hoverlabel": {
           "align": "left"
          },
          "hovermode": "closest",
          "mapbox": {
           "style": "light"
          },
          "paper_bgcolor": "white",
          "plot_bgcolor": "#E5ECF6",
          "polar": {
           "angularaxis": {
            "gridcolor": "white",
            "linecolor": "white",
            "ticks": ""
           },
           "bgcolor": "#E5ECF6",
           "radialaxis": {
            "gridcolor": "white",
            "linecolor": "white",
            "ticks": ""
           }
          },
          "scene": {
           "xaxis": {
            "backgroundcolor": "#E5ECF6",
            "gridcolor": "white",
            "gridwidth": 2,
            "linecolor": "white",
            "showbackground": true,
            "ticks": "",
            "zerolinecolor": "white"
           },
           "yaxis": {
            "backgroundcolor": "#E5ECF6",
            "gridcolor": "white",
            "gridwidth": 2,
            "linecolor": "white",
            "showbackground": true,
            "ticks": "",
            "zerolinecolor": "white"
           },
           "zaxis": {
            "backgroundcolor": "#E5ECF6",
            "gridcolor": "white",
            "gridwidth": 2,
            "linecolor": "white",
            "showbackground": true,
            "ticks": "",
            "zerolinecolor": "white"
           }
          },
          "shapedefaults": {
           "line": {
            "color": "#2a3f5f"
           }
          },
          "ternary": {
           "aaxis": {
            "gridcolor": "white",
            "linecolor": "white",
            "ticks": ""
           },
           "baxis": {
            "gridcolor": "white",
            "linecolor": "white",
            "ticks": ""
           },
           "bgcolor": "#E5ECF6",
           "caxis": {
            "gridcolor": "white",
            "linecolor": "white",
            "ticks": ""
           }
          },
          "title": {
           "x": 0.05
          },
          "xaxis": {
           "automargin": true,
           "gridcolor": "white",
           "linecolor": "white",
           "ticks": "",
           "title": {
            "standoff": 15
           },
           "zerolinecolor": "white",
           "zerolinewidth": 2
          },
          "yaxis": {
           "automargin": true,
           "gridcolor": "white",
           "linecolor": "white",
           "ticks": "",
           "title": {
            "standoff": 15
           },
           "zerolinecolor": "white",
           "zerolinewidth": 2
          }
         }
        },
        "title": {
         "text": "Voting Power Used by Asset"
        }
       }
      }
     },
     "metadata": {},
     "output_type": "display_data"
    }
   ],
   "source": [
    "fig = px.pie(proposal_scores_by_strat, \n",
    "    values = 'votes', \n",
    "    names = 'asset',\n",
    "    title = 'Voting Power Used by Asset'\n",
    "    )\n",
    "fig.show()"
   ]
  },
  {
   "cell_type": "code",
   "execution_count": 190,
   "metadata": {},
   "outputs": [
    {
     "data": {
      "text/html": [
       "<div>\n",
       "<style scoped>\n",
       "    .dataframe tbody tr th:only-of-type {\n",
       "        vertical-align: middle;\n",
       "    }\n",
       "\n",
       "    .dataframe tbody tr th {\n",
       "        vertical-align: top;\n",
       "    }\n",
       "\n",
       "    .dataframe thead th {\n",
       "        text-align: right;\n",
       "    }\n",
       "</style>\n",
       "<table border=\"1\" class=\"dataframe\">\n",
       "  <thead>\n",
       "    <tr style=\"text-align: right;\">\n",
       "      <th></th>\n",
       "      <th>votes_voter</th>\n",
       "      <th>votes_date_vote</th>\n",
       "      <th>votes_voter_choice</th>\n",
       "      <th>votes_vp</th>\n",
       "      <th>sOHM v1</th>\n",
       "      <th>OHM-DAI SLP</th>\n",
       "      <th>sOHM v2</th>\n",
       "      <th>sOHM v3</th>\n",
       "      <th>sOHM Multichain LP</th>\n",
       "      <th>gOHM</th>\n",
       "    </tr>\n",
       "  </thead>\n",
       "  <tbody>\n",
       "    <tr>\n",
       "      <th>0</th>\n",
       "      <td>0xd0bB63e2c183DB414977Eaa6B547601e46E12ed4</td>\n",
       "      <td>2022-04-19</td>\n",
       "      <td>Allow Ribbon Finance</td>\n",
       "      <td>4.310303</td>\n",
       "      <td>0.0</td>\n",
       "      <td>0.0</td>\n",
       "      <td>0.0</td>\n",
       "      <td>4.310303</td>\n",
       "      <td>0.0</td>\n",
       "      <td>1.144218e-09</td>\n",
       "    </tr>\n",
       "    <tr>\n",
       "      <th>1</th>\n",
       "      <td>0x8e7742209bf49b7bf2A7007Faa669F8A4cfbbF25</td>\n",
       "      <td>2022-04-19</td>\n",
       "      <td>Allow Ribbon Finance</td>\n",
       "      <td>195.214866</td>\n",
       "      <td>0.0</td>\n",
       "      <td>0.0</td>\n",
       "      <td>0.0</td>\n",
       "      <td>0.000000</td>\n",
       "      <td>0.0</td>\n",
       "      <td>1.952149e+02</td>\n",
       "    </tr>\n",
       "    <tr>\n",
       "      <th>2</th>\n",
       "      <td>0xa100cD30f2384E53d149729Db33a84597c296c3d</td>\n",
       "      <td>2022-04-19</td>\n",
       "      <td>Allow Ribbon Finance</td>\n",
       "      <td>264.313736</td>\n",
       "      <td>0.0</td>\n",
       "      <td>0.0</td>\n",
       "      <td>0.0</td>\n",
       "      <td>0.000000</td>\n",
       "      <td>0.0</td>\n",
       "      <td>2.643137e+02</td>\n",
       "    </tr>\n",
       "    <tr>\n",
       "      <th>3</th>\n",
       "      <td>0xca6aA0576c2ADc79d2c20e6D53c07f590f62932A</td>\n",
       "      <td>2022-04-19</td>\n",
       "      <td>Do not allow Ribbon Finance</td>\n",
       "      <td>2925.506853</td>\n",
       "      <td>0.0</td>\n",
       "      <td>0.0</td>\n",
       "      <td>0.0</td>\n",
       "      <td>0.000000</td>\n",
       "      <td>0.0</td>\n",
       "      <td>2.925507e+03</td>\n",
       "    </tr>\n",
       "    <tr>\n",
       "      <th>4</th>\n",
       "      <td>0x16ff8Ad104Fa6195260A6d4A3F311c5f120dF77d</td>\n",
       "      <td>2022-04-19</td>\n",
       "      <td>Do not allow Ribbon Finance</td>\n",
       "      <td>1143.197250</td>\n",
       "      <td>0.0</td>\n",
       "      <td>0.0</td>\n",
       "      <td>0.0</td>\n",
       "      <td>0.000000</td>\n",
       "      <td>0.0</td>\n",
       "      <td>1.143197e+03</td>\n",
       "    </tr>\n",
       "  </tbody>\n",
       "</table>\n",
       "</div>"
      ],
      "text/plain": [
       "                                  votes_voter votes_date_vote  \\\n",
       "0  0xd0bB63e2c183DB414977Eaa6B547601e46E12ed4      2022-04-19   \n",
       "1  0x8e7742209bf49b7bf2A7007Faa669F8A4cfbbF25      2022-04-19   \n",
       "2  0xa100cD30f2384E53d149729Db33a84597c296c3d      2022-04-19   \n",
       "3  0xca6aA0576c2ADc79d2c20e6D53c07f590f62932A      2022-04-19   \n",
       "4  0x16ff8Ad104Fa6195260A6d4A3F311c5f120dF77d      2022-04-19   \n",
       "\n",
       "            votes_voter_choice     votes_vp  sOHM v1  OHM-DAI SLP  sOHM v2  \\\n",
       "0         Allow Ribbon Finance     4.310303      0.0          0.0      0.0   \n",
       "1         Allow Ribbon Finance   195.214866      0.0          0.0      0.0   \n",
       "2         Allow Ribbon Finance   264.313736      0.0          0.0      0.0   \n",
       "3  Do not allow Ribbon Finance  2925.506853      0.0          0.0      0.0   \n",
       "4  Do not allow Ribbon Finance  1143.197250      0.0          0.0      0.0   \n",
       "\n",
       "    sOHM v3  sOHM Multichain LP          gOHM  \n",
       "0  4.310303                 0.0  1.144218e-09  \n",
       "1  0.000000                 0.0  1.952149e+02  \n",
       "2  0.000000                 0.0  2.643137e+02  \n",
       "3  0.000000                 0.0  2.925507e+03  \n",
       "4  0.000000                 0.0  1.143197e+03  "
      ]
     },
     "execution_count": 190,
     "metadata": {},
     "output_type": "execute_result"
    }
   ],
   "source": [
    "proposal_votes = sg.query_df([\n",
    "    votes.voter,\n",
    "    votes.date_vote,\n",
    "    votes.voter_choice,\n",
    "    votes.vp\n",
    "])\n",
    "# print(proposal_votes)\n",
    "vp_by_strategy_json = sg.query_json([votes.vp_by_strategy])[0]['x32eae029ffc2c5f8']\n",
    "# print(vp_by_strategy_json)\n",
    "vp_by_strategy = {\n",
    "    'sOHM v1': [], \n",
    "    'OHM-DAI SLP': [], \n",
    "    'sOHM v2': [], \n",
    "    'sOHM v3': [], \n",
    "    'sOHM Multichain LP': [], \n",
    "    'gOHM': []\n",
    "}\n",
    "\n",
    "for i in range(0, len(vp_by_strategy_json)):\n",
    "    vp_by_strategy['sOHM v1'].append(vp_by_strategy_json[i]['vp_by_strategy'][0]),\n",
    "    vp_by_strategy['OHM-DAI SLP'].append(vp_by_strategy_json[i]['vp_by_strategy'][1]),\n",
    "    vp_by_strategy['sOHM v2'].append(vp_by_strategy_json[i]['vp_by_strategy'][2]),\n",
    "    vp_by_strategy['sOHM v3'].append(vp_by_strategy_json[i]['vp_by_strategy'][3]),\n",
    "    vp_by_strategy['sOHM Multichain LP'].append(vp_by_strategy_json[i]['vp_by_strategy'][4]),\n",
    "    vp_by_strategy['gOHM'].append(vp_by_strategy_json[i]['vp_by_strategy'][5])\n",
    "\n",
    "for key in vp_by_strategy.keys():\n",
    "    proposal_votes[key] = vp_by_strategy[key]\n",
    "\n",
    "proposal_votes.head()"
   ]
  },
  {
   "cell_type": "code",
   "execution_count": 191,
   "metadata": {},
   "outputs": [
    {
     "data": {
      "application/vnd.plotly.v1+json": {
       "config": {
        "plotlyServerURL": "https://plot.ly"
       },
       "data": [
        {
         "alignmentgroup": "True",
         "hovertemplate": "votes_voter_choice=Allow Ribbon Finance<br>DATE=%{x}<br>Votes=%{y}<extra></extra>",
         "legendgroup": "Allow Ribbon Finance",
         "marker": {
          "color": "#636efa",
          "pattern": {
           "shape": ""
          }
         },
         "name": "Allow Ribbon Finance",
         "offsetgroup": "Allow Ribbon Finance",
         "orientation": "v",
         "showlegend": true,
         "textposition": "auto",
         "type": "bar",
         "x": [
          "2022-04-19",
          "2022-04-20",
          "2022-04-21",
          "2022-04-22",
          "2022-04-23"
         ],
         "xaxis": "x",
         "y": [
          463.8389050653294,
          82993.62799959446,
          19957.890280314245,
          73043.80599145747,
          66984.14247464022
         ],
         "yaxis": "y"
        },
        {
         "alignmentgroup": "True",
         "hovertemplate": "votes_voter_choice=Do not allow Ribbon Finance<br>DATE=%{x}<br>Votes=%{y}<extra></extra>",
         "legendgroup": "Do not allow Ribbon Finance",
         "marker": {
          "color": "#EF553B",
          "pattern": {
           "shape": ""
          }
         },
         "name": "Do not allow Ribbon Finance",
         "offsetgroup": "Do not allow Ribbon Finance",
         "orientation": "v",
         "showlegend": true,
         "textposition": "auto",
         "type": "bar",
         "x": [
          "2022-04-19",
          "2022-04-20",
          "2022-04-21",
          "2022-04-22",
          "2022-04-23"
         ],
         "xaxis": "x",
         "y": [
          21937.88344490971,
          93758.24784394728,
          47624.79933143238,
          22646.237637271763,
          34989.81005003321
         ],
         "yaxis": "y"
        }
       ],
       "layout": {
        "barmode": "relative",
        "legend": {
         "title": {
          "text": "CHOICE"
         },
         "tracegroupgap": 0
        },
        "template": {
         "data": {
          "bar": [
           {
            "error_x": {
             "color": "#2a3f5f"
            },
            "error_y": {
             "color": "#2a3f5f"
            },
            "marker": {
             "line": {
              "color": "#E5ECF6",
              "width": 0.5
             },
             "pattern": {
              "fillmode": "overlay",
              "size": 10,
              "solidity": 0.2
             }
            },
            "type": "bar"
           }
          ],
          "barpolar": [
           {
            "marker": {
             "line": {
              "color": "#E5ECF6",
              "width": 0.5
             },
             "pattern": {
              "fillmode": "overlay",
              "size": 10,
              "solidity": 0.2
             }
            },
            "type": "barpolar"
           }
          ],
          "carpet": [
           {
            "aaxis": {
             "endlinecolor": "#2a3f5f",
             "gridcolor": "white",
             "linecolor": "white",
             "minorgridcolor": "white",
             "startlinecolor": "#2a3f5f"
            },
            "baxis": {
             "endlinecolor": "#2a3f5f",
             "gridcolor": "white",
             "linecolor": "white",
             "minorgridcolor": "white",
             "startlinecolor": "#2a3f5f"
            },
            "type": "carpet"
           }
          ],
          "choropleth": [
           {
            "colorbar": {
             "outlinewidth": 0,
             "ticks": ""
            },
            "type": "choropleth"
           }
          ],
          "contour": [
           {
            "colorbar": {
             "outlinewidth": 0,
             "ticks": ""
            },
            "colorscale": [
             [
              0,
              "#0d0887"
             ],
             [
              0.1111111111111111,
              "#46039f"
             ],
             [
              0.2222222222222222,
              "#7201a8"
             ],
             [
              0.3333333333333333,
              "#9c179e"
             ],
             [
              0.4444444444444444,
              "#bd3786"
             ],
             [
              0.5555555555555556,
              "#d8576b"
             ],
             [
              0.6666666666666666,
              "#ed7953"
             ],
             [
              0.7777777777777778,
              "#fb9f3a"
             ],
             [
              0.8888888888888888,
              "#fdca26"
             ],
             [
              1,
              "#f0f921"
             ]
            ],
            "type": "contour"
           }
          ],
          "contourcarpet": [
           {
            "colorbar": {
             "outlinewidth": 0,
             "ticks": ""
            },
            "type": "contourcarpet"
           }
          ],
          "heatmap": [
           {
            "colorbar": {
             "outlinewidth": 0,
             "ticks": ""
            },
            "colorscale": [
             [
              0,
              "#0d0887"
             ],
             [
              0.1111111111111111,
              "#46039f"
             ],
             [
              0.2222222222222222,
              "#7201a8"
             ],
             [
              0.3333333333333333,
              "#9c179e"
             ],
             [
              0.4444444444444444,
              "#bd3786"
             ],
             [
              0.5555555555555556,
              "#d8576b"
             ],
             [
              0.6666666666666666,
              "#ed7953"
             ],
             [
              0.7777777777777778,
              "#fb9f3a"
             ],
             [
              0.8888888888888888,
              "#fdca26"
             ],
             [
              1,
              "#f0f921"
             ]
            ],
            "type": "heatmap"
           }
          ],
          "heatmapgl": [
           {
            "colorbar": {
             "outlinewidth": 0,
             "ticks": ""
            },
            "colorscale": [
             [
              0,
              "#0d0887"
             ],
             [
              0.1111111111111111,
              "#46039f"
             ],
             [
              0.2222222222222222,
              "#7201a8"
             ],
             [
              0.3333333333333333,
              "#9c179e"
             ],
             [
              0.4444444444444444,
              "#bd3786"
             ],
             [
              0.5555555555555556,
              "#d8576b"
             ],
             [
              0.6666666666666666,
              "#ed7953"
             ],
             [
              0.7777777777777778,
              "#fb9f3a"
             ],
             [
              0.8888888888888888,
              "#fdca26"
             ],
             [
              1,
              "#f0f921"
             ]
            ],
            "type": "heatmapgl"
           }
          ],
          "histogram": [
           {
            "marker": {
             "pattern": {
              "fillmode": "overlay",
              "size": 10,
              "solidity": 0.2
             }
            },
            "type": "histogram"
           }
          ],
          "histogram2d": [
           {
            "colorbar": {
             "outlinewidth": 0,
             "ticks": ""
            },
            "colorscale": [
             [
              0,
              "#0d0887"
             ],
             [
              0.1111111111111111,
              "#46039f"
             ],
             [
              0.2222222222222222,
              "#7201a8"
             ],
             [
              0.3333333333333333,
              "#9c179e"
             ],
             [
              0.4444444444444444,
              "#bd3786"
             ],
             [
              0.5555555555555556,
              "#d8576b"
             ],
             [
              0.6666666666666666,
              "#ed7953"
             ],
             [
              0.7777777777777778,
              "#fb9f3a"
             ],
             [
              0.8888888888888888,
              "#fdca26"
             ],
             [
              1,
              "#f0f921"
             ]
            ],
            "type": "histogram2d"
           }
          ],
          "histogram2dcontour": [
           {
            "colorbar": {
             "outlinewidth": 0,
             "ticks": ""
            },
            "colorscale": [
             [
              0,
              "#0d0887"
             ],
             [
              0.1111111111111111,
              "#46039f"
             ],
             [
              0.2222222222222222,
              "#7201a8"
             ],
             [
              0.3333333333333333,
              "#9c179e"
             ],
             [
              0.4444444444444444,
              "#bd3786"
             ],
             [
              0.5555555555555556,
              "#d8576b"
             ],
             [
              0.6666666666666666,
              "#ed7953"
             ],
             [
              0.7777777777777778,
              "#fb9f3a"
             ],
             [
              0.8888888888888888,
              "#fdca26"
             ],
             [
              1,
              "#f0f921"
             ]
            ],
            "type": "histogram2dcontour"
           }
          ],
          "mesh3d": [
           {
            "colorbar": {
             "outlinewidth": 0,
             "ticks": ""
            },
            "type": "mesh3d"
           }
          ],
          "parcoords": [
           {
            "line": {
             "colorbar": {
              "outlinewidth": 0,
              "ticks": ""
             }
            },
            "type": "parcoords"
           }
          ],
          "pie": [
           {
            "automargin": true,
            "type": "pie"
           }
          ],
          "scatter": [
           {
            "fillpattern": {
             "fillmode": "overlay",
             "size": 10,
             "solidity": 0.2
            },
            "type": "scatter"
           }
          ],
          "scatter3d": [
           {
            "line": {
             "colorbar": {
              "outlinewidth": 0,
              "ticks": ""
             }
            },
            "marker": {
             "colorbar": {
              "outlinewidth": 0,
              "ticks": ""
             }
            },
            "type": "scatter3d"
           }
          ],
          "scattercarpet": [
           {
            "marker": {
             "colorbar": {
              "outlinewidth": 0,
              "ticks": ""
             }
            },
            "type": "scattercarpet"
           }
          ],
          "scattergeo": [
           {
            "marker": {
             "colorbar": {
              "outlinewidth": 0,
              "ticks": ""
             }
            },
            "type": "scattergeo"
           }
          ],
          "scattergl": [
           {
            "marker": {
             "colorbar": {
              "outlinewidth": 0,
              "ticks": ""
             }
            },
            "type": "scattergl"
           }
          ],
          "scattermapbox": [
           {
            "marker": {
             "colorbar": {
              "outlinewidth": 0,
              "ticks": ""
             }
            },
            "type": "scattermapbox"
           }
          ],
          "scatterpolar": [
           {
            "marker": {
             "colorbar": {
              "outlinewidth": 0,
              "ticks": ""
             }
            },
            "type": "scatterpolar"
           }
          ],
          "scatterpolargl": [
           {
            "marker": {
             "colorbar": {
              "outlinewidth": 0,
              "ticks": ""
             }
            },
            "type": "scatterpolargl"
           }
          ],
          "scatterternary": [
           {
            "marker": {
             "colorbar": {
              "outlinewidth": 0,
              "ticks": ""
             }
            },
            "type": "scatterternary"
           }
          ],
          "surface": [
           {
            "colorbar": {
             "outlinewidth": 0,
             "ticks": ""
            },
            "colorscale": [
             [
              0,
              "#0d0887"
             ],
             [
              0.1111111111111111,
              "#46039f"
             ],
             [
              0.2222222222222222,
              "#7201a8"
             ],
             [
              0.3333333333333333,
              "#9c179e"
             ],
             [
              0.4444444444444444,
              "#bd3786"
             ],
             [
              0.5555555555555556,
              "#d8576b"
             ],
             [
              0.6666666666666666,
              "#ed7953"
             ],
             [
              0.7777777777777778,
              "#fb9f3a"
             ],
             [
              0.8888888888888888,
              "#fdca26"
             ],
             [
              1,
              "#f0f921"
             ]
            ],
            "type": "surface"
           }
          ],
          "table": [
           {
            "cells": {
             "fill": {
              "color": "#EBF0F8"
             },
             "line": {
              "color": "white"
             }
            },
            "header": {
             "fill": {
              "color": "#C8D4E3"
             },
             "line": {
              "color": "white"
             }
            },
            "type": "table"
           }
          ]
         },
         "layout": {
          "annotationdefaults": {
           "arrowcolor": "#2a3f5f",
           "arrowhead": 0,
           "arrowwidth": 1
          },
          "autotypenumbers": "strict",
          "coloraxis": {
           "colorbar": {
            "outlinewidth": 0,
            "ticks": ""
           }
          },
          "colorscale": {
           "diverging": [
            [
             0,
             "#8e0152"
            ],
            [
             0.1,
             "#c51b7d"
            ],
            [
             0.2,
             "#de77ae"
            ],
            [
             0.3,
             "#f1b6da"
            ],
            [
             0.4,
             "#fde0ef"
            ],
            [
             0.5,
             "#f7f7f7"
            ],
            [
             0.6,
             "#e6f5d0"
            ],
            [
             0.7,
             "#b8e186"
            ],
            [
             0.8,
             "#7fbc41"
            ],
            [
             0.9,
             "#4d9221"
            ],
            [
             1,
             "#276419"
            ]
           ],
           "sequential": [
            [
             0,
             "#0d0887"
            ],
            [
             0.1111111111111111,
             "#46039f"
            ],
            [
             0.2222222222222222,
             "#7201a8"
            ],
            [
             0.3333333333333333,
             "#9c179e"
            ],
            [
             0.4444444444444444,
             "#bd3786"
            ],
            [
             0.5555555555555556,
             "#d8576b"
            ],
            [
             0.6666666666666666,
             "#ed7953"
            ],
            [
             0.7777777777777778,
             "#fb9f3a"
            ],
            [
             0.8888888888888888,
             "#fdca26"
            ],
            [
             1,
             "#f0f921"
            ]
           ],
           "sequentialminus": [
            [
             0,
             "#0d0887"
            ],
            [
             0.1111111111111111,
             "#46039f"
            ],
            [
             0.2222222222222222,
             "#7201a8"
            ],
            [
             0.3333333333333333,
             "#9c179e"
            ],
            [
             0.4444444444444444,
             "#bd3786"
            ],
            [
             0.5555555555555556,
             "#d8576b"
            ],
            [
             0.6666666666666666,
             "#ed7953"
            ],
            [
             0.7777777777777778,
             "#fb9f3a"
            ],
            [
             0.8888888888888888,
             "#fdca26"
            ],
            [
             1,
             "#f0f921"
            ]
           ]
          },
          "colorway": [
           "#636efa",
           "#EF553B",
           "#00cc96",
           "#ab63fa",
           "#FFA15A",
           "#19d3f3",
           "#FF6692",
           "#B6E880",
           "#FF97FF",
           "#FECB52"
          ],
          "font": {
           "color": "#2a3f5f"
          },
          "geo": {
           "bgcolor": "white",
           "lakecolor": "white",
           "landcolor": "#E5ECF6",
           "showlakes": true,
           "showland": true,
           "subunitcolor": "white"
          },
          "hoverlabel": {
           "align": "left"
          },
          "hovermode": "closest",
          "mapbox": {
           "style": "light"
          },
          "paper_bgcolor": "white",
          "plot_bgcolor": "#E5ECF6",
          "polar": {
           "angularaxis": {
            "gridcolor": "white",
            "linecolor": "white",
            "ticks": ""
           },
           "bgcolor": "#E5ECF6",
           "radialaxis": {
            "gridcolor": "white",
            "linecolor": "white",
            "ticks": ""
           }
          },
          "scene": {
           "xaxis": {
            "backgroundcolor": "#E5ECF6",
            "gridcolor": "white",
            "gridwidth": 2,
            "linecolor": "white",
            "showbackground": true,
            "ticks": "",
            "zerolinecolor": "white"
           },
           "yaxis": {
            "backgroundcolor": "#E5ECF6",
            "gridcolor": "white",
            "gridwidth": 2,
            "linecolor": "white",
            "showbackground": true,
            "ticks": "",
            "zerolinecolor": "white"
           },
           "zaxis": {
            "backgroundcolor": "#E5ECF6",
            "gridcolor": "white",
            "gridwidth": 2,
            "linecolor": "white",
            "showbackground": true,
            "ticks": "",
            "zerolinecolor": "white"
           }
          },
          "shapedefaults": {
           "line": {
            "color": "#2a3f5f"
           }
          },
          "ternary": {
           "aaxis": {
            "gridcolor": "white",
            "linecolor": "white",
            "ticks": ""
           },
           "baxis": {
            "gridcolor": "white",
            "linecolor": "white",
            "ticks": ""
           },
           "bgcolor": "#E5ECF6",
           "caxis": {
            "gridcolor": "white",
            "linecolor": "white",
            "ticks": ""
           }
          },
          "title": {
           "x": 0.05
          },
          "xaxis": {
           "automargin": true,
           "gridcolor": "white",
           "linecolor": "white",
           "ticks": "",
           "title": {
            "standoff": 15
           },
           "zerolinecolor": "white",
           "zerolinewidth": 2
          },
          "yaxis": {
           "automargin": true,
           "gridcolor": "white",
           "linecolor": "white",
           "ticks": "",
           "title": {
            "standoff": 15
           },
           "zerolinecolor": "white",
           "zerolinewidth": 2
          }
         }
        },
        "title": {
         "text": "Daily Votes by Choice"
        },
        "xaxis": {
         "anchor": "y",
         "domain": [
          0,
          1
         ],
         "title": {
          "text": "DATE"
         }
        },
        "yaxis": {
         "anchor": "x",
         "domain": [
          0,
          1
         ],
         "title": {
          "text": "Votes"
         }
        }
       }
      }
     },
     "metadata": {},
     "output_type": "display_data"
    }
   ],
   "source": [
    "votes_date = proposal_votes.groupby(['votes_date_vote', 'votes_voter_choice']).votes_vp.sum().reset_index()\n",
    "# votes_date\n",
    "fig = px.bar(votes_date, \n",
    "    x='votes_date_vote', \n",
    "    y='votes_vp', \n",
    "    color='votes_voter_choice',\n",
    "    title = 'Daily Votes by Choice',\n",
    "    labels = dict(votes_date_vote = 'DATE',\n",
    "        votes_vp = 'Votes')\n",
    "    )\n",
    "fig.update_layout(legend_title_text='CHOICE')\n",
    "fig.show()"
   ]
  },
  {
   "cell_type": "code",
   "execution_count": 192,
   "metadata": {},
   "outputs": [
    {
     "data": {
      "application/vnd.plotly.v1+json": {
       "config": {
        "plotlyServerURL": "https://plot.ly"
       },
       "data": [
        {
         "domain": {
          "x": [
           0,
           1
          ],
          "y": [
           0,
           1
          ]
         },
         "hovertemplate": "votes_voter_choice=%{label}<br>votes_vp=%{value}<extra></extra>",
         "labels": [
          "Allow Ribbon Finance",
          "Allow Ribbon Finance",
          "Allow Ribbon Finance",
          "Do not allow Ribbon Finance",
          "Do not allow Ribbon Finance",
          "Do not allow Ribbon Finance",
          "Do not allow Ribbon Finance",
          "Do not allow Ribbon Finance",
          "Do not allow Ribbon Finance",
          "Do not allow Ribbon Finance",
          "Allow Ribbon Finance",
          "Do not allow Ribbon Finance",
          "Allow Ribbon Finance",
          "Do not allow Ribbon Finance",
          "Do not allow Ribbon Finance",
          "Allow Ribbon Finance",
          "Allow Ribbon Finance",
          "Do not allow Ribbon Finance",
          "Allow Ribbon Finance",
          "Allow Ribbon Finance",
          "Allow Ribbon Finance",
          "Allow Ribbon Finance",
          "Do not allow Ribbon Finance",
          "Do not allow Ribbon Finance",
          "Do not allow Ribbon Finance",
          "Allow Ribbon Finance",
          "Do not allow Ribbon Finance",
          "Do not allow Ribbon Finance",
          "Allow Ribbon Finance",
          "Allow Ribbon Finance",
          "Allow Ribbon Finance",
          "Do not allow Ribbon Finance",
          "Allow Ribbon Finance",
          "Allow Ribbon Finance",
          "Allow Ribbon Finance",
          "Allow Ribbon Finance",
          "Allow Ribbon Finance",
          "Do not allow Ribbon Finance",
          "Allow Ribbon Finance",
          "Do not allow Ribbon Finance",
          "Allow Ribbon Finance",
          "Allow Ribbon Finance",
          "Do not allow Ribbon Finance",
          "Allow Ribbon Finance",
          "Do not allow Ribbon Finance",
          "Allow Ribbon Finance",
          "Do not allow Ribbon Finance",
          "Do not allow Ribbon Finance",
          "Allow Ribbon Finance",
          "Do not allow Ribbon Finance",
          "Do not allow Ribbon Finance",
          "Allow Ribbon Finance",
          "Allow Ribbon Finance",
          "Do not allow Ribbon Finance",
          "Allow Ribbon Finance",
          "Do not allow Ribbon Finance",
          "Allow Ribbon Finance",
          "Allow Ribbon Finance",
          "Allow Ribbon Finance",
          "Allow Ribbon Finance",
          "Do not allow Ribbon Finance",
          "Allow Ribbon Finance",
          "Allow Ribbon Finance",
          "Do not allow Ribbon Finance",
          "Do not allow Ribbon Finance",
          "Allow Ribbon Finance",
          "Allow Ribbon Finance",
          "Do not allow Ribbon Finance",
          "Do not allow Ribbon Finance",
          "Do not allow Ribbon Finance",
          "Do not allow Ribbon Finance",
          "Allow Ribbon Finance",
          "Allow Ribbon Finance",
          "Do not allow Ribbon Finance",
          "Allow Ribbon Finance",
          "Allow Ribbon Finance",
          "Allow Ribbon Finance",
          "Allow Ribbon Finance",
          "Allow Ribbon Finance",
          "Allow Ribbon Finance",
          "Allow Ribbon Finance",
          "Do not allow Ribbon Finance",
          "Allow Ribbon Finance",
          "Allow Ribbon Finance",
          "Allow Ribbon Finance",
          "Allow Ribbon Finance",
          "Do not allow Ribbon Finance",
          "Allow Ribbon Finance",
          "Allow Ribbon Finance",
          "Do not allow Ribbon Finance",
          "Do not allow Ribbon Finance",
          "Do not allow Ribbon Finance",
          "Allow Ribbon Finance",
          "Do not allow Ribbon Finance",
          "Allow Ribbon Finance",
          "Do not allow Ribbon Finance",
          "Do not allow Ribbon Finance",
          "Allow Ribbon Finance",
          "Allow Ribbon Finance",
          "Do not allow Ribbon Finance",
          "Allow Ribbon Finance",
          "Do not allow Ribbon Finance",
          "Allow Ribbon Finance",
          "Do not allow Ribbon Finance",
          "Allow Ribbon Finance",
          "Do not allow Ribbon Finance",
          "Allow Ribbon Finance",
          "Allow Ribbon Finance",
          "Allow Ribbon Finance",
          "Do not allow Ribbon Finance",
          "Allow Ribbon Finance",
          "Allow Ribbon Finance",
          "Allow Ribbon Finance",
          "Allow Ribbon Finance",
          "Allow Ribbon Finance",
          "Allow Ribbon Finance",
          "Allow Ribbon Finance",
          "Allow Ribbon Finance",
          "Do not allow Ribbon Finance",
          "Do not allow Ribbon Finance",
          "Do not allow Ribbon Finance",
          "Allow Ribbon Finance",
          "Allow Ribbon Finance",
          "Allow Ribbon Finance",
          "Allow Ribbon Finance",
          "Allow Ribbon Finance",
          "Allow Ribbon Finance",
          "Allow Ribbon Finance",
          "Do not allow Ribbon Finance",
          "Do not allow Ribbon Finance",
          "Do not allow Ribbon Finance",
          "Allow Ribbon Finance",
          "Allow Ribbon Finance",
          "Do not allow Ribbon Finance",
          "Allow Ribbon Finance",
          "Do not allow Ribbon Finance",
          "Allow Ribbon Finance",
          "Do not allow Ribbon Finance",
          "Allow Ribbon Finance",
          "Do not allow Ribbon Finance",
          "Do not allow Ribbon Finance",
          "Allow Ribbon Finance",
          "Do not allow Ribbon Finance",
          "Allow Ribbon Finance",
          "Do not allow Ribbon Finance",
          "Do not allow Ribbon Finance",
          "Do not allow Ribbon Finance",
          "Do not allow Ribbon Finance",
          "Allow Ribbon Finance",
          "Do not allow Ribbon Finance",
          "Do not allow Ribbon Finance",
          "Allow Ribbon Finance",
          "Do not allow Ribbon Finance",
          "Allow Ribbon Finance",
          "Allow Ribbon Finance",
          "Do not allow Ribbon Finance",
          "Allow Ribbon Finance",
          "Allow Ribbon Finance",
          "Allow Ribbon Finance",
          "Allow Ribbon Finance",
          "Allow Ribbon Finance",
          "Do not allow Ribbon Finance",
          "Allow Ribbon Finance",
          "Do not allow Ribbon Finance",
          "Do not allow Ribbon Finance",
          "Allow Ribbon Finance",
          "Do not allow Ribbon Finance",
          "Do not allow Ribbon Finance",
          "Do not allow Ribbon Finance",
          "Do not allow Ribbon Finance",
          "Allow Ribbon Finance",
          "Do not allow Ribbon Finance",
          "Do not allow Ribbon Finance",
          "Allow Ribbon Finance",
          "Do not allow Ribbon Finance",
          "Do not allow Ribbon Finance",
          "Do not allow Ribbon Finance",
          "Do not allow Ribbon Finance",
          "Do not allow Ribbon Finance",
          "Do not allow Ribbon Finance",
          "Do not allow Ribbon Finance",
          "Allow Ribbon Finance",
          "Allow Ribbon Finance",
          "Do not allow Ribbon Finance",
          "Do not allow Ribbon Finance",
          "Do not allow Ribbon Finance",
          "Allow Ribbon Finance",
          "Allow Ribbon Finance",
          "Allow Ribbon Finance",
          "Do not allow Ribbon Finance",
          "Allow Ribbon Finance",
          "Do not allow Ribbon Finance",
          "Do not allow Ribbon Finance",
          "Allow Ribbon Finance",
          "Allow Ribbon Finance",
          "Do not allow Ribbon Finance",
          "Do not allow Ribbon Finance",
          "Do not allow Ribbon Finance",
          "Do not allow Ribbon Finance",
          "Do not allow Ribbon Finance",
          "Allow Ribbon Finance",
          "Allow Ribbon Finance",
          "Do not allow Ribbon Finance",
          "Allow Ribbon Finance",
          "Allow Ribbon Finance",
          "Do not allow Ribbon Finance",
          "Allow Ribbon Finance",
          "Do not allow Ribbon Finance",
          "Do not allow Ribbon Finance",
          "Allow Ribbon Finance",
          "Do not allow Ribbon Finance",
          "Allow Ribbon Finance",
          "Allow Ribbon Finance",
          "Do not allow Ribbon Finance",
          "Allow Ribbon Finance",
          "Allow Ribbon Finance",
          "Allow Ribbon Finance",
          "Do not allow Ribbon Finance",
          "Do not allow Ribbon Finance",
          "Allow Ribbon Finance",
          "Do not allow Ribbon Finance",
          "Allow Ribbon Finance",
          "Allow Ribbon Finance",
          "Allow Ribbon Finance",
          "Allow Ribbon Finance",
          "Allow Ribbon Finance"
         ],
         "legendgroup": "",
         "name": "",
         "showlegend": true,
         "type": "pie",
         "values": [
          4.310302613144218,
          195.2148661462898,
          264.31373630589536,
          2925.506852503282,
          1143.1972499294022,
          15480.808284795696,
          1227.0270411104548,
          21.02443375538154,
          18.750137480016107,
          1121.5694453354756,
          1235.79039011,
          0.8793164251656476,
          9037.370180917562,
          0.004651487452956791,
          2.2828885232229412,
          5.860028557,
          5.736038941458115,
          33.26465053816027,
          0.003517044099019406,
          1698.8234183203351,
          123.61214601861575,
          4.510424277885618,
          2.5951486229090843,
          7.204579403949585,
          1.091772791908815,
          44.533115087,
          270.24484035902486,
          0.909740716,
          6.018662200515324,
          22.12423654208759,
          802.7207727051197,
          141.77283403485012,
          1197.1738338356552,
          216.76207069333105,
          92.36445387915701,
          126.63800665817726,
          37211.470708907866,
          491.93786379080836,
          0.6717537079833273,
          4493.927882462249,
          16.872629346358757,
          17.91458505595188,
          65.34223278669666,
          8.682906846951076,
          78876.03171884081,
          387.9072905892348,
          4599.940698333202,
          96.69630319794103,
          35.91303549504606,
          37.0916475209464,
          183.6397079689837,
          1528.3545644864846,
          2.348869036,
          112.19699670206336,
          3.7048241841923018,
          132.73582854063577,
          13.515205999926918,
          10.659017163731043,
          114.1419390504958,
          1141.2782185240192,
          797.031749724599,
          153.74761036637287,
          0.1114927706962188,
          146.66158377850195,
          32.65439905736378,
          42.105725782742375,
          23782.758138719008,
          4.70814934474252,
          51.988465921537596,
          864.566547985,
          103.41233688928499,
          4.895817044,
          123.579039011,
          257.0484850954327,
          181.11124049,
          54.98706475328294,
          70.55070868006925,
          13.444924037586311,
          8.192791463937525,
          1585.7068289108104,
          1.238580466845763,
          1664.3544874183476,
          50.96250320099814,
          9.836133763697646,
          52.96765434344,
          1731.657218216,
          188.62045897844823,
          4.970463478518339,
          7.327219913219224,
          90.882787211,
          6.52708949604708,
          865.0609832389515,
          2595.8948769307235,
          56.001763632370654,
          5497.938639980286,
          9629.402108180511,
          32235.388438805923,
          251.7230281253148,
          53.55583656147338,
          25.166530449771233,
          46.100160529899405,
          17.363546500833543,
          6.310218804,
          1010.0669810449725,
          44.78236347050026,
          34.806453081,
          229.81845304231385,
          86.25283191010128,
          19.405025168887356,
          520.7305057608828,
          814.6629767729486,
          1071.6558463522215,
          38.451355198481906,
          309.2084980344911,
          77.58466850563273,
          20.09523716776465,
          52.909347808914156,
          1038.977368136,
          1512.2858660540146,
          345.306414117,
          29.763057981108748,
          6.78978838697838,
          790.7634863007343,
          28.103428216,
          685.7406116982359,
          8.497697839,
          4.221934684,
          312.16694357254534,
          9.783818493693166,
          28.892701881274114,
          134.07875781657054,
          4729.6109664110645,
          70.087397449457,
          779.0517096030937,
          10.104735551993292,
          38.8564331892933,
          321.305501432245,
          147.14500557464964,
          735.1710562720356,
          143.02197976860396,
          62.626276257862386,
          164.09059906386656,
          58.31299938198096,
          201.34996265150366,
          138.9637855746599,
          2.8999715802889123,
          14.673934403088065,
          5.995795581368452,
          5221.509110982988,
          22.088923949572372,
          9.395285867283578,
          4685.817989966537,
          123.06072405307174,
          54612.196796559,
          5.095113243911023,
          62.89670495780023,
          1765.9800904122349,
          26.502221909881687,
          199.76571245111555,
          27.791215664373137,
          95.33704147122027,
          109.84280347921374,
          507.5986851161908,
          1637.480980233237,
          1169.338880512,
          0.9779517265317289,
          460.35733657017397,
          29.929703959574045,
          5134.1996665559,
          280.26098736697793,
          17.620089611630295,
          5575.5557475766445,
          68.48886024807206,
          34.92292605477654,
          1891.1215055297962,
          1403.254119128397,
          1491.8072183978143,
          123.65240235289336,
          874.6547669635713,
          0.03710051896848063,
          1380.701903307244,
          990.5616301258395,
          1877.3531009422752,
          132.51022209910917,
          123.579039011,
          36.30279392595783,
          252.21606222907886,
          343.1612088781932,
          11.344329314815067,
          284.873474186104,
          2002.6141530815105,
          220.187187107,
          1525.8485147478962,
          2750.3673737170816,
          17.612299874,
          33.49744801811803,
          87.71666197066108,
          841.5997218777059,
          100.5341443,
          23.72435880092737,
          88.413231540854,
          29.989196524197347,
          14026.767618018503,
          1125.8355240293567,
          11956.324935483332,
          176.15574115822997,
          8.850917417,
          232.80268426692822,
          99.65798820572044,
          2585.3051090189406,
          10588.244760297126,
          6777.909366716007,
          443.1122895671176,
          496.25425324199114,
          14579.010974231265,
          757.7800614521119,
          159.544541268,
          0.351313655,
          6501.549966454444,
          4e-9,
          34.91768791295821,
          169.60124099565317,
          1541.1224669129483,
          16724.453857435376,
          4440.144519022067,
          2828.764569430913
         ]
        }
       ],
       "layout": {
        "legend": {
         "tracegroupgap": 0
        },
        "template": {
         "data": {
          "bar": [
           {
            "error_x": {
             "color": "#2a3f5f"
            },
            "error_y": {
             "color": "#2a3f5f"
            },
            "marker": {
             "line": {
              "color": "#E5ECF6",
              "width": 0.5
             },
             "pattern": {
              "fillmode": "overlay",
              "size": 10,
              "solidity": 0.2
             }
            },
            "type": "bar"
           }
          ],
          "barpolar": [
           {
            "marker": {
             "line": {
              "color": "#E5ECF6",
              "width": 0.5
             },
             "pattern": {
              "fillmode": "overlay",
              "size": 10,
              "solidity": 0.2
             }
            },
            "type": "barpolar"
           }
          ],
          "carpet": [
           {
            "aaxis": {
             "endlinecolor": "#2a3f5f",
             "gridcolor": "white",
             "linecolor": "white",
             "minorgridcolor": "white",
             "startlinecolor": "#2a3f5f"
            },
            "baxis": {
             "endlinecolor": "#2a3f5f",
             "gridcolor": "white",
             "linecolor": "white",
             "minorgridcolor": "white",
             "startlinecolor": "#2a3f5f"
            },
            "type": "carpet"
           }
          ],
          "choropleth": [
           {
            "colorbar": {
             "outlinewidth": 0,
             "ticks": ""
            },
            "type": "choropleth"
           }
          ],
          "contour": [
           {
            "colorbar": {
             "outlinewidth": 0,
             "ticks": ""
            },
            "colorscale": [
             [
              0,
              "#0d0887"
             ],
             [
              0.1111111111111111,
              "#46039f"
             ],
             [
              0.2222222222222222,
              "#7201a8"
             ],
             [
              0.3333333333333333,
              "#9c179e"
             ],
             [
              0.4444444444444444,
              "#bd3786"
             ],
             [
              0.5555555555555556,
              "#d8576b"
             ],
             [
              0.6666666666666666,
              "#ed7953"
             ],
             [
              0.7777777777777778,
              "#fb9f3a"
             ],
             [
              0.8888888888888888,
              "#fdca26"
             ],
             [
              1,
              "#f0f921"
             ]
            ],
            "type": "contour"
           }
          ],
          "contourcarpet": [
           {
            "colorbar": {
             "outlinewidth": 0,
             "ticks": ""
            },
            "type": "contourcarpet"
           }
          ],
          "heatmap": [
           {
            "colorbar": {
             "outlinewidth": 0,
             "ticks": ""
            },
            "colorscale": [
             [
              0,
              "#0d0887"
             ],
             [
              0.1111111111111111,
              "#46039f"
             ],
             [
              0.2222222222222222,
              "#7201a8"
             ],
             [
              0.3333333333333333,
              "#9c179e"
             ],
             [
              0.4444444444444444,
              "#bd3786"
             ],
             [
              0.5555555555555556,
              "#d8576b"
             ],
             [
              0.6666666666666666,
              "#ed7953"
             ],
             [
              0.7777777777777778,
              "#fb9f3a"
             ],
             [
              0.8888888888888888,
              "#fdca26"
             ],
             [
              1,
              "#f0f921"
             ]
            ],
            "type": "heatmap"
           }
          ],
          "heatmapgl": [
           {
            "colorbar": {
             "outlinewidth": 0,
             "ticks": ""
            },
            "colorscale": [
             [
              0,
              "#0d0887"
             ],
             [
              0.1111111111111111,
              "#46039f"
             ],
             [
              0.2222222222222222,
              "#7201a8"
             ],
             [
              0.3333333333333333,
              "#9c179e"
             ],
             [
              0.4444444444444444,
              "#bd3786"
             ],
             [
              0.5555555555555556,
              "#d8576b"
             ],
             [
              0.6666666666666666,
              "#ed7953"
             ],
             [
              0.7777777777777778,
              "#fb9f3a"
             ],
             [
              0.8888888888888888,
              "#fdca26"
             ],
             [
              1,
              "#f0f921"
             ]
            ],
            "type": "heatmapgl"
           }
          ],
          "histogram": [
           {
            "marker": {
             "pattern": {
              "fillmode": "overlay",
              "size": 10,
              "solidity": 0.2
             }
            },
            "type": "histogram"
           }
          ],
          "histogram2d": [
           {
            "colorbar": {
             "outlinewidth": 0,
             "ticks": ""
            },
            "colorscale": [
             [
              0,
              "#0d0887"
             ],
             [
              0.1111111111111111,
              "#46039f"
             ],
             [
              0.2222222222222222,
              "#7201a8"
             ],
             [
              0.3333333333333333,
              "#9c179e"
             ],
             [
              0.4444444444444444,
              "#bd3786"
             ],
             [
              0.5555555555555556,
              "#d8576b"
             ],
             [
              0.6666666666666666,
              "#ed7953"
             ],
             [
              0.7777777777777778,
              "#fb9f3a"
             ],
             [
              0.8888888888888888,
              "#fdca26"
             ],
             [
              1,
              "#f0f921"
             ]
            ],
            "type": "histogram2d"
           }
          ],
          "histogram2dcontour": [
           {
            "colorbar": {
             "outlinewidth": 0,
             "ticks": ""
            },
            "colorscale": [
             [
              0,
              "#0d0887"
             ],
             [
              0.1111111111111111,
              "#46039f"
             ],
             [
              0.2222222222222222,
              "#7201a8"
             ],
             [
              0.3333333333333333,
              "#9c179e"
             ],
             [
              0.4444444444444444,
              "#bd3786"
             ],
             [
              0.5555555555555556,
              "#d8576b"
             ],
             [
              0.6666666666666666,
              "#ed7953"
             ],
             [
              0.7777777777777778,
              "#fb9f3a"
             ],
             [
              0.8888888888888888,
              "#fdca26"
             ],
             [
              1,
              "#f0f921"
             ]
            ],
            "type": "histogram2dcontour"
           }
          ],
          "mesh3d": [
           {
            "colorbar": {
             "outlinewidth": 0,
             "ticks": ""
            },
            "type": "mesh3d"
           }
          ],
          "parcoords": [
           {
            "line": {
             "colorbar": {
              "outlinewidth": 0,
              "ticks": ""
             }
            },
            "type": "parcoords"
           }
          ],
          "pie": [
           {
            "automargin": true,
            "type": "pie"
           }
          ],
          "scatter": [
           {
            "fillpattern": {
             "fillmode": "overlay",
             "size": 10,
             "solidity": 0.2
            },
            "type": "scatter"
           }
          ],
          "scatter3d": [
           {
            "line": {
             "colorbar": {
              "outlinewidth": 0,
              "ticks": ""
             }
            },
            "marker": {
             "colorbar": {
              "outlinewidth": 0,
              "ticks": ""
             }
            },
            "type": "scatter3d"
           }
          ],
          "scattercarpet": [
           {
            "marker": {
             "colorbar": {
              "outlinewidth": 0,
              "ticks": ""
             }
            },
            "type": "scattercarpet"
           }
          ],
          "scattergeo": [
           {
            "marker": {
             "colorbar": {
              "outlinewidth": 0,
              "ticks": ""
             }
            },
            "type": "scattergeo"
           }
          ],
          "scattergl": [
           {
            "marker": {
             "colorbar": {
              "outlinewidth": 0,
              "ticks": ""
             }
            },
            "type": "scattergl"
           }
          ],
          "scattermapbox": [
           {
            "marker": {
             "colorbar": {
              "outlinewidth": 0,
              "ticks": ""
             }
            },
            "type": "scattermapbox"
           }
          ],
          "scatterpolar": [
           {
            "marker": {
             "colorbar": {
              "outlinewidth": 0,
              "ticks": ""
             }
            },
            "type": "scatterpolar"
           }
          ],
          "scatterpolargl": [
           {
            "marker": {
             "colorbar": {
              "outlinewidth": 0,
              "ticks": ""
             }
            },
            "type": "scatterpolargl"
           }
          ],
          "scatterternary": [
           {
            "marker": {
             "colorbar": {
              "outlinewidth": 0,
              "ticks": ""
             }
            },
            "type": "scatterternary"
           }
          ],
          "surface": [
           {
            "colorbar": {
             "outlinewidth": 0,
             "ticks": ""
            },
            "colorscale": [
             [
              0,
              "#0d0887"
             ],
             [
              0.1111111111111111,
              "#46039f"
             ],
             [
              0.2222222222222222,
              "#7201a8"
             ],
             [
              0.3333333333333333,
              "#9c179e"
             ],
             [
              0.4444444444444444,
              "#bd3786"
             ],
             [
              0.5555555555555556,
              "#d8576b"
             ],
             [
              0.6666666666666666,
              "#ed7953"
             ],
             [
              0.7777777777777778,
              "#fb9f3a"
             ],
             [
              0.8888888888888888,
              "#fdca26"
             ],
             [
              1,
              "#f0f921"
             ]
            ],
            "type": "surface"
           }
          ],
          "table": [
           {
            "cells": {
             "fill": {
              "color": "#EBF0F8"
             },
             "line": {
              "color": "white"
             }
            },
            "header": {
             "fill": {
              "color": "#C8D4E3"
             },
             "line": {
              "color": "white"
             }
            },
            "type": "table"
           }
          ]
         },
         "layout": {
          "annotationdefaults": {
           "arrowcolor": "#2a3f5f",
           "arrowhead": 0,
           "arrowwidth": 1
          },
          "autotypenumbers": "strict",
          "coloraxis": {
           "colorbar": {
            "outlinewidth": 0,
            "ticks": ""
           }
          },
          "colorscale": {
           "diverging": [
            [
             0,
             "#8e0152"
            ],
            [
             0.1,
             "#c51b7d"
            ],
            [
             0.2,
             "#de77ae"
            ],
            [
             0.3,
             "#f1b6da"
            ],
            [
             0.4,
             "#fde0ef"
            ],
            [
             0.5,
             "#f7f7f7"
            ],
            [
             0.6,
             "#e6f5d0"
            ],
            [
             0.7,
             "#b8e186"
            ],
            [
             0.8,
             "#7fbc41"
            ],
            [
             0.9,
             "#4d9221"
            ],
            [
             1,
             "#276419"
            ]
           ],
           "sequential": [
            [
             0,
             "#0d0887"
            ],
            [
             0.1111111111111111,
             "#46039f"
            ],
            [
             0.2222222222222222,
             "#7201a8"
            ],
            [
             0.3333333333333333,
             "#9c179e"
            ],
            [
             0.4444444444444444,
             "#bd3786"
            ],
            [
             0.5555555555555556,
             "#d8576b"
            ],
            [
             0.6666666666666666,
             "#ed7953"
            ],
            [
             0.7777777777777778,
             "#fb9f3a"
            ],
            [
             0.8888888888888888,
             "#fdca26"
            ],
            [
             1,
             "#f0f921"
            ]
           ],
           "sequentialminus": [
            [
             0,
             "#0d0887"
            ],
            [
             0.1111111111111111,
             "#46039f"
            ],
            [
             0.2222222222222222,
             "#7201a8"
            ],
            [
             0.3333333333333333,
             "#9c179e"
            ],
            [
             0.4444444444444444,
             "#bd3786"
            ],
            [
             0.5555555555555556,
             "#d8576b"
            ],
            [
             0.6666666666666666,
             "#ed7953"
            ],
            [
             0.7777777777777778,
             "#fb9f3a"
            ],
            [
             0.8888888888888888,
             "#fdca26"
            ],
            [
             1,
             "#f0f921"
            ]
           ]
          },
          "colorway": [
           "#636efa",
           "#EF553B",
           "#00cc96",
           "#ab63fa",
           "#FFA15A",
           "#19d3f3",
           "#FF6692",
           "#B6E880",
           "#FF97FF",
           "#FECB52"
          ],
          "font": {
           "color": "#2a3f5f"
          },
          "geo": {
           "bgcolor": "white",
           "lakecolor": "white",
           "landcolor": "#E5ECF6",
           "showlakes": true,
           "showland": true,
           "subunitcolor": "white"
          },
          "hoverlabel": {
           "align": "left"
          },
          "hovermode": "closest",
          "mapbox": {
           "style": "light"
          },
          "paper_bgcolor": "white",
          "plot_bgcolor": "#E5ECF6",
          "polar": {
           "angularaxis": {
            "gridcolor": "white",
            "linecolor": "white",
            "ticks": ""
           },
           "bgcolor": "#E5ECF6",
           "radialaxis": {
            "gridcolor": "white",
            "linecolor": "white",
            "ticks": ""
           }
          },
          "scene": {
           "xaxis": {
            "backgroundcolor": "#E5ECF6",
            "gridcolor": "white",
            "gridwidth": 2,
            "linecolor": "white",
            "showbackground": true,
            "ticks": "",
            "zerolinecolor": "white"
           },
           "yaxis": {
            "backgroundcolor": "#E5ECF6",
            "gridcolor": "white",
            "gridwidth": 2,
            "linecolor": "white",
            "showbackground": true,
            "ticks": "",
            "zerolinecolor": "white"
           },
           "zaxis": {
            "backgroundcolor": "#E5ECF6",
            "gridcolor": "white",
            "gridwidth": 2,
            "linecolor": "white",
            "showbackground": true,
            "ticks": "",
            "zerolinecolor": "white"
           }
          },
          "shapedefaults": {
           "line": {
            "color": "#2a3f5f"
           }
          },
          "ternary": {
           "aaxis": {
            "gridcolor": "white",
            "linecolor": "white",
            "ticks": ""
           },
           "baxis": {
            "gridcolor": "white",
            "linecolor": "white",
            "ticks": ""
           },
           "bgcolor": "#E5ECF6",
           "caxis": {
            "gridcolor": "white",
            "linecolor": "white",
            "ticks": ""
           }
          },
          "title": {
           "x": 0.05
          },
          "xaxis": {
           "automargin": true,
           "gridcolor": "white",
           "linecolor": "white",
           "ticks": "",
           "title": {
            "standoff": 15
           },
           "zerolinecolor": "white",
           "zerolinewidth": 2
          },
          "yaxis": {
           "automargin": true,
           "gridcolor": "white",
           "linecolor": "white",
           "ticks": "",
           "title": {
            "standoff": 15
           },
           "zerolinecolor": "white",
           "zerolinewidth": 2
          }
         }
        },
        "title": {
         "text": "Outcome of Proposal TAP-11: Ribbon Finance Whitelist"
        }
       }
      }
     },
     "metadata": {},
     "output_type": "display_data"
    }
   ],
   "source": [
    "fig = px.pie(proposal_votes,\n",
    "    values = 'votes_vp',\n",
    "    names = 'votes_voter_choice',\n",
    "    title = 'Outcome of Proposal TAP-11: Ribbon Finance Whitelist',\n",
    "    color_discrete_map = {\n",
    "        'Do not allow Ribbon Finance': 'red',\n",
    "        'Allow Ribbon Finance': 'blue'\n",
    "    }\n",
    "    )\n",
    "\n",
    "fig.show()"
   ]
  },
  {
   "cell_type": "code",
   "execution_count": 193,
   "metadata": {},
   "outputs": [
    {
     "data": {
      "application/vnd.plotly.v1+json": {
       "config": {
        "plotlyServerURL": "https://plot.ly"
       },
       "data": [
        {
         "domain": {
          "x": [
           0,
           1
          ],
          "y": [
           0,
           1
          ]
         },
         "hovertemplate": "votes_voter_choice=%{label}<br>votes_voter=%{value}<extra></extra>",
         "labels": [
          "Allow Ribbon Finance",
          "Allow Ribbon Finance",
          "Allow Ribbon Finance",
          "Do not allow Ribbon Finance",
          "Do not allow Ribbon Finance",
          "Do not allow Ribbon Finance",
          "Do not allow Ribbon Finance",
          "Do not allow Ribbon Finance",
          "Do not allow Ribbon Finance",
          "Do not allow Ribbon Finance",
          "Allow Ribbon Finance",
          "Do not allow Ribbon Finance",
          "Allow Ribbon Finance",
          "Do not allow Ribbon Finance",
          "Do not allow Ribbon Finance",
          "Allow Ribbon Finance",
          "Allow Ribbon Finance",
          "Do not allow Ribbon Finance",
          "Allow Ribbon Finance",
          "Allow Ribbon Finance",
          "Allow Ribbon Finance",
          "Allow Ribbon Finance",
          "Do not allow Ribbon Finance",
          "Do not allow Ribbon Finance",
          "Do not allow Ribbon Finance",
          "Allow Ribbon Finance",
          "Do not allow Ribbon Finance",
          "Do not allow Ribbon Finance",
          "Allow Ribbon Finance",
          "Allow Ribbon Finance",
          "Allow Ribbon Finance",
          "Do not allow Ribbon Finance",
          "Allow Ribbon Finance",
          "Allow Ribbon Finance",
          "Allow Ribbon Finance",
          "Allow Ribbon Finance",
          "Allow Ribbon Finance",
          "Do not allow Ribbon Finance",
          "Allow Ribbon Finance",
          "Do not allow Ribbon Finance",
          "Allow Ribbon Finance",
          "Allow Ribbon Finance",
          "Do not allow Ribbon Finance",
          "Allow Ribbon Finance",
          "Do not allow Ribbon Finance",
          "Allow Ribbon Finance",
          "Do not allow Ribbon Finance",
          "Do not allow Ribbon Finance",
          "Allow Ribbon Finance",
          "Do not allow Ribbon Finance",
          "Do not allow Ribbon Finance",
          "Allow Ribbon Finance",
          "Allow Ribbon Finance",
          "Do not allow Ribbon Finance",
          "Allow Ribbon Finance",
          "Do not allow Ribbon Finance",
          "Allow Ribbon Finance",
          "Allow Ribbon Finance",
          "Allow Ribbon Finance",
          "Allow Ribbon Finance",
          "Do not allow Ribbon Finance",
          "Allow Ribbon Finance",
          "Allow Ribbon Finance",
          "Do not allow Ribbon Finance",
          "Do not allow Ribbon Finance",
          "Allow Ribbon Finance",
          "Allow Ribbon Finance",
          "Do not allow Ribbon Finance",
          "Do not allow Ribbon Finance",
          "Do not allow Ribbon Finance",
          "Do not allow Ribbon Finance",
          "Allow Ribbon Finance",
          "Allow Ribbon Finance",
          "Do not allow Ribbon Finance",
          "Allow Ribbon Finance",
          "Allow Ribbon Finance",
          "Allow Ribbon Finance",
          "Allow Ribbon Finance",
          "Allow Ribbon Finance",
          "Allow Ribbon Finance",
          "Allow Ribbon Finance",
          "Do not allow Ribbon Finance",
          "Allow Ribbon Finance",
          "Allow Ribbon Finance",
          "Allow Ribbon Finance",
          "Allow Ribbon Finance",
          "Do not allow Ribbon Finance",
          "Allow Ribbon Finance",
          "Allow Ribbon Finance",
          "Do not allow Ribbon Finance",
          "Do not allow Ribbon Finance",
          "Do not allow Ribbon Finance",
          "Allow Ribbon Finance",
          "Do not allow Ribbon Finance",
          "Allow Ribbon Finance",
          "Do not allow Ribbon Finance",
          "Do not allow Ribbon Finance",
          "Allow Ribbon Finance",
          "Allow Ribbon Finance",
          "Do not allow Ribbon Finance",
          "Allow Ribbon Finance",
          "Do not allow Ribbon Finance",
          "Allow Ribbon Finance",
          "Do not allow Ribbon Finance",
          "Allow Ribbon Finance",
          "Do not allow Ribbon Finance",
          "Allow Ribbon Finance",
          "Allow Ribbon Finance",
          "Allow Ribbon Finance",
          "Do not allow Ribbon Finance",
          "Allow Ribbon Finance",
          "Allow Ribbon Finance",
          "Allow Ribbon Finance",
          "Allow Ribbon Finance",
          "Allow Ribbon Finance",
          "Allow Ribbon Finance",
          "Allow Ribbon Finance",
          "Allow Ribbon Finance",
          "Do not allow Ribbon Finance",
          "Do not allow Ribbon Finance",
          "Do not allow Ribbon Finance",
          "Allow Ribbon Finance",
          "Allow Ribbon Finance",
          "Allow Ribbon Finance",
          "Allow Ribbon Finance",
          "Allow Ribbon Finance",
          "Allow Ribbon Finance",
          "Allow Ribbon Finance",
          "Do not allow Ribbon Finance",
          "Do not allow Ribbon Finance",
          "Do not allow Ribbon Finance",
          "Allow Ribbon Finance",
          "Allow Ribbon Finance",
          "Do not allow Ribbon Finance",
          "Allow Ribbon Finance",
          "Do not allow Ribbon Finance",
          "Allow Ribbon Finance",
          "Do not allow Ribbon Finance",
          "Allow Ribbon Finance",
          "Do not allow Ribbon Finance",
          "Do not allow Ribbon Finance",
          "Allow Ribbon Finance",
          "Do not allow Ribbon Finance",
          "Allow Ribbon Finance",
          "Do not allow Ribbon Finance",
          "Do not allow Ribbon Finance",
          "Do not allow Ribbon Finance",
          "Do not allow Ribbon Finance",
          "Allow Ribbon Finance",
          "Do not allow Ribbon Finance",
          "Do not allow Ribbon Finance",
          "Allow Ribbon Finance",
          "Do not allow Ribbon Finance",
          "Allow Ribbon Finance",
          "Allow Ribbon Finance",
          "Do not allow Ribbon Finance",
          "Allow Ribbon Finance",
          "Allow Ribbon Finance",
          "Allow Ribbon Finance",
          "Allow Ribbon Finance",
          "Allow Ribbon Finance",
          "Do not allow Ribbon Finance",
          "Allow Ribbon Finance",
          "Do not allow Ribbon Finance",
          "Do not allow Ribbon Finance",
          "Allow Ribbon Finance",
          "Do not allow Ribbon Finance",
          "Do not allow Ribbon Finance",
          "Do not allow Ribbon Finance",
          "Do not allow Ribbon Finance",
          "Allow Ribbon Finance",
          "Do not allow Ribbon Finance",
          "Do not allow Ribbon Finance",
          "Allow Ribbon Finance",
          "Do not allow Ribbon Finance",
          "Do not allow Ribbon Finance",
          "Do not allow Ribbon Finance",
          "Do not allow Ribbon Finance",
          "Do not allow Ribbon Finance",
          "Do not allow Ribbon Finance",
          "Do not allow Ribbon Finance",
          "Allow Ribbon Finance",
          "Allow Ribbon Finance",
          "Do not allow Ribbon Finance",
          "Do not allow Ribbon Finance",
          "Do not allow Ribbon Finance",
          "Allow Ribbon Finance",
          "Allow Ribbon Finance",
          "Allow Ribbon Finance",
          "Do not allow Ribbon Finance",
          "Allow Ribbon Finance",
          "Do not allow Ribbon Finance",
          "Do not allow Ribbon Finance",
          "Allow Ribbon Finance",
          "Allow Ribbon Finance",
          "Do not allow Ribbon Finance",
          "Do not allow Ribbon Finance",
          "Do not allow Ribbon Finance",
          "Do not allow Ribbon Finance",
          "Do not allow Ribbon Finance",
          "Allow Ribbon Finance",
          "Allow Ribbon Finance",
          "Do not allow Ribbon Finance",
          "Allow Ribbon Finance",
          "Allow Ribbon Finance",
          "Do not allow Ribbon Finance",
          "Allow Ribbon Finance",
          "Do not allow Ribbon Finance",
          "Do not allow Ribbon Finance",
          "Allow Ribbon Finance",
          "Do not allow Ribbon Finance",
          "Allow Ribbon Finance",
          "Allow Ribbon Finance",
          "Do not allow Ribbon Finance",
          "Allow Ribbon Finance",
          "Allow Ribbon Finance",
          "Allow Ribbon Finance",
          "Do not allow Ribbon Finance",
          "Do not allow Ribbon Finance",
          "Allow Ribbon Finance",
          "Do not allow Ribbon Finance",
          "Allow Ribbon Finance",
          "Allow Ribbon Finance",
          "Allow Ribbon Finance",
          "Allow Ribbon Finance",
          "Allow Ribbon Finance"
         ],
         "legendgroup": "",
         "name": "",
         "showlegend": true,
         "type": "pie",
         "values": [
          "0xd0bB63e2c183DB414977Eaa6B547601e46E12ed4",
          "0x8e7742209bf49b7bf2A7007Faa669F8A4cfbbF25",
          "0xa100cD30f2384E53d149729Db33a84597c296c3d",
          "0xca6aA0576c2ADc79d2c20e6D53c07f590f62932A",
          "0x16ff8Ad104Fa6195260A6d4A3F311c5f120dF77d",
          "0x8D7A5FEDf55B68625b2e5953f8203B029cb9c44e",
          "0x818ff5c4f15855ee497B8a0C8ffcCb066306A84d",
          "0xa2F5055dC4fF661399011E9a39DeA8ff61219e02",
          "0x63AAbDF004650c0253C1511c016CbF3655CFcE82",
          "0x33C479a5992357935E63A8E740BdeA494A6AE9Fa",
          "0x7672B17D5Eebb7194d57066f86FBcb4e85a7e10E",
          "0x4f06a57E93D591708CA05103b5a0707AC8FaeEAc",
          "0x7E7afAAfd27F723E7178cB439982ad286508Febc",
          "0x0fD84d7cb911728737556684050782B298F70f0f",
          "0xA9faD5A2DA799b5D9b12D1aAbd15421cA17A19C1",
          "0xB4ACa4d18C3F3AD9Bfddd0A0dc8F669d51798dEA",
          "0x15d2c90778e9653E54F652dBa8dEd32ca7567395",
          "0x4a2e30AF706C6D8b8fF4742634B2119BC4941118",
          "0x73Ea5b1AB2F4a36556B0A57381ed0101643615f3",
          "0xA04D46FE02A18ACA58C9E683031e4d74310dbd12",
          "0x42032C22C510AD0698f16bE9b99640eFDEB02832",
          "0x5a037c903C875783C10C1FA7066126d4F89d4EaF",
          "0xfe4E52d8FDdA394f8d0f8E79d4EbDdE63812bC95",
          "0xD85DF04c47d6072e84A2F5758D7FDCA662Da5CCe",
          "0x4d477F1aabcFc2FC3FC9b802E861C013E0123AD9",
          "0x029EB96BD38d78ac518076D2135A67DEfEC59265",
          "0x3b3c0F6ea68333a56C73dD8875daAF57badB5EF1",
          "0xDbeF8f238aba02763edfE12564a204363E836dd6",
          "0xd749E7b94BCD2804cDcc98904Be5B53D9D440f80",
          "0x1125917201ed36700F86c3CecEC8C5DAfAe280D1",
          "0x9b84796BF756eC296F980C1283a648D0B4647b82",
          "0x0fA8e6518E2f5c2FCF5c2d09f8b2ca443BD5b853",
          "0xCE91783D36925bCc121D0C63376A248a2851982A",
          "0x55B58545C37a23Ab68eB380116aaCE5eaF7FF564",
          "0x6487d336bDec94d4714a4d217B15aa5c7b9dfA99",
          "0x14C87DceaA1A2A5c44F4c84ad9A9F88e6972Fc25",
          "0x0561a78021D8966ddD20c28C6c4318D8675eE1F0",
          "0x23d5F49222BdB9FD5944b9e8ce0B5B21c4079C64",
          "0x0bD43c6cD201697E88Aa795B3bb79E7dFBEED8EE",
          "0xeAbed8538923d8B8E0616938F8Dc657F3CDF74c6",
          "0x3aA8Ac0E6C1Fb9CBb733565De16cdC5a676bCb04",
          "0x9a526A5bc7849E2872c7146e8bf81BA4657bd529",
          "0xf9ccC1C84E25431C216e102F76c4FD65e33bD70b",
          "0x4345adD69FA32f94eE9b2Df5bc8280aCF55A2300",
          "0x38d0DBecda3B81faa65CdCe0caE4C4dB30dEc786",
          "0x5656cB4721C21E1F5DCbe03Db9026ac0203d6e4f",
          "0x47C70D02D7a573cc8709421de4Aad3AAd14B96b1",
          "0xa245C02Ffe219317199C46CFc814586a4aB3F472",
          "0x804157889AC56a4E50278610c67960C1605A3264",
          "0xBd59AdD0bf757c94Eda79d4c2DB77977003c5B95",
          "0x45cc4b5E928F2f3531b6382DA34d4625B5f2717e",
          "0x97Fd894C47BA9B113BA7e6f4830203228C0a8A9a",
          "0x189b203e8d4D779654EDC575d0A8af8034c0B05D",
          "0x830f21710EAf94a1c14484E48d9B34206C263dd7",
          "0xaFFc125BeDcEeB034110c1939426A3948791ef18",
          "0x9aBCD812bFFc1ef2E81a2DDe75B5eD8809289D9D",
          "0x836434eb5B02DAC77a14232c048Fb94380479340",
          "0xfDEA4a5ef981A8A6D0254ADa2E850F63FC99d327",
          "0xeB28461446dF79A3aF70F1ACd7597255C3f449d7",
          "0xF2Ba9e4872f03a72a94f8C32E87fC0f2981E19A8",
          "0xc493AA1EA56dfe12E3DC665c46E1425BC3ee426F",
          "0x74116e73D97135dCb6a8Ad35008a18CCF4950C01",
          "0xb246275ab015CD3a62Ad46b992b92E4e2EE10dF9",
          "0x08362ecE65Cd169D7C86aB46C525713CE75b9E32",
          "0x3703D1052cB842f032932195B5B4743Db3Ca3229",
          "0x9281DcF84Ca14f0663028c53674C663a849Cb36B",
          "0x5E11A833d112e973661040E062F1aEdFB2BCEc1d",
          "0xF9704FD48eD670d4868a5EBcE3c2E48F062Ba4F1",
          "0xde3e3B60d7e513A9478bA354e799B70fC9ED65eC",
          "0x8bB6B0Ae7AB0dB8e71Aeb365a6824d790FB36137",
          "0xecF915549dCD0f761c08F1CD06351dCbD630905b",
          "0xE8A7dAA4768d0CA61fE0f84f28bE15BFD1feD8ea",
          "0x48d6884394E6f7fE7C01833c4581468d060A7543",
          "0xcc93Ba13a7D488D2514E0012bB82CB9f05938295",
          "0x7D7075FD46A60b4D2Ab272EFAf121f59b1298f00",
          "0x5f39883Db14d47929c1025E7A6B65196d8f1F5CE",
          "0xf73Be78952fb76fd30E0531ac328c8145e5CcFA5",
          "0xBB8FB8fE5198f25D117C0e7B1b9C8260CB19C3C0",
          "0xCa1d5098A09c31Da13B489a935cdb06F1bC8518e",
          "0x67900ef1a1F7DA8D17Fcab8A90b1d49497890A10",
          "0xDa90d355b1bd4d01F6124fEE7669090d4cbD5778",
          "0x84572C31ACdd30c03982e27b809D30b1eFbCD8f2",
          "0x6DfFAF5FC3FF7605c6A41f57653917343140EfEB",
          "0x3Cb38FF5BE34b33f60FCE74295A3DBc3F268c8AA",
          "0xD9156Af8db580f8edaFFa85dB28b0580E8B39082",
          "0xEB3648865b1471996e5F65Ae845F9Eb9226B9a02",
          "0xb727705F737B80dAb93FA3e03710544a5C55Bb23",
          "0x24eE97586fE0B6374667ef16abF9030189568AfE",
          "0x0D389aa79159030f4c7651eA98F56193f448C3F9",
          "0x387ecaf63A0051D2D7795573D5a442e5D9Dbc973",
          "0x7F7bAc92AA3e28351F9E89535CA334e8A44542d0",
          "0x7fE494dE8a522A2355306Cb2d30544096939eCBd",
          "0xB20C2377ec95DDcf0e54258cC20f56d2B090AE77",
          "0xD5d3AE62772D088192a4261438e02D260A6801B1",
          "0x6716b6737620922ACC8F8B8A4c2A6D706F3224FF",
          "0x3859c1DF244953382aa124e87afE80f817299F0b",
          "0x00903F96abe2743b81fc7Fcf4874c715A3fe1C88",
          "0x52B231a6E448cab9bB88B4B7950482073E1C7e17",
          "0xE626b59fC1426C86D21D8036B48D1041E702C670",
          "0x34A6eA325542218947BC078FA9EFA68ae22200E9",
          "0xd58919830Be1833052B8321021218F10d80d088d",
          "0x9a2Fe6b12EAA8EE9e95Da5BE625851a9A6836662",
          "0x97b102e00d88F02DEBfD6b1e4B901Dd6931bB982",
          "0xED4c461b80833F2Da43397Ab6Eb9BEeB3cB96bb9",
          "0x1200Eb4fA3dF9903fC6EfF1d7A4a5D17502329b2",
          "0x72Ce84955f6D4DB9683ED218D2d6c1a3F10b2A88",
          "0x65B0F840ea292fc284C23Fc839e65b3951d46195",
          "0x5b47Ce248ea313841668A318AFB9a5597d5eFC23",
          "0xD233f6f6410C8Bc5C25ae9c72EBc518Cd5B042dc",
          "0xC1a180D5E7aeABb423010FcF9b218486565AA7cC",
          "0xa978f4d96F73c33DCdc26822cC15d8fC30eFAf91",
          "0x1C0E7f67CE7a4F33F9D7f1a657a9c0e8D5b02aeb",
          "0xC02bFC8c96477d82Ae78d3212b802C4bfC820F90",
          "0x0679953A1d952E9856A318Cd91a5C05a3Dd547e8",
          "0xC3dFae725DE249479F96055082274aA7D60578dA",
          "0x7c31a7e11685DAfc3fE7F4229D8503bE68861b25",
          "0x4929f4d38F2955649b5aa34343da04cf790B9D92",
          "0x8F688a91695F7D2a1E93e57cedcbf5c5202f617b",
          "0x96A673c3a0F3979A00058D6fa8d16A9d31e891C6",
          "0xa5c4024fFb7C28516DAC1D83B3f92e5FeE7D3c22",
          "0xaD45E808aDa5e7b4bac8854Ba36EA10752B6b495",
          "0xB19b5A766CE25920a5cc793C014d4DfC2020e09A",
          "0x721Ca5428eC12b148b34458E0f8557F4C9624630",
          "0x9bc2b2492E50Bf7B3789C734805e33277f2512BB",
          "0x143A91E4bf3601968256b4be70dFADd5eB036E4e",
          "0x0CFDcA75d366ed01490478DA085A117629a0a0A0",
          "0x6ab791754298D6D6d7C182DC1572126B4eD24897",
          "0x2E9dA08082b349a5436f1E6fF19a9f0f8D567cea",
          "0xFcAde2C82f8F1f53FF6B2463C3470126D27f3f3B",
          "0xc58BA8f7D5F0d08b93Bfd66E59f87083Ee6fAe6B",
          "0xE6fF083dF46968F4e253F0799016CCaE8fa6b986",
          "0x75488002344542722E772a861A60522c51457460",
          "0x0F4eEb85A9B70B4E98540BA1739F9f235a9D1486",
          "0x29F8eb1d3517b0320FAED276ab9d612F454e0eF4",
          "0x3AF765572BB8B1dF748151520B105f2B8eC7C53D",
          "0x99e8845841BDe89e148663A6420a98C47e15EbCe",
          "0x82Ab72623B1E29942781DF85bD6a49326A977333",
          "0x490dff8692e568C36643D771FC86669d848bD10d",
          "0x80c304b1fEFEaB501A8f3840A6F9B1bBd6Da2DB6",
          "0xF9dcD74Ce9ED012B3Ea6ca912DdAb47319344F0f",
          "0x2d1Ca9a4a18833F88F5638F87Aa0E2c1Be080555",
          "0xb03F5438f9A243De5C3B830B7841EC315034cD5f",
          "0xbd4b3f8A8F0F93796bF5A09f64B07794030Fa14b",
          "0x5B18281422AEc857644D0B54E14033E7573Ed6d2",
          "0x0ee071ef67c30d98B063c73b9026c11028F6a966",
          "0x7aA3DAfA553A9914f0781B7101f6E09cbFBd6A55",
          "0x76456f2c447Ae736E389F23AaFd64abC6cC5F15d",
          "0x5C1500662D910ff8533C877AE6B90b012Ca06D14",
          "0x85eD5D7d62cC5d33aC57c1814faABc648AEc81e8",
          "0x552f436E1Dbf7eDBe7d81895392002d26E65De23",
          "0x4060914d070dD6d15bfACb136a46F24022338e40",
          "0x6B98259456fa6ca17dF0fe5a8CfA829c30484EEe",
          "0x7D6d548FAd925c3b2F0a500B290557C7BE424c12",
          "0xa4B2772c88925c043888E3Da8b5723D5C53F9776",
          "0xE14a13b8eB93B6569a748EA57A1A97025fc82BE9",
          "0x1c13A36BaF59b3216B2535185FA8479c4A2487b0",
          "0xe66528780270dbAA4535D07E4FB3fD4F0B3F782d",
          "0x6871Fa4ADb5AaFa4FE8E6f0D29777d864E408354",
          "0xF844Fd5B4b682422c98f81e1FBc912AB0078F465",
          "0x1d63CdD8239Aa6115ed087E3BC00606Ed151eBD3",
          "0x9f7914f3Af230181ee5E907417a65a530dDfFACA",
          "0x6Fbc794c8FE80ba45B6398c54402dc1E167F1572",
          "0x8567d7AaEaDEBd9c3a7583351CC69d35E89Bd6f1",
          "0xdb2A1D9C355764CFFC440F4e834e0EDcB1fBC742",
          "0x90826353C78db056595bb1f6dd2E7596468aEb07",
          "0x4541C852aDdC826ea6D4A1fF6d55e855490FaCc7",
          "0xd9FC787f9A7B12C16901320DbbA7B9e1Bc5672b6",
          "0x306ca959737a347d3639D7Ae0cC87FAA6Cd1884b",
          "0x5B6AbF49f5Fa15DA670649924E7477911A8270F7",
          "0xb83E4b2471f54979e5C276a4b453E44193436523",
          "0x12a80Da334B73abdF2a18887a1e33362Dec5CFbC",
          "0xd1827cf4590019C4eE72bd18F73eF40effE7a639",
          "0x244C2dea8C9BbC7a2E338741d6416C7f247036aA",
          "0x47b2EFa18736C6C211505aEFd321bEC3AC3E8779",
          "0x6C89c435082fec970f4a04B25Fc972c95dEc05Bb",
          "0xb2bdb75841601054978a3644E2C2b9e1084978A2",
          "0x2BAAe39A6606C7619eC21535d679FFb030F3c52C",
          "0x2221CeACE30dbaE7e209888452D29e711cB5741d",
          "0xEb4Db23c27253077Fb3080adda6C5C127b0dACAe",
          "0xC575B5e473EF412c78DEacf11AD57E33e5c2639b",
          "0xf286E07ED6889658A3285C05C4f736963cF41456",
          "0x00D6AF308FDa8DC08C8cC09B21082961CA65b492",
          "0x674b462dE784019E9b3ffC395DF1cC9B68e10298",
          "0x460cc16816019EFAC2fE58922F8D5C22A32510d7",
          "0x06C6cdFafCB7d9eD6dC2658466BED203aA6a8401",
          "0x676c34221253876D42560D59216Cb332A4bb18dE",
          "0x70a9c497536E98F2DbB7C66911700fe2b2550900",
          "0x4304dB029dcf336289DD66886f1e6E8c20FE94D7",
          "0xaC3E015877f661a9f75391B14E0107B5D995EE38",
          "0x77659c4732eFb5a26C9fDdf8837145dE940aBeE2",
          "0xC71deD6f0E5660DFe79C849058Afd9BE7a3c85b8",
          "0xBa1461e8d222e1b3c05126774C1f4714ABE33CD8",
          "0x7b728979872Ad3a870a006921C9CdFFdF8F67B44",
          "0x11FF58544AEa8BdCb28eb350644D331B6F5A71f4",
          "0xD3B6C89ECCc59183A394854A43faBEe2539Dbb56",
          "0x973EE2f572Ab68e02D6ad45D334857c0018d8508",
          "0xB23a1C74C07a4c6729aB3d9A117b3DA1e4eAE25D",
          "0x65De44C5dec279A9cfA1C9606A235465E0Ae05A3",
          "0xE6DC5a552E55824625703Fa015C568Fbd3171875",
          "0xaE76Dfc4EE21E79BE18CcE8C209012b29B15d710",
          "0xfED5b6f65D42af35B87795f5C05da2AC07A8aA4e",
          "0x9b6e536706dDcc6F1Cd1d51e198F5bEd84085f21",
          "0xf5B4635f3858a2Bc80a17BD4450E05a35Ad99A72",
          "0x4Eb0792A3E7f9ae92Ad3F15070C340f25f2bD102",
          "0xfB1aB0eb44927C2dd150f43eB47Cf2d9452415a5",
          "0x103970e3B44175cf57E67987642BaAD1644f2BFC",
          "0xCeC909e109aF27C4220d8c0400Ec990126187Dce",
          "0xcFF03aB20709c928d7478764473e386F7b23EDD1",
          "0xAF2FEA8278222A8Ab0f98A6386DCbE48B746942D",
          "0x5918752dE56e90277B020bCe9243b1056e67F641",
          "0xEfe609f34A17C919118C086F81d61ecA579AB2E7",
          "0x4B581dedA2f2C0650C3dFC506C86a8C140d9f699",
          "0x7AAEE144a14Ec3ba0E468C9Dcf4a89Fdb62C5AA6",
          "0xB9217ce76651AF985D9Df95a1a1c7c4C3a81d133",
          "0x93b24e7BfC2F429C51302f1856E31bE0b2e2DE35",
          "0x79293291CD70Edf2663190783E0a69Dacf42CF92",
          "0x8DF6DeE3d8ec7580cC7cA58E5dd492Ceb1E75280",
          "0x4fcb2161e087F3A4153545A25304Bd4E123A0e07",
          "0xAB961d7C42BBcd454A54b342Bd191a8f090219E6",
          "0x87e32D4631D728d6aD7EBcD133b11FeBC9DA9b93",
          "0xb1E8EF9D3732C55790411B341FC2164A87C433fc",
          "0x381e4C6E6d83985024c23322aba6FB05C9C71C3f",
          "0x9BDf1B88Cf1e5620a12D78307E4B3613d87dB717",
          "0xaBD4975A6C4341eddFe7e6C1b6f51f2527D818B6",
          "0x2C6e68C57A10b7D87b727060F6262c57A5326B8f",
          "0x5dCE32110ab4d4197B11e9e8c3B12CD50Ea5472E"
         ]
        }
       ],
       "layout": {
        "legend": {
         "tracegroupgap": 0
        },
        "template": {
         "data": {
          "bar": [
           {
            "error_x": {
             "color": "#2a3f5f"
            },
            "error_y": {
             "color": "#2a3f5f"
            },
            "marker": {
             "line": {
              "color": "#E5ECF6",
              "width": 0.5
             },
             "pattern": {
              "fillmode": "overlay",
              "size": 10,
              "solidity": 0.2
             }
            },
            "type": "bar"
           }
          ],
          "barpolar": [
           {
            "marker": {
             "line": {
              "color": "#E5ECF6",
              "width": 0.5
             },
             "pattern": {
              "fillmode": "overlay",
              "size": 10,
              "solidity": 0.2
             }
            },
            "type": "barpolar"
           }
          ],
          "carpet": [
           {
            "aaxis": {
             "endlinecolor": "#2a3f5f",
             "gridcolor": "white",
             "linecolor": "white",
             "minorgridcolor": "white",
             "startlinecolor": "#2a3f5f"
            },
            "baxis": {
             "endlinecolor": "#2a3f5f",
             "gridcolor": "white",
             "linecolor": "white",
             "minorgridcolor": "white",
             "startlinecolor": "#2a3f5f"
            },
            "type": "carpet"
           }
          ],
          "choropleth": [
           {
            "colorbar": {
             "outlinewidth": 0,
             "ticks": ""
            },
            "type": "choropleth"
           }
          ],
          "contour": [
           {
            "colorbar": {
             "outlinewidth": 0,
             "ticks": ""
            },
            "colorscale": [
             [
              0,
              "#0d0887"
             ],
             [
              0.1111111111111111,
              "#46039f"
             ],
             [
              0.2222222222222222,
              "#7201a8"
             ],
             [
              0.3333333333333333,
              "#9c179e"
             ],
             [
              0.4444444444444444,
              "#bd3786"
             ],
             [
              0.5555555555555556,
              "#d8576b"
             ],
             [
              0.6666666666666666,
              "#ed7953"
             ],
             [
              0.7777777777777778,
              "#fb9f3a"
             ],
             [
              0.8888888888888888,
              "#fdca26"
             ],
             [
              1,
              "#f0f921"
             ]
            ],
            "type": "contour"
           }
          ],
          "contourcarpet": [
           {
            "colorbar": {
             "outlinewidth": 0,
             "ticks": ""
            },
            "type": "contourcarpet"
           }
          ],
          "heatmap": [
           {
            "colorbar": {
             "outlinewidth": 0,
             "ticks": ""
            },
            "colorscale": [
             [
              0,
              "#0d0887"
             ],
             [
              0.1111111111111111,
              "#46039f"
             ],
             [
              0.2222222222222222,
              "#7201a8"
             ],
             [
              0.3333333333333333,
              "#9c179e"
             ],
             [
              0.4444444444444444,
              "#bd3786"
             ],
             [
              0.5555555555555556,
              "#d8576b"
             ],
             [
              0.6666666666666666,
              "#ed7953"
             ],
             [
              0.7777777777777778,
              "#fb9f3a"
             ],
             [
              0.8888888888888888,
              "#fdca26"
             ],
             [
              1,
              "#f0f921"
             ]
            ],
            "type": "heatmap"
           }
          ],
          "heatmapgl": [
           {
            "colorbar": {
             "outlinewidth": 0,
             "ticks": ""
            },
            "colorscale": [
             [
              0,
              "#0d0887"
             ],
             [
              0.1111111111111111,
              "#46039f"
             ],
             [
              0.2222222222222222,
              "#7201a8"
             ],
             [
              0.3333333333333333,
              "#9c179e"
             ],
             [
              0.4444444444444444,
              "#bd3786"
             ],
             [
              0.5555555555555556,
              "#d8576b"
             ],
             [
              0.6666666666666666,
              "#ed7953"
             ],
             [
              0.7777777777777778,
              "#fb9f3a"
             ],
             [
              0.8888888888888888,
              "#fdca26"
             ],
             [
              1,
              "#f0f921"
             ]
            ],
            "type": "heatmapgl"
           }
          ],
          "histogram": [
           {
            "marker": {
             "pattern": {
              "fillmode": "overlay",
              "size": 10,
              "solidity": 0.2
             }
            },
            "type": "histogram"
           }
          ],
          "histogram2d": [
           {
            "colorbar": {
             "outlinewidth": 0,
             "ticks": ""
            },
            "colorscale": [
             [
              0,
              "#0d0887"
             ],
             [
              0.1111111111111111,
              "#46039f"
             ],
             [
              0.2222222222222222,
              "#7201a8"
             ],
             [
              0.3333333333333333,
              "#9c179e"
             ],
             [
              0.4444444444444444,
              "#bd3786"
             ],
             [
              0.5555555555555556,
              "#d8576b"
             ],
             [
              0.6666666666666666,
              "#ed7953"
             ],
             [
              0.7777777777777778,
              "#fb9f3a"
             ],
             [
              0.8888888888888888,
              "#fdca26"
             ],
             [
              1,
              "#f0f921"
             ]
            ],
            "type": "histogram2d"
           }
          ],
          "histogram2dcontour": [
           {
            "colorbar": {
             "outlinewidth": 0,
             "ticks": ""
            },
            "colorscale": [
             [
              0,
              "#0d0887"
             ],
             [
              0.1111111111111111,
              "#46039f"
             ],
             [
              0.2222222222222222,
              "#7201a8"
             ],
             [
              0.3333333333333333,
              "#9c179e"
             ],
             [
              0.4444444444444444,
              "#bd3786"
             ],
             [
              0.5555555555555556,
              "#d8576b"
             ],
             [
              0.6666666666666666,
              "#ed7953"
             ],
             [
              0.7777777777777778,
              "#fb9f3a"
             ],
             [
              0.8888888888888888,
              "#fdca26"
             ],
             [
              1,
              "#f0f921"
             ]
            ],
            "type": "histogram2dcontour"
           }
          ],
          "mesh3d": [
           {
            "colorbar": {
             "outlinewidth": 0,
             "ticks": ""
            },
            "type": "mesh3d"
           }
          ],
          "parcoords": [
           {
            "line": {
             "colorbar": {
              "outlinewidth": 0,
              "ticks": ""
             }
            },
            "type": "parcoords"
           }
          ],
          "pie": [
           {
            "automargin": true,
            "type": "pie"
           }
          ],
          "scatter": [
           {
            "fillpattern": {
             "fillmode": "overlay",
             "size": 10,
             "solidity": 0.2
            },
            "type": "scatter"
           }
          ],
          "scatter3d": [
           {
            "line": {
             "colorbar": {
              "outlinewidth": 0,
              "ticks": ""
             }
            },
            "marker": {
             "colorbar": {
              "outlinewidth": 0,
              "ticks": ""
             }
            },
            "type": "scatter3d"
           }
          ],
          "scattercarpet": [
           {
            "marker": {
             "colorbar": {
              "outlinewidth": 0,
              "ticks": ""
             }
            },
            "type": "scattercarpet"
           }
          ],
          "scattergeo": [
           {
            "marker": {
             "colorbar": {
              "outlinewidth": 0,
              "ticks": ""
             }
            },
            "type": "scattergeo"
           }
          ],
          "scattergl": [
           {
            "marker": {
             "colorbar": {
              "outlinewidth": 0,
              "ticks": ""
             }
            },
            "type": "scattergl"
           }
          ],
          "scattermapbox": [
           {
            "marker": {
             "colorbar": {
              "outlinewidth": 0,
              "ticks": ""
             }
            },
            "type": "scattermapbox"
           }
          ],
          "scatterpolar": [
           {
            "marker": {
             "colorbar": {
              "outlinewidth": 0,
              "ticks": ""
             }
            },
            "type": "scatterpolar"
           }
          ],
          "scatterpolargl": [
           {
            "marker": {
             "colorbar": {
              "outlinewidth": 0,
              "ticks": ""
             }
            },
            "type": "scatterpolargl"
           }
          ],
          "scatterternary": [
           {
            "marker": {
             "colorbar": {
              "outlinewidth": 0,
              "ticks": ""
             }
            },
            "type": "scatterternary"
           }
          ],
          "surface": [
           {
            "colorbar": {
             "outlinewidth": 0,
             "ticks": ""
            },
            "colorscale": [
             [
              0,
              "#0d0887"
             ],
             [
              0.1111111111111111,
              "#46039f"
             ],
             [
              0.2222222222222222,
              "#7201a8"
             ],
             [
              0.3333333333333333,
              "#9c179e"
             ],
             [
              0.4444444444444444,
              "#bd3786"
             ],
             [
              0.5555555555555556,
              "#d8576b"
             ],
             [
              0.6666666666666666,
              "#ed7953"
             ],
             [
              0.7777777777777778,
              "#fb9f3a"
             ],
             [
              0.8888888888888888,
              "#fdca26"
             ],
             [
              1,
              "#f0f921"
             ]
            ],
            "type": "surface"
           }
          ],
          "table": [
           {
            "cells": {
             "fill": {
              "color": "#EBF0F8"
             },
             "line": {
              "color": "white"
             }
            },
            "header": {
             "fill": {
              "color": "#C8D4E3"
             },
             "line": {
              "color": "white"
             }
            },
            "type": "table"
           }
          ]
         },
         "layout": {
          "annotationdefaults": {
           "arrowcolor": "#2a3f5f",
           "arrowhead": 0,
           "arrowwidth": 1
          },
          "autotypenumbers": "strict",
          "coloraxis": {
           "colorbar": {
            "outlinewidth": 0,
            "ticks": ""
           }
          },
          "colorscale": {
           "diverging": [
            [
             0,
             "#8e0152"
            ],
            [
             0.1,
             "#c51b7d"
            ],
            [
             0.2,
             "#de77ae"
            ],
            [
             0.3,
             "#f1b6da"
            ],
            [
             0.4,
             "#fde0ef"
            ],
            [
             0.5,
             "#f7f7f7"
            ],
            [
             0.6,
             "#e6f5d0"
            ],
            [
             0.7,
             "#b8e186"
            ],
            [
             0.8,
             "#7fbc41"
            ],
            [
             0.9,
             "#4d9221"
            ],
            [
             1,
             "#276419"
            ]
           ],
           "sequential": [
            [
             0,
             "#0d0887"
            ],
            [
             0.1111111111111111,
             "#46039f"
            ],
            [
             0.2222222222222222,
             "#7201a8"
            ],
            [
             0.3333333333333333,
             "#9c179e"
            ],
            [
             0.4444444444444444,
             "#bd3786"
            ],
            [
             0.5555555555555556,
             "#d8576b"
            ],
            [
             0.6666666666666666,
             "#ed7953"
            ],
            [
             0.7777777777777778,
             "#fb9f3a"
            ],
            [
             0.8888888888888888,
             "#fdca26"
            ],
            [
             1,
             "#f0f921"
            ]
           ],
           "sequentialminus": [
            [
             0,
             "#0d0887"
            ],
            [
             0.1111111111111111,
             "#46039f"
            ],
            [
             0.2222222222222222,
             "#7201a8"
            ],
            [
             0.3333333333333333,
             "#9c179e"
            ],
            [
             0.4444444444444444,
             "#bd3786"
            ],
            [
             0.5555555555555556,
             "#d8576b"
            ],
            [
             0.6666666666666666,
             "#ed7953"
            ],
            [
             0.7777777777777778,
             "#fb9f3a"
            ],
            [
             0.8888888888888888,
             "#fdca26"
            ],
            [
             1,
             "#f0f921"
            ]
           ]
          },
          "colorway": [
           "#636efa",
           "#EF553B",
           "#00cc96",
           "#ab63fa",
           "#FFA15A",
           "#19d3f3",
           "#FF6692",
           "#B6E880",
           "#FF97FF",
           "#FECB52"
          ],
          "font": {
           "color": "#2a3f5f"
          },
          "geo": {
           "bgcolor": "white",
           "lakecolor": "white",
           "landcolor": "#E5ECF6",
           "showlakes": true,
           "showland": true,
           "subunitcolor": "white"
          },
          "hoverlabel": {
           "align": "left"
          },
          "hovermode": "closest",
          "mapbox": {
           "style": "light"
          },
          "paper_bgcolor": "white",
          "plot_bgcolor": "#E5ECF6",
          "polar": {
           "angularaxis": {
            "gridcolor": "white",
            "linecolor": "white",
            "ticks": ""
           },
           "bgcolor": "#E5ECF6",
           "radialaxis": {
            "gridcolor": "white",
            "linecolor": "white",
            "ticks": ""
           }
          },
          "scene": {
           "xaxis": {
            "backgroundcolor": "#E5ECF6",
            "gridcolor": "white",
            "gridwidth": 2,
            "linecolor": "white",
            "showbackground": true,
            "ticks": "",
            "zerolinecolor": "white"
           },
           "yaxis": {
            "backgroundcolor": "#E5ECF6",
            "gridcolor": "white",
            "gridwidth": 2,
            "linecolor": "white",
            "showbackground": true,
            "ticks": "",
            "zerolinecolor": "white"
           },
           "zaxis": {
            "backgroundcolor": "#E5ECF6",
            "gridcolor": "white",
            "gridwidth": 2,
            "linecolor": "white",
            "showbackground": true,
            "ticks": "",
            "zerolinecolor": "white"
           }
          },
          "shapedefaults": {
           "line": {
            "color": "#2a3f5f"
           }
          },
          "ternary": {
           "aaxis": {
            "gridcolor": "white",
            "linecolor": "white",
            "ticks": ""
           },
           "baxis": {
            "gridcolor": "white",
            "linecolor": "white",
            "ticks": ""
           },
           "bgcolor": "#E5ECF6",
           "caxis": {
            "gridcolor": "white",
            "linecolor": "white",
            "ticks": ""
           }
          },
          "title": {
           "x": 0.05
          },
          "xaxis": {
           "automargin": true,
           "gridcolor": "white",
           "linecolor": "white",
           "ticks": "",
           "title": {
            "standoff": 15
           },
           "zerolinecolor": "white",
           "zerolinewidth": 2
          },
          "yaxis": {
           "automargin": true,
           "gridcolor": "white",
           "linecolor": "white",
           "ticks": "",
           "title": {
            "standoff": 15
           },
           "zerolinecolor": "white",
           "zerolinewidth": 2
          }
         }
        },
        "title": {
         "text": "Voters Option"
        }
       }
      }
     },
     "metadata": {},
     "output_type": "display_data"
    }
   ],
   "source": [
    "fig = px.pie(proposal_votes,\n",
    "    values = 'votes_voter',\n",
    "    names = 'votes_voter_choice',\n",
    "    title = 'Voters Option',\n",
    "    color_discrete_map = {\n",
    "        'Do not allow Ribbon Finance': 'red',\n",
    "        'Allow Ribbon Finance': 'blue'\n",
    "    }\n",
    "    )\n",
    "\n",
    "fig.show()"
   ]
  },
  {
   "cell_type": "code",
   "execution_count": 194,
   "metadata": {},
   "outputs": [
    {
     "data": {
      "application/vnd.plotly.v1+json": {
       "config": {
        "plotlyServerURL": "https://plot.ly"
       },
       "data": [
        {
         "alignmentgroup": "True",
         "bingroup": "x",
         "hovertemplate": "votes_voter_choice=Allow Ribbon Finance<br>VOTING POWER=%{x}<br>count=%{y}<extra></extra>",
         "legendgroup": "Allow Ribbon Finance",
         "marker": {
          "color": "#636efa",
          "pattern": {
           "shape": ""
          }
         },
         "name": "Allow Ribbon Finance",
         "offsetgroup": "Allow Ribbon Finance",
         "orientation": "v",
         "showlegend": true,
         "type": "histogram",
         "x": [
          4.310302613144218,
          195.2148661462898,
          264.31373630589536,
          1235.79039011,
          9037.370180917562,
          5.860028557,
          5.736038941458115,
          0.003517044099019406,
          1698.8234183203351,
          123.61214601861575,
          4.510424277885618,
          44.533115087,
          6.018662200515324,
          22.12423654208759,
          802.7207727051197,
          1197.1738338356552,
          216.76207069333105,
          92.36445387915701,
          126.63800665817726,
          37211.470708907866,
          0.6717537079833273,
          16.872629346358757,
          17.91458505595188,
          8.682906846951076,
          387.9072905892348,
          35.91303549504606,
          1528.3545644864846,
          2.348869036,
          3.7048241841923018,
          13.515205999926918,
          10.659017163731043,
          114.1419390504958,
          1141.2782185240192,
          153.74761036637287,
          0.1114927706962188,
          42.105725782742375,
          23782.758138719008,
          4.895817044,
          123.579039011,
          181.11124049,
          54.98706475328294,
          70.55070868006925,
          13.444924037586311,
          8.192791463937525,
          1585.7068289108104,
          1.238580466845763,
          50.96250320099814,
          9.836133763697646,
          52.96765434344,
          1731.657218216,
          4.970463478518339,
          7.327219913219224,
          2595.8948769307235,
          5497.938639980286,
          251.7230281253148,
          53.55583656147338,
          46.100160529899405,
          6.310218804,
          44.78236347050026,
          229.81845304231385,
          86.25283191010128,
          19.405025168887356,
          814.6629767729486,
          1071.6558463522215,
          38.451355198481906,
          309.2084980344911,
          77.58466850563273,
          20.09523716776465,
          52.909347808914156,
          1038.977368136,
          6.78978838697838,
          790.7634863007343,
          28.103428216,
          685.7406116982359,
          8.497697839,
          4.221934684,
          312.16694357254534,
          4729.6109664110645,
          70.087397449457,
          10.104735551993292,
          321.305501432245,
          735.1710562720356,
          164.09059906386656,
          201.34996265150366,
          5221.509110982988,
          4685.817989966537,
          54612.196796559,
          5.095113243911023,
          1765.9800904122349,
          26.502221909881687,
          199.76571245111555,
          27.791215664373137,
          95.33704147122027,
          507.5986851161908,
          0.9779517265317289,
          17.620089611630295,
          34.92292605477654,
          990.5616301258395,
          1877.3531009422752,
          252.21606222907886,
          343.1612088781932,
          11.344329314815067,
          2002.6141530815105,
          2750.3673737170816,
          17.612299874,
          88.413231540854,
          29.989196524197347,
          1125.8355240293567,
          11956.324935483332,
          8.850917417,
          2585.3051090189406,
          6777.909366716007,
          443.1122895671176,
          14579.010974231265,
          757.7800614521119,
          159.544541268,
          4e-9,
          169.60124099565317,
          1541.1224669129483,
          16724.453857435376,
          4440.144519022067,
          2828.764569430913
         ],
         "xaxis": "x",
         "yaxis": "y"
        },
        {
         "alignmentgroup": "True",
         "hovertemplate": "votes_voter_choice=Allow Ribbon Finance<br>VOTING POWER=%{x}<extra></extra>",
         "legendgroup": "Allow Ribbon Finance",
         "marker": {
          "color": "#636efa"
         },
         "name": "Allow Ribbon Finance",
         "notched": true,
         "offsetgroup": "Allow Ribbon Finance",
         "showlegend": false,
         "type": "box",
         "x": [
          4.310302613144218,
          195.2148661462898,
          264.31373630589536,
          1235.79039011,
          9037.370180917562,
          5.860028557,
          5.736038941458115,
          0.003517044099019406,
          1698.8234183203351,
          123.61214601861575,
          4.510424277885618,
          44.533115087,
          6.018662200515324,
          22.12423654208759,
          802.7207727051197,
          1197.1738338356552,
          216.76207069333105,
          92.36445387915701,
          126.63800665817726,
          37211.470708907866,
          0.6717537079833273,
          16.872629346358757,
          17.91458505595188,
          8.682906846951076,
          387.9072905892348,
          35.91303549504606,
          1528.3545644864846,
          2.348869036,
          3.7048241841923018,
          13.515205999926918,
          10.659017163731043,
          114.1419390504958,
          1141.2782185240192,
          153.74761036637287,
          0.1114927706962188,
          42.105725782742375,
          23782.758138719008,
          4.895817044,
          123.579039011,
          181.11124049,
          54.98706475328294,
          70.55070868006925,
          13.444924037586311,
          8.192791463937525,
          1585.7068289108104,
          1.238580466845763,
          50.96250320099814,
          9.836133763697646,
          52.96765434344,
          1731.657218216,
          4.970463478518339,
          7.327219913219224,
          2595.8948769307235,
          5497.938639980286,
          251.7230281253148,
          53.55583656147338,
          46.100160529899405,
          6.310218804,
          44.78236347050026,
          229.81845304231385,
          86.25283191010128,
          19.405025168887356,
          814.6629767729486,
          1071.6558463522215,
          38.451355198481906,
          309.2084980344911,
          77.58466850563273,
          20.09523716776465,
          52.909347808914156,
          1038.977368136,
          6.78978838697838,
          790.7634863007343,
          28.103428216,
          685.7406116982359,
          8.497697839,
          4.221934684,
          312.16694357254534,
          4729.6109664110645,
          70.087397449457,
          10.104735551993292,
          321.305501432245,
          735.1710562720356,
          164.09059906386656,
          201.34996265150366,
          5221.509110982988,
          4685.817989966537,
          54612.196796559,
          5.095113243911023,
          1765.9800904122349,
          26.502221909881687,
          199.76571245111555,
          27.791215664373137,
          95.33704147122027,
          507.5986851161908,
          0.9779517265317289,
          17.620089611630295,
          34.92292605477654,
          990.5616301258395,
          1877.3531009422752,
          252.21606222907886,
          343.1612088781932,
          11.344329314815067,
          2002.6141530815105,
          2750.3673737170816,
          17.612299874,
          88.413231540854,
          29.989196524197347,
          1125.8355240293567,
          11956.324935483332,
          8.850917417,
          2585.3051090189406,
          6777.909366716007,
          443.1122895671176,
          14579.010974231265,
          757.7800614521119,
          159.544541268,
          4e-9,
          169.60124099565317,
          1541.1224669129483,
          16724.453857435376,
          4440.144519022067,
          2828.764569430913
         ],
         "xaxis": "x2",
         "yaxis": "y2"
        },
        {
         "alignmentgroup": "True",
         "bingroup": "x",
         "hovertemplate": "votes_voter_choice=Do not allow Ribbon Finance<br>VOTING POWER=%{x}<br>count=%{y}<extra></extra>",
         "legendgroup": "Do not allow Ribbon Finance",
         "marker": {
          "color": "#EF553B",
          "pattern": {
           "shape": ""
          }
         },
         "name": "Do not allow Ribbon Finance",
         "offsetgroup": "Do not allow Ribbon Finance",
         "orientation": "v",
         "showlegend": true,
         "type": "histogram",
         "x": [
          2925.506852503282,
          1143.1972499294022,
          15480.808284795696,
          1227.0270411104548,
          21.02443375538154,
          18.750137480016107,
          1121.5694453354756,
          0.8793164251656476,
          0.004651487452956791,
          2.2828885232229412,
          33.26465053816027,
          2.5951486229090843,
          7.204579403949585,
          1.091772791908815,
          270.24484035902486,
          0.909740716,
          141.77283403485012,
          491.93786379080836,
          4493.927882462249,
          65.34223278669666,
          78876.03171884081,
          4599.940698333202,
          96.69630319794103,
          37.0916475209464,
          183.6397079689837,
          112.19699670206336,
          132.73582854063577,
          797.031749724599,
          146.66158377850195,
          32.65439905736378,
          4.70814934474252,
          51.988465921537596,
          864.566547985,
          103.41233688928499,
          257.0484850954327,
          1664.3544874183476,
          188.62045897844823,
          90.882787211,
          6.52708949604708,
          865.0609832389515,
          56.001763632370654,
          9629.402108180511,
          32235.388438805923,
          25.166530449771233,
          17.363546500833543,
          1010.0669810449725,
          34.806453081,
          520.7305057608828,
          1512.2858660540146,
          345.306414117,
          29.763057981108748,
          9.783818493693166,
          28.892701881274114,
          134.07875781657054,
          779.0517096030937,
          38.8564331892933,
          147.14500557464964,
          143.02197976860396,
          62.626276257862386,
          58.31299938198096,
          138.9637855746599,
          2.8999715802889123,
          14.673934403088065,
          5.995795581368452,
          22.088923949572372,
          9.395285867283578,
          123.06072405307174,
          62.89670495780023,
          109.84280347921374,
          1637.480980233237,
          1169.338880512,
          460.35733657017397,
          29.929703959574045,
          5134.1996665559,
          280.26098736697793,
          5575.5557475766445,
          68.48886024807206,
          1891.1215055297962,
          1403.254119128397,
          1491.8072183978143,
          123.65240235289336,
          874.6547669635713,
          0.03710051896848063,
          1380.701903307244,
          132.51022209910917,
          123.579039011,
          36.30279392595783,
          284.873474186104,
          220.187187107,
          1525.8485147478962,
          33.49744801811803,
          87.71666197066108,
          841.5997218777059,
          100.5341443,
          23.72435880092737,
          14026.767618018503,
          176.15574115822997,
          232.80268426692822,
          99.65798820572044,
          10588.244760297126,
          496.25425324199114,
          0.351313655,
          6501.549966454444,
          34.91768791295821
         ],
         "xaxis": "x",
         "yaxis": "y"
        },
        {
         "alignmentgroup": "True",
         "hovertemplate": "votes_voter_choice=Do not allow Ribbon Finance<br>VOTING POWER=%{x}<extra></extra>",
         "legendgroup": "Do not allow Ribbon Finance",
         "marker": {
          "color": "#EF553B"
         },
         "name": "Do not allow Ribbon Finance",
         "notched": true,
         "offsetgroup": "Do not allow Ribbon Finance",
         "showlegend": false,
         "type": "box",
         "x": [
          2925.506852503282,
          1143.1972499294022,
          15480.808284795696,
          1227.0270411104548,
          21.02443375538154,
          18.750137480016107,
          1121.5694453354756,
          0.8793164251656476,
          0.004651487452956791,
          2.2828885232229412,
          33.26465053816027,
          2.5951486229090843,
          7.204579403949585,
          1.091772791908815,
          270.24484035902486,
          0.909740716,
          141.77283403485012,
          491.93786379080836,
          4493.927882462249,
          65.34223278669666,
          78876.03171884081,
          4599.940698333202,
          96.69630319794103,
          37.0916475209464,
          183.6397079689837,
          112.19699670206336,
          132.73582854063577,
          797.031749724599,
          146.66158377850195,
          32.65439905736378,
          4.70814934474252,
          51.988465921537596,
          864.566547985,
          103.41233688928499,
          257.0484850954327,
          1664.3544874183476,
          188.62045897844823,
          90.882787211,
          6.52708949604708,
          865.0609832389515,
          56.001763632370654,
          9629.402108180511,
          32235.388438805923,
          25.166530449771233,
          17.363546500833543,
          1010.0669810449725,
          34.806453081,
          520.7305057608828,
          1512.2858660540146,
          345.306414117,
          29.763057981108748,
          9.783818493693166,
          28.892701881274114,
          134.07875781657054,
          779.0517096030937,
          38.8564331892933,
          147.14500557464964,
          143.02197976860396,
          62.626276257862386,
          58.31299938198096,
          138.9637855746599,
          2.8999715802889123,
          14.673934403088065,
          5.995795581368452,
          22.088923949572372,
          9.395285867283578,
          123.06072405307174,
          62.89670495780023,
          109.84280347921374,
          1637.480980233237,
          1169.338880512,
          460.35733657017397,
          29.929703959574045,
          5134.1996665559,
          280.26098736697793,
          5575.5557475766445,
          68.48886024807206,
          1891.1215055297962,
          1403.254119128397,
          1491.8072183978143,
          123.65240235289336,
          874.6547669635713,
          0.03710051896848063,
          1380.701903307244,
          132.51022209910917,
          123.579039011,
          36.30279392595783,
          284.873474186104,
          220.187187107,
          1525.8485147478962,
          33.49744801811803,
          87.71666197066108,
          841.5997218777059,
          100.5341443,
          23.72435880092737,
          14026.767618018503,
          176.15574115822997,
          232.80268426692822,
          99.65798820572044,
          10588.244760297126,
          496.25425324199114,
          0.351313655,
          6501.549966454444,
          34.91768791295821
         ],
         "xaxis": "x2",
         "yaxis": "y2"
        }
       ],
       "layout": {
        "barmode": "relative",
        "legend": {
         "title": {
          "text": "CHOICE"
         },
         "tracegroupgap": 0
        },
        "template": {
         "data": {
          "bar": [
           {
            "error_x": {
             "color": "#2a3f5f"
            },
            "error_y": {
             "color": "#2a3f5f"
            },
            "marker": {
             "line": {
              "color": "#E5ECF6",
              "width": 0.5
             },
             "pattern": {
              "fillmode": "overlay",
              "size": 10,
              "solidity": 0.2
             }
            },
            "type": "bar"
           }
          ],
          "barpolar": [
           {
            "marker": {
             "line": {
              "color": "#E5ECF6",
              "width": 0.5
             },
             "pattern": {
              "fillmode": "overlay",
              "size": 10,
              "solidity": 0.2
             }
            },
            "type": "barpolar"
           }
          ],
          "carpet": [
           {
            "aaxis": {
             "endlinecolor": "#2a3f5f",
             "gridcolor": "white",
             "linecolor": "white",
             "minorgridcolor": "white",
             "startlinecolor": "#2a3f5f"
            },
            "baxis": {
             "endlinecolor": "#2a3f5f",
             "gridcolor": "white",
             "linecolor": "white",
             "minorgridcolor": "white",
             "startlinecolor": "#2a3f5f"
            },
            "type": "carpet"
           }
          ],
          "choropleth": [
           {
            "colorbar": {
             "outlinewidth": 0,
             "ticks": ""
            },
            "type": "choropleth"
           }
          ],
          "contour": [
           {
            "colorbar": {
             "outlinewidth": 0,
             "ticks": ""
            },
            "colorscale": [
             [
              0,
              "#0d0887"
             ],
             [
              0.1111111111111111,
              "#46039f"
             ],
             [
              0.2222222222222222,
              "#7201a8"
             ],
             [
              0.3333333333333333,
              "#9c179e"
             ],
             [
              0.4444444444444444,
              "#bd3786"
             ],
             [
              0.5555555555555556,
              "#d8576b"
             ],
             [
              0.6666666666666666,
              "#ed7953"
             ],
             [
              0.7777777777777778,
              "#fb9f3a"
             ],
             [
              0.8888888888888888,
              "#fdca26"
             ],
             [
              1,
              "#f0f921"
             ]
            ],
            "type": "contour"
           }
          ],
          "contourcarpet": [
           {
            "colorbar": {
             "outlinewidth": 0,
             "ticks": ""
            },
            "type": "contourcarpet"
           }
          ],
          "heatmap": [
           {
            "colorbar": {
             "outlinewidth": 0,
             "ticks": ""
            },
            "colorscale": [
             [
              0,
              "#0d0887"
             ],
             [
              0.1111111111111111,
              "#46039f"
             ],
             [
              0.2222222222222222,
              "#7201a8"
             ],
             [
              0.3333333333333333,
              "#9c179e"
             ],
             [
              0.4444444444444444,
              "#bd3786"
             ],
             [
              0.5555555555555556,
              "#d8576b"
             ],
             [
              0.6666666666666666,
              "#ed7953"
             ],
             [
              0.7777777777777778,
              "#fb9f3a"
             ],
             [
              0.8888888888888888,
              "#fdca26"
             ],
             [
              1,
              "#f0f921"
             ]
            ],
            "type": "heatmap"
           }
          ],
          "heatmapgl": [
           {
            "colorbar": {
             "outlinewidth": 0,
             "ticks": ""
            },
            "colorscale": [
             [
              0,
              "#0d0887"
             ],
             [
              0.1111111111111111,
              "#46039f"
             ],
             [
              0.2222222222222222,
              "#7201a8"
             ],
             [
              0.3333333333333333,
              "#9c179e"
             ],
             [
              0.4444444444444444,
              "#bd3786"
             ],
             [
              0.5555555555555556,
              "#d8576b"
             ],
             [
              0.6666666666666666,
              "#ed7953"
             ],
             [
              0.7777777777777778,
              "#fb9f3a"
             ],
             [
              0.8888888888888888,
              "#fdca26"
             ],
             [
              1,
              "#f0f921"
             ]
            ],
            "type": "heatmapgl"
           }
          ],
          "histogram": [
           {
            "marker": {
             "pattern": {
              "fillmode": "overlay",
              "size": 10,
              "solidity": 0.2
             }
            },
            "type": "histogram"
           }
          ],
          "histogram2d": [
           {
            "colorbar": {
             "outlinewidth": 0,
             "ticks": ""
            },
            "colorscale": [
             [
              0,
              "#0d0887"
             ],
             [
              0.1111111111111111,
              "#46039f"
             ],
             [
              0.2222222222222222,
              "#7201a8"
             ],
             [
              0.3333333333333333,
              "#9c179e"
             ],
             [
              0.4444444444444444,
              "#bd3786"
             ],
             [
              0.5555555555555556,
              "#d8576b"
             ],
             [
              0.6666666666666666,
              "#ed7953"
             ],
             [
              0.7777777777777778,
              "#fb9f3a"
             ],
             [
              0.8888888888888888,
              "#fdca26"
             ],
             [
              1,
              "#f0f921"
             ]
            ],
            "type": "histogram2d"
           }
          ],
          "histogram2dcontour": [
           {
            "colorbar": {
             "outlinewidth": 0,
             "ticks": ""
            },
            "colorscale": [
             [
              0,
              "#0d0887"
             ],
             [
              0.1111111111111111,
              "#46039f"
             ],
             [
              0.2222222222222222,
              "#7201a8"
             ],
             [
              0.3333333333333333,
              "#9c179e"
             ],
             [
              0.4444444444444444,
              "#bd3786"
             ],
             [
              0.5555555555555556,
              "#d8576b"
             ],
             [
              0.6666666666666666,
              "#ed7953"
             ],
             [
              0.7777777777777778,
              "#fb9f3a"
             ],
             [
              0.8888888888888888,
              "#fdca26"
             ],
             [
              1,
              "#f0f921"
             ]
            ],
            "type": "histogram2dcontour"
           }
          ],
          "mesh3d": [
           {
            "colorbar": {
             "outlinewidth": 0,
             "ticks": ""
            },
            "type": "mesh3d"
           }
          ],
          "parcoords": [
           {
            "line": {
             "colorbar": {
              "outlinewidth": 0,
              "ticks": ""
             }
            },
            "type": "parcoords"
           }
          ],
          "pie": [
           {
            "automargin": true,
            "type": "pie"
           }
          ],
          "scatter": [
           {
            "fillpattern": {
             "fillmode": "overlay",
             "size": 10,
             "solidity": 0.2
            },
            "type": "scatter"
           }
          ],
          "scatter3d": [
           {
            "line": {
             "colorbar": {
              "outlinewidth": 0,
              "ticks": ""
             }
            },
            "marker": {
             "colorbar": {
              "outlinewidth": 0,
              "ticks": ""
             }
            },
            "type": "scatter3d"
           }
          ],
          "scattercarpet": [
           {
            "marker": {
             "colorbar": {
              "outlinewidth": 0,
              "ticks": ""
             }
            },
            "type": "scattercarpet"
           }
          ],
          "scattergeo": [
           {
            "marker": {
             "colorbar": {
              "outlinewidth": 0,
              "ticks": ""
             }
            },
            "type": "scattergeo"
           }
          ],
          "scattergl": [
           {
            "marker": {
             "colorbar": {
              "outlinewidth": 0,
              "ticks": ""
             }
            },
            "type": "scattergl"
           }
          ],
          "scattermapbox": [
           {
            "marker": {
             "colorbar": {
              "outlinewidth": 0,
              "ticks": ""
             }
            },
            "type": "scattermapbox"
           }
          ],
          "scatterpolar": [
           {
            "marker": {
             "colorbar": {
              "outlinewidth": 0,
              "ticks": ""
             }
            },
            "type": "scatterpolar"
           }
          ],
          "scatterpolargl": [
           {
            "marker": {
             "colorbar": {
              "outlinewidth": 0,
              "ticks": ""
             }
            },
            "type": "scatterpolargl"
           }
          ],
          "scatterternary": [
           {
            "marker": {
             "colorbar": {
              "outlinewidth": 0,
              "ticks": ""
             }
            },
            "type": "scatterternary"
           }
          ],
          "surface": [
           {
            "colorbar": {
             "outlinewidth": 0,
             "ticks": ""
            },
            "colorscale": [
             [
              0,
              "#0d0887"
             ],
             [
              0.1111111111111111,
              "#46039f"
             ],
             [
              0.2222222222222222,
              "#7201a8"
             ],
             [
              0.3333333333333333,
              "#9c179e"
             ],
             [
              0.4444444444444444,
              "#bd3786"
             ],
             [
              0.5555555555555556,
              "#d8576b"
             ],
             [
              0.6666666666666666,
              "#ed7953"
             ],
             [
              0.7777777777777778,
              "#fb9f3a"
             ],
             [
              0.8888888888888888,
              "#fdca26"
             ],
             [
              1,
              "#f0f921"
             ]
            ],
            "type": "surface"
           }
          ],
          "table": [
           {
            "cells": {
             "fill": {
              "color": "#EBF0F8"
             },
             "line": {
              "color": "white"
             }
            },
            "header": {
             "fill": {
              "color": "#C8D4E3"
             },
             "line": {
              "color": "white"
             }
            },
            "type": "table"
           }
          ]
         },
         "layout": {
          "annotationdefaults": {
           "arrowcolor": "#2a3f5f",
           "arrowhead": 0,
           "arrowwidth": 1
          },
          "autotypenumbers": "strict",
          "coloraxis": {
           "colorbar": {
            "outlinewidth": 0,
            "ticks": ""
           }
          },
          "colorscale": {
           "diverging": [
            [
             0,
             "#8e0152"
            ],
            [
             0.1,
             "#c51b7d"
            ],
            [
             0.2,
             "#de77ae"
            ],
            [
             0.3,
             "#f1b6da"
            ],
            [
             0.4,
             "#fde0ef"
            ],
            [
             0.5,
             "#f7f7f7"
            ],
            [
             0.6,
             "#e6f5d0"
            ],
            [
             0.7,
             "#b8e186"
            ],
            [
             0.8,
             "#7fbc41"
            ],
            [
             0.9,
             "#4d9221"
            ],
            [
             1,
             "#276419"
            ]
           ],
           "sequential": [
            [
             0,
             "#0d0887"
            ],
            [
             0.1111111111111111,
             "#46039f"
            ],
            [
             0.2222222222222222,
             "#7201a8"
            ],
            [
             0.3333333333333333,
             "#9c179e"
            ],
            [
             0.4444444444444444,
             "#bd3786"
            ],
            [
             0.5555555555555556,
             "#d8576b"
            ],
            [
             0.6666666666666666,
             "#ed7953"
            ],
            [
             0.7777777777777778,
             "#fb9f3a"
            ],
            [
             0.8888888888888888,
             "#fdca26"
            ],
            [
             1,
             "#f0f921"
            ]
           ],
           "sequentialminus": [
            [
             0,
             "#0d0887"
            ],
            [
             0.1111111111111111,
             "#46039f"
            ],
            [
             0.2222222222222222,
             "#7201a8"
            ],
            [
             0.3333333333333333,
             "#9c179e"
            ],
            [
             0.4444444444444444,
             "#bd3786"
            ],
            [
             0.5555555555555556,
             "#d8576b"
            ],
            [
             0.6666666666666666,
             "#ed7953"
            ],
            [
             0.7777777777777778,
             "#fb9f3a"
            ],
            [
             0.8888888888888888,
             "#fdca26"
            ],
            [
             1,
             "#f0f921"
            ]
           ]
          },
          "colorway": [
           "#636efa",
           "#EF553B",
           "#00cc96",
           "#ab63fa",
           "#FFA15A",
           "#19d3f3",
           "#FF6692",
           "#B6E880",
           "#FF97FF",
           "#FECB52"
          ],
          "font": {
           "color": "#2a3f5f"
          },
          "geo": {
           "bgcolor": "white",
           "lakecolor": "white",
           "landcolor": "#E5ECF6",
           "showlakes": true,
           "showland": true,
           "subunitcolor": "white"
          },
          "hoverlabel": {
           "align": "left"
          },
          "hovermode": "closest",
          "mapbox": {
           "style": "light"
          },
          "paper_bgcolor": "white",
          "plot_bgcolor": "#E5ECF6",
          "polar": {
           "angularaxis": {
            "gridcolor": "white",
            "linecolor": "white",
            "ticks": ""
           },
           "bgcolor": "#E5ECF6",
           "radialaxis": {
            "gridcolor": "white",
            "linecolor": "white",
            "ticks": ""
           }
          },
          "scene": {
           "xaxis": {
            "backgroundcolor": "#E5ECF6",
            "gridcolor": "white",
            "gridwidth": 2,
            "linecolor": "white",
            "showbackground": true,
            "ticks": "",
            "zerolinecolor": "white"
           },
           "yaxis": {
            "backgroundcolor": "#E5ECF6",
            "gridcolor": "white",
            "gridwidth": 2,
            "linecolor": "white",
            "showbackground": true,
            "ticks": "",
            "zerolinecolor": "white"
           },
           "zaxis": {
            "backgroundcolor": "#E5ECF6",
            "gridcolor": "white",
            "gridwidth": 2,
            "linecolor": "white",
            "showbackground": true,
            "ticks": "",
            "zerolinecolor": "white"
           }
          },
          "shapedefaults": {
           "line": {
            "color": "#2a3f5f"
           }
          },
          "ternary": {
           "aaxis": {
            "gridcolor": "white",
            "linecolor": "white",
            "ticks": ""
           },
           "baxis": {
            "gridcolor": "white",
            "linecolor": "white",
            "ticks": ""
           },
           "bgcolor": "#E5ECF6",
           "caxis": {
            "gridcolor": "white",
            "linecolor": "white",
            "ticks": ""
           }
          },
          "title": {
           "x": 0.05
          },
          "xaxis": {
           "automargin": true,
           "gridcolor": "white",
           "linecolor": "white",
           "ticks": "",
           "title": {
            "standoff": 15
           },
           "zerolinecolor": "white",
           "zerolinewidth": 2
          },
          "yaxis": {
           "automargin": true,
           "gridcolor": "white",
           "linecolor": "white",
           "ticks": "",
           "title": {
            "standoff": 15
           },
           "zerolinecolor": "white",
           "zerolinewidth": 2
          }
         }
        },
        "title": {
         "text": "Distribution of Voting Power by Choice"
        },
        "xaxis": {
         "anchor": "y",
         "domain": [
          0,
          1
         ],
         "title": {
          "text": "VOTING POWER"
         }
        },
        "xaxis2": {
         "anchor": "y2",
         "domain": [
          0,
          1
         ],
         "matches": "x",
         "showgrid": true,
         "showticklabels": false
        },
        "yaxis": {
         "anchor": "x",
         "domain": [
          0,
          0.7326
         ],
         "title": {
          "text": "count"
         }
        },
        "yaxis2": {
         "anchor": "x2",
         "domain": [
          0.7426,
          1
         ],
         "matches": "y2",
         "showgrid": false,
         "showline": false,
         "showticklabels": false,
         "ticks": ""
        }
       }
      }
     },
     "metadata": {},
     "output_type": "display_data"
    }
   ],
   "source": [
    "fig = px.histogram(proposal_votes,\n",
    "    x = 'votes_vp',\n",
    "    # log_y = True,\n",
    "    marginal = 'box',\n",
    "    color = 'votes_voter_choice',\n",
    "    title = 'Distribution of Voting Power by Choice',\n",
    "    # histnorm = 'count',\n",
    "    labels = dict(votes_vp = 'VOTING POWER')\n",
    "    )\n",
    "\n",
    "fig.update_layout(legend_title_text='CHOICE')\n",
    "fig.show()"
   ]
  }
 ],
 "metadata": {
  "interpreter": {
   "hash": "a0a5145e6c304e2a9afaf5b930a2955b950bd4b81fe94f7c42930f43f42762eb"
  },
  "kernelspec": {
   "display_name": "Python 3.10.2 64-bit",
   "language": "python",
   "name": "python3"
  },
  "language_info": {
   "codemirror_mode": {
    "name": "ipython",
    "version": 3
   },
   "file_extension": ".py",
   "mimetype": "text/x-python",
   "name": "python",
   "nbconvert_exporter": "python",
   "pygments_lexer": "ipython3",
   "version": "3.10.2"
  },
  "orig_nbformat": 4
 },
 "nbformat": 4,
 "nbformat_minor": 2
}
