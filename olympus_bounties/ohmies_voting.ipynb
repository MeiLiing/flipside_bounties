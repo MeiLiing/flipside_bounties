{
 "cells": [
  {
   "cell_type": "markdown",
   "metadata": {},
   "source": [
    "# The OHMies Voting Power\n",
    "The Olympus DAO is governed by the OHMies, holders of the protocol-issued tokens. Through the power of the people, the protocol decides which path is best to follow, what changes should be implemented and who to partner with.\n",
    "\n",
    "In this report we will have a closer look at the votes on proposal *\"TAP-11\"* and try to learn more about the voting OHMies and their voting power.\n",
    "\n",
    "## Methodology\n",
    "The governance voting process takes place on Snapshot. Each individual proposal, as well as the voting tally, is accessible through the Snapshot front-end, and exportable through their GraphQL API:\n",
    "- Snapshot front-end: [https://snapshot.org/#/olympusdao.eth/](https://snapshot.org/#/olympusdao.eth/proposal/0xe52a4af6307bea40a34f2eaf9a93f11c8abf382020cca2d370ffaa0337620b6b)\n",
    "- API Documentation: https://docs.snapshot.org/graphql-api\n",
    "- Production Endpoint: https://hub.snapshot.org/graphql\n",
    "\n",
    "The data from the API will be imported in this Jupiter Notebook using [Subgrounds](https://github.com/Protean-Labs/subgrounds). It will be further processed as a Pandas DataFrame and visualized using Plotly.\n",
    "\n",
    "While the votes are not recorded on the blockchain, the platform takes an account balance snapshot before the vote, which will constitute each user's voting power for the proposal. The voting strategy used by the Snapshot space at the time of the proposal allows for the voting power to be accumulated by holding any of the following assets:\n",
    "- sOHM v1\n",
    "- sOHM v2\n",
    "- sOHM v3\n",
    "- OHM-DAI SLP\n",
    "- sOHM Multichain LP\n",
    "- gOHM\n",
    "\n",
    "The voting on **TAP-11 Ribbon Finance Whitelist** started on `Apr 19, 2022, 10:33 PM` and ended on `Apr 23, 2022, 10:33 AM`."
   ]
  },
  {
   "cell_type": "markdown",
   "metadata": {},
   "source": [
    "## Data Import\n",
    "In the block below we will first import all the modules necessary to pull the data from the API, process and visualize it."
   ]
  },
  {
   "cell_type": "code",
   "execution_count": 1,
   "metadata": {},
   "outputs": [],
   "source": [
    "# https://github.com/Protean-Labs/subgrounds\n",
    "from subgrounds.subgrounds import Subgrounds\n",
    "from subgrounds.subgraph import SyntheticField\n",
    "import pandas as pd\n",
    "import plotly.express as px\n",
    "import plotly.graph_objects as go\n",
    "from plotly.subplots import make_subplots\n",
    "from datetime import date, datetime, timedelta\n",
    "from operator import add\n",
    "import warnings\n",
    "warnings.filterwarnings('ignore')"
   ]
  },
  {
   "cell_type": "markdown",
   "metadata": {},
   "source": [
    "Once imported, the Subgrounds module can be initialized and the Snapshot API loaded in the `snapshot` variable."
   ]
  },
  {
   "cell_type": "code",
   "execution_count": 2,
   "metadata": {},
   "outputs": [],
   "source": [
    "sg = Subgrounds()\n",
    "snapshot = sg.load_api('https://hub.snapshot.org/graphql')"
   ]
  },
  {
   "cell_type": "markdown",
   "metadata": {},
   "source": [
    "Using the unique `proposal_id` of the proposal, we can pull the relevant voting data through the API. Before doing so however, we are going to create a couple of synthetic fields to help with the data. By doing so, we can rely on Subgrounds to transform the timestamps into datetime and to label the vote options from a binary format."
   ]
  },
  {
   "cell_type": "code",
   "execution_count": 3,
   "metadata": {},
   "outputs": [],
   "source": [
    "proposal_id = '0xe52a4af6307bea40a34f2eaf9a93f11c8abf382020cca2d370ffaa0337620b6b'\n",
    "\n",
    "snapshot.Vote.date_vote = SyntheticField(\n",
    "    f = lambda timestamp: str(date.fromtimestamp(timestamp)),\n",
    "    type_ = SyntheticField.STRING,\n",
    "    deps = snapshot.Vote.created\n",
    ")\n",
    "\n",
    "snapshot.Vote.voter_choice = SyntheticField(\n",
    "    f = lambda x: 'Allow Ribbon Finance' if x == 1 else 'Do not allow Ribbon Finance',\n",
    "    type_ = SyntheticField.STRING,\n",
    "    deps = snapshot.Vote.choice\n",
    ")\n",
    "\n",
    "proposal = snapshot.Query.proposal(\n",
    "    id = proposal_id\n",
    ")\n",
    "\n",
    "votes = snapshot.Query.votes(\n",
    "    first = 226,\n",
    "    orderBy = 'created',\n",
    "    orderDirection = 'asc',\n",
    "    where = {\n",
    "        'proposal': proposal_id\n",
    "    }\n",
    ")"
   ]
  },
  {
   "cell_type": "markdown",
   "metadata": {},
   "source": [
    "The first DataFrame to be constructed is of the voting power split among the possible assets that can grant it. This information will be stored in the `proposal_scores_by_strat` df."
   ]
  },
  {
   "cell_type": "code",
   "execution_count": 4,
   "metadata": {},
   "outputs": [
    {
     "data": {
      "text/html": [
       "<div>\n",
       "<style scoped>\n",
       "    .dataframe tbody tr th:only-of-type {\n",
       "        vertical-align: middle;\n",
       "    }\n",
       "\n",
       "    .dataframe tbody tr th {\n",
       "        vertical-align: top;\n",
       "    }\n",
       "\n",
       "    .dataframe thead th {\n",
       "        text-align: right;\n",
       "    }\n",
       "</style>\n",
       "<table border=\"1\" class=\"dataframe\">\n",
       "  <thead>\n",
       "    <tr style=\"text-align: right;\">\n",
       "      <th></th>\n",
       "      <th>asset</th>\n",
       "      <th>votes</th>\n",
       "    </tr>\n",
       "  </thead>\n",
       "  <tbody>\n",
       "    <tr>\n",
       "      <th>0</th>\n",
       "      <td>sOHM v1</td>\n",
       "      <td>9.100000e-08</td>\n",
       "    </tr>\n",
       "    <tr>\n",
       "      <th>1</th>\n",
       "      <td>OHM-DAI SLP</td>\n",
       "      <td>2.000000e-18</td>\n",
       "    </tr>\n",
       "    <tr>\n",
       "      <th>2</th>\n",
       "      <td>sOHM v2</td>\n",
       "      <td>1.246084e+01</td>\n",
       "    </tr>\n",
       "    <tr>\n",
       "      <th>3</th>\n",
       "      <td>sOHM v3</td>\n",
       "      <td>6.582513e+04</td>\n",
       "    </tr>\n",
       "    <tr>\n",
       "      <th>4</th>\n",
       "      <td>sOHM Multichain LP</td>\n",
       "      <td>1.168486e+04</td>\n",
       "    </tr>\n",
       "    <tr>\n",
       "      <th>5</th>\n",
       "      <td>gOHM</td>\n",
       "      <td>3.868778e+05</td>\n",
       "    </tr>\n",
       "  </tbody>\n",
       "</table>\n",
       "</div>"
      ],
      "text/plain": [
       "                asset         votes\n",
       "0             sOHM v1  9.100000e-08\n",
       "1         OHM-DAI SLP  2.000000e-18\n",
       "2             sOHM v2  1.246084e+01\n",
       "3             sOHM v3  6.582513e+04\n",
       "4  sOHM Multichain LP  1.168486e+04\n",
       "5                gOHM  3.868778e+05"
      ]
     },
     "execution_count": 4,
     "metadata": {},
     "output_type": "execute_result"
    }
   ],
   "source": [
    "proposal_scores_strat = sg.query_json([\n",
    "    proposal.scores_by_strategy\n",
    "    ])\n",
    "scores_by_strategy = list(map(\n",
    "    add, \n",
    "    proposal_scores_strat[0]['x00695cf9dbf02ec0']['scores_by_strategy'][0], \n",
    "    proposal_scores_strat[0]['x00695cf9dbf02ec0']['scores_by_strategy'][1]\n",
    "    )\n",
    ")\n",
    "strat_names = ['sOHM v1', 'OHM-DAI SLP', 'sOHM v2', 'sOHM v3', 'sOHM Multichain LP', 'gOHM']\n",
    "\n",
    "proposal_scores_by_strat = pd.DataFrame(\n",
    "    data= {'votes': scores_by_strategy, 'asset': strat_names}, \n",
    "    columns= ['asset','votes'])\n",
    "proposal_scores_by_strat"
   ]
  },
  {
   "cell_type": "markdown",
   "metadata": {},
   "source": [
    "The second DataFrame will hold more in-detail data about the voters. Individual voter address, date of the vote, address voting power, their choice and how much voting power thei have by asset. This will be stored in the `proposal_votes` df."
   ]
  },
  {
   "cell_type": "code",
   "execution_count": 5,
   "metadata": {},
   "outputs": [
    {
     "data": {
      "text/html": [
       "<div>\n",
       "<style scoped>\n",
       "    .dataframe tbody tr th:only-of-type {\n",
       "        vertical-align: middle;\n",
       "    }\n",
       "\n",
       "    .dataframe tbody tr th {\n",
       "        vertical-align: top;\n",
       "    }\n",
       "\n",
       "    .dataframe thead th {\n",
       "        text-align: right;\n",
       "    }\n",
       "</style>\n",
       "<table border=\"1\" class=\"dataframe\">\n",
       "  <thead>\n",
       "    <tr style=\"text-align: right;\">\n",
       "      <th></th>\n",
       "      <th>votes_voter</th>\n",
       "      <th>votes_date_vote</th>\n",
       "      <th>votes_voter_choice</th>\n",
       "      <th>votes_vp</th>\n",
       "      <th>sOHM v1</th>\n",
       "      <th>OHM-DAI SLP</th>\n",
       "      <th>sOHM v2</th>\n",
       "      <th>sOHM v3</th>\n",
       "      <th>sOHM Multichain LP</th>\n",
       "      <th>gOHM</th>\n",
       "    </tr>\n",
       "  </thead>\n",
       "  <tbody>\n",
       "    <tr>\n",
       "      <th>0</th>\n",
       "      <td>0xd0bB63e2c183DB414977Eaa6B547601e46E12ed4</td>\n",
       "      <td>2022-04-19</td>\n",
       "      <td>Allow Ribbon Finance</td>\n",
       "      <td>4.310303</td>\n",
       "      <td>0.0</td>\n",
       "      <td>0.0</td>\n",
       "      <td>0.0</td>\n",
       "      <td>4.310303</td>\n",
       "      <td>0.0</td>\n",
       "      <td>1.144218e-09</td>\n",
       "    </tr>\n",
       "    <tr>\n",
       "      <th>1</th>\n",
       "      <td>0x8e7742209bf49b7bf2A7007Faa669F8A4cfbbF25</td>\n",
       "      <td>2022-04-19</td>\n",
       "      <td>Allow Ribbon Finance</td>\n",
       "      <td>195.214866</td>\n",
       "      <td>0.0</td>\n",
       "      <td>0.0</td>\n",
       "      <td>0.0</td>\n",
       "      <td>0.000000</td>\n",
       "      <td>0.0</td>\n",
       "      <td>1.952149e+02</td>\n",
       "    </tr>\n",
       "    <tr>\n",
       "      <th>2</th>\n",
       "      <td>0xa100cD30f2384E53d149729Db33a84597c296c3d</td>\n",
       "      <td>2022-04-19</td>\n",
       "      <td>Allow Ribbon Finance</td>\n",
       "      <td>264.313736</td>\n",
       "      <td>0.0</td>\n",
       "      <td>0.0</td>\n",
       "      <td>0.0</td>\n",
       "      <td>0.000000</td>\n",
       "      <td>0.0</td>\n",
       "      <td>2.643137e+02</td>\n",
       "    </tr>\n",
       "    <tr>\n",
       "      <th>3</th>\n",
       "      <td>0xca6aA0576c2ADc79d2c20e6D53c07f590f62932A</td>\n",
       "      <td>2022-04-19</td>\n",
       "      <td>Do not allow Ribbon Finance</td>\n",
       "      <td>2925.506853</td>\n",
       "      <td>0.0</td>\n",
       "      <td>0.0</td>\n",
       "      <td>0.0</td>\n",
       "      <td>0.000000</td>\n",
       "      <td>0.0</td>\n",
       "      <td>2.925507e+03</td>\n",
       "    </tr>\n",
       "    <tr>\n",
       "      <th>4</th>\n",
       "      <td>0x16ff8Ad104Fa6195260A6d4A3F311c5f120dF77d</td>\n",
       "      <td>2022-04-19</td>\n",
       "      <td>Do not allow Ribbon Finance</td>\n",
       "      <td>1143.197250</td>\n",
       "      <td>0.0</td>\n",
       "      <td>0.0</td>\n",
       "      <td>0.0</td>\n",
       "      <td>0.000000</td>\n",
       "      <td>0.0</td>\n",
       "      <td>1.143197e+03</td>\n",
       "    </tr>\n",
       "  </tbody>\n",
       "</table>\n",
       "</div>"
      ],
      "text/plain": [
       "                                  votes_voter votes_date_vote  \\\n",
       "0  0xd0bB63e2c183DB414977Eaa6B547601e46E12ed4      2022-04-19   \n",
       "1  0x8e7742209bf49b7bf2A7007Faa669F8A4cfbbF25      2022-04-19   \n",
       "2  0xa100cD30f2384E53d149729Db33a84597c296c3d      2022-04-19   \n",
       "3  0xca6aA0576c2ADc79d2c20e6D53c07f590f62932A      2022-04-19   \n",
       "4  0x16ff8Ad104Fa6195260A6d4A3F311c5f120dF77d      2022-04-19   \n",
       "\n",
       "            votes_voter_choice     votes_vp  sOHM v1  OHM-DAI SLP  sOHM v2  \\\n",
       "0         Allow Ribbon Finance     4.310303      0.0          0.0      0.0   \n",
       "1         Allow Ribbon Finance   195.214866      0.0          0.0      0.0   \n",
       "2         Allow Ribbon Finance   264.313736      0.0          0.0      0.0   \n",
       "3  Do not allow Ribbon Finance  2925.506853      0.0          0.0      0.0   \n",
       "4  Do not allow Ribbon Finance  1143.197250      0.0          0.0      0.0   \n",
       "\n",
       "    sOHM v3  sOHM Multichain LP          gOHM  \n",
       "0  4.310303                 0.0  1.144218e-09  \n",
       "1  0.000000                 0.0  1.952149e+02  \n",
       "2  0.000000                 0.0  2.643137e+02  \n",
       "3  0.000000                 0.0  2.925507e+03  \n",
       "4  0.000000                 0.0  1.143197e+03  "
      ]
     },
     "execution_count": 5,
     "metadata": {},
     "output_type": "execute_result"
    }
   ],
   "source": [
    "proposal_votes = sg.query_df([\n",
    "    votes.voter,\n",
    "    votes.date_vote,\n",
    "    votes.voter_choice,\n",
    "    votes.vp\n",
    "])\n",
    "vp_by_strategy_json = sg.query_json([votes.vp_by_strategy])[0]['x32eae029ffc2c5f8']\n",
    "\n",
    "vp_by_strategy = {\n",
    "    'sOHM v1': [], \n",
    "    'OHM-DAI SLP': [], \n",
    "    'sOHM v2': [], \n",
    "    'sOHM v3': [], \n",
    "    'sOHM Multichain LP': [], \n",
    "    'gOHM': []\n",
    "}\n",
    "\n",
    "for i in range(0, len(vp_by_strategy_json)):\n",
    "    vp_by_strategy['sOHM v1'].append(vp_by_strategy_json[i]['vp_by_strategy'][0]),\n",
    "    vp_by_strategy['OHM-DAI SLP'].append(vp_by_strategy_json[i]['vp_by_strategy'][1]),\n",
    "    vp_by_strategy['sOHM v2'].append(vp_by_strategy_json[i]['vp_by_strategy'][2]),\n",
    "    vp_by_strategy['sOHM v3'].append(vp_by_strategy_json[i]['vp_by_strategy'][3]),\n",
    "    vp_by_strategy['sOHM Multichain LP'].append(vp_by_strategy_json[i]['vp_by_strategy'][4]),\n",
    "    vp_by_strategy['gOHM'].append(vp_by_strategy_json[i]['vp_by_strategy'][5])\n",
    "\n",
    "for key in vp_by_strategy.keys():\n",
    "    proposal_votes[key] = vp_by_strategy[key]\n",
    "\n",
    "proposal_votes.head()"
   ]
  },
  {
   "cell_type": "markdown",
   "metadata": {},
   "source": [
    "## Results\n",
    "The voters had to choose from two options:\n",
    "1. Allow Ribbon Finance\n",
    "2. Do not allow Ribbon Finance\n",
    "\n",
    "At the end of the voting period, **226 votes** were casted, and the winning option was to *Allow Ribbon Finance* with **52.4% of the total voting power** in favor."
   ]
  },
  {
   "cell_type": "code",
   "execution_count": 6,
   "metadata": {},
   "outputs": [
    {
     "data": {
      "application/vnd.plotly.v1+json": {
       "config": {
        "plotlyServerURL": "https://plot.ly"
       },
       "data": [
        {
         "domain": {
          "x": [
           0,
           1
          ],
          "y": [
           0,
           1
          ]
         },
         "hovertemplate": "votes_voter_choice=%{label}<br>votes_vp=%{value}<extra></extra>",
         "labels": [
          "Allow Ribbon Finance",
          "Allow Ribbon Finance",
          "Allow Ribbon Finance",
          "Do not allow Ribbon Finance",
          "Do not allow Ribbon Finance",
          "Do not allow Ribbon Finance",
          "Do not allow Ribbon Finance",
          "Do not allow Ribbon Finance",
          "Do not allow Ribbon Finance",
          "Do not allow Ribbon Finance",
          "Allow Ribbon Finance",
          "Do not allow Ribbon Finance",
          "Allow Ribbon Finance",
          "Do not allow Ribbon Finance",
          "Do not allow Ribbon Finance",
          "Allow Ribbon Finance",
          "Allow Ribbon Finance",
          "Do not allow Ribbon Finance",
          "Allow Ribbon Finance",
          "Allow Ribbon Finance",
          "Allow Ribbon Finance",
          "Allow Ribbon Finance",
          "Do not allow Ribbon Finance",
          "Do not allow Ribbon Finance",
          "Do not allow Ribbon Finance",
          "Allow Ribbon Finance",
          "Do not allow Ribbon Finance",
          "Do not allow Ribbon Finance",
          "Allow Ribbon Finance",
          "Allow Ribbon Finance",
          "Allow Ribbon Finance",
          "Do not allow Ribbon Finance",
          "Allow Ribbon Finance",
          "Allow Ribbon Finance",
          "Allow Ribbon Finance",
          "Allow Ribbon Finance",
          "Allow Ribbon Finance",
          "Do not allow Ribbon Finance",
          "Allow Ribbon Finance",
          "Do not allow Ribbon Finance",
          "Allow Ribbon Finance",
          "Allow Ribbon Finance",
          "Do not allow Ribbon Finance",
          "Allow Ribbon Finance",
          "Do not allow Ribbon Finance",
          "Allow Ribbon Finance",
          "Do not allow Ribbon Finance",
          "Do not allow Ribbon Finance",
          "Allow Ribbon Finance",
          "Do not allow Ribbon Finance",
          "Do not allow Ribbon Finance",
          "Allow Ribbon Finance",
          "Allow Ribbon Finance",
          "Do not allow Ribbon Finance",
          "Allow Ribbon Finance",
          "Do not allow Ribbon Finance",
          "Allow Ribbon Finance",
          "Allow Ribbon Finance",
          "Allow Ribbon Finance",
          "Allow Ribbon Finance",
          "Do not allow Ribbon Finance",
          "Allow Ribbon Finance",
          "Allow Ribbon Finance",
          "Do not allow Ribbon Finance",
          "Do not allow Ribbon Finance",
          "Allow Ribbon Finance",
          "Allow Ribbon Finance",
          "Do not allow Ribbon Finance",
          "Do not allow Ribbon Finance",
          "Do not allow Ribbon Finance",
          "Do not allow Ribbon Finance",
          "Allow Ribbon Finance",
          "Allow Ribbon Finance",
          "Do not allow Ribbon Finance",
          "Allow Ribbon Finance",
          "Allow Ribbon Finance",
          "Allow Ribbon Finance",
          "Allow Ribbon Finance",
          "Allow Ribbon Finance",
          "Allow Ribbon Finance",
          "Allow Ribbon Finance",
          "Do not allow Ribbon Finance",
          "Allow Ribbon Finance",
          "Allow Ribbon Finance",
          "Allow Ribbon Finance",
          "Allow Ribbon Finance",
          "Do not allow Ribbon Finance",
          "Allow Ribbon Finance",
          "Allow Ribbon Finance",
          "Do not allow Ribbon Finance",
          "Do not allow Ribbon Finance",
          "Do not allow Ribbon Finance",
          "Allow Ribbon Finance",
          "Do not allow Ribbon Finance",
          "Allow Ribbon Finance",
          "Do not allow Ribbon Finance",
          "Do not allow Ribbon Finance",
          "Allow Ribbon Finance",
          "Allow Ribbon Finance",
          "Do not allow Ribbon Finance",
          "Allow Ribbon Finance",
          "Do not allow Ribbon Finance",
          "Allow Ribbon Finance",
          "Do not allow Ribbon Finance",
          "Allow Ribbon Finance",
          "Do not allow Ribbon Finance",
          "Allow Ribbon Finance",
          "Allow Ribbon Finance",
          "Allow Ribbon Finance",
          "Do not allow Ribbon Finance",
          "Allow Ribbon Finance",
          "Allow Ribbon Finance",
          "Allow Ribbon Finance",
          "Allow Ribbon Finance",
          "Allow Ribbon Finance",
          "Allow Ribbon Finance",
          "Allow Ribbon Finance",
          "Allow Ribbon Finance",
          "Do not allow Ribbon Finance",
          "Do not allow Ribbon Finance",
          "Do not allow Ribbon Finance",
          "Allow Ribbon Finance",
          "Allow Ribbon Finance",
          "Allow Ribbon Finance",
          "Allow Ribbon Finance",
          "Allow Ribbon Finance",
          "Allow Ribbon Finance",
          "Allow Ribbon Finance",
          "Do not allow Ribbon Finance",
          "Do not allow Ribbon Finance",
          "Do not allow Ribbon Finance",
          "Allow Ribbon Finance",
          "Allow Ribbon Finance",
          "Do not allow Ribbon Finance",
          "Allow Ribbon Finance",
          "Do not allow Ribbon Finance",
          "Allow Ribbon Finance",
          "Do not allow Ribbon Finance",
          "Allow Ribbon Finance",
          "Do not allow Ribbon Finance",
          "Do not allow Ribbon Finance",
          "Allow Ribbon Finance",
          "Do not allow Ribbon Finance",
          "Allow Ribbon Finance",
          "Do not allow Ribbon Finance",
          "Do not allow Ribbon Finance",
          "Do not allow Ribbon Finance",
          "Do not allow Ribbon Finance",
          "Allow Ribbon Finance",
          "Do not allow Ribbon Finance",
          "Do not allow Ribbon Finance",
          "Allow Ribbon Finance",
          "Do not allow Ribbon Finance",
          "Allow Ribbon Finance",
          "Allow Ribbon Finance",
          "Do not allow Ribbon Finance",
          "Allow Ribbon Finance",
          "Allow Ribbon Finance",
          "Allow Ribbon Finance",
          "Allow Ribbon Finance",
          "Allow Ribbon Finance",
          "Do not allow Ribbon Finance",
          "Allow Ribbon Finance",
          "Do not allow Ribbon Finance",
          "Do not allow Ribbon Finance",
          "Allow Ribbon Finance",
          "Do not allow Ribbon Finance",
          "Do not allow Ribbon Finance",
          "Do not allow Ribbon Finance",
          "Do not allow Ribbon Finance",
          "Allow Ribbon Finance",
          "Do not allow Ribbon Finance",
          "Do not allow Ribbon Finance",
          "Allow Ribbon Finance",
          "Do not allow Ribbon Finance",
          "Do not allow Ribbon Finance",
          "Do not allow Ribbon Finance",
          "Do not allow Ribbon Finance",
          "Do not allow Ribbon Finance",
          "Do not allow Ribbon Finance",
          "Do not allow Ribbon Finance",
          "Allow Ribbon Finance",
          "Allow Ribbon Finance",
          "Do not allow Ribbon Finance",
          "Do not allow Ribbon Finance",
          "Do not allow Ribbon Finance",
          "Allow Ribbon Finance",
          "Allow Ribbon Finance",
          "Allow Ribbon Finance",
          "Do not allow Ribbon Finance",
          "Allow Ribbon Finance",
          "Do not allow Ribbon Finance",
          "Do not allow Ribbon Finance",
          "Allow Ribbon Finance",
          "Allow Ribbon Finance",
          "Do not allow Ribbon Finance",
          "Do not allow Ribbon Finance",
          "Do not allow Ribbon Finance",
          "Do not allow Ribbon Finance",
          "Do not allow Ribbon Finance",
          "Allow Ribbon Finance",
          "Allow Ribbon Finance",
          "Do not allow Ribbon Finance",
          "Allow Ribbon Finance",
          "Allow Ribbon Finance",
          "Do not allow Ribbon Finance",
          "Allow Ribbon Finance",
          "Do not allow Ribbon Finance",
          "Do not allow Ribbon Finance",
          "Allow Ribbon Finance",
          "Do not allow Ribbon Finance",
          "Allow Ribbon Finance",
          "Allow Ribbon Finance",
          "Do not allow Ribbon Finance",
          "Allow Ribbon Finance",
          "Allow Ribbon Finance",
          "Allow Ribbon Finance",
          "Do not allow Ribbon Finance",
          "Do not allow Ribbon Finance",
          "Allow Ribbon Finance",
          "Do not allow Ribbon Finance",
          "Allow Ribbon Finance",
          "Allow Ribbon Finance",
          "Allow Ribbon Finance",
          "Allow Ribbon Finance",
          "Allow Ribbon Finance"
         ],
         "legendgroup": "",
         "name": "",
         "showlegend": true,
         "type": "pie",
         "values": [
          4.310302613144218,
          195.2148661462898,
          264.31373630589536,
          2925.506852503282,
          1143.1972499294022,
          15480.808284795696,
          1227.0270411104548,
          21.02443375538154,
          18.750137480016107,
          1121.5694453354756,
          1235.79039011,
          0.8793164251656476,
          9037.370180917562,
          0.004651487452956791,
          2.2828885232229412,
          5.860028557,
          5.736038941458115,
          33.26465053816027,
          0.003517044099019406,
          1698.8234183203351,
          123.61214601861575,
          4.510424277885618,
          2.5951486229090843,
          7.204579403949585,
          1.091772791908815,
          44.533115087,
          270.24484035902486,
          0.909740716,
          6.018662200515324,
          22.12423654208759,
          802.7207727051197,
          141.77283403485012,
          1197.1738338356552,
          216.76207069333105,
          92.36445387915701,
          126.63800665817726,
          37211.470708907866,
          491.93786379080836,
          0.6717537079833273,
          4493.927882462249,
          16.872629346358757,
          17.91458505595188,
          65.34223278669666,
          8.682906846951076,
          78876.03171884081,
          387.9072905892348,
          4599.940698333202,
          96.69630319794103,
          35.91303549504606,
          37.0916475209464,
          183.6397079689837,
          1528.3545644864846,
          2.348869036,
          112.19699670206336,
          3.7048241841923018,
          132.73582854063577,
          13.515205999926918,
          10.659017163731043,
          114.1419390504958,
          1141.2782185240192,
          797.031749724599,
          153.74761036637287,
          0.1114927706962188,
          146.66158377850195,
          32.65439905736378,
          42.105725782742375,
          23782.758138719008,
          4.70814934474252,
          51.988465921537596,
          864.566547985,
          103.41233688928499,
          4.895817044,
          123.579039011,
          257.0484850954327,
          181.11124049,
          54.98706475328294,
          70.55070868006925,
          13.444924037586311,
          8.192791463937525,
          1585.7068289108104,
          1.238580466845763,
          1664.3544874183476,
          50.96250320099814,
          9.836133763697646,
          52.96765434344,
          1731.657218216,
          188.62045897844823,
          4.970463478518339,
          7.327219913219224,
          90.882787211,
          6.52708949604708,
          865.0609832389515,
          2595.8948769307235,
          56.001763632370654,
          5497.938639980286,
          9629.402108180511,
          32235.388438805923,
          251.7230281253148,
          53.55583656147338,
          25.166530449771233,
          46.100160529899405,
          17.363546500833543,
          6.310218804,
          1010.0669810449725,
          44.78236347050026,
          34.806453081,
          229.81845304231385,
          86.25283191010128,
          19.405025168887356,
          520.7305057608828,
          814.6629767729486,
          1071.6558463522215,
          38.451355198481906,
          309.2084980344911,
          77.58466850563273,
          20.09523716776465,
          52.909347808914156,
          1038.977368136,
          1512.2858660540146,
          345.306414117,
          29.763057981108748,
          6.78978838697838,
          790.7634863007343,
          28.103428216,
          685.7406116982359,
          8.497697839,
          4.221934684,
          312.16694357254534,
          9.783818493693166,
          28.892701881274114,
          134.07875781657054,
          4729.6109664110645,
          70.087397449457,
          779.0517096030937,
          10.104735551993292,
          38.8564331892933,
          321.305501432245,
          147.14500557464964,
          735.1710562720356,
          143.02197976860396,
          62.626276257862386,
          164.09059906386656,
          58.31299938198096,
          201.34996265150366,
          138.9637855746599,
          2.8999715802889123,
          14.673934403088065,
          5.995795581368452,
          5221.509110982988,
          22.088923949572372,
          9.395285867283578,
          4685.817989966537,
          123.06072405307174,
          54612.196796559,
          5.095113243911023,
          62.89670495780023,
          1765.9800904122349,
          26.502221909881687,
          199.76571245111555,
          27.791215664373137,
          95.33704147122027,
          109.84280347921374,
          507.5986851161908,
          1637.480980233237,
          1169.338880512,
          0.9779517265317289,
          460.35733657017397,
          29.929703959574045,
          5134.1996665559,
          280.26098736697793,
          17.620089611630295,
          5575.5557475766445,
          68.48886024807206,
          34.92292605477654,
          1891.1215055297962,
          1403.254119128397,
          1491.8072183978143,
          123.65240235289336,
          874.6547669635713,
          0.03710051896848063,
          1380.701903307244,
          990.5616301258395,
          1877.3531009422752,
          132.51022209910917,
          123.579039011,
          36.30279392595783,
          252.21606222907886,
          343.1612088781932,
          11.344329314815067,
          284.873474186104,
          2002.6141530815105,
          220.187187107,
          1525.8485147478962,
          2750.3673737170816,
          17.612299874,
          33.49744801811803,
          87.71666197066108,
          841.5997218777059,
          100.5341443,
          23.72435880092737,
          88.413231540854,
          29.989196524197347,
          14026.767618018503,
          1125.8355240293567,
          11956.324935483332,
          176.15574115822997,
          8.850917417,
          232.80268426692822,
          99.65798820572044,
          2585.3051090189406,
          10588.244760297126,
          6777.909366716007,
          443.1122895671176,
          496.25425324199114,
          14579.010974231265,
          757.7800614521119,
          159.544541268,
          0.351313655,
          6501.549966454444,
          4e-9,
          34.91768791295821,
          169.60124099565317,
          1541.1224669129483,
          16724.453857435376,
          4440.144519022067,
          2828.764569430913
         ]
        }
       ],
       "layout": {
        "legend": {
         "tracegroupgap": 0
        },
        "template": {
         "data": {
          "bar": [
           {
            "error_x": {
             "color": "#2a3f5f"
            },
            "error_y": {
             "color": "#2a3f5f"
            },
            "marker": {
             "line": {
              "color": "#E5ECF6",
              "width": 0.5
             },
             "pattern": {
              "fillmode": "overlay",
              "size": 10,
              "solidity": 0.2
             }
            },
            "type": "bar"
           }
          ],
          "barpolar": [
           {
            "marker": {
             "line": {
              "color": "#E5ECF6",
              "width": 0.5
             },
             "pattern": {
              "fillmode": "overlay",
              "size": 10,
              "solidity": 0.2
             }
            },
            "type": "barpolar"
           }
          ],
          "carpet": [
           {
            "aaxis": {
             "endlinecolor": "#2a3f5f",
             "gridcolor": "white",
             "linecolor": "white",
             "minorgridcolor": "white",
             "startlinecolor": "#2a3f5f"
            },
            "baxis": {
             "endlinecolor": "#2a3f5f",
             "gridcolor": "white",
             "linecolor": "white",
             "minorgridcolor": "white",
             "startlinecolor": "#2a3f5f"
            },
            "type": "carpet"
           }
          ],
          "choropleth": [
           {
            "colorbar": {
             "outlinewidth": 0,
             "ticks": ""
            },
            "type": "choropleth"
           }
          ],
          "contour": [
           {
            "colorbar": {
             "outlinewidth": 0,
             "ticks": ""
            },
            "colorscale": [
             [
              0,
              "#0d0887"
             ],
             [
              0.1111111111111111,
              "#46039f"
             ],
             [
              0.2222222222222222,
              "#7201a8"
             ],
             [
              0.3333333333333333,
              "#9c179e"
             ],
             [
              0.4444444444444444,
              "#bd3786"
             ],
             [
              0.5555555555555556,
              "#d8576b"
             ],
             [
              0.6666666666666666,
              "#ed7953"
             ],
             [
              0.7777777777777778,
              "#fb9f3a"
             ],
             [
              0.8888888888888888,
              "#fdca26"
             ],
             [
              1,
              "#f0f921"
             ]
            ],
            "type": "contour"
           }
          ],
          "contourcarpet": [
           {
            "colorbar": {
             "outlinewidth": 0,
             "ticks": ""
            },
            "type": "contourcarpet"
           }
          ],
          "heatmap": [
           {
            "colorbar": {
             "outlinewidth": 0,
             "ticks": ""
            },
            "colorscale": [
             [
              0,
              "#0d0887"
             ],
             [
              0.1111111111111111,
              "#46039f"
             ],
             [
              0.2222222222222222,
              "#7201a8"
             ],
             [
              0.3333333333333333,
              "#9c179e"
             ],
             [
              0.4444444444444444,
              "#bd3786"
             ],
             [
              0.5555555555555556,
              "#d8576b"
             ],
             [
              0.6666666666666666,
              "#ed7953"
             ],
             [
              0.7777777777777778,
              "#fb9f3a"
             ],
             [
              0.8888888888888888,
              "#fdca26"
             ],
             [
              1,
              "#f0f921"
             ]
            ],
            "type": "heatmap"
           }
          ],
          "heatmapgl": [
           {
            "colorbar": {
             "outlinewidth": 0,
             "ticks": ""
            },
            "colorscale": [
             [
              0,
              "#0d0887"
             ],
             [
              0.1111111111111111,
              "#46039f"
             ],
             [
              0.2222222222222222,
              "#7201a8"
             ],
             [
              0.3333333333333333,
              "#9c179e"
             ],
             [
              0.4444444444444444,
              "#bd3786"
             ],
             [
              0.5555555555555556,
              "#d8576b"
             ],
             [
              0.6666666666666666,
              "#ed7953"
             ],
             [
              0.7777777777777778,
              "#fb9f3a"
             ],
             [
              0.8888888888888888,
              "#fdca26"
             ],
             [
              1,
              "#f0f921"
             ]
            ],
            "type": "heatmapgl"
           }
          ],
          "histogram": [
           {
            "marker": {
             "pattern": {
              "fillmode": "overlay",
              "size": 10,
              "solidity": 0.2
             }
            },
            "type": "histogram"
           }
          ],
          "histogram2d": [
           {
            "colorbar": {
             "outlinewidth": 0,
             "ticks": ""
            },
            "colorscale": [
             [
              0,
              "#0d0887"
             ],
             [
              0.1111111111111111,
              "#46039f"
             ],
             [
              0.2222222222222222,
              "#7201a8"
             ],
             [
              0.3333333333333333,
              "#9c179e"
             ],
             [
              0.4444444444444444,
              "#bd3786"
             ],
             [
              0.5555555555555556,
              "#d8576b"
             ],
             [
              0.6666666666666666,
              "#ed7953"
             ],
             [
              0.7777777777777778,
              "#fb9f3a"
             ],
             [
              0.8888888888888888,
              "#fdca26"
             ],
             [
              1,
              "#f0f921"
             ]
            ],
            "type": "histogram2d"
           }
          ],
          "histogram2dcontour": [
           {
            "colorbar": {
             "outlinewidth": 0,
             "ticks": ""
            },
            "colorscale": [
             [
              0,
              "#0d0887"
             ],
             [
              0.1111111111111111,
              "#46039f"
             ],
             [
              0.2222222222222222,
              "#7201a8"
             ],
             [
              0.3333333333333333,
              "#9c179e"
             ],
             [
              0.4444444444444444,
              "#bd3786"
             ],
             [
              0.5555555555555556,
              "#d8576b"
             ],
             [
              0.6666666666666666,
              "#ed7953"
             ],
             [
              0.7777777777777778,
              "#fb9f3a"
             ],
             [
              0.8888888888888888,
              "#fdca26"
             ],
             [
              1,
              "#f0f921"
             ]
            ],
            "type": "histogram2dcontour"
           }
          ],
          "mesh3d": [
           {
            "colorbar": {
             "outlinewidth": 0,
             "ticks": ""
            },
            "type": "mesh3d"
           }
          ],
          "parcoords": [
           {
            "line": {
             "colorbar": {
              "outlinewidth": 0,
              "ticks": ""
             }
            },
            "type": "parcoords"
           }
          ],
          "pie": [
           {
            "automargin": true,
            "type": "pie"
           }
          ],
          "scatter": [
           {
            "fillpattern": {
             "fillmode": "overlay",
             "size": 10,
             "solidity": 0.2
            },
            "type": "scatter"
           }
          ],
          "scatter3d": [
           {
            "line": {
             "colorbar": {
              "outlinewidth": 0,
              "ticks": ""
             }
            },
            "marker": {
             "colorbar": {
              "outlinewidth": 0,
              "ticks": ""
             }
            },
            "type": "scatter3d"
           }
          ],
          "scattercarpet": [
           {
            "marker": {
             "colorbar": {
              "outlinewidth": 0,
              "ticks": ""
             }
            },
            "type": "scattercarpet"
           }
          ],
          "scattergeo": [
           {
            "marker": {
             "colorbar": {
              "outlinewidth": 0,
              "ticks": ""
             }
            },
            "type": "scattergeo"
           }
          ],
          "scattergl": [
           {
            "marker": {
             "colorbar": {
              "outlinewidth": 0,
              "ticks": ""
             }
            },
            "type": "scattergl"
           }
          ],
          "scattermapbox": [
           {
            "marker": {
             "colorbar": {
              "outlinewidth": 0,
              "ticks": ""
             }
            },
            "type": "scattermapbox"
           }
          ],
          "scatterpolar": [
           {
            "marker": {
             "colorbar": {
              "outlinewidth": 0,
              "ticks": ""
             }
            },
            "type": "scatterpolar"
           }
          ],
          "scatterpolargl": [
           {
            "marker": {
             "colorbar": {
              "outlinewidth": 0,
              "ticks": ""
             }
            },
            "type": "scatterpolargl"
           }
          ],
          "scatterternary": [
           {
            "marker": {
             "colorbar": {
              "outlinewidth": 0,
              "ticks": ""
             }
            },
            "type": "scatterternary"
           }
          ],
          "surface": [
           {
            "colorbar": {
             "outlinewidth": 0,
             "ticks": ""
            },
            "colorscale": [
             [
              0,
              "#0d0887"
             ],
             [
              0.1111111111111111,
              "#46039f"
             ],
             [
              0.2222222222222222,
              "#7201a8"
             ],
             [
              0.3333333333333333,
              "#9c179e"
             ],
             [
              0.4444444444444444,
              "#bd3786"
             ],
             [
              0.5555555555555556,
              "#d8576b"
             ],
             [
              0.6666666666666666,
              "#ed7953"
             ],
             [
              0.7777777777777778,
              "#fb9f3a"
             ],
             [
              0.8888888888888888,
              "#fdca26"
             ],
             [
              1,
              "#f0f921"
             ]
            ],
            "type": "surface"
           }
          ],
          "table": [
           {
            "cells": {
             "fill": {
              "color": "#EBF0F8"
             },
             "line": {
              "color": "white"
             }
            },
            "header": {
             "fill": {
              "color": "#C8D4E3"
             },
             "line": {
              "color": "white"
             }
            },
            "type": "table"
           }
          ]
         },
         "layout": {
          "annotationdefaults": {
           "arrowcolor": "#2a3f5f",
           "arrowhead": 0,
           "arrowwidth": 1
          },
          "autotypenumbers": "strict",
          "coloraxis": {
           "colorbar": {
            "outlinewidth": 0,
            "ticks": ""
           }
          },
          "colorscale": {
           "diverging": [
            [
             0,
             "#8e0152"
            ],
            [
             0.1,
             "#c51b7d"
            ],
            [
             0.2,
             "#de77ae"
            ],
            [
             0.3,
             "#f1b6da"
            ],
            [
             0.4,
             "#fde0ef"
            ],
            [
             0.5,
             "#f7f7f7"
            ],
            [
             0.6,
             "#e6f5d0"
            ],
            [
             0.7,
             "#b8e186"
            ],
            [
             0.8,
             "#7fbc41"
            ],
            [
             0.9,
             "#4d9221"
            ],
            [
             1,
             "#276419"
            ]
           ],
           "sequential": [
            [
             0,
             "#0d0887"
            ],
            [
             0.1111111111111111,
             "#46039f"
            ],
            [
             0.2222222222222222,
             "#7201a8"
            ],
            [
             0.3333333333333333,
             "#9c179e"
            ],
            [
             0.4444444444444444,
             "#bd3786"
            ],
            [
             0.5555555555555556,
             "#d8576b"
            ],
            [
             0.6666666666666666,
             "#ed7953"
            ],
            [
             0.7777777777777778,
             "#fb9f3a"
            ],
            [
             0.8888888888888888,
             "#fdca26"
            ],
            [
             1,
             "#f0f921"
            ]
           ],
           "sequentialminus": [
            [
             0,
             "#0d0887"
            ],
            [
             0.1111111111111111,
             "#46039f"
            ],
            [
             0.2222222222222222,
             "#7201a8"
            ],
            [
             0.3333333333333333,
             "#9c179e"
            ],
            [
             0.4444444444444444,
             "#bd3786"
            ],
            [
             0.5555555555555556,
             "#d8576b"
            ],
            [
             0.6666666666666666,
             "#ed7953"
            ],
            [
             0.7777777777777778,
             "#fb9f3a"
            ],
            [
             0.8888888888888888,
             "#fdca26"
            ],
            [
             1,
             "#f0f921"
            ]
           ]
          },
          "colorway": [
           "#636efa",
           "#EF553B",
           "#00cc96",
           "#ab63fa",
           "#FFA15A",
           "#19d3f3",
           "#FF6692",
           "#B6E880",
           "#FF97FF",
           "#FECB52"
          ],
          "font": {
           "color": "#2a3f5f"
          },
          "geo": {
           "bgcolor": "white",
           "lakecolor": "white",
           "landcolor": "#E5ECF6",
           "showlakes": true,
           "showland": true,
           "subunitcolor": "white"
          },
          "hoverlabel": {
           "align": "left"
          },
          "hovermode": "closest",
          "mapbox": {
           "style": "light"
          },
          "paper_bgcolor": "white",
          "plot_bgcolor": "#E5ECF6",
          "polar": {
           "angularaxis": {
            "gridcolor": "white",
            "linecolor": "white",
            "ticks": ""
           },
           "bgcolor": "#E5ECF6",
           "radialaxis": {
            "gridcolor": "white",
            "linecolor": "white",
            "ticks": ""
           }
          },
          "scene": {
           "xaxis": {
            "backgroundcolor": "#E5ECF6",
            "gridcolor": "white",
            "gridwidth": 2,
            "linecolor": "white",
            "showbackground": true,
            "ticks": "",
            "zerolinecolor": "white"
           },
           "yaxis": {
            "backgroundcolor": "#E5ECF6",
            "gridcolor": "white",
            "gridwidth": 2,
            "linecolor": "white",
            "showbackground": true,
            "ticks": "",
            "zerolinecolor": "white"
           },
           "zaxis": {
            "backgroundcolor": "#E5ECF6",
            "gridcolor": "white",
            "gridwidth": 2,
            "linecolor": "white",
            "showbackground": true,
            "ticks": "",
            "zerolinecolor": "white"
           }
          },
          "shapedefaults": {
           "line": {
            "color": "#2a3f5f"
           }
          },
          "ternary": {
           "aaxis": {
            "gridcolor": "white",
            "linecolor": "white",
            "ticks": ""
           },
           "baxis": {
            "gridcolor": "white",
            "linecolor": "white",
            "ticks": ""
           },
           "bgcolor": "#E5ECF6",
           "caxis": {
            "gridcolor": "white",
            "linecolor": "white",
            "ticks": ""
           }
          },
          "title": {
           "x": 0.05
          },
          "xaxis": {
           "automargin": true,
           "gridcolor": "white",
           "linecolor": "white",
           "ticks": "",
           "title": {
            "standoff": 15
           },
           "zerolinecolor": "white",
           "zerolinewidth": 2
          },
          "yaxis": {
           "automargin": true,
           "gridcolor": "white",
           "linecolor": "white",
           "ticks": "",
           "title": {
            "standoff": 15
           },
           "zerolinecolor": "white",
           "zerolinewidth": 2
          }
         }
        },
        "title": {
         "text": "Outcome of Proposal TAP-11: Ribbon Finance Whitelist"
        }
       }
      }
     },
     "metadata": {},
     "output_type": "display_data"
    }
   ],
   "source": [
    "fig = px.pie(proposal_votes,\n",
    "    values = 'votes_vp',\n",
    "    names = 'votes_voter_choice',\n",
    "    title = 'Outcome of Proposal TAP-11: Ribbon Finance Whitelist',\n",
    "    color_discrete_map = {\n",
    "        'Do not allow Ribbon Finance': 'red',\n",
    "        'Allow Ribbon Finance': 'blue'\n",
    "    }\n",
    "    )\n",
    "\n",
    "fig.show()"
   ]
  },
  {
   "cell_type": "markdown",
   "metadata": {},
   "source": [
    "The daily barchart below allows us to observe the voting process by the chosen option. After the first few days of people mostly opting for the second option, the results turned around with a massive and consistent vote for the first option over the last two days."
   ]
  },
  {
   "cell_type": "code",
   "execution_count": 7,
   "metadata": {},
   "outputs": [
    {
     "data": {
      "application/vnd.plotly.v1+json": {
       "config": {
        "plotlyServerURL": "https://plot.ly"
       },
       "data": [
        {
         "alignmentgroup": "True",
         "hovertemplate": "votes_voter_choice=Allow Ribbon Finance<br>DATE=%{x}<br>Votes=%{y}<extra></extra>",
         "legendgroup": "Allow Ribbon Finance",
         "marker": {
          "color": "#636efa",
          "pattern": {
           "shape": ""
          }
         },
         "name": "Allow Ribbon Finance",
         "offsetgroup": "Allow Ribbon Finance",
         "orientation": "v",
         "showlegend": true,
         "textposition": "auto",
         "type": "bar",
         "x": [
          "2022-04-19",
          "2022-04-20",
          "2022-04-21",
          "2022-04-22",
          "2022-04-23"
         ],
         "xaxis": "x",
         "y": [
          463.8389050653294,
          82993.62799959446,
          19957.890280314245,
          73043.80599145747,
          66984.14247464022
         ],
         "yaxis": "y"
        },
        {
         "alignmentgroup": "True",
         "hovertemplate": "votes_voter_choice=Do not allow Ribbon Finance<br>DATE=%{x}<br>Votes=%{y}<extra></extra>",
         "legendgroup": "Do not allow Ribbon Finance",
         "marker": {
          "color": "#EF553B",
          "pattern": {
           "shape": ""
          }
         },
         "name": "Do not allow Ribbon Finance",
         "offsetgroup": "Do not allow Ribbon Finance",
         "orientation": "v",
         "showlegend": true,
         "textposition": "auto",
         "type": "bar",
         "x": [
          "2022-04-19",
          "2022-04-20",
          "2022-04-21",
          "2022-04-22",
          "2022-04-23"
         ],
         "xaxis": "x",
         "y": [
          21937.88344490971,
          93758.24784394728,
          47624.79933143238,
          22646.237637271763,
          34989.81005003321
         ],
         "yaxis": "y"
        }
       ],
       "layout": {
        "barmode": "relative",
        "legend": {
         "title": {
          "text": "CHOICE"
         },
         "tracegroupgap": 0
        },
        "template": {
         "data": {
          "bar": [
           {
            "error_x": {
             "color": "#2a3f5f"
            },
            "error_y": {
             "color": "#2a3f5f"
            },
            "marker": {
             "line": {
              "color": "#E5ECF6",
              "width": 0.5
             },
             "pattern": {
              "fillmode": "overlay",
              "size": 10,
              "solidity": 0.2
             }
            },
            "type": "bar"
           }
          ],
          "barpolar": [
           {
            "marker": {
             "line": {
              "color": "#E5ECF6",
              "width": 0.5
             },
             "pattern": {
              "fillmode": "overlay",
              "size": 10,
              "solidity": 0.2
             }
            },
            "type": "barpolar"
           }
          ],
          "carpet": [
           {
            "aaxis": {
             "endlinecolor": "#2a3f5f",
             "gridcolor": "white",
             "linecolor": "white",
             "minorgridcolor": "white",
             "startlinecolor": "#2a3f5f"
            },
            "baxis": {
             "endlinecolor": "#2a3f5f",
             "gridcolor": "white",
             "linecolor": "white",
             "minorgridcolor": "white",
             "startlinecolor": "#2a3f5f"
            },
            "type": "carpet"
           }
          ],
          "choropleth": [
           {
            "colorbar": {
             "outlinewidth": 0,
             "ticks": ""
            },
            "type": "choropleth"
           }
          ],
          "contour": [
           {
            "colorbar": {
             "outlinewidth": 0,
             "ticks": ""
            },
            "colorscale": [
             [
              0,
              "#0d0887"
             ],
             [
              0.1111111111111111,
              "#46039f"
             ],
             [
              0.2222222222222222,
              "#7201a8"
             ],
             [
              0.3333333333333333,
              "#9c179e"
             ],
             [
              0.4444444444444444,
              "#bd3786"
             ],
             [
              0.5555555555555556,
              "#d8576b"
             ],
             [
              0.6666666666666666,
              "#ed7953"
             ],
             [
              0.7777777777777778,
              "#fb9f3a"
             ],
             [
              0.8888888888888888,
              "#fdca26"
             ],
             [
              1,
              "#f0f921"
             ]
            ],
            "type": "contour"
           }
          ],
          "contourcarpet": [
           {
            "colorbar": {
             "outlinewidth": 0,
             "ticks": ""
            },
            "type": "contourcarpet"
           }
          ],
          "heatmap": [
           {
            "colorbar": {
             "outlinewidth": 0,
             "ticks": ""
            },
            "colorscale": [
             [
              0,
              "#0d0887"
             ],
             [
              0.1111111111111111,
              "#46039f"
             ],
             [
              0.2222222222222222,
              "#7201a8"
             ],
             [
              0.3333333333333333,
              "#9c179e"
             ],
             [
              0.4444444444444444,
              "#bd3786"
             ],
             [
              0.5555555555555556,
              "#d8576b"
             ],
             [
              0.6666666666666666,
              "#ed7953"
             ],
             [
              0.7777777777777778,
              "#fb9f3a"
             ],
             [
              0.8888888888888888,
              "#fdca26"
             ],
             [
              1,
              "#f0f921"
             ]
            ],
            "type": "heatmap"
           }
          ],
          "heatmapgl": [
           {
            "colorbar": {
             "outlinewidth": 0,
             "ticks": ""
            },
            "colorscale": [
             [
              0,
              "#0d0887"
             ],
             [
              0.1111111111111111,
              "#46039f"
             ],
             [
              0.2222222222222222,
              "#7201a8"
             ],
             [
              0.3333333333333333,
              "#9c179e"
             ],
             [
              0.4444444444444444,
              "#bd3786"
             ],
             [
              0.5555555555555556,
              "#d8576b"
             ],
             [
              0.6666666666666666,
              "#ed7953"
             ],
             [
              0.7777777777777778,
              "#fb9f3a"
             ],
             [
              0.8888888888888888,
              "#fdca26"
             ],
             [
              1,
              "#f0f921"
             ]
            ],
            "type": "heatmapgl"
           }
          ],
          "histogram": [
           {
            "marker": {
             "pattern": {
              "fillmode": "overlay",
              "size": 10,
              "solidity": 0.2
             }
            },
            "type": "histogram"
           }
          ],
          "histogram2d": [
           {
            "colorbar": {
             "outlinewidth": 0,
             "ticks": ""
            },
            "colorscale": [
             [
              0,
              "#0d0887"
             ],
             [
              0.1111111111111111,
              "#46039f"
             ],
             [
              0.2222222222222222,
              "#7201a8"
             ],
             [
              0.3333333333333333,
              "#9c179e"
             ],
             [
              0.4444444444444444,
              "#bd3786"
             ],
             [
              0.5555555555555556,
              "#d8576b"
             ],
             [
              0.6666666666666666,
              "#ed7953"
             ],
             [
              0.7777777777777778,
              "#fb9f3a"
             ],
             [
              0.8888888888888888,
              "#fdca26"
             ],
             [
              1,
              "#f0f921"
             ]
            ],
            "type": "histogram2d"
           }
          ],
          "histogram2dcontour": [
           {
            "colorbar": {
             "outlinewidth": 0,
             "ticks": ""
            },
            "colorscale": [
             [
              0,
              "#0d0887"
             ],
             [
              0.1111111111111111,
              "#46039f"
             ],
             [
              0.2222222222222222,
              "#7201a8"
             ],
             [
              0.3333333333333333,
              "#9c179e"
             ],
             [
              0.4444444444444444,
              "#bd3786"
             ],
             [
              0.5555555555555556,
              "#d8576b"
             ],
             [
              0.6666666666666666,
              "#ed7953"
             ],
             [
              0.7777777777777778,
              "#fb9f3a"
             ],
             [
              0.8888888888888888,
              "#fdca26"
             ],
             [
              1,
              "#f0f921"
             ]
            ],
            "type": "histogram2dcontour"
           }
          ],
          "mesh3d": [
           {
            "colorbar": {
             "outlinewidth": 0,
             "ticks": ""
            },
            "type": "mesh3d"
           }
          ],
          "parcoords": [
           {
            "line": {
             "colorbar": {
              "outlinewidth": 0,
              "ticks": ""
             }
            },
            "type": "parcoords"
           }
          ],
          "pie": [
           {
            "automargin": true,
            "type": "pie"
           }
          ],
          "scatter": [
           {
            "fillpattern": {
             "fillmode": "overlay",
             "size": 10,
             "solidity": 0.2
            },
            "type": "scatter"
           }
          ],
          "scatter3d": [
           {
            "line": {
             "colorbar": {
              "outlinewidth": 0,
              "ticks": ""
             }
            },
            "marker": {
             "colorbar": {
              "outlinewidth": 0,
              "ticks": ""
             }
            },
            "type": "scatter3d"
           }
          ],
          "scattercarpet": [
           {
            "marker": {
             "colorbar": {
              "outlinewidth": 0,
              "ticks": ""
             }
            },
            "type": "scattercarpet"
           }
          ],
          "scattergeo": [
           {
            "marker": {
             "colorbar": {
              "outlinewidth": 0,
              "ticks": ""
             }
            },
            "type": "scattergeo"
           }
          ],
          "scattergl": [
           {
            "marker": {
             "colorbar": {
              "outlinewidth": 0,
              "ticks": ""
             }
            },
            "type": "scattergl"
           }
          ],
          "scattermapbox": [
           {
            "marker": {
             "colorbar": {
              "outlinewidth": 0,
              "ticks": ""
             }
            },
            "type": "scattermapbox"
           }
          ],
          "scatterpolar": [
           {
            "marker": {
             "colorbar": {
              "outlinewidth": 0,
              "ticks": ""
             }
            },
            "type": "scatterpolar"
           }
          ],
          "scatterpolargl": [
           {
            "marker": {
             "colorbar": {
              "outlinewidth": 0,
              "ticks": ""
             }
            },
            "type": "scatterpolargl"
           }
          ],
          "scatterternary": [
           {
            "marker": {
             "colorbar": {
              "outlinewidth": 0,
              "ticks": ""
             }
            },
            "type": "scatterternary"
           }
          ],
          "surface": [
           {
            "colorbar": {
             "outlinewidth": 0,
             "ticks": ""
            },
            "colorscale": [
             [
              0,
              "#0d0887"
             ],
             [
              0.1111111111111111,
              "#46039f"
             ],
             [
              0.2222222222222222,
              "#7201a8"
             ],
             [
              0.3333333333333333,
              "#9c179e"
             ],
             [
              0.4444444444444444,
              "#bd3786"
             ],
             [
              0.5555555555555556,
              "#d8576b"
             ],
             [
              0.6666666666666666,
              "#ed7953"
             ],
             [
              0.7777777777777778,
              "#fb9f3a"
             ],
             [
              0.8888888888888888,
              "#fdca26"
             ],
             [
              1,
              "#f0f921"
             ]
            ],
            "type": "surface"
           }
          ],
          "table": [
           {
            "cells": {
             "fill": {
              "color": "#EBF0F8"
             },
             "line": {
              "color": "white"
             }
            },
            "header": {
             "fill": {
              "color": "#C8D4E3"
             },
             "line": {
              "color": "white"
             }
            },
            "type": "table"
           }
          ]
         },
         "layout": {
          "annotationdefaults": {
           "arrowcolor": "#2a3f5f",
           "arrowhead": 0,
           "arrowwidth": 1
          },
          "autotypenumbers": "strict",
          "coloraxis": {
           "colorbar": {
            "outlinewidth": 0,
            "ticks": ""
           }
          },
          "colorscale": {
           "diverging": [
            [
             0,
             "#8e0152"
            ],
            [
             0.1,
             "#c51b7d"
            ],
            [
             0.2,
             "#de77ae"
            ],
            [
             0.3,
             "#f1b6da"
            ],
            [
             0.4,
             "#fde0ef"
            ],
            [
             0.5,
             "#f7f7f7"
            ],
            [
             0.6,
             "#e6f5d0"
            ],
            [
             0.7,
             "#b8e186"
            ],
            [
             0.8,
             "#7fbc41"
            ],
            [
             0.9,
             "#4d9221"
            ],
            [
             1,
             "#276419"
            ]
           ],
           "sequential": [
            [
             0,
             "#0d0887"
            ],
            [
             0.1111111111111111,
             "#46039f"
            ],
            [
             0.2222222222222222,
             "#7201a8"
            ],
            [
             0.3333333333333333,
             "#9c179e"
            ],
            [
             0.4444444444444444,
             "#bd3786"
            ],
            [
             0.5555555555555556,
             "#d8576b"
            ],
            [
             0.6666666666666666,
             "#ed7953"
            ],
            [
             0.7777777777777778,
             "#fb9f3a"
            ],
            [
             0.8888888888888888,
             "#fdca26"
            ],
            [
             1,
             "#f0f921"
            ]
           ],
           "sequentialminus": [
            [
             0,
             "#0d0887"
            ],
            [
             0.1111111111111111,
             "#46039f"
            ],
            [
             0.2222222222222222,
             "#7201a8"
            ],
            [
             0.3333333333333333,
             "#9c179e"
            ],
            [
             0.4444444444444444,
             "#bd3786"
            ],
            [
             0.5555555555555556,
             "#d8576b"
            ],
            [
             0.6666666666666666,
             "#ed7953"
            ],
            [
             0.7777777777777778,
             "#fb9f3a"
            ],
            [
             0.8888888888888888,
             "#fdca26"
            ],
            [
             1,
             "#f0f921"
            ]
           ]
          },
          "colorway": [
           "#636efa",
           "#EF553B",
           "#00cc96",
           "#ab63fa",
           "#FFA15A",
           "#19d3f3",
           "#FF6692",
           "#B6E880",
           "#FF97FF",
           "#FECB52"
          ],
          "font": {
           "color": "#2a3f5f"
          },
          "geo": {
           "bgcolor": "white",
           "lakecolor": "white",
           "landcolor": "#E5ECF6",
           "showlakes": true,
           "showland": true,
           "subunitcolor": "white"
          },
          "hoverlabel": {
           "align": "left"
          },
          "hovermode": "closest",
          "mapbox": {
           "style": "light"
          },
          "paper_bgcolor": "white",
          "plot_bgcolor": "#E5ECF6",
          "polar": {
           "angularaxis": {
            "gridcolor": "white",
            "linecolor": "white",
            "ticks": ""
           },
           "bgcolor": "#E5ECF6",
           "radialaxis": {
            "gridcolor": "white",
            "linecolor": "white",
            "ticks": ""
           }
          },
          "scene": {
           "xaxis": {
            "backgroundcolor": "#E5ECF6",
            "gridcolor": "white",
            "gridwidth": 2,
            "linecolor": "white",
            "showbackground": true,
            "ticks": "",
            "zerolinecolor": "white"
           },
           "yaxis": {
            "backgroundcolor": "#E5ECF6",
            "gridcolor": "white",
            "gridwidth": 2,
            "linecolor": "white",
            "showbackground": true,
            "ticks": "",
            "zerolinecolor": "white"
           },
           "zaxis": {
            "backgroundcolor": "#E5ECF6",
            "gridcolor": "white",
            "gridwidth": 2,
            "linecolor": "white",
            "showbackground": true,
            "ticks": "",
            "zerolinecolor": "white"
           }
          },
          "shapedefaults": {
           "line": {
            "color": "#2a3f5f"
           }
          },
          "ternary": {
           "aaxis": {
            "gridcolor": "white",
            "linecolor": "white",
            "ticks": ""
           },
           "baxis": {
            "gridcolor": "white",
            "linecolor": "white",
            "ticks": ""
           },
           "bgcolor": "#E5ECF6",
           "caxis": {
            "gridcolor": "white",
            "linecolor": "white",
            "ticks": ""
           }
          },
          "title": {
           "x": 0.05
          },
          "xaxis": {
           "automargin": true,
           "gridcolor": "white",
           "linecolor": "white",
           "ticks": "",
           "title": {
            "standoff": 15
           },
           "zerolinecolor": "white",
           "zerolinewidth": 2
          },
          "yaxis": {
           "automargin": true,
           "gridcolor": "white",
           "linecolor": "white",
           "ticks": "",
           "title": {
            "standoff": 15
           },
           "zerolinecolor": "white",
           "zerolinewidth": 2
          }
         }
        },
        "title": {
         "text": "Daily Votes by Choice"
        },
        "xaxis": {
         "anchor": "y",
         "domain": [
          0,
          1
         ],
         "title": {
          "text": "DATE"
         }
        },
        "yaxis": {
         "anchor": "x",
         "domain": [
          0,
          1
         ],
         "title": {
          "text": "Votes"
         }
        }
       }
      }
     },
     "metadata": {},
     "output_type": "display_data"
    }
   ],
   "source": [
    "votes_date = proposal_votes.groupby(['votes_date_vote', 'votes_voter_choice']).votes_vp.sum().reset_index()\n",
    "# votes_date\n",
    "fig = px.bar(votes_date, \n",
    "    x='votes_date_vote', \n",
    "    y='votes_vp', \n",
    "    color='votes_voter_choice',\n",
    "    title = 'Daily Votes by Choice',\n",
    "    labels = dict(votes_date_vote = 'DATE',\n",
    "        votes_vp = 'Votes')\n",
    "    )\n",
    "fig.update_layout(legend_title_text='CHOICE')\n",
    "fig.show()"
   ]
  },
  {
   "cell_type": "markdown",
   "metadata": {},
   "source": [
    "Whenever a vote changes course in the later parts of the process, participants might suspect it's the result of a small number of voters leveraging a large amount of voting power. In this case however, the popular vote closely resembles the result of the vote.\n",
    "\n",
    "The option to *Allow Ribbon Finance* was chosen by **122 voters**, or 54% of the participants."
   ]
  },
  {
   "cell_type": "code",
   "execution_count": 8,
   "metadata": {},
   "outputs": [
    {
     "data": {
      "application/vnd.plotly.v1+json": {
       "config": {
        "plotlyServerURL": "https://plot.ly"
       },
       "data": [
        {
         "domain": {
          "x": [
           0,
           1
          ],
          "y": [
           0,
           1
          ]
         },
         "hovertemplate": "votes_voter_choice=%{label}<br>votes_voter=%{value}<extra></extra>",
         "labels": [
          "Allow Ribbon Finance",
          "Do not allow Ribbon Finance"
         ],
         "legendgroup": "",
         "name": "",
         "showlegend": true,
         "type": "pie",
         "values": [
          122,
          104
         ]
        }
       ],
       "layout": {
        "legend": {
         "tracegroupgap": 0
        },
        "template": {
         "data": {
          "bar": [
           {
            "error_x": {
             "color": "#2a3f5f"
            },
            "error_y": {
             "color": "#2a3f5f"
            },
            "marker": {
             "line": {
              "color": "#E5ECF6",
              "width": 0.5
             },
             "pattern": {
              "fillmode": "overlay",
              "size": 10,
              "solidity": 0.2
             }
            },
            "type": "bar"
           }
          ],
          "barpolar": [
           {
            "marker": {
             "line": {
              "color": "#E5ECF6",
              "width": 0.5
             },
             "pattern": {
              "fillmode": "overlay",
              "size": 10,
              "solidity": 0.2
             }
            },
            "type": "barpolar"
           }
          ],
          "carpet": [
           {
            "aaxis": {
             "endlinecolor": "#2a3f5f",
             "gridcolor": "white",
             "linecolor": "white",
             "minorgridcolor": "white",
             "startlinecolor": "#2a3f5f"
            },
            "baxis": {
             "endlinecolor": "#2a3f5f",
             "gridcolor": "white",
             "linecolor": "white",
             "minorgridcolor": "white",
             "startlinecolor": "#2a3f5f"
            },
            "type": "carpet"
           }
          ],
          "choropleth": [
           {
            "colorbar": {
             "outlinewidth": 0,
             "ticks": ""
            },
            "type": "choropleth"
           }
          ],
          "contour": [
           {
            "colorbar": {
             "outlinewidth": 0,
             "ticks": ""
            },
            "colorscale": [
             [
              0,
              "#0d0887"
             ],
             [
              0.1111111111111111,
              "#46039f"
             ],
             [
              0.2222222222222222,
              "#7201a8"
             ],
             [
              0.3333333333333333,
              "#9c179e"
             ],
             [
              0.4444444444444444,
              "#bd3786"
             ],
             [
              0.5555555555555556,
              "#d8576b"
             ],
             [
              0.6666666666666666,
              "#ed7953"
             ],
             [
              0.7777777777777778,
              "#fb9f3a"
             ],
             [
              0.8888888888888888,
              "#fdca26"
             ],
             [
              1,
              "#f0f921"
             ]
            ],
            "type": "contour"
           }
          ],
          "contourcarpet": [
           {
            "colorbar": {
             "outlinewidth": 0,
             "ticks": ""
            },
            "type": "contourcarpet"
           }
          ],
          "heatmap": [
           {
            "colorbar": {
             "outlinewidth": 0,
             "ticks": ""
            },
            "colorscale": [
             [
              0,
              "#0d0887"
             ],
             [
              0.1111111111111111,
              "#46039f"
             ],
             [
              0.2222222222222222,
              "#7201a8"
             ],
             [
              0.3333333333333333,
              "#9c179e"
             ],
             [
              0.4444444444444444,
              "#bd3786"
             ],
             [
              0.5555555555555556,
              "#d8576b"
             ],
             [
              0.6666666666666666,
              "#ed7953"
             ],
             [
              0.7777777777777778,
              "#fb9f3a"
             ],
             [
              0.8888888888888888,
              "#fdca26"
             ],
             [
              1,
              "#f0f921"
             ]
            ],
            "type": "heatmap"
           }
          ],
          "heatmapgl": [
           {
            "colorbar": {
             "outlinewidth": 0,
             "ticks": ""
            },
            "colorscale": [
             [
              0,
              "#0d0887"
             ],
             [
              0.1111111111111111,
              "#46039f"
             ],
             [
              0.2222222222222222,
              "#7201a8"
             ],
             [
              0.3333333333333333,
              "#9c179e"
             ],
             [
              0.4444444444444444,
              "#bd3786"
             ],
             [
              0.5555555555555556,
              "#d8576b"
             ],
             [
              0.6666666666666666,
              "#ed7953"
             ],
             [
              0.7777777777777778,
              "#fb9f3a"
             ],
             [
              0.8888888888888888,
              "#fdca26"
             ],
             [
              1,
              "#f0f921"
             ]
            ],
            "type": "heatmapgl"
           }
          ],
          "histogram": [
           {
            "marker": {
             "pattern": {
              "fillmode": "overlay",
              "size": 10,
              "solidity": 0.2
             }
            },
            "type": "histogram"
           }
          ],
          "histogram2d": [
           {
            "colorbar": {
             "outlinewidth": 0,
             "ticks": ""
            },
            "colorscale": [
             [
              0,
              "#0d0887"
             ],
             [
              0.1111111111111111,
              "#46039f"
             ],
             [
              0.2222222222222222,
              "#7201a8"
             ],
             [
              0.3333333333333333,
              "#9c179e"
             ],
             [
              0.4444444444444444,
              "#bd3786"
             ],
             [
              0.5555555555555556,
              "#d8576b"
             ],
             [
              0.6666666666666666,
              "#ed7953"
             ],
             [
              0.7777777777777778,
              "#fb9f3a"
             ],
             [
              0.8888888888888888,
              "#fdca26"
             ],
             [
              1,
              "#f0f921"
             ]
            ],
            "type": "histogram2d"
           }
          ],
          "histogram2dcontour": [
           {
            "colorbar": {
             "outlinewidth": 0,
             "ticks": ""
            },
            "colorscale": [
             [
              0,
              "#0d0887"
             ],
             [
              0.1111111111111111,
              "#46039f"
             ],
             [
              0.2222222222222222,
              "#7201a8"
             ],
             [
              0.3333333333333333,
              "#9c179e"
             ],
             [
              0.4444444444444444,
              "#bd3786"
             ],
             [
              0.5555555555555556,
              "#d8576b"
             ],
             [
              0.6666666666666666,
              "#ed7953"
             ],
             [
              0.7777777777777778,
              "#fb9f3a"
             ],
             [
              0.8888888888888888,
              "#fdca26"
             ],
             [
              1,
              "#f0f921"
             ]
            ],
            "type": "histogram2dcontour"
           }
          ],
          "mesh3d": [
           {
            "colorbar": {
             "outlinewidth": 0,
             "ticks": ""
            },
            "type": "mesh3d"
           }
          ],
          "parcoords": [
           {
            "line": {
             "colorbar": {
              "outlinewidth": 0,
              "ticks": ""
             }
            },
            "type": "parcoords"
           }
          ],
          "pie": [
           {
            "automargin": true,
            "type": "pie"
           }
          ],
          "scatter": [
           {
            "fillpattern": {
             "fillmode": "overlay",
             "size": 10,
             "solidity": 0.2
            },
            "type": "scatter"
           }
          ],
          "scatter3d": [
           {
            "line": {
             "colorbar": {
              "outlinewidth": 0,
              "ticks": ""
             }
            },
            "marker": {
             "colorbar": {
              "outlinewidth": 0,
              "ticks": ""
             }
            },
            "type": "scatter3d"
           }
          ],
          "scattercarpet": [
           {
            "marker": {
             "colorbar": {
              "outlinewidth": 0,
              "ticks": ""
             }
            },
            "type": "scattercarpet"
           }
          ],
          "scattergeo": [
           {
            "marker": {
             "colorbar": {
              "outlinewidth": 0,
              "ticks": ""
             }
            },
            "type": "scattergeo"
           }
          ],
          "scattergl": [
           {
            "marker": {
             "colorbar": {
              "outlinewidth": 0,
              "ticks": ""
             }
            },
            "type": "scattergl"
           }
          ],
          "scattermapbox": [
           {
            "marker": {
             "colorbar": {
              "outlinewidth": 0,
              "ticks": ""
             }
            },
            "type": "scattermapbox"
           }
          ],
          "scatterpolar": [
           {
            "marker": {
             "colorbar": {
              "outlinewidth": 0,
              "ticks": ""
             }
            },
            "type": "scatterpolar"
           }
          ],
          "scatterpolargl": [
           {
            "marker": {
             "colorbar": {
              "outlinewidth": 0,
              "ticks": ""
             }
            },
            "type": "scatterpolargl"
           }
          ],
          "scatterternary": [
           {
            "marker": {
             "colorbar": {
              "outlinewidth": 0,
              "ticks": ""
             }
            },
            "type": "scatterternary"
           }
          ],
          "surface": [
           {
            "colorbar": {
             "outlinewidth": 0,
             "ticks": ""
            },
            "colorscale": [
             [
              0,
              "#0d0887"
             ],
             [
              0.1111111111111111,
              "#46039f"
             ],
             [
              0.2222222222222222,
              "#7201a8"
             ],
             [
              0.3333333333333333,
              "#9c179e"
             ],
             [
              0.4444444444444444,
              "#bd3786"
             ],
             [
              0.5555555555555556,
              "#d8576b"
             ],
             [
              0.6666666666666666,
              "#ed7953"
             ],
             [
              0.7777777777777778,
              "#fb9f3a"
             ],
             [
              0.8888888888888888,
              "#fdca26"
             ],
             [
              1,
              "#f0f921"
             ]
            ],
            "type": "surface"
           }
          ],
          "table": [
           {
            "cells": {
             "fill": {
              "color": "#EBF0F8"
             },
             "line": {
              "color": "white"
             }
            },
            "header": {
             "fill": {
              "color": "#C8D4E3"
             },
             "line": {
              "color": "white"
             }
            },
            "type": "table"
           }
          ]
         },
         "layout": {
          "annotationdefaults": {
           "arrowcolor": "#2a3f5f",
           "arrowhead": 0,
           "arrowwidth": 1
          },
          "autotypenumbers": "strict",
          "coloraxis": {
           "colorbar": {
            "outlinewidth": 0,
            "ticks": ""
           }
          },
          "colorscale": {
           "diverging": [
            [
             0,
             "#8e0152"
            ],
            [
             0.1,
             "#c51b7d"
            ],
            [
             0.2,
             "#de77ae"
            ],
            [
             0.3,
             "#f1b6da"
            ],
            [
             0.4,
             "#fde0ef"
            ],
            [
             0.5,
             "#f7f7f7"
            ],
            [
             0.6,
             "#e6f5d0"
            ],
            [
             0.7,
             "#b8e186"
            ],
            [
             0.8,
             "#7fbc41"
            ],
            [
             0.9,
             "#4d9221"
            ],
            [
             1,
             "#276419"
            ]
           ],
           "sequential": [
            [
             0,
             "#0d0887"
            ],
            [
             0.1111111111111111,
             "#46039f"
            ],
            [
             0.2222222222222222,
             "#7201a8"
            ],
            [
             0.3333333333333333,
             "#9c179e"
            ],
            [
             0.4444444444444444,
             "#bd3786"
            ],
            [
             0.5555555555555556,
             "#d8576b"
            ],
            [
             0.6666666666666666,
             "#ed7953"
            ],
            [
             0.7777777777777778,
             "#fb9f3a"
            ],
            [
             0.8888888888888888,
             "#fdca26"
            ],
            [
             1,
             "#f0f921"
            ]
           ],
           "sequentialminus": [
            [
             0,
             "#0d0887"
            ],
            [
             0.1111111111111111,
             "#46039f"
            ],
            [
             0.2222222222222222,
             "#7201a8"
            ],
            [
             0.3333333333333333,
             "#9c179e"
            ],
            [
             0.4444444444444444,
             "#bd3786"
            ],
            [
             0.5555555555555556,
             "#d8576b"
            ],
            [
             0.6666666666666666,
             "#ed7953"
            ],
            [
             0.7777777777777778,
             "#fb9f3a"
            ],
            [
             0.8888888888888888,
             "#fdca26"
            ],
            [
             1,
             "#f0f921"
            ]
           ]
          },
          "colorway": [
           "#636efa",
           "#EF553B",
           "#00cc96",
           "#ab63fa",
           "#FFA15A",
           "#19d3f3",
           "#FF6692",
           "#B6E880",
           "#FF97FF",
           "#FECB52"
          ],
          "font": {
           "color": "#2a3f5f"
          },
          "geo": {
           "bgcolor": "white",
           "lakecolor": "white",
           "landcolor": "#E5ECF6",
           "showlakes": true,
           "showland": true,
           "subunitcolor": "white"
          },
          "hoverlabel": {
           "align": "left"
          },
          "hovermode": "closest",
          "mapbox": {
           "style": "light"
          },
          "paper_bgcolor": "white",
          "plot_bgcolor": "#E5ECF6",
          "polar": {
           "angularaxis": {
            "gridcolor": "white",
            "linecolor": "white",
            "ticks": ""
           },
           "bgcolor": "#E5ECF6",
           "radialaxis": {
            "gridcolor": "white",
            "linecolor": "white",
            "ticks": ""
           }
          },
          "scene": {
           "xaxis": {
            "backgroundcolor": "#E5ECF6",
            "gridcolor": "white",
            "gridwidth": 2,
            "linecolor": "white",
            "showbackground": true,
            "ticks": "",
            "zerolinecolor": "white"
           },
           "yaxis": {
            "backgroundcolor": "#E5ECF6",
            "gridcolor": "white",
            "gridwidth": 2,
            "linecolor": "white",
            "showbackground": true,
            "ticks": "",
            "zerolinecolor": "white"
           },
           "zaxis": {
            "backgroundcolor": "#E5ECF6",
            "gridcolor": "white",
            "gridwidth": 2,
            "linecolor": "white",
            "showbackground": true,
            "ticks": "",
            "zerolinecolor": "white"
           }
          },
          "shapedefaults": {
           "line": {
            "color": "#2a3f5f"
           }
          },
          "ternary": {
           "aaxis": {
            "gridcolor": "white",
            "linecolor": "white",
            "ticks": ""
           },
           "baxis": {
            "gridcolor": "white",
            "linecolor": "white",
            "ticks": ""
           },
           "bgcolor": "#E5ECF6",
           "caxis": {
            "gridcolor": "white",
            "linecolor": "white",
            "ticks": ""
           }
          },
          "title": {
           "x": 0.05
          },
          "xaxis": {
           "automargin": true,
           "gridcolor": "white",
           "linecolor": "white",
           "ticks": "",
           "title": {
            "standoff": 15
           },
           "zerolinecolor": "white",
           "zerolinewidth": 2
          },
          "yaxis": {
           "automargin": true,
           "gridcolor": "white",
           "linecolor": "white",
           "ticks": "",
           "title": {
            "standoff": 15
           },
           "zerolinecolor": "white",
           "zerolinewidth": 2
          }
         }
        },
        "title": {
         "text": "Voters Option"
        }
       }
      }
     },
     "metadata": {},
     "output_type": "display_data"
    }
   ],
   "source": [
    "voters = proposal_votes.groupby('votes_voter_choice').votes_voter.count().reset_index()\n",
    "\n",
    "fig = px.pie(voters,\n",
    "    values = 'votes_voter',\n",
    "    names = 'votes_voter_choice',\n",
    "    title = 'Voters Option',\n",
    "    color_discrete_map = {\n",
    "        'Do not allow Ribbon Finance': 'red',\n",
    "        'Allow Ribbon Finance': 'blue'\n",
    "    }\n",
    "    )\n",
    "\n",
    "fig.show()"
   ]
  },
  {
   "cell_type": "markdown",
   "metadata": {},
   "source": [
    "Most of the voters, regardless of their option, have a voting power between 0 and 1000. Further exploring the distribution, we can see there is no major discrepancy between the voting power of either option's supporters."
   ]
  },
  {
   "cell_type": "code",
   "execution_count": 9,
   "metadata": {},
   "outputs": [
    {
     "data": {
      "application/vnd.plotly.v1+json": {
       "config": {
        "plotlyServerURL": "https://plot.ly"
       },
       "data": [
        {
         "alignmentgroup": "True",
         "bingroup": "x",
         "hovertemplate": "votes_voter_choice=Allow Ribbon Finance<br>VOTING POWER=%{x}<br>count=%{y}<extra></extra>",
         "legendgroup": "Allow Ribbon Finance",
         "marker": {
          "color": "#636efa",
          "pattern": {
           "shape": ""
          }
         },
         "name": "Allow Ribbon Finance",
         "offsetgroup": "Allow Ribbon Finance",
         "orientation": "v",
         "showlegend": true,
         "type": "histogram",
         "x": [
          4.310302613144218,
          195.2148661462898,
          264.31373630589536,
          1235.79039011,
          9037.370180917562,
          5.860028557,
          5.736038941458115,
          0.003517044099019406,
          1698.8234183203351,
          123.61214601861575,
          4.510424277885618,
          44.533115087,
          6.018662200515324,
          22.12423654208759,
          802.7207727051197,
          1197.1738338356552,
          216.76207069333105,
          92.36445387915701,
          126.63800665817726,
          37211.470708907866,
          0.6717537079833273,
          16.872629346358757,
          17.91458505595188,
          8.682906846951076,
          387.9072905892348,
          35.91303549504606,
          1528.3545644864846,
          2.348869036,
          3.7048241841923018,
          13.515205999926918,
          10.659017163731043,
          114.1419390504958,
          1141.2782185240192,
          153.74761036637287,
          0.1114927706962188,
          42.105725782742375,
          23782.758138719008,
          4.895817044,
          123.579039011,
          181.11124049,
          54.98706475328294,
          70.55070868006925,
          13.444924037586311,
          8.192791463937525,
          1585.7068289108104,
          1.238580466845763,
          50.96250320099814,
          9.836133763697646,
          52.96765434344,
          1731.657218216,
          4.970463478518339,
          7.327219913219224,
          2595.8948769307235,
          5497.938639980286,
          251.7230281253148,
          53.55583656147338,
          46.100160529899405,
          6.310218804,
          44.78236347050026,
          229.81845304231385,
          86.25283191010128,
          19.405025168887356,
          814.6629767729486,
          1071.6558463522215,
          38.451355198481906,
          309.2084980344911,
          77.58466850563273,
          20.09523716776465,
          52.909347808914156,
          1038.977368136,
          6.78978838697838,
          790.7634863007343,
          28.103428216,
          685.7406116982359,
          8.497697839,
          4.221934684,
          312.16694357254534,
          4729.6109664110645,
          70.087397449457,
          10.104735551993292,
          321.305501432245,
          735.1710562720356,
          164.09059906386656,
          201.34996265150366,
          5221.509110982988,
          4685.817989966537,
          54612.196796559,
          5.095113243911023,
          1765.9800904122349,
          26.502221909881687,
          199.76571245111555,
          27.791215664373137,
          95.33704147122027,
          507.5986851161908,
          0.9779517265317289,
          17.620089611630295,
          34.92292605477654,
          990.5616301258395,
          1877.3531009422752,
          252.21606222907886,
          343.1612088781932,
          11.344329314815067,
          2002.6141530815105,
          2750.3673737170816,
          17.612299874,
          88.413231540854,
          29.989196524197347,
          1125.8355240293567,
          11956.324935483332,
          8.850917417,
          2585.3051090189406,
          6777.909366716007,
          443.1122895671176,
          14579.010974231265,
          757.7800614521119,
          159.544541268,
          4e-9,
          169.60124099565317,
          1541.1224669129483,
          16724.453857435376,
          4440.144519022067,
          2828.764569430913
         ],
         "xaxis": "x",
         "yaxis": "y"
        },
        {
         "alignmentgroup": "True",
         "hovertemplate": "votes_voter_choice=Allow Ribbon Finance<br>VOTING POWER=%{x}<extra></extra>",
         "legendgroup": "Allow Ribbon Finance",
         "marker": {
          "color": "#636efa"
         },
         "name": "Allow Ribbon Finance",
         "notched": true,
         "offsetgroup": "Allow Ribbon Finance",
         "showlegend": false,
         "type": "box",
         "x": [
          4.310302613144218,
          195.2148661462898,
          264.31373630589536,
          1235.79039011,
          9037.370180917562,
          5.860028557,
          5.736038941458115,
          0.003517044099019406,
          1698.8234183203351,
          123.61214601861575,
          4.510424277885618,
          44.533115087,
          6.018662200515324,
          22.12423654208759,
          802.7207727051197,
          1197.1738338356552,
          216.76207069333105,
          92.36445387915701,
          126.63800665817726,
          37211.470708907866,
          0.6717537079833273,
          16.872629346358757,
          17.91458505595188,
          8.682906846951076,
          387.9072905892348,
          35.91303549504606,
          1528.3545644864846,
          2.348869036,
          3.7048241841923018,
          13.515205999926918,
          10.659017163731043,
          114.1419390504958,
          1141.2782185240192,
          153.74761036637287,
          0.1114927706962188,
          42.105725782742375,
          23782.758138719008,
          4.895817044,
          123.579039011,
          181.11124049,
          54.98706475328294,
          70.55070868006925,
          13.444924037586311,
          8.192791463937525,
          1585.7068289108104,
          1.238580466845763,
          50.96250320099814,
          9.836133763697646,
          52.96765434344,
          1731.657218216,
          4.970463478518339,
          7.327219913219224,
          2595.8948769307235,
          5497.938639980286,
          251.7230281253148,
          53.55583656147338,
          46.100160529899405,
          6.310218804,
          44.78236347050026,
          229.81845304231385,
          86.25283191010128,
          19.405025168887356,
          814.6629767729486,
          1071.6558463522215,
          38.451355198481906,
          309.2084980344911,
          77.58466850563273,
          20.09523716776465,
          52.909347808914156,
          1038.977368136,
          6.78978838697838,
          790.7634863007343,
          28.103428216,
          685.7406116982359,
          8.497697839,
          4.221934684,
          312.16694357254534,
          4729.6109664110645,
          70.087397449457,
          10.104735551993292,
          321.305501432245,
          735.1710562720356,
          164.09059906386656,
          201.34996265150366,
          5221.509110982988,
          4685.817989966537,
          54612.196796559,
          5.095113243911023,
          1765.9800904122349,
          26.502221909881687,
          199.76571245111555,
          27.791215664373137,
          95.33704147122027,
          507.5986851161908,
          0.9779517265317289,
          17.620089611630295,
          34.92292605477654,
          990.5616301258395,
          1877.3531009422752,
          252.21606222907886,
          343.1612088781932,
          11.344329314815067,
          2002.6141530815105,
          2750.3673737170816,
          17.612299874,
          88.413231540854,
          29.989196524197347,
          1125.8355240293567,
          11956.324935483332,
          8.850917417,
          2585.3051090189406,
          6777.909366716007,
          443.1122895671176,
          14579.010974231265,
          757.7800614521119,
          159.544541268,
          4e-9,
          169.60124099565317,
          1541.1224669129483,
          16724.453857435376,
          4440.144519022067,
          2828.764569430913
         ],
         "xaxis": "x2",
         "yaxis": "y2"
        },
        {
         "alignmentgroup": "True",
         "bingroup": "x",
         "hovertemplate": "votes_voter_choice=Do not allow Ribbon Finance<br>VOTING POWER=%{x}<br>count=%{y}<extra></extra>",
         "legendgroup": "Do not allow Ribbon Finance",
         "marker": {
          "color": "#EF553B",
          "pattern": {
           "shape": ""
          }
         },
         "name": "Do not allow Ribbon Finance",
         "offsetgroup": "Do not allow Ribbon Finance",
         "orientation": "v",
         "showlegend": true,
         "type": "histogram",
         "x": [
          2925.506852503282,
          1143.1972499294022,
          15480.808284795696,
          1227.0270411104548,
          21.02443375538154,
          18.750137480016107,
          1121.5694453354756,
          0.8793164251656476,
          0.004651487452956791,
          2.2828885232229412,
          33.26465053816027,
          2.5951486229090843,
          7.204579403949585,
          1.091772791908815,
          270.24484035902486,
          0.909740716,
          141.77283403485012,
          491.93786379080836,
          4493.927882462249,
          65.34223278669666,
          78876.03171884081,
          4599.940698333202,
          96.69630319794103,
          37.0916475209464,
          183.6397079689837,
          112.19699670206336,
          132.73582854063577,
          797.031749724599,
          146.66158377850195,
          32.65439905736378,
          4.70814934474252,
          51.988465921537596,
          864.566547985,
          103.41233688928499,
          257.0484850954327,
          1664.3544874183476,
          188.62045897844823,
          90.882787211,
          6.52708949604708,
          865.0609832389515,
          56.001763632370654,
          9629.402108180511,
          32235.388438805923,
          25.166530449771233,
          17.363546500833543,
          1010.0669810449725,
          34.806453081,
          520.7305057608828,
          1512.2858660540146,
          345.306414117,
          29.763057981108748,
          9.783818493693166,
          28.892701881274114,
          134.07875781657054,
          779.0517096030937,
          38.8564331892933,
          147.14500557464964,
          143.02197976860396,
          62.626276257862386,
          58.31299938198096,
          138.9637855746599,
          2.8999715802889123,
          14.673934403088065,
          5.995795581368452,
          22.088923949572372,
          9.395285867283578,
          123.06072405307174,
          62.89670495780023,
          109.84280347921374,
          1637.480980233237,
          1169.338880512,
          460.35733657017397,
          29.929703959574045,
          5134.1996665559,
          280.26098736697793,
          5575.5557475766445,
          68.48886024807206,
          1891.1215055297962,
          1403.254119128397,
          1491.8072183978143,
          123.65240235289336,
          874.6547669635713,
          0.03710051896848063,
          1380.701903307244,
          132.51022209910917,
          123.579039011,
          36.30279392595783,
          284.873474186104,
          220.187187107,
          1525.8485147478962,
          33.49744801811803,
          87.71666197066108,
          841.5997218777059,
          100.5341443,
          23.72435880092737,
          14026.767618018503,
          176.15574115822997,
          232.80268426692822,
          99.65798820572044,
          10588.244760297126,
          496.25425324199114,
          0.351313655,
          6501.549966454444,
          34.91768791295821
         ],
         "xaxis": "x",
         "yaxis": "y"
        },
        {
         "alignmentgroup": "True",
         "hovertemplate": "votes_voter_choice=Do not allow Ribbon Finance<br>VOTING POWER=%{x}<extra></extra>",
         "legendgroup": "Do not allow Ribbon Finance",
         "marker": {
          "color": "#EF553B"
         },
         "name": "Do not allow Ribbon Finance",
         "notched": true,
         "offsetgroup": "Do not allow Ribbon Finance",
         "showlegend": false,
         "type": "box",
         "x": [
          2925.506852503282,
          1143.1972499294022,
          15480.808284795696,
          1227.0270411104548,
          21.02443375538154,
          18.750137480016107,
          1121.5694453354756,
          0.8793164251656476,
          0.004651487452956791,
          2.2828885232229412,
          33.26465053816027,
          2.5951486229090843,
          7.204579403949585,
          1.091772791908815,
          270.24484035902486,
          0.909740716,
          141.77283403485012,
          491.93786379080836,
          4493.927882462249,
          65.34223278669666,
          78876.03171884081,
          4599.940698333202,
          96.69630319794103,
          37.0916475209464,
          183.6397079689837,
          112.19699670206336,
          132.73582854063577,
          797.031749724599,
          146.66158377850195,
          32.65439905736378,
          4.70814934474252,
          51.988465921537596,
          864.566547985,
          103.41233688928499,
          257.0484850954327,
          1664.3544874183476,
          188.62045897844823,
          90.882787211,
          6.52708949604708,
          865.0609832389515,
          56.001763632370654,
          9629.402108180511,
          32235.388438805923,
          25.166530449771233,
          17.363546500833543,
          1010.0669810449725,
          34.806453081,
          520.7305057608828,
          1512.2858660540146,
          345.306414117,
          29.763057981108748,
          9.783818493693166,
          28.892701881274114,
          134.07875781657054,
          779.0517096030937,
          38.8564331892933,
          147.14500557464964,
          143.02197976860396,
          62.626276257862386,
          58.31299938198096,
          138.9637855746599,
          2.8999715802889123,
          14.673934403088065,
          5.995795581368452,
          22.088923949572372,
          9.395285867283578,
          123.06072405307174,
          62.89670495780023,
          109.84280347921374,
          1637.480980233237,
          1169.338880512,
          460.35733657017397,
          29.929703959574045,
          5134.1996665559,
          280.26098736697793,
          5575.5557475766445,
          68.48886024807206,
          1891.1215055297962,
          1403.254119128397,
          1491.8072183978143,
          123.65240235289336,
          874.6547669635713,
          0.03710051896848063,
          1380.701903307244,
          132.51022209910917,
          123.579039011,
          36.30279392595783,
          284.873474186104,
          220.187187107,
          1525.8485147478962,
          33.49744801811803,
          87.71666197066108,
          841.5997218777059,
          100.5341443,
          23.72435880092737,
          14026.767618018503,
          176.15574115822997,
          232.80268426692822,
          99.65798820572044,
          10588.244760297126,
          496.25425324199114,
          0.351313655,
          6501.549966454444,
          34.91768791295821
         ],
         "xaxis": "x2",
         "yaxis": "y2"
        }
       ],
       "layout": {
        "barmode": "relative",
        "legend": {
         "title": {
          "text": "CHOICE"
         },
         "tracegroupgap": 0
        },
        "template": {
         "data": {
          "bar": [
           {
            "error_x": {
             "color": "#2a3f5f"
            },
            "error_y": {
             "color": "#2a3f5f"
            },
            "marker": {
             "line": {
              "color": "#E5ECF6",
              "width": 0.5
             },
             "pattern": {
              "fillmode": "overlay",
              "size": 10,
              "solidity": 0.2
             }
            },
            "type": "bar"
           }
          ],
          "barpolar": [
           {
            "marker": {
             "line": {
              "color": "#E5ECF6",
              "width": 0.5
             },
             "pattern": {
              "fillmode": "overlay",
              "size": 10,
              "solidity": 0.2
             }
            },
            "type": "barpolar"
           }
          ],
          "carpet": [
           {
            "aaxis": {
             "endlinecolor": "#2a3f5f",
             "gridcolor": "white",
             "linecolor": "white",
             "minorgridcolor": "white",
             "startlinecolor": "#2a3f5f"
            },
            "baxis": {
             "endlinecolor": "#2a3f5f",
             "gridcolor": "white",
             "linecolor": "white",
             "minorgridcolor": "white",
             "startlinecolor": "#2a3f5f"
            },
            "type": "carpet"
           }
          ],
          "choropleth": [
           {
            "colorbar": {
             "outlinewidth": 0,
             "ticks": ""
            },
            "type": "choropleth"
           }
          ],
          "contour": [
           {
            "colorbar": {
             "outlinewidth": 0,
             "ticks": ""
            },
            "colorscale": [
             [
              0,
              "#0d0887"
             ],
             [
              0.1111111111111111,
              "#46039f"
             ],
             [
              0.2222222222222222,
              "#7201a8"
             ],
             [
              0.3333333333333333,
              "#9c179e"
             ],
             [
              0.4444444444444444,
              "#bd3786"
             ],
             [
              0.5555555555555556,
              "#d8576b"
             ],
             [
              0.6666666666666666,
              "#ed7953"
             ],
             [
              0.7777777777777778,
              "#fb9f3a"
             ],
             [
              0.8888888888888888,
              "#fdca26"
             ],
             [
              1,
              "#f0f921"
             ]
            ],
            "type": "contour"
           }
          ],
          "contourcarpet": [
           {
            "colorbar": {
             "outlinewidth": 0,
             "ticks": ""
            },
            "type": "contourcarpet"
           }
          ],
          "heatmap": [
           {
            "colorbar": {
             "outlinewidth": 0,
             "ticks": ""
            },
            "colorscale": [
             [
              0,
              "#0d0887"
             ],
             [
              0.1111111111111111,
              "#46039f"
             ],
             [
              0.2222222222222222,
              "#7201a8"
             ],
             [
              0.3333333333333333,
              "#9c179e"
             ],
             [
              0.4444444444444444,
              "#bd3786"
             ],
             [
              0.5555555555555556,
              "#d8576b"
             ],
             [
              0.6666666666666666,
              "#ed7953"
             ],
             [
              0.7777777777777778,
              "#fb9f3a"
             ],
             [
              0.8888888888888888,
              "#fdca26"
             ],
             [
              1,
              "#f0f921"
             ]
            ],
            "type": "heatmap"
           }
          ],
          "heatmapgl": [
           {
            "colorbar": {
             "outlinewidth": 0,
             "ticks": ""
            },
            "colorscale": [
             [
              0,
              "#0d0887"
             ],
             [
              0.1111111111111111,
              "#46039f"
             ],
             [
              0.2222222222222222,
              "#7201a8"
             ],
             [
              0.3333333333333333,
              "#9c179e"
             ],
             [
              0.4444444444444444,
              "#bd3786"
             ],
             [
              0.5555555555555556,
              "#d8576b"
             ],
             [
              0.6666666666666666,
              "#ed7953"
             ],
             [
              0.7777777777777778,
              "#fb9f3a"
             ],
             [
              0.8888888888888888,
              "#fdca26"
             ],
             [
              1,
              "#f0f921"
             ]
            ],
            "type": "heatmapgl"
           }
          ],
          "histogram": [
           {
            "marker": {
             "pattern": {
              "fillmode": "overlay",
              "size": 10,
              "solidity": 0.2
             }
            },
            "type": "histogram"
           }
          ],
          "histogram2d": [
           {
            "colorbar": {
             "outlinewidth": 0,
             "ticks": ""
            },
            "colorscale": [
             [
              0,
              "#0d0887"
             ],
             [
              0.1111111111111111,
              "#46039f"
             ],
             [
              0.2222222222222222,
              "#7201a8"
             ],
             [
              0.3333333333333333,
              "#9c179e"
             ],
             [
              0.4444444444444444,
              "#bd3786"
             ],
             [
              0.5555555555555556,
              "#d8576b"
             ],
             [
              0.6666666666666666,
              "#ed7953"
             ],
             [
              0.7777777777777778,
              "#fb9f3a"
             ],
             [
              0.8888888888888888,
              "#fdca26"
             ],
             [
              1,
              "#f0f921"
             ]
            ],
            "type": "histogram2d"
           }
          ],
          "histogram2dcontour": [
           {
            "colorbar": {
             "outlinewidth": 0,
             "ticks": ""
            },
            "colorscale": [
             [
              0,
              "#0d0887"
             ],
             [
              0.1111111111111111,
              "#46039f"
             ],
             [
              0.2222222222222222,
              "#7201a8"
             ],
             [
              0.3333333333333333,
              "#9c179e"
             ],
             [
              0.4444444444444444,
              "#bd3786"
             ],
             [
              0.5555555555555556,
              "#d8576b"
             ],
             [
              0.6666666666666666,
              "#ed7953"
             ],
             [
              0.7777777777777778,
              "#fb9f3a"
             ],
             [
              0.8888888888888888,
              "#fdca26"
             ],
             [
              1,
              "#f0f921"
             ]
            ],
            "type": "histogram2dcontour"
           }
          ],
          "mesh3d": [
           {
            "colorbar": {
             "outlinewidth": 0,
             "ticks": ""
            },
            "type": "mesh3d"
           }
          ],
          "parcoords": [
           {
            "line": {
             "colorbar": {
              "outlinewidth": 0,
              "ticks": ""
             }
            },
            "type": "parcoords"
           }
          ],
          "pie": [
           {
            "automargin": true,
            "type": "pie"
           }
          ],
          "scatter": [
           {
            "fillpattern": {
             "fillmode": "overlay",
             "size": 10,
             "solidity": 0.2
            },
            "type": "scatter"
           }
          ],
          "scatter3d": [
           {
            "line": {
             "colorbar": {
              "outlinewidth": 0,
              "ticks": ""
             }
            },
            "marker": {
             "colorbar": {
              "outlinewidth": 0,
              "ticks": ""
             }
            },
            "type": "scatter3d"
           }
          ],
          "scattercarpet": [
           {
            "marker": {
             "colorbar": {
              "outlinewidth": 0,
              "ticks": ""
             }
            },
            "type": "scattercarpet"
           }
          ],
          "scattergeo": [
           {
            "marker": {
             "colorbar": {
              "outlinewidth": 0,
              "ticks": ""
             }
            },
            "type": "scattergeo"
           }
          ],
          "scattergl": [
           {
            "marker": {
             "colorbar": {
              "outlinewidth": 0,
              "ticks": ""
             }
            },
            "type": "scattergl"
           }
          ],
          "scattermapbox": [
           {
            "marker": {
             "colorbar": {
              "outlinewidth": 0,
              "ticks": ""
             }
            },
            "type": "scattermapbox"
           }
          ],
          "scatterpolar": [
           {
            "marker": {
             "colorbar": {
              "outlinewidth": 0,
              "ticks": ""
             }
            },
            "type": "scatterpolar"
           }
          ],
          "scatterpolargl": [
           {
            "marker": {
             "colorbar": {
              "outlinewidth": 0,
              "ticks": ""
             }
            },
            "type": "scatterpolargl"
           }
          ],
          "scatterternary": [
           {
            "marker": {
             "colorbar": {
              "outlinewidth": 0,
              "ticks": ""
             }
            },
            "type": "scatterternary"
           }
          ],
          "surface": [
           {
            "colorbar": {
             "outlinewidth": 0,
             "ticks": ""
            },
            "colorscale": [
             [
              0,
              "#0d0887"
             ],
             [
              0.1111111111111111,
              "#46039f"
             ],
             [
              0.2222222222222222,
              "#7201a8"
             ],
             [
              0.3333333333333333,
              "#9c179e"
             ],
             [
              0.4444444444444444,
              "#bd3786"
             ],
             [
              0.5555555555555556,
              "#d8576b"
             ],
             [
              0.6666666666666666,
              "#ed7953"
             ],
             [
              0.7777777777777778,
              "#fb9f3a"
             ],
             [
              0.8888888888888888,
              "#fdca26"
             ],
             [
              1,
              "#f0f921"
             ]
            ],
            "type": "surface"
           }
          ],
          "table": [
           {
            "cells": {
             "fill": {
              "color": "#EBF0F8"
             },
             "line": {
              "color": "white"
             }
            },
            "header": {
             "fill": {
              "color": "#C8D4E3"
             },
             "line": {
              "color": "white"
             }
            },
            "type": "table"
           }
          ]
         },
         "layout": {
          "annotationdefaults": {
           "arrowcolor": "#2a3f5f",
           "arrowhead": 0,
           "arrowwidth": 1
          },
          "autotypenumbers": "strict",
          "coloraxis": {
           "colorbar": {
            "outlinewidth": 0,
            "ticks": ""
           }
          },
          "colorscale": {
           "diverging": [
            [
             0,
             "#8e0152"
            ],
            [
             0.1,
             "#c51b7d"
            ],
            [
             0.2,
             "#de77ae"
            ],
            [
             0.3,
             "#f1b6da"
            ],
            [
             0.4,
             "#fde0ef"
            ],
            [
             0.5,
             "#f7f7f7"
            ],
            [
             0.6,
             "#e6f5d0"
            ],
            [
             0.7,
             "#b8e186"
            ],
            [
             0.8,
             "#7fbc41"
            ],
            [
             0.9,
             "#4d9221"
            ],
            [
             1,
             "#276419"
            ]
           ],
           "sequential": [
            [
             0,
             "#0d0887"
            ],
            [
             0.1111111111111111,
             "#46039f"
            ],
            [
             0.2222222222222222,
             "#7201a8"
            ],
            [
             0.3333333333333333,
             "#9c179e"
            ],
            [
             0.4444444444444444,
             "#bd3786"
            ],
            [
             0.5555555555555556,
             "#d8576b"
            ],
            [
             0.6666666666666666,
             "#ed7953"
            ],
            [
             0.7777777777777778,
             "#fb9f3a"
            ],
            [
             0.8888888888888888,
             "#fdca26"
            ],
            [
             1,
             "#f0f921"
            ]
           ],
           "sequentialminus": [
            [
             0,
             "#0d0887"
            ],
            [
             0.1111111111111111,
             "#46039f"
            ],
            [
             0.2222222222222222,
             "#7201a8"
            ],
            [
             0.3333333333333333,
             "#9c179e"
            ],
            [
             0.4444444444444444,
             "#bd3786"
            ],
            [
             0.5555555555555556,
             "#d8576b"
            ],
            [
             0.6666666666666666,
             "#ed7953"
            ],
            [
             0.7777777777777778,
             "#fb9f3a"
            ],
            [
             0.8888888888888888,
             "#fdca26"
            ],
            [
             1,
             "#f0f921"
            ]
           ]
          },
          "colorway": [
           "#636efa",
           "#EF553B",
           "#00cc96",
           "#ab63fa",
           "#FFA15A",
           "#19d3f3",
           "#FF6692",
           "#B6E880",
           "#FF97FF",
           "#FECB52"
          ],
          "font": {
           "color": "#2a3f5f"
          },
          "geo": {
           "bgcolor": "white",
           "lakecolor": "white",
           "landcolor": "#E5ECF6",
           "showlakes": true,
           "showland": true,
           "subunitcolor": "white"
          },
          "hoverlabel": {
           "align": "left"
          },
          "hovermode": "closest",
          "mapbox": {
           "style": "light"
          },
          "paper_bgcolor": "white",
          "plot_bgcolor": "#E5ECF6",
          "polar": {
           "angularaxis": {
            "gridcolor": "white",
            "linecolor": "white",
            "ticks": ""
           },
           "bgcolor": "#E5ECF6",
           "radialaxis": {
            "gridcolor": "white",
            "linecolor": "white",
            "ticks": ""
           }
          },
          "scene": {
           "xaxis": {
            "backgroundcolor": "#E5ECF6",
            "gridcolor": "white",
            "gridwidth": 2,
            "linecolor": "white",
            "showbackground": true,
            "ticks": "",
            "zerolinecolor": "white"
           },
           "yaxis": {
            "backgroundcolor": "#E5ECF6",
            "gridcolor": "white",
            "gridwidth": 2,
            "linecolor": "white",
            "showbackground": true,
            "ticks": "",
            "zerolinecolor": "white"
           },
           "zaxis": {
            "backgroundcolor": "#E5ECF6",
            "gridcolor": "white",
            "gridwidth": 2,
            "linecolor": "white",
            "showbackground": true,
            "ticks": "",
            "zerolinecolor": "white"
           }
          },
          "shapedefaults": {
           "line": {
            "color": "#2a3f5f"
           }
          },
          "ternary": {
           "aaxis": {
            "gridcolor": "white",
            "linecolor": "white",
            "ticks": ""
           },
           "baxis": {
            "gridcolor": "white",
            "linecolor": "white",
            "ticks": ""
           },
           "bgcolor": "#E5ECF6",
           "caxis": {
            "gridcolor": "white",
            "linecolor": "white",
            "ticks": ""
           }
          },
          "title": {
           "x": 0.05
          },
          "xaxis": {
           "automargin": true,
           "gridcolor": "white",
           "linecolor": "white",
           "ticks": "",
           "title": {
            "standoff": 15
           },
           "zerolinecolor": "white",
           "zerolinewidth": 2
          },
          "yaxis": {
           "automargin": true,
           "gridcolor": "white",
           "linecolor": "white",
           "ticks": "",
           "title": {
            "standoff": 15
           },
           "zerolinecolor": "white",
           "zerolinewidth": 2
          }
         }
        },
        "title": {
         "text": "Distribution of Voting Power by Choice"
        },
        "xaxis": {
         "anchor": "y",
         "domain": [
          0,
          1
         ],
         "title": {
          "text": "VOTING POWER"
         }
        },
        "xaxis2": {
         "anchor": "y2",
         "domain": [
          0,
          1
         ],
         "matches": "x",
         "showgrid": true,
         "showticklabels": false
        },
        "yaxis": {
         "anchor": "x",
         "domain": [
          0,
          0.7326
         ],
         "title": {
          "text": "count"
         }
        },
        "yaxis2": {
         "anchor": "x2",
         "domain": [
          0.7426,
          1
         ],
         "matches": "y2",
         "showgrid": false,
         "showline": false,
         "showticklabels": false,
         "ticks": ""
        }
       }
      }
     },
     "metadata": {},
     "output_type": "display_data"
    }
   ],
   "source": [
    "fig = px.histogram(proposal_votes,\n",
    "    x = 'votes_vp',\n",
    "    marginal = 'box',\n",
    "    color = 'votes_voter_choice',\n",
    "    title = 'Distribution of Voting Power by Choice',\n",
    "    labels = dict(votes_vp = 'VOTING POWER')\n",
    "    )\n",
    "\n",
    "fig.update_layout(legend_title_text='CHOICE')\n",
    "fig.show()"
   ]
  },
  {
   "cell_type": "markdown",
   "metadata": {},
   "source": [
    "Out of all 6 tokens that can be held to gain voting power, over 80% was obtained through **gOHM**. The OHMies second favorite token is the **sOHM v3**, the current iteration of the staked OHM, with over 14% of the voting power used.\n",
    "\n",
    "The sOHM v1 and v2 tokens have been phased out with the introduction of the v3 and gOHM and for this reason only a handful of those are still circulating and being used for governance. "
   ]
  },
  {
   "cell_type": "code",
   "execution_count": 10,
   "metadata": {},
   "outputs": [
    {
     "data": {
      "application/vnd.plotly.v1+json": {
       "config": {
        "plotlyServerURL": "https://plot.ly"
       },
       "data": [
        {
         "domain": {
          "x": [
           0,
           1
          ],
          "y": [
           0,
           1
          ]
         },
         "hovertemplate": "asset=%{label}<br>votes=%{value}<extra></extra>",
         "labels": [
          "sOHM v1",
          "OHM-DAI SLP",
          "sOHM v2",
          "sOHM v3",
          "sOHM Multichain LP",
          "gOHM"
         ],
         "legendgroup": "",
         "name": "",
         "showlegend": true,
         "type": "pie",
         "values": [
          9.1e-8,
          2e-18,
          12.460840829,
          65825.126070004,
          11684.860156794944,
          386877.8368909471
         ]
        }
       ],
       "layout": {
        "legend": {
         "tracegroupgap": 0
        },
        "template": {
         "data": {
          "bar": [
           {
            "error_x": {
             "color": "#2a3f5f"
            },
            "error_y": {
             "color": "#2a3f5f"
            },
            "marker": {
             "line": {
              "color": "#E5ECF6",
              "width": 0.5
             },
             "pattern": {
              "fillmode": "overlay",
              "size": 10,
              "solidity": 0.2
             }
            },
            "type": "bar"
           }
          ],
          "barpolar": [
           {
            "marker": {
             "line": {
              "color": "#E5ECF6",
              "width": 0.5
             },
             "pattern": {
              "fillmode": "overlay",
              "size": 10,
              "solidity": 0.2
             }
            },
            "type": "barpolar"
           }
          ],
          "carpet": [
           {
            "aaxis": {
             "endlinecolor": "#2a3f5f",
             "gridcolor": "white",
             "linecolor": "white",
             "minorgridcolor": "white",
             "startlinecolor": "#2a3f5f"
            },
            "baxis": {
             "endlinecolor": "#2a3f5f",
             "gridcolor": "white",
             "linecolor": "white",
             "minorgridcolor": "white",
             "startlinecolor": "#2a3f5f"
            },
            "type": "carpet"
           }
          ],
          "choropleth": [
           {
            "colorbar": {
             "outlinewidth": 0,
             "ticks": ""
            },
            "type": "choropleth"
           }
          ],
          "contour": [
           {
            "colorbar": {
             "outlinewidth": 0,
             "ticks": ""
            },
            "colorscale": [
             [
              0,
              "#0d0887"
             ],
             [
              0.1111111111111111,
              "#46039f"
             ],
             [
              0.2222222222222222,
              "#7201a8"
             ],
             [
              0.3333333333333333,
              "#9c179e"
             ],
             [
              0.4444444444444444,
              "#bd3786"
             ],
             [
              0.5555555555555556,
              "#d8576b"
             ],
             [
              0.6666666666666666,
              "#ed7953"
             ],
             [
              0.7777777777777778,
              "#fb9f3a"
             ],
             [
              0.8888888888888888,
              "#fdca26"
             ],
             [
              1,
              "#f0f921"
             ]
            ],
            "type": "contour"
           }
          ],
          "contourcarpet": [
           {
            "colorbar": {
             "outlinewidth": 0,
             "ticks": ""
            },
            "type": "contourcarpet"
           }
          ],
          "heatmap": [
           {
            "colorbar": {
             "outlinewidth": 0,
             "ticks": ""
            },
            "colorscale": [
             [
              0,
              "#0d0887"
             ],
             [
              0.1111111111111111,
              "#46039f"
             ],
             [
              0.2222222222222222,
              "#7201a8"
             ],
             [
              0.3333333333333333,
              "#9c179e"
             ],
             [
              0.4444444444444444,
              "#bd3786"
             ],
             [
              0.5555555555555556,
              "#d8576b"
             ],
             [
              0.6666666666666666,
              "#ed7953"
             ],
             [
              0.7777777777777778,
              "#fb9f3a"
             ],
             [
              0.8888888888888888,
              "#fdca26"
             ],
             [
              1,
              "#f0f921"
             ]
            ],
            "type": "heatmap"
           }
          ],
          "heatmapgl": [
           {
            "colorbar": {
             "outlinewidth": 0,
             "ticks": ""
            },
            "colorscale": [
             [
              0,
              "#0d0887"
             ],
             [
              0.1111111111111111,
              "#46039f"
             ],
             [
              0.2222222222222222,
              "#7201a8"
             ],
             [
              0.3333333333333333,
              "#9c179e"
             ],
             [
              0.4444444444444444,
              "#bd3786"
             ],
             [
              0.5555555555555556,
              "#d8576b"
             ],
             [
              0.6666666666666666,
              "#ed7953"
             ],
             [
              0.7777777777777778,
              "#fb9f3a"
             ],
             [
              0.8888888888888888,
              "#fdca26"
             ],
             [
              1,
              "#f0f921"
             ]
            ],
            "type": "heatmapgl"
           }
          ],
          "histogram": [
           {
            "marker": {
             "pattern": {
              "fillmode": "overlay",
              "size": 10,
              "solidity": 0.2
             }
            },
            "type": "histogram"
           }
          ],
          "histogram2d": [
           {
            "colorbar": {
             "outlinewidth": 0,
             "ticks": ""
            },
            "colorscale": [
             [
              0,
              "#0d0887"
             ],
             [
              0.1111111111111111,
              "#46039f"
             ],
             [
              0.2222222222222222,
              "#7201a8"
             ],
             [
              0.3333333333333333,
              "#9c179e"
             ],
             [
              0.4444444444444444,
              "#bd3786"
             ],
             [
              0.5555555555555556,
              "#d8576b"
             ],
             [
              0.6666666666666666,
              "#ed7953"
             ],
             [
              0.7777777777777778,
              "#fb9f3a"
             ],
             [
              0.8888888888888888,
              "#fdca26"
             ],
             [
              1,
              "#f0f921"
             ]
            ],
            "type": "histogram2d"
           }
          ],
          "histogram2dcontour": [
           {
            "colorbar": {
             "outlinewidth": 0,
             "ticks": ""
            },
            "colorscale": [
             [
              0,
              "#0d0887"
             ],
             [
              0.1111111111111111,
              "#46039f"
             ],
             [
              0.2222222222222222,
              "#7201a8"
             ],
             [
              0.3333333333333333,
              "#9c179e"
             ],
             [
              0.4444444444444444,
              "#bd3786"
             ],
             [
              0.5555555555555556,
              "#d8576b"
             ],
             [
              0.6666666666666666,
              "#ed7953"
             ],
             [
              0.7777777777777778,
              "#fb9f3a"
             ],
             [
              0.8888888888888888,
              "#fdca26"
             ],
             [
              1,
              "#f0f921"
             ]
            ],
            "type": "histogram2dcontour"
           }
          ],
          "mesh3d": [
           {
            "colorbar": {
             "outlinewidth": 0,
             "ticks": ""
            },
            "type": "mesh3d"
           }
          ],
          "parcoords": [
           {
            "line": {
             "colorbar": {
              "outlinewidth": 0,
              "ticks": ""
             }
            },
            "type": "parcoords"
           }
          ],
          "pie": [
           {
            "automargin": true,
            "type": "pie"
           }
          ],
          "scatter": [
           {
            "fillpattern": {
             "fillmode": "overlay",
             "size": 10,
             "solidity": 0.2
            },
            "type": "scatter"
           }
          ],
          "scatter3d": [
           {
            "line": {
             "colorbar": {
              "outlinewidth": 0,
              "ticks": ""
             }
            },
            "marker": {
             "colorbar": {
              "outlinewidth": 0,
              "ticks": ""
             }
            },
            "type": "scatter3d"
           }
          ],
          "scattercarpet": [
           {
            "marker": {
             "colorbar": {
              "outlinewidth": 0,
              "ticks": ""
             }
            },
            "type": "scattercarpet"
           }
          ],
          "scattergeo": [
           {
            "marker": {
             "colorbar": {
              "outlinewidth": 0,
              "ticks": ""
             }
            },
            "type": "scattergeo"
           }
          ],
          "scattergl": [
           {
            "marker": {
             "colorbar": {
              "outlinewidth": 0,
              "ticks": ""
             }
            },
            "type": "scattergl"
           }
          ],
          "scattermapbox": [
           {
            "marker": {
             "colorbar": {
              "outlinewidth": 0,
              "ticks": ""
             }
            },
            "type": "scattermapbox"
           }
          ],
          "scatterpolar": [
           {
            "marker": {
             "colorbar": {
              "outlinewidth": 0,
              "ticks": ""
             }
            },
            "type": "scatterpolar"
           }
          ],
          "scatterpolargl": [
           {
            "marker": {
             "colorbar": {
              "outlinewidth": 0,
              "ticks": ""
             }
            },
            "type": "scatterpolargl"
           }
          ],
          "scatterternary": [
           {
            "marker": {
             "colorbar": {
              "outlinewidth": 0,
              "ticks": ""
             }
            },
            "type": "scatterternary"
           }
          ],
          "surface": [
           {
            "colorbar": {
             "outlinewidth": 0,
             "ticks": ""
            },
            "colorscale": [
             [
              0,
              "#0d0887"
             ],
             [
              0.1111111111111111,
              "#46039f"
             ],
             [
              0.2222222222222222,
              "#7201a8"
             ],
             [
              0.3333333333333333,
              "#9c179e"
             ],
             [
              0.4444444444444444,
              "#bd3786"
             ],
             [
              0.5555555555555556,
              "#d8576b"
             ],
             [
              0.6666666666666666,
              "#ed7953"
             ],
             [
              0.7777777777777778,
              "#fb9f3a"
             ],
             [
              0.8888888888888888,
              "#fdca26"
             ],
             [
              1,
              "#f0f921"
             ]
            ],
            "type": "surface"
           }
          ],
          "table": [
           {
            "cells": {
             "fill": {
              "color": "#EBF0F8"
             },
             "line": {
              "color": "white"
             }
            },
            "header": {
             "fill": {
              "color": "#C8D4E3"
             },
             "line": {
              "color": "white"
             }
            },
            "type": "table"
           }
          ]
         },
         "layout": {
          "annotationdefaults": {
           "arrowcolor": "#2a3f5f",
           "arrowhead": 0,
           "arrowwidth": 1
          },
          "autotypenumbers": "strict",
          "coloraxis": {
           "colorbar": {
            "outlinewidth": 0,
            "ticks": ""
           }
          },
          "colorscale": {
           "diverging": [
            [
             0,
             "#8e0152"
            ],
            [
             0.1,
             "#c51b7d"
            ],
            [
             0.2,
             "#de77ae"
            ],
            [
             0.3,
             "#f1b6da"
            ],
            [
             0.4,
             "#fde0ef"
            ],
            [
             0.5,
             "#f7f7f7"
            ],
            [
             0.6,
             "#e6f5d0"
            ],
            [
             0.7,
             "#b8e186"
            ],
            [
             0.8,
             "#7fbc41"
            ],
            [
             0.9,
             "#4d9221"
            ],
            [
             1,
             "#276419"
            ]
           ],
           "sequential": [
            [
             0,
             "#0d0887"
            ],
            [
             0.1111111111111111,
             "#46039f"
            ],
            [
             0.2222222222222222,
             "#7201a8"
            ],
            [
             0.3333333333333333,
             "#9c179e"
            ],
            [
             0.4444444444444444,
             "#bd3786"
            ],
            [
             0.5555555555555556,
             "#d8576b"
            ],
            [
             0.6666666666666666,
             "#ed7953"
            ],
            [
             0.7777777777777778,
             "#fb9f3a"
            ],
            [
             0.8888888888888888,
             "#fdca26"
            ],
            [
             1,
             "#f0f921"
            ]
           ],
           "sequentialminus": [
            [
             0,
             "#0d0887"
            ],
            [
             0.1111111111111111,
             "#46039f"
            ],
            [
             0.2222222222222222,
             "#7201a8"
            ],
            [
             0.3333333333333333,
             "#9c179e"
            ],
            [
             0.4444444444444444,
             "#bd3786"
            ],
            [
             0.5555555555555556,
             "#d8576b"
            ],
            [
             0.6666666666666666,
             "#ed7953"
            ],
            [
             0.7777777777777778,
             "#fb9f3a"
            ],
            [
             0.8888888888888888,
             "#fdca26"
            ],
            [
             1,
             "#f0f921"
            ]
           ]
          },
          "colorway": [
           "#636efa",
           "#EF553B",
           "#00cc96",
           "#ab63fa",
           "#FFA15A",
           "#19d3f3",
           "#FF6692",
           "#B6E880",
           "#FF97FF",
           "#FECB52"
          ],
          "font": {
           "color": "#2a3f5f"
          },
          "geo": {
           "bgcolor": "white",
           "lakecolor": "white",
           "landcolor": "#E5ECF6",
           "showlakes": true,
           "showland": true,
           "subunitcolor": "white"
          },
          "hoverlabel": {
           "align": "left"
          },
          "hovermode": "closest",
          "mapbox": {
           "style": "light"
          },
          "paper_bgcolor": "white",
          "plot_bgcolor": "#E5ECF6",
          "polar": {
           "angularaxis": {
            "gridcolor": "white",
            "linecolor": "white",
            "ticks": ""
           },
           "bgcolor": "#E5ECF6",
           "radialaxis": {
            "gridcolor": "white",
            "linecolor": "white",
            "ticks": ""
           }
          },
          "scene": {
           "xaxis": {
            "backgroundcolor": "#E5ECF6",
            "gridcolor": "white",
            "gridwidth": 2,
            "linecolor": "white",
            "showbackground": true,
            "ticks": "",
            "zerolinecolor": "white"
           },
           "yaxis": {
            "backgroundcolor": "#E5ECF6",
            "gridcolor": "white",
            "gridwidth": 2,
            "linecolor": "white",
            "showbackground": true,
            "ticks": "",
            "zerolinecolor": "white"
           },
           "zaxis": {
            "backgroundcolor": "#E5ECF6",
            "gridcolor": "white",
            "gridwidth": 2,
            "linecolor": "white",
            "showbackground": true,
            "ticks": "",
            "zerolinecolor": "white"
           }
          },
          "shapedefaults": {
           "line": {
            "color": "#2a3f5f"
           }
          },
          "ternary": {
           "aaxis": {
            "gridcolor": "white",
            "linecolor": "white",
            "ticks": ""
           },
           "baxis": {
            "gridcolor": "white",
            "linecolor": "white",
            "ticks": ""
           },
           "bgcolor": "#E5ECF6",
           "caxis": {
            "gridcolor": "white",
            "linecolor": "white",
            "ticks": ""
           }
          },
          "title": {
           "x": 0.05
          },
          "xaxis": {
           "automargin": true,
           "gridcolor": "white",
           "linecolor": "white",
           "ticks": "",
           "title": {
            "standoff": 15
           },
           "zerolinecolor": "white",
           "zerolinewidth": 2
          },
          "yaxis": {
           "automargin": true,
           "gridcolor": "white",
           "linecolor": "white",
           "ticks": "",
           "title": {
            "standoff": 15
           },
           "zerolinecolor": "white",
           "zerolinewidth": 2
          }
         }
        },
        "title": {
         "text": "Voting Power Used by Asset"
        }
       }
      }
     },
     "metadata": {},
     "output_type": "display_data"
    }
   ],
   "source": [
    "fig = px.pie(proposal_scores_by_strat, \n",
    "    values = 'votes', \n",
    "    names = 'asset',\n",
    "    title = 'Voting Power Used by Asset'\n",
    "    )\n",
    "fig.show()"
   ]
  },
  {
   "cell_type": "markdown",
   "metadata": {},
   "source": [
    "## Conclusions\n",
    "- The winning option was to *Allow Ribbon Finance* with a 52% majority of votes, option that coincides with the popular choice of the OHMies.\n",
    "- Most voters hold less than 1,000 Voting Power regardless of their vote.\n",
    "- Over 80% of the participating voting power was obtained by holding gOHM. The only other significant token by voting power was sOHM v3."
   ]
  }
 ],
 "metadata": {
  "interpreter": {
   "hash": "a0a5145e6c304e2a9afaf5b930a2955b950bd4b81fe94f7c42930f43f42762eb"
  },
  "kernelspec": {
   "display_name": "Python 3.10.2 64-bit",
   "language": "python",
   "name": "python3"
  },
  "language_info": {
   "codemirror_mode": {
    "name": "ipython",
    "version": 3
   },
   "file_extension": ".py",
   "mimetype": "text/x-python",
   "name": "python",
   "nbconvert_exporter": "python",
   "pygments_lexer": "ipython3",
   "version": "3.10.2"
  },
  "orig_nbformat": 4
 },
 "nbformat": 4,
 "nbformat_minor": 2
}
