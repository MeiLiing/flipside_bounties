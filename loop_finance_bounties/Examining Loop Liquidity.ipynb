{
 "cells": [
  {
   "cell_type": "markdown",
   "metadata": {},
   "source": [
    "# Intro\n",
    "In this analysis we are looking into Loop Finance ([https://www.loop.markets/](https://www.loop.markets/)) Liquidity Pool (LP) providers and their participation across multiple pools. The main focus is to understand for each LP what the mean, median and mode number of pools a provider would participate in at the same time."
   ]
  },
  {
   "cell_type": "markdown",
   "metadata": {},
   "source": [
    "## Data\n",
    "The Liquidity Pool provider data was obtain from FlipsideCrypto and exported in the `Loop Liquidity - LP positions.csv` file so it can be analysed in this notebook using Python.\n",
    "\n",
    "**Query**: FlipsideCrypto SQL query used to obtain the data can be found in the `lp_positions_query.sql` file.\n",
    "\n",
    "The resulting table contains a list of providers, LPs and the current LP Token balance. The data is aggregated by provider and LP so each observation (row) represents a provider's position in a pool.\n",
    "\n",
    "_**Caveats**: The table also contains instances where the provider removed some or most liquidity and remained with very small amounts of LP Tokens. These instances might result in slightly skewed results, but it can be addressed by setting a `balance` threshold below which a position is no longer considered active or taken into account._"
   ]
  },
  {
   "cell_type": "markdown",
   "metadata": {},
   "source": [
    "### Importing modules and data\n",
    "We will be importing a few modules needed to wrangle, analyse and plot the data in the code block below."
   ]
  },
  {
   "cell_type": "code",
   "execution_count": 2,
   "metadata": {},
   "outputs": [],
   "source": [
    "import pandas as pd\n",
    "import matplotlib.pyplot as plt\n",
    "import seaborn as sns\n",
    "import numpy as np\n",
    "import scipy.stats as sp"
   ]
  },
  {
   "cell_type": "markdown",
   "metadata": {},
   "source": [
    "Now we can import the LP positions data from the `Loop Liquidity - LP positions.csv` file and turn it into a Pandas Dataframe."
   ]
  },
  {
   "cell_type": "code",
   "execution_count": 3,
   "metadata": {},
   "outputs": [
    {
     "data": {
      "text/html": [
       "<div>\n",
       "<style scoped>\n",
       "    .dataframe tbody tr th:only-of-type {\n",
       "        vertical-align: middle;\n",
       "    }\n",
       "\n",
       "    .dataframe tbody tr th {\n",
       "        vertical-align: top;\n",
       "    }\n",
       "\n",
       "    .dataframe thead th {\n",
       "        text-align: right;\n",
       "    }\n",
       "</style>\n",
       "<table border=\"1\" class=\"dataframe\">\n",
       "  <thead>\n",
       "    <tr style=\"text-align: right;\">\n",
       "      <th></th>\n",
       "      <th>provider</th>\n",
       "      <th>lp</th>\n",
       "      <th>provided</th>\n",
       "      <th>withdrawn</th>\n",
       "      <th>balance</th>\n",
       "    </tr>\n",
       "  </thead>\n",
       "  <tbody>\n",
       "    <tr>\n",
       "      <th>0</th>\n",
       "      <td>terra1p7fjmrnju86kpgk5nr2kpw4kvwa0vxagfek5vn</td>\n",
       "      <td>luna-aust</td>\n",
       "      <td>93495550</td>\n",
       "      <td>46624000</td>\n",
       "      <td>46871550</td>\n",
       "    </tr>\n",
       "    <tr>\n",
       "      <th>1</th>\n",
       "      <td>terra1c9ac68cfha86xwhmyxpwm9f3wd4d8nqcttuec4</td>\n",
       "      <td>loop-ust</td>\n",
       "      <td>15998708</td>\n",
       "      <td>15998000</td>\n",
       "      <td>708</td>\n",
       "    </tr>\n",
       "    <tr>\n",
       "      <th>2</th>\n",
       "      <td>terra1tk280apkxu7dryjqjxjxn49n3h56uwzlv464f4</td>\n",
       "      <td>loop-ust</td>\n",
       "      <td>28263671</td>\n",
       "      <td>28263000</td>\n",
       "      <td>671</td>\n",
       "    </tr>\n",
       "    <tr>\n",
       "      <th>3</th>\n",
       "      <td>terra1tmfe2fwrj93myk2kwds8x7pr0ztvdgppnlcz0v</td>\n",
       "      <td>loop-luna</td>\n",
       "      <td>321009632</td>\n",
       "      <td>321009000</td>\n",
       "      <td>632</td>\n",
       "    </tr>\n",
       "    <tr>\n",
       "      <th>4</th>\n",
       "      <td>terra1sxkjf4vl8n5acmz3gh56x0aqxy8vs3u0jxugys</td>\n",
       "      <td>loop-ust</td>\n",
       "      <td>3180309</td>\n",
       "      <td>3180000</td>\n",
       "      <td>309</td>\n",
       "    </tr>\n",
       "  </tbody>\n",
       "</table>\n",
       "</div>"
      ],
      "text/plain": [
       "                                       provider         lp   provided  \\\n",
       "0  terra1p7fjmrnju86kpgk5nr2kpw4kvwa0vxagfek5vn  luna-aust   93495550   \n",
       "1  terra1c9ac68cfha86xwhmyxpwm9f3wd4d8nqcttuec4   loop-ust   15998708   \n",
       "2  terra1tk280apkxu7dryjqjxjxn49n3h56uwzlv464f4   loop-ust   28263671   \n",
       "3  terra1tmfe2fwrj93myk2kwds8x7pr0ztvdgppnlcz0v  loop-luna  321009632   \n",
       "4  terra1sxkjf4vl8n5acmz3gh56x0aqxy8vs3u0jxugys   loop-ust    3180309   \n",
       "\n",
       "   withdrawn   balance  \n",
       "0   46624000  46871550  \n",
       "1   15998000       708  \n",
       "2   28263000       671  \n",
       "3  321009000       632  \n",
       "4    3180000       309  "
      ]
     },
     "execution_count": 3,
     "metadata": {},
     "output_type": "execute_result"
    }
   ],
   "source": [
    "df = pd.read_csv('Loop Liquidity - LP positions.csv')\n",
    "df.columns = ['provider','lp','provided','withdrawn','balance']\n",
    "df.head()"
   ]
  },
  {
   "cell_type": "markdown",
   "metadata": {},
   "source": [
    "With the data we obtained we can see that we will be analysing **24,312 unique providers** across **36 unique LPs**."
   ]
  },
  {
   "cell_type": "code",
   "execution_count": 4,
   "metadata": {},
   "outputs": [
    {
     "name": "stdout",
     "output_type": "stream",
     "text": [
      "Unique providers: 24312\n",
      "Unique LPs: 36\n"
     ]
    }
   ],
   "source": [
    "print('Unique providers:',df.provider.nunique())\n",
    "print('Unique LPs:',df.lp.nunique())"
   ]
  },
  {
   "cell_type": "markdown",
   "metadata": {},
   "source": [
    "Before we break down the data by Liquidity Pool, we will first see how it looks overall.\n",
    "\n",
    "On average, a provider will have a position in only one LP, with the exact average being 1.43, and this remains true for the majority of them as even over the 75th percentile they generally provide liquidity to only one pool.\n",
    "\n",
    "However, there are a few outliers with a LP count of over 10, with the biggest one participating in 24 pools."
   ]
  },
  {
   "cell_type": "code",
   "execution_count": 5,
   "metadata": {},
   "outputs": [
    {
     "data": {
      "text/html": [
       "<div>\n",
       "<style scoped>\n",
       "    .dataframe tbody tr th:only-of-type {\n",
       "        vertical-align: middle;\n",
       "    }\n",
       "\n",
       "    .dataframe tbody tr th {\n",
       "        vertical-align: top;\n",
       "    }\n",
       "\n",
       "    .dataframe thead th {\n",
       "        text-align: right;\n",
       "    }\n",
       "</style>\n",
       "<table border=\"1\" class=\"dataframe\">\n",
       "  <thead>\n",
       "    <tr style=\"text-align: right;\">\n",
       "      <th></th>\n",
       "      <th>lp_count</th>\n",
       "    </tr>\n",
       "  </thead>\n",
       "  <tbody>\n",
       "    <tr>\n",
       "      <th>count</th>\n",
       "      <td>24312.000000</td>\n",
       "    </tr>\n",
       "    <tr>\n",
       "      <th>mean</th>\n",
       "      <td>1.437068</td>\n",
       "    </tr>\n",
       "    <tr>\n",
       "      <th>std</th>\n",
       "      <td>1.083676</td>\n",
       "    </tr>\n",
       "    <tr>\n",
       "      <th>min</th>\n",
       "      <td>1.000000</td>\n",
       "    </tr>\n",
       "    <tr>\n",
       "      <th>25%</th>\n",
       "      <td>1.000000</td>\n",
       "    </tr>\n",
       "    <tr>\n",
       "      <th>50%</th>\n",
       "      <td>1.000000</td>\n",
       "    </tr>\n",
       "    <tr>\n",
       "      <th>75%</th>\n",
       "      <td>1.000000</td>\n",
       "    </tr>\n",
       "    <tr>\n",
       "      <th>max</th>\n",
       "      <td>24.000000</td>\n",
       "    </tr>\n",
       "  </tbody>\n",
       "</table>\n",
       "</div>"
      ],
      "text/plain": [
       "           lp_count\n",
       "count  24312.000000\n",
       "mean       1.437068\n",
       "std        1.083676\n",
       "min        1.000000\n",
       "25%        1.000000\n",
       "50%        1.000000\n",
       "75%        1.000000\n",
       "max       24.000000"
      ]
     },
     "execution_count": 5,
     "metadata": {},
     "output_type": "execute_result"
    }
   ],
   "source": [
    "provider_group = df.groupby(['provider']).count().reset_index()\n",
    "provider_group.drop(columns=['provided','withdrawn','balance'], inplace=True)\n",
    "provider_group.columns = ['provider','lp_count']\n",
    "provider_group.describe()"
   ]
  },
  {
   "cell_type": "markdown",
   "metadata": {},
   "source": [
    "In the histogram below we can see that the distribution is unimodal and has a heavy skew to the right, with the median and mode values to the left of the mean and overlapping eachother."
   ]
  },
  {
   "cell_type": "code",
   "execution_count": 6,
   "metadata": {},
   "outputs": [
    {
     "data": {
      "image/png": "[encoded data removed]",
      "text/plain": [
       "<Figure size 1152x576 with 2 Axes>"
      ]
     },
     "metadata": {
      "needs_background": "light"
     },
     "output_type": "display_data"
    }
   ],
   "source": [
    "plt.figure(figsize=(16,8))\n",
    "ax1 = plt.subplot(2,1,1)\n",
    "sns.histplot(data=provider_group.lp_count)\n",
    "sns.rugplot(data=provider_group.lp_count, color='r')\n",
    "plt.axvline(np.mean(provider_group.lp_count), label='Mean', color='r')\n",
    "plt.axvline(np.median(provider_group.lp_count), label='Median')\n",
    "plt.axvline(sp.mode(provider_group.lp_count)[0][0], label='Mode', color='y')\n",
    "plt.title('Number of LPs providers participate in')\n",
    "plt.ylabel('provider_count')\n",
    "plt.legend()\n",
    "\n",
    "ax2 = plt.subplot(2,1,2)\n",
    "sns.histplot(data=provider_group[provider_group.lp_count <= 5].lp_count, bins=4)\n",
    "ax2.set_xticks(range(1,6))\n",
    "plt.title('Number of LPs providers participate in (LP count <= 5)')\n",
    "plt.ylabel('provider_count')\n",
    "plt.axvline(np.mean(provider_group.lp_count), label='Mean', color='r')\n",
    "plt.axvline(np.median(provider_group.lp_count), label='Median')\n",
    "plt.axvline(sp.mode(provider_group.lp_count)[0][0], label='Mode', color = 'y')\n",
    "\n",
    "plt.legend()\n",
    "plt.subplots_adjust(hspace=0.3)\n",
    "plt.show()"
   ]
  },
  {
   "cell_type": "markdown",
   "metadata": {},
   "source": [
    "Then we loop through each LP and for each provider in it we count in how many other pools it is present in. The results are then collected in a python dictionary with the pool name as the key for each entry."
   ]
  },
  {
   "cell_type": "code",
   "execution_count": 7,
   "metadata": {},
   "outputs": [],
   "source": [
    "participation_count = {}\n",
    "for pool in df.lp.unique():\n",
    "    count = [] # each number indicates in how many pools each provider is in\n",
    "    for address in df[df.lp == pool].provider.unique():\n",
    "        in_pools = len(df[df.provider == address])\n",
    "        if in_pools == 0:\n",
    "            pass\n",
    "        else:\n",
    "            count.append(in_pools)\n",
    "    participation_count[pool] = count"
   ]
  },
  {
   "cell_type": "markdown",
   "metadata": {},
   "source": [
    "Once we have the counts, we can loop through the dictionary to calculate the **mean**, **median** and **mode** of participation for each pool."
   ]
  },
  {
   "cell_type": "code",
   "execution_count": 8,
   "metadata": {},
   "outputs": [
    {
     "name": "stdout",
     "output_type": "stream",
     "text": [
      "[2.87, 1.44, 3.43, 2.61, 3.38, 3.61, 3.91, 3.05, 2.58, 3.59, 2.13, 2.3, 5.69, 4.14, 5.32, 5.44, 4.78, 4.84, 3.85, 3.33, 4.62, 4.49, 5.09, 3.82, 3.79, 8.0, 5.92, 4.7, 4.0, 5.38, 4.46, 5.78, 5.14, 4.0, 11.67, 6.55]\n",
      "[2.0, 1.0, 3.0, 2.0, 3.0, 3.0, 3.0, 2.0, 2.0, 3.0, 1.0, 2.0, 5.0, 3.0, 4.0, 5.0, 4.0, 4.0, 3.0, 2.0, 4.0, 3.0, 4.0, 3.0, 3.0, 9.0, 6.0, 3.5, 3.0, 5.0, 2.0, 4.0, 5.0, 3.0, 10.5, 6.0]\n",
      "[1, 1, 2, 2, 2, 2, 2, 1, 2, 1, 1, 1, 2, 2, 2, 4, 4, 5, 2, 1, 3, 3, 4, 2, 1, 2, 4, 1, 1, 5, 2, 2, 5, 1, 8, 2]\n"
     ]
    }
   ],
   "source": [
    "pools = participation_count.keys()\n",
    "mean = [round(np.mean(counts),2) for counts in participation_count.values()] # rounding can be removed for increased precision\n",
    "print(mean)\n",
    "median = [np.median(counts) for counts in participation_count.values()]\n",
    "print(median)\n",
    "mode = [sp.mode(counts)[0][0] for counts in participation_count.values()]\n",
    "print(mode)"
   ]
  },
  {
   "cell_type": "markdown",
   "metadata": {},
   "source": [
    "Then we bring all the data together in a Pandas Dataframe so we can plot it using Seaborn."
   ]
  },
  {
   "cell_type": "code",
   "execution_count": 9,
   "metadata": {},
   "outputs": [
    {
     "data": {
      "text/html": [
       "<div>\n",
       "<style scoped>\n",
       "    .dataframe tbody tr th:only-of-type {\n",
       "        vertical-align: middle;\n",
       "    }\n",
       "\n",
       "    .dataframe tbody tr th {\n",
       "        vertical-align: top;\n",
       "    }\n",
       "\n",
       "    .dataframe thead th {\n",
       "        text-align: right;\n",
       "    }\n",
       "</style>\n",
       "<table border=\"1\" class=\"dataframe\">\n",
       "  <thead>\n",
       "    <tr style=\"text-align: right;\">\n",
       "      <th></th>\n",
       "      <th>pool</th>\n",
       "      <th>mean</th>\n",
       "      <th>median</th>\n",
       "      <th>mode</th>\n",
       "    </tr>\n",
       "  </thead>\n",
       "  <tbody>\n",
       "    <tr>\n",
       "      <th>0</th>\n",
       "      <td>luna-aust</td>\n",
       "      <td>2.87</td>\n",
       "      <td>2.0</td>\n",
       "      <td>1</td>\n",
       "    </tr>\n",
       "    <tr>\n",
       "      <th>1</th>\n",
       "      <td>loop-ust</td>\n",
       "      <td>1.44</td>\n",
       "      <td>1.0</td>\n",
       "      <td>1</td>\n",
       "    </tr>\n",
       "    <tr>\n",
       "      <th>2</th>\n",
       "      <td>loop-luna</td>\n",
       "      <td>3.43</td>\n",
       "      <td>3.0</td>\n",
       "      <td>2</td>\n",
       "    </tr>\n",
       "    <tr>\n",
       "      <th>3</th>\n",
       "      <td>loop-loopr</td>\n",
       "      <td>2.61</td>\n",
       "      <td>2.0</td>\n",
       "      <td>2</td>\n",
       "    </tr>\n",
       "    <tr>\n",
       "      <th>4</th>\n",
       "      <td>anc-ust</td>\n",
       "      <td>3.38</td>\n",
       "      <td>3.0</td>\n",
       "      <td>2</td>\n",
       "    </tr>\n",
       "  </tbody>\n",
       "</table>\n",
       "</div>"
      ],
      "text/plain": [
       "         pool  mean  median  mode\n",
       "0   luna-aust  2.87     2.0     1\n",
       "1    loop-ust  1.44     1.0     1\n",
       "2   loop-luna  3.43     3.0     2\n",
       "3  loop-loopr  2.61     2.0     2\n",
       "4     anc-ust  3.38     3.0     2"
      ]
     },
     "execution_count": 9,
     "metadata": {},
     "output_type": "execute_result"
    }
   ],
   "source": [
    "aggregated = pd.DataFrame(list(zip(pools,mean,median,mode)), columns=['pool','mean','median','mode'])\n",
    "aggregated.head()"
   ]
  },
  {
   "cell_type": "code",
   "execution_count": 10,
   "metadata": {},
   "outputs": [
    {
     "data": {
      "image/png": "[encoded data removed]",
      "text/plain": [
       "<Figure size 1152x576 with 1 Axes>"
      ]
     },
     "metadata": {},
     "output_type": "display_data"
    }
   ],
   "source": [
    "sns.set_style('darkgrid')\n",
    "plt.figure(figsize=(16,8))\n",
    "ax = plt.subplot(2,1,1)\n",
    "sns.barplot(data=aggregated,x='pool',y='mean',palette='viridis')\n",
    "plt.xticks(rotation=90)\n",
    "plt.title('Mean number of LPs providers participate in')\n",
    "plt.xlabel('Liquidity Pool (LP)')\n",
    "plt.ylabel('Mean number of pools')\n",
    "plt.show()"
   ]
  },
  {
   "cell_type": "markdown",
   "metadata": {},
   "source": [
    "As we can observe in the graph above, the mean number of pools a provider participates in can vary widely, from 1.44 in loop-ust to 11.67 in loop-whmim."
   ]
  },
  {
   "cell_type": "code",
   "execution_count": 11,
   "metadata": {},
   "outputs": [
    {
     "data": {
      "text/html": [
       "<div>\n",
       "<style scoped>\n",
       "    .dataframe tbody tr th:only-of-type {\n",
       "        vertical-align: middle;\n",
       "    }\n",
       "\n",
       "    .dataframe tbody tr th {\n",
       "        vertical-align: top;\n",
       "    }\n",
       "\n",
       "    .dataframe thead th {\n",
       "        text-align: right;\n",
       "    }\n",
       "</style>\n",
       "<table border=\"1\" class=\"dataframe\">\n",
       "  <thead>\n",
       "    <tr style=\"text-align: right;\">\n",
       "      <th></th>\n",
       "      <th>pool</th>\n",
       "      <th>mean</th>\n",
       "      <th>median</th>\n",
       "      <th>mode</th>\n",
       "    </tr>\n",
       "  </thead>\n",
       "  <tbody>\n",
       "    <tr>\n",
       "      <th>1</th>\n",
       "      <td>loop-ust</td>\n",
       "      <td>1.44</td>\n",
       "      <td>1.0</td>\n",
       "      <td>1</td>\n",
       "    </tr>\n",
       "    <tr>\n",
       "      <th>34</th>\n",
       "      <td>loop-whmim</td>\n",
       "      <td>11.67</td>\n",
       "      <td>10.5</td>\n",
       "      <td>8</td>\n",
       "    </tr>\n",
       "  </tbody>\n",
       "</table>\n",
       "</div>"
      ],
      "text/plain": [
       "          pool   mean  median  mode\n",
       "1     loop-ust   1.44     1.0     1\n",
       "34  loop-whmim  11.67    10.5     8"
      ]
     },
     "execution_count": 11,
     "metadata": {},
     "output_type": "execute_result"
    }
   ],
   "source": [
    "aggregated[(aggregated['mean'] == aggregated['mean'].max()) | (aggregated['mean'] == aggregated['mean'].min())]"
   ]
  },
  {
   "cell_type": "code",
   "execution_count": 12,
   "metadata": {},
   "outputs": [
    {
     "data": {
      "image/png": "[encoded data removed]",
      "text/plain": [
       "<Figure size 1152x288 with 1 Axes>"
      ]
     },
     "metadata": {},
     "output_type": "display_data"
    }
   ],
   "source": [
    "plt.figure(figsize=(16,4))\n",
    "ax = plt.subplot()\n",
    "sns.barplot(data=aggregated,x='pool',y='median',palette='viridis')\n",
    "plt.xticks(rotation=90)\n",
    "plt.title('Median number of LPs providers participate in')\n",
    "plt.xlabel('Liquidity Pool (LP)')\n",
    "plt.ylabel('Median number of pools')\n",
    "plt.show()"
   ]
  },
  {
   "cell_type": "markdown",
   "metadata": {},
   "source": [
    "The same variance can also be seen when it comes to the median number of LPs a provider participates in, where we have a couple of pools with a value of just 1 like loop-ust and aust-ust, and going up to 10.5 in the case of loop-whmim."
   ]
  },
  {
   "cell_type": "code",
   "execution_count": 13,
   "metadata": {},
   "outputs": [
    {
     "data": {
      "text/html": [
       "<div>\n",
       "<style scoped>\n",
       "    .dataframe tbody tr th:only-of-type {\n",
       "        vertical-align: middle;\n",
       "    }\n",
       "\n",
       "    .dataframe tbody tr th {\n",
       "        vertical-align: top;\n",
       "    }\n",
       "\n",
       "    .dataframe thead th {\n",
       "        text-align: right;\n",
       "    }\n",
       "</style>\n",
       "<table border=\"1\" class=\"dataframe\">\n",
       "  <thead>\n",
       "    <tr style=\"text-align: right;\">\n",
       "      <th></th>\n",
       "      <th>pool</th>\n",
       "      <th>mean</th>\n",
       "      <th>median</th>\n",
       "      <th>mode</th>\n",
       "    </tr>\n",
       "  </thead>\n",
       "  <tbody>\n",
       "    <tr>\n",
       "      <th>1</th>\n",
       "      <td>loop-ust</td>\n",
       "      <td>1.44</td>\n",
       "      <td>1.0</td>\n",
       "      <td>1</td>\n",
       "    </tr>\n",
       "    <tr>\n",
       "      <th>10</th>\n",
       "      <td>aust-ust</td>\n",
       "      <td>2.13</td>\n",
       "      <td>1.0</td>\n",
       "      <td>1</td>\n",
       "    </tr>\n",
       "    <tr>\n",
       "      <th>34</th>\n",
       "      <td>loop-whmim</td>\n",
       "      <td>11.67</td>\n",
       "      <td>10.5</td>\n",
       "      <td>8</td>\n",
       "    </tr>\n",
       "  </tbody>\n",
       "</table>\n",
       "</div>"
      ],
      "text/plain": [
       "          pool   mean  median  mode\n",
       "1     loop-ust   1.44     1.0     1\n",
       "10    aust-ust   2.13     1.0     1\n",
       "34  loop-whmim  11.67    10.5     8"
      ]
     },
     "execution_count": 13,
     "metadata": {},
     "output_type": "execute_result"
    }
   ],
   "source": [
    "aggregated[(aggregated['median'] == aggregated['median'].max()) | (aggregated['median'] == aggregated['median'].min())]"
   ]
  },
  {
   "cell_type": "code",
   "execution_count": 14,
   "metadata": {},
   "outputs": [
    {
     "data": {
      "image/png": "[encoded data removed]",
      "text/plain": [
       "<Figure size 1152x288 with 1 Axes>"
      ]
     },
     "metadata": {},
     "output_type": "display_data"
    }
   ],
   "source": [
    "plt.figure(figsize=(16,4))\n",
    "ax = plt.subplot()\n",
    "sns.barplot(data=aggregated,x='pool',y='mode',palette='viridis')\n",
    "plt.xticks(rotation=90)\n",
    "plt.title('Mode of number of LPs providers participate in')\n",
    "plt.xlabel('Liquidity Pool (LP)')\n",
    "plt.ylabel('Mode number of pools')\n",
    "plt.show()"
   ]
  },
  {
   "cell_type": "markdown",
   "metadata": {},
   "source": [
    "When it comes to mode, it is most common for a provider to have open positions on only one LP, as we can observe this in 10 of Loop Finance's pools. But then we also have the loop-whmim pool where the most common observation is of providers who are involved in 8 pools at the same time."
   ]
  },
  {
   "cell_type": "code",
   "execution_count": 15,
   "metadata": {},
   "outputs": [
    {
     "data": {
      "text/html": [
       "<div>\n",
       "<style scoped>\n",
       "    .dataframe tbody tr th:only-of-type {\n",
       "        vertical-align: middle;\n",
       "    }\n",
       "\n",
       "    .dataframe tbody tr th {\n",
       "        vertical-align: top;\n",
       "    }\n",
       "\n",
       "    .dataframe thead th {\n",
       "        text-align: right;\n",
       "    }\n",
       "</style>\n",
       "<table border=\"1\" class=\"dataframe\">\n",
       "  <thead>\n",
       "    <tr style=\"text-align: right;\">\n",
       "      <th></th>\n",
       "      <th>pool</th>\n",
       "      <th>mean</th>\n",
       "      <th>median</th>\n",
       "      <th>mode</th>\n",
       "    </tr>\n",
       "  </thead>\n",
       "  <tbody>\n",
       "    <tr>\n",
       "      <th>0</th>\n",
       "      <td>luna-aust</td>\n",
       "      <td>2.87</td>\n",
       "      <td>2.0</td>\n",
       "      <td>1</td>\n",
       "    </tr>\n",
       "    <tr>\n",
       "      <th>1</th>\n",
       "      <td>loop-ust</td>\n",
       "      <td>1.44</td>\n",
       "      <td>1.0</td>\n",
       "      <td>1</td>\n",
       "    </tr>\n",
       "    <tr>\n",
       "      <th>7</th>\n",
       "      <td>luna-ust</td>\n",
       "      <td>3.05</td>\n",
       "      <td>2.0</td>\n",
       "      <td>1</td>\n",
       "    </tr>\n",
       "    <tr>\n",
       "      <th>9</th>\n",
       "      <td>mine-ust</td>\n",
       "      <td>3.59</td>\n",
       "      <td>3.0</td>\n",
       "      <td>1</td>\n",
       "    </tr>\n",
       "    <tr>\n",
       "      <th>10</th>\n",
       "      <td>aust-ust</td>\n",
       "      <td>2.13</td>\n",
       "      <td>1.0</td>\n",
       "      <td>1</td>\n",
       "    </tr>\n",
       "    <tr>\n",
       "      <th>11</th>\n",
       "      <td>bluna-luna</td>\n",
       "      <td>2.30</td>\n",
       "      <td>2.0</td>\n",
       "      <td>1</td>\n",
       "    </tr>\n",
       "    <tr>\n",
       "      <th>19</th>\n",
       "      <td>loop-mine</td>\n",
       "      <td>3.33</td>\n",
       "      <td>2.0</td>\n",
       "      <td>1</td>\n",
       "    </tr>\n",
       "    <tr>\n",
       "      <th>24</th>\n",
       "      <td>anc-aust</td>\n",
       "      <td>3.79</td>\n",
       "      <td>3.0</td>\n",
       "      <td>1</td>\n",
       "    </tr>\n",
       "    <tr>\n",
       "      <th>27</th>\n",
       "      <td>weweth-ust</td>\n",
       "      <td>4.70</td>\n",
       "      <td>3.5</td>\n",
       "      <td>1</td>\n",
       "    </tr>\n",
       "    <tr>\n",
       "      <th>28</th>\n",
       "      <td>bluna-ust</td>\n",
       "      <td>4.00</td>\n",
       "      <td>3.0</td>\n",
       "      <td>1</td>\n",
       "    </tr>\n",
       "    <tr>\n",
       "      <th>33</th>\n",
       "      <td>kuji-aust</td>\n",
       "      <td>4.00</td>\n",
       "      <td>3.0</td>\n",
       "      <td>1</td>\n",
       "    </tr>\n",
       "    <tr>\n",
       "      <th>34</th>\n",
       "      <td>loop-whmim</td>\n",
       "      <td>11.67</td>\n",
       "      <td>10.5</td>\n",
       "      <td>8</td>\n",
       "    </tr>\n",
       "  </tbody>\n",
       "</table>\n",
       "</div>"
      ],
      "text/plain": [
       "          pool   mean  median  mode\n",
       "0    luna-aust   2.87     2.0     1\n",
       "1     loop-ust   1.44     1.0     1\n",
       "7     luna-ust   3.05     2.0     1\n",
       "9     mine-ust   3.59     3.0     1\n",
       "10    aust-ust   2.13     1.0     1\n",
       "11  bluna-luna   2.30     2.0     1\n",
       "19   loop-mine   3.33     2.0     1\n",
       "24    anc-aust   3.79     3.0     1\n",
       "27  weweth-ust   4.70     3.5     1\n",
       "28   bluna-ust   4.00     3.0     1\n",
       "33   kuji-aust   4.00     3.0     1\n",
       "34  loop-whmim  11.67    10.5     8"
      ]
     },
     "execution_count": 15,
     "metadata": {},
     "output_type": "execute_result"
    }
   ],
   "source": [
    "aggregated[(aggregated['mode'] == aggregated['mode'].max()) | (aggregated['mode'] == aggregated['mode'].min())]\\\n",
    "    .sort_values(by=['mode'])"
   ]
  }
 ],
 "metadata": {
  "interpreter": {
   "hash": "b1e00c4c02fc48333235efc75f03fb75457c436b3b1518e216c638d11215803d"
  },
  "kernelspec": {
   "display_name": "Python 3.9.7 64-bit ('base': conda)",
   "language": "python",
   "name": "python3"
  },
  "language_info": {
   "codemirror_mode": {
    "name": "ipython",
    "version": 3
   },
   "file_extension": ".py",
   "mimetype": "text/x-python",
   "name": "python",
   "nbconvert_exporter": "python",
   "pygments_lexer": "ipython3",
   "version": "3.9.7"
  },
  "orig_nbformat": 4
 },
 "nbformat": 4,
 "nbformat_minor": 2
}
