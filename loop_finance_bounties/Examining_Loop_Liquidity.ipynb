{
 "cells": [
  {
   "cell_type": "markdown",
   "metadata": {},
   "source": [
    "# Intro\n",
    "In this analysis we are looking into Loop Finance ([https://www.loop.markets/](https://www.loop.markets/)) Liquidity Pool (LP) providers and their participation across multiple pools. The main focus is to understand for each LP what the mean, median and mode number of pools a provider would participate in at the same time."
   ]
  },
  {
   "cell_type": "markdown",
   "metadata": {},
   "source": [
    "## Data\n",
    "The Liquidity Pool provider data was obtain from FlipsideCrypto and exported in the `Loop_Liquidity-LP_positions.csv` file so it can be analysed in this notebook using Python.\n",
    "\n",
    "**Query**: FlipsideCrypto SQL query used to obtain the data can be found in the `lp_positions_query.sql` file.\n",
    "\n",
    "The resulting table contains a list of providers, LPs and the current LP Token balance. The data is aggregated by provider and LP so each observation (row) represents a provider's position in a pool.\n",
    "\n",
    "_**Caveats**: The table also contains instances where the provider removed some or most liquidity and remained with very small amounts of LP Tokens. These instances might result in slightly skewed results, but it can be addressed by setting a `balance` threshold below which a position is no longer considered active or taken into account._"
   ]
  },
  {
   "cell_type": "markdown",
   "metadata": {},
   "source": [
    "### Importing modules and data\n",
    "We will be importing a few modules needed to wrangle, analyse and plot the data in the code block below."
   ]
  },
  {
   "cell_type": "code",
   "execution_count": 1,
   "metadata": {},
   "outputs": [],
   "source": [
    "import pandas as pd\n",
    "import matplotlib.pyplot as plt\n",
    "import seaborn as sns\n",
    "import numpy as np\n",
    "import scipy.stats as sp"
   ]
  },
  {
   "cell_type": "markdown",
   "metadata": {},
   "source": [
    "Now we can import the LP positions data from the `Loop_Liquidity-LP_positions.csv` file and turn it into a Pandas Dataframe."
   ]
  },
  {
   "cell_type": "code",
   "execution_count": 2,
   "metadata": {},
   "outputs": [
    {
     "data": {
      "text/html": [
       "<div>\n",
       "<style scoped>\n",
       "    .dataframe tbody tr th:only-of-type {\n",
       "        vertical-align: middle;\n",
       "    }\n",
       "\n",
       "    .dataframe tbody tr th {\n",
       "        vertical-align: top;\n",
       "    }\n",
       "\n",
       "    .dataframe thead th {\n",
       "        text-align: right;\n",
       "    }\n",
       "</style>\n",
       "<table border=\"1\" class=\"dataframe\">\n",
       "  <thead>\n",
       "    <tr style=\"text-align: right;\">\n",
       "      <th></th>\n",
       "      <th>provider</th>\n",
       "      <th>lp</th>\n",
       "      <th>provided</th>\n",
       "      <th>withdrawn</th>\n",
       "      <th>balance</th>\n",
       "    </tr>\n",
       "  </thead>\n",
       "  <tbody>\n",
       "    <tr>\n",
       "      <th>0</th>\n",
       "      <td>terra1pjuxv3u4akau8y25c7d6q0p66k2naauzn0sf6p</td>\n",
       "      <td>loop-ust</td>\n",
       "      <td>28121002749</td>\n",
       "      <td>17000000000</td>\n",
       "      <td>11121002749</td>\n",
       "    </tr>\n",
       "    <tr>\n",
       "      <th>1</th>\n",
       "      <td>terra1aqp2yeh8e42fsmm7dq5qhcusmn8lt5yss8vy65</td>\n",
       "      <td>loop-aust</td>\n",
       "      <td>402273968</td>\n",
       "      <td>402273000</td>\n",
       "      <td>968</td>\n",
       "    </tr>\n",
       "    <tr>\n",
       "      <th>2</th>\n",
       "      <td>terra1r3rkwnpjtlztj4kskcfku7latzsv5g8turze66</td>\n",
       "      <td>loop-ust</td>\n",
       "      <td>41362520</td>\n",
       "      <td>41362000</td>\n",
       "      <td>520</td>\n",
       "    </tr>\n",
       "    <tr>\n",
       "      <th>3</th>\n",
       "      <td>terra1jlc7sshfuknyme9rx3kd72wcym8r2s5sf57vj4</td>\n",
       "      <td>loop-ust</td>\n",
       "      <td>138955149</td>\n",
       "      <td>138955000</td>\n",
       "      <td>149</td>\n",
       "    </tr>\n",
       "    <tr>\n",
       "      <th>4</th>\n",
       "      <td>terra1vcmjyvme0qvpx27ctsksp7tvq4u7sl00nhkn6n</td>\n",
       "      <td>loop-ust</td>\n",
       "      <td>17357132</td>\n",
       "      <td>17357000</td>\n",
       "      <td>132</td>\n",
       "    </tr>\n",
       "  </tbody>\n",
       "</table>\n",
       "</div>"
      ],
      "text/plain": [
       "                                       provider         lp     provided  \\\n",
       "0  terra1pjuxv3u4akau8y25c7d6q0p66k2naauzn0sf6p   loop-ust  28121002749   \n",
       "1  terra1aqp2yeh8e42fsmm7dq5qhcusmn8lt5yss8vy65  loop-aust    402273968   \n",
       "2  terra1r3rkwnpjtlztj4kskcfku7latzsv5g8turze66   loop-ust     41362520   \n",
       "3  terra1jlc7sshfuknyme9rx3kd72wcym8r2s5sf57vj4   loop-ust    138955149   \n",
       "4  terra1vcmjyvme0qvpx27ctsksp7tvq4u7sl00nhkn6n   loop-ust     17357132   \n",
       "\n",
       "     withdrawn      balance  \n",
       "0  17000000000  11121002749  \n",
       "1    402273000          968  \n",
       "2     41362000          520  \n",
       "3    138955000          149  \n",
       "4     17357000          132  "
      ]
     },
     "execution_count": 2,
     "metadata": {},
     "output_type": "execute_result"
    }
   ],
   "source": [
    "df = pd.read_csv('Loop_Liquidity-LP_positions.csv')\n",
    "df.columns = ['provider','lp','provided','withdrawn','balance']\n",
    "df.head()"
   ]
  },
  {
   "cell_type": "markdown",
   "metadata": {},
   "source": [
    "With the data we obtained we can see that we will be analysing **24,501 unique providers** across **37 unique LPs**."
   ]
  },
  {
   "cell_type": "code",
   "execution_count": 3,
   "metadata": {},
   "outputs": [
    {
     "name": "stdout",
     "output_type": "stream",
     "text": [
      "Unique providers: 24501\n",
      "Unique LPs: 37\n"
     ]
    }
   ],
   "source": [
    "print('Unique providers:',df.provider.nunique())\n",
    "print('Unique LPs:',df.lp.nunique())"
   ]
  },
  {
   "cell_type": "markdown",
   "metadata": {},
   "source": [
    "Before we break down the data by Liquidity Pool, we will first see how it looks overall.\n",
    "\n",
    "On average, a provider will have a position in only one LP, with the exact average being 1.44, and this remains true for the majority of them as even over the 75th percentile they generally provide liquidity to only one pool.\n",
    "\n",
    "However, there are a few outliers with a LP count of over 10, with the biggest one participating in 25 pools."
   ]
  },
  {
   "cell_type": "code",
   "execution_count": 4,
   "metadata": {},
   "outputs": [
    {
     "data": {
      "text/html": [
       "<div>\n",
       "<style scoped>\n",
       "    .dataframe tbody tr th:only-of-type {\n",
       "        vertical-align: middle;\n",
       "    }\n",
       "\n",
       "    .dataframe tbody tr th {\n",
       "        vertical-align: top;\n",
       "    }\n",
       "\n",
       "    .dataframe thead th {\n",
       "        text-align: right;\n",
       "    }\n",
       "</style>\n",
       "<table border=\"1\" class=\"dataframe\">\n",
       "  <thead>\n",
       "    <tr style=\"text-align: right;\">\n",
       "      <th></th>\n",
       "      <th>lp_count</th>\n",
       "    </tr>\n",
       "  </thead>\n",
       "  <tbody>\n",
       "    <tr>\n",
       "      <th>count</th>\n",
       "      <td>24501.000000</td>\n",
       "    </tr>\n",
       "    <tr>\n",
       "      <th>mean</th>\n",
       "      <td>1.447696</td>\n",
       "    </tr>\n",
       "    <tr>\n",
       "      <th>std</th>\n",
       "      <td>1.113740</td>\n",
       "    </tr>\n",
       "    <tr>\n",
       "      <th>min</th>\n",
       "      <td>1.000000</td>\n",
       "    </tr>\n",
       "    <tr>\n",
       "      <th>25%</th>\n",
       "      <td>1.000000</td>\n",
       "    </tr>\n",
       "    <tr>\n",
       "      <th>50%</th>\n",
       "      <td>1.000000</td>\n",
       "    </tr>\n",
       "    <tr>\n",
       "      <th>75%</th>\n",
       "      <td>1.000000</td>\n",
       "    </tr>\n",
       "    <tr>\n",
       "      <th>max</th>\n",
       "      <td>25.000000</td>\n",
       "    </tr>\n",
       "  </tbody>\n",
       "</table>\n",
       "</div>"
      ],
      "text/plain": [
       "           lp_count\n",
       "count  24501.000000\n",
       "mean       1.447696\n",
       "std        1.113740\n",
       "min        1.000000\n",
       "25%        1.000000\n",
       "50%        1.000000\n",
       "75%        1.000000\n",
       "max       25.000000"
      ]
     },
     "execution_count": 4,
     "metadata": {},
     "output_type": "execute_result"
    }
   ],
   "source": [
    "provider_group = df.groupby(['provider']).count().reset_index()\n",
    "provider_group.drop(columns=['provided','withdrawn','balance'], inplace=True)\n",
    "provider_group.columns = ['provider','lp_count']\n",
    "provider_group.describe()"
   ]
  },
  {
   "cell_type": "markdown",
   "metadata": {},
   "source": [
    "In the histogram below we can see that the distribution is unimodal and has a heavy skew to the right, with the median and mode values to the left of the mean and overlapping eachother."
   ]
  },
  {
   "cell_type": "code",
   "execution_count": 5,
   "metadata": {},
   "outputs": [
    {
     "data": {
      "image/png": "[encoded data removed]",
      "text/plain": [
       "<Figure size 1152x576 with 2 Axes>"
      ]
     },
     "metadata": {
      "needs_background": "light"
     },
     "output_type": "display_data"
    }
   ],
   "source": [
    "plt.figure(figsize=(16,8))\n",
    "ax1 = plt.subplot(2,1,1)\n",
    "sns.histplot(data=provider_group.lp_count)\n",
    "sns.rugplot(data=provider_group.lp_count, color='r')\n",
    "plt.axvline(np.mean(provider_group.lp_count), label='Mean', color='r')\n",
    "plt.axvline(np.median(provider_group.lp_count), label='Median')\n",
    "plt.axvline(sp.mode(provider_group.lp_count)[0][0], label='Mode', color='y')\n",
    "plt.title('Number of LPs providers participate in')\n",
    "plt.ylabel('provider_count')\n",
    "plt.legend()\n",
    "\n",
    "ax2 = plt.subplot(2,1,2)\n",
    "sns.histplot(data=provider_group[provider_group.lp_count <= 5].lp_count, bins=4)\n",
    "ax2.set_xticks(range(1,6))\n",
    "plt.title('Number of LPs providers participate in (LP count <= 5)')\n",
    "plt.ylabel('provider_count')\n",
    "plt.axvline(np.mean(provider_group.lp_count), label='Mean', color='r')\n",
    "plt.axvline(np.median(provider_group.lp_count), label='Median')\n",
    "plt.axvline(sp.mode(provider_group.lp_count)[0][0], label='Mode', color = 'y')\n",
    "\n",
    "plt.legend()\n",
    "plt.subplots_adjust(hspace=0.3)\n",
    "plt.show()"
   ]
  },
  {
   "cell_type": "markdown",
   "metadata": {},
   "source": [
    "Then we loop through each LP and for each provider in it we count in how many other pools it is present in. The results are then collected in a python dictionary with the pool name as the key for each entry."
   ]
  },
  {
   "cell_type": "code",
   "execution_count": 6,
   "metadata": {},
   "outputs": [],
   "source": [
    "participation_count = {}\n",
    "for pool in df.lp.unique():\n",
    "    count = [] # each number indicates in how many pools each provider is in\n",
    "    for address in df[df.lp == pool].provider.unique():\n",
    "        in_pools = len(df[df.provider == address])\n",
    "        if in_pools == 0:\n",
    "            pass\n",
    "        else:\n",
    "            count.append(in_pools)\n",
    "    participation_count[pool] = count"
   ]
  },
  {
   "cell_type": "markdown",
   "metadata": {},
   "source": [
    "Once we have the counts, we can loop through the dictionary to calculate the **mean**, **median** and **mode** of participation for each pool."
   ]
  },
  {
   "cell_type": "code",
   "execution_count": 7,
   "metadata": {},
   "outputs": [
    {
     "name": "stdout",
     "output_type": "stream",
     "text": [
      "[1.45, 3.86, 2.32, 2.14, 3.5, 3.99, 4.19, 3.66, 2.62, 3.65, 2.66, 5.61, 3.43, 3.08, 4.89, 3.43, 4.76, 4.97, 4.6, 5.81, 3.83, 2.91, 4.0, 4.0, 5.23, 5.38, 3.87, 5.77, 4.75, 6.64, 4.54, 8.23, 6.21, 6.0, 5.41, 4.0, 12.17]\n",
      "[1.0, 3.0, 2.0, 1.0, 3.0, 3.0, 3.0, 3.0, 2.0, 3.0, 2.0, 5.0, 3.0, 2.0, 4.0, 3.0, 4.0, 4.0, 3.0, 5.0, 3.0, 2.0, 3.0, 3.0, 4.0, 5.0, 3.0, 5.0, 3.5, 6.0, 2.0, 9.0, 6.0, 4.0, 5.0, 3.0, 11.0]\n",
      "[1, 2, 1, 1, 2, 2, 2, 2, 2, 1, 2, 4, 2, 1, 5, 1, 3, 2, 3, 4, 1, 1, 1, 2, 2, 5, 1, 2, 1, 2, 2, 2, 5, 2, 5, 1, 8]\n"
     ]
    }
   ],
   "source": [
    "pools = participation_count.keys()\n",
    "mean = [round(np.mean(counts),2) for counts in participation_count.values()] # rounding can be removed for increased precision\n",
    "print(mean)\n",
    "median = [np.median(counts) for counts in participation_count.values()]\n",
    "print(median)\n",
    "mode = [sp.mode(counts)[0][0] for counts in participation_count.values()]\n",
    "print(mode)"
   ]
  },
  {
   "cell_type": "markdown",
   "metadata": {},
   "source": [
    "Then we bring all the data together in a Pandas Dataframe so we can plot it using Seaborn."
   ]
  },
  {
   "cell_type": "code",
   "execution_count": 8,
   "metadata": {},
   "outputs": [
    {
     "data": {
      "text/html": [
       "<div>\n",
       "<style scoped>\n",
       "    .dataframe tbody tr th:only-of-type {\n",
       "        vertical-align: middle;\n",
       "    }\n",
       "\n",
       "    .dataframe tbody tr th {\n",
       "        vertical-align: top;\n",
       "    }\n",
       "\n",
       "    .dataframe thead th {\n",
       "        text-align: right;\n",
       "    }\n",
       "</style>\n",
       "<table border=\"1\" class=\"dataframe\">\n",
       "  <thead>\n",
       "    <tr style=\"text-align: right;\">\n",
       "      <th></th>\n",
       "      <th>pool</th>\n",
       "      <th>mean</th>\n",
       "      <th>median</th>\n",
       "      <th>mode</th>\n",
       "    </tr>\n",
       "  </thead>\n",
       "  <tbody>\n",
       "    <tr>\n",
       "      <th>0</th>\n",
       "      <td>loop-ust</td>\n",
       "      <td>1.45</td>\n",
       "      <td>1.0</td>\n",
       "      <td>1</td>\n",
       "    </tr>\n",
       "    <tr>\n",
       "      <th>1</th>\n",
       "      <td>loop-aust</td>\n",
       "      <td>3.86</td>\n",
       "      <td>3.0</td>\n",
       "      <td>2</td>\n",
       "    </tr>\n",
       "    <tr>\n",
       "      <th>2</th>\n",
       "      <td>bluna-luna</td>\n",
       "      <td>2.32</td>\n",
       "      <td>2.0</td>\n",
       "      <td>1</td>\n",
       "    </tr>\n",
       "    <tr>\n",
       "      <th>3</th>\n",
       "      <td>aust-ust</td>\n",
       "      <td>2.14</td>\n",
       "      <td>1.0</td>\n",
       "      <td>1</td>\n",
       "    </tr>\n",
       "    <tr>\n",
       "      <th>4</th>\n",
       "      <td>loop-luna</td>\n",
       "      <td>3.50</td>\n",
       "      <td>3.0</td>\n",
       "      <td>2</td>\n",
       "    </tr>\n",
       "  </tbody>\n",
       "</table>\n",
       "</div>"
      ],
      "text/plain": [
       "         pool  mean  median  mode\n",
       "0    loop-ust  1.45     1.0     1\n",
       "1   loop-aust  3.86     3.0     2\n",
       "2  bluna-luna  2.32     2.0     1\n",
       "3    aust-ust  2.14     1.0     1\n",
       "4   loop-luna  3.50     3.0     2"
      ]
     },
     "execution_count": 8,
     "metadata": {},
     "output_type": "execute_result"
    }
   ],
   "source": [
    "aggregated = pd.DataFrame(list(zip(pools,mean,median,mode)), columns=['pool','mean','median','mode'])\n",
    "aggregated.head()"
   ]
  },
  {
   "cell_type": "code",
   "execution_count": 9,
   "metadata": {},
   "outputs": [
    {
     "data": {
      "image/png": "[encoded data removed]",
      "text/plain": [
       "<Figure size 1152x576 with 1 Axes>"
      ]
     },
     "metadata": {},
     "output_type": "display_data"
    }
   ],
   "source": [
    "sns.set_style('darkgrid')\n",
    "plt.figure(figsize=(16,8))\n",
    "ax = plt.subplot(2,1,1)\n",
    "sns.barplot(data=aggregated,x='pool',y='mean',palette='viridis')\n",
    "plt.xticks(rotation=90)\n",
    "plt.title('Mean number of LPs providers participate in')\n",
    "plt.xlabel('Liquidity Pool (LP)')\n",
    "plt.ylabel('Mean number of pools')\n",
    "plt.show()"
   ]
  },
  {
   "cell_type": "markdown",
   "metadata": {},
   "source": [
    "As we can observe in the graph above, the mean number of pools a provider participates in can vary widely, from 1 in loop-ust to 12 in loop-whmim."
   ]
  },
  {
   "cell_type": "code",
   "execution_count": 10,
   "metadata": {},
   "outputs": [
    {
     "data": {
      "text/html": [
       "<div>\n",
       "<style scoped>\n",
       "    .dataframe tbody tr th:only-of-type {\n",
       "        vertical-align: middle;\n",
       "    }\n",
       "\n",
       "    .dataframe tbody tr th {\n",
       "        vertical-align: top;\n",
       "    }\n",
       "\n",
       "    .dataframe thead th {\n",
       "        text-align: right;\n",
       "    }\n",
       "</style>\n",
       "<table border=\"1\" class=\"dataframe\">\n",
       "  <thead>\n",
       "    <tr style=\"text-align: right;\">\n",
       "      <th></th>\n",
       "      <th>pool</th>\n",
       "      <th>mean</th>\n",
       "      <th>median</th>\n",
       "      <th>mode</th>\n",
       "    </tr>\n",
       "  </thead>\n",
       "  <tbody>\n",
       "    <tr>\n",
       "      <th>0</th>\n",
       "      <td>loop-ust</td>\n",
       "      <td>1.45</td>\n",
       "      <td>1.0</td>\n",
       "      <td>1</td>\n",
       "    </tr>\n",
       "    <tr>\n",
       "      <th>36</th>\n",
       "      <td>loop-whmim</td>\n",
       "      <td>12.17</td>\n",
       "      <td>11.0</td>\n",
       "      <td>8</td>\n",
       "    </tr>\n",
       "  </tbody>\n",
       "</table>\n",
       "</div>"
      ],
      "text/plain": [
       "          pool   mean  median  mode\n",
       "0     loop-ust   1.45     1.0     1\n",
       "36  loop-whmim  12.17    11.0     8"
      ]
     },
     "execution_count": 10,
     "metadata": {},
     "output_type": "execute_result"
    }
   ],
   "source": [
    "aggregated[(aggregated['mean'] == aggregated['mean'].max()) | (aggregated['mean'] == aggregated['mean'].min())]"
   ]
  },
  {
   "cell_type": "code",
   "execution_count": 11,
   "metadata": {},
   "outputs": [
    {
     "data": {
      "image/png": "[encoded data removed]",
      "text/plain": [
       "<Figure size 1152x288 with 1 Axes>"
      ]
     },
     "metadata": {},
     "output_type": "display_data"
    }
   ],
   "source": [
    "plt.figure(figsize=(16,4))\n",
    "ax = plt.subplot()\n",
    "sns.barplot(data=aggregated,x='pool',y='median',palette='viridis')\n",
    "plt.xticks(rotation=90)\n",
    "plt.title('Median number of LPs providers participate in')\n",
    "plt.xlabel('Liquidity Pool (LP)')\n",
    "plt.ylabel('Median number of pools')\n",
    "plt.show()"
   ]
  },
  {
   "cell_type": "markdown",
   "metadata": {},
   "source": [
    "The same variance can also be seen when it comes to the median number of LPs a provider participates in, where we have a couple of pools with a value of just 1 like loop-ust and aust-ust, and going up to 11 in the case of loop-whmim."
   ]
  },
  {
   "cell_type": "code",
   "execution_count": 12,
   "metadata": {},
   "outputs": [
    {
     "data": {
      "text/html": [
       "<div>\n",
       "<style scoped>\n",
       "    .dataframe tbody tr th:only-of-type {\n",
       "        vertical-align: middle;\n",
       "    }\n",
       "\n",
       "    .dataframe tbody tr th {\n",
       "        vertical-align: top;\n",
       "    }\n",
       "\n",
       "    .dataframe thead th {\n",
       "        text-align: right;\n",
       "    }\n",
       "</style>\n",
       "<table border=\"1\" class=\"dataframe\">\n",
       "  <thead>\n",
       "    <tr style=\"text-align: right;\">\n",
       "      <th></th>\n",
       "      <th>pool</th>\n",
       "      <th>mean</th>\n",
       "      <th>median</th>\n",
       "      <th>mode</th>\n",
       "    </tr>\n",
       "  </thead>\n",
       "  <tbody>\n",
       "    <tr>\n",
       "      <th>0</th>\n",
       "      <td>loop-ust</td>\n",
       "      <td>1.45</td>\n",
       "      <td>1.0</td>\n",
       "      <td>1</td>\n",
       "    </tr>\n",
       "    <tr>\n",
       "      <th>3</th>\n",
       "      <td>aust-ust</td>\n",
       "      <td>2.14</td>\n",
       "      <td>1.0</td>\n",
       "      <td>1</td>\n",
       "    </tr>\n",
       "    <tr>\n",
       "      <th>36</th>\n",
       "      <td>loop-whmim</td>\n",
       "      <td>12.17</td>\n",
       "      <td>11.0</td>\n",
       "      <td>8</td>\n",
       "    </tr>\n",
       "  </tbody>\n",
       "</table>\n",
       "</div>"
      ],
      "text/plain": [
       "          pool   mean  median  mode\n",
       "0     loop-ust   1.45     1.0     1\n",
       "3     aust-ust   2.14     1.0     1\n",
       "36  loop-whmim  12.17    11.0     8"
      ]
     },
     "execution_count": 12,
     "metadata": {},
     "output_type": "execute_result"
    }
   ],
   "source": [
    "aggregated[(aggregated['median'] == aggregated['median'].max()) | (aggregated['median'] == aggregated['median'].min())]"
   ]
  },
  {
   "cell_type": "code",
   "execution_count": 13,
   "metadata": {},
   "outputs": [
    {
     "data": {
      "image/png": "[encoded data removed]",
      "text/plain": [
       "<Figure size 1152x288 with 1 Axes>"
      ]
     },
     "metadata": {},
     "output_type": "display_data"
    }
   ],
   "source": [
    "plt.figure(figsize=(16,4))\n",
    "ax = plt.subplot()\n",
    "sns.barplot(data=aggregated,x='pool',y='mode',palette='viridis')\n",
    "plt.xticks(rotation=90)\n",
    "plt.title('Mode of number of LPs providers participate in')\n",
    "plt.xlabel('Liquidity Pool (LP)')\n",
    "plt.ylabel('Mode number of pools')\n",
    "plt.show()"
   ]
  },
  {
   "cell_type": "markdown",
   "metadata": {},
   "source": [
    "When it comes to mode, it is most common for a provider to have open positions on only one LP, as we can observe this in 12 of Loop Finance's pools. But then we also have the loop-whmim pool where the most common observation is of providers who are involved in 8 pools at the same time."
   ]
  },
  {
   "cell_type": "code",
   "execution_count": 14,
   "metadata": {},
   "outputs": [
    {
     "data": {
      "text/html": [
       "<div>\n",
       "<style scoped>\n",
       "    .dataframe tbody tr th:only-of-type {\n",
       "        vertical-align: middle;\n",
       "    }\n",
       "\n",
       "    .dataframe tbody tr th {\n",
       "        vertical-align: top;\n",
       "    }\n",
       "\n",
       "    .dataframe thead th {\n",
       "        text-align: right;\n",
       "    }\n",
       "</style>\n",
       "<table border=\"1\" class=\"dataframe\">\n",
       "  <thead>\n",
       "    <tr style=\"text-align: right;\">\n",
       "      <th></th>\n",
       "      <th>pool</th>\n",
       "      <th>mean</th>\n",
       "      <th>median</th>\n",
       "      <th>mode</th>\n",
       "    </tr>\n",
       "  </thead>\n",
       "  <tbody>\n",
       "    <tr>\n",
       "      <th>0</th>\n",
       "      <td>loop-ust</td>\n",
       "      <td>1.45</td>\n",
       "      <td>1.0</td>\n",
       "      <td>1</td>\n",
       "    </tr>\n",
       "    <tr>\n",
       "      <th>2</th>\n",
       "      <td>bluna-luna</td>\n",
       "      <td>2.32</td>\n",
       "      <td>2.0</td>\n",
       "      <td>1</td>\n",
       "    </tr>\n",
       "    <tr>\n",
       "      <th>3</th>\n",
       "      <td>aust-ust</td>\n",
       "      <td>2.14</td>\n",
       "      <td>1.0</td>\n",
       "      <td>1</td>\n",
       "    </tr>\n",
       "    <tr>\n",
       "      <th>9</th>\n",
       "      <td>mine-ust</td>\n",
       "      <td>3.65</td>\n",
       "      <td>3.0</td>\n",
       "      <td>1</td>\n",
       "    </tr>\n",
       "    <tr>\n",
       "      <th>13</th>\n",
       "      <td>luna-ust</td>\n",
       "      <td>3.08</td>\n",
       "      <td>2.0</td>\n",
       "      <td>1</td>\n",
       "    </tr>\n",
       "    <tr>\n",
       "      <th>15</th>\n",
       "      <td>loop-mine</td>\n",
       "      <td>3.43</td>\n",
       "      <td>3.0</td>\n",
       "      <td>1</td>\n",
       "    </tr>\n",
       "    <tr>\n",
       "      <th>20</th>\n",
       "      <td>halo-ust</td>\n",
       "      <td>3.83</td>\n",
       "      <td>3.0</td>\n",
       "      <td>1</td>\n",
       "    </tr>\n",
       "    <tr>\n",
       "      <th>21</th>\n",
       "      <td>luna-aust</td>\n",
       "      <td>2.91</td>\n",
       "      <td>2.0</td>\n",
       "      <td>1</td>\n",
       "    </tr>\n",
       "    <tr>\n",
       "      <th>22</th>\n",
       "      <td>bluna-ust</td>\n",
       "      <td>4.00</td>\n",
       "      <td>3.0</td>\n",
       "      <td>1</td>\n",
       "    </tr>\n",
       "    <tr>\n",
       "      <th>26</th>\n",
       "      <td>anc-aust</td>\n",
       "      <td>3.87</td>\n",
       "      <td>3.0</td>\n",
       "      <td>1</td>\n",
       "    </tr>\n",
       "    <tr>\n",
       "      <th>28</th>\n",
       "      <td>weweth-ust</td>\n",
       "      <td>4.75</td>\n",
       "      <td>3.5</td>\n",
       "      <td>1</td>\n",
       "    </tr>\n",
       "    <tr>\n",
       "      <th>35</th>\n",
       "      <td>kuji-aust</td>\n",
       "      <td>4.00</td>\n",
       "      <td>3.0</td>\n",
       "      <td>1</td>\n",
       "    </tr>\n",
       "    <tr>\n",
       "      <th>36</th>\n",
       "      <td>loop-whmim</td>\n",
       "      <td>12.17</td>\n",
       "      <td>11.0</td>\n",
       "      <td>8</td>\n",
       "    </tr>\n",
       "  </tbody>\n",
       "</table>\n",
       "</div>"
      ],
      "text/plain": [
       "          pool   mean  median  mode\n",
       "0     loop-ust   1.45     1.0     1\n",
       "2   bluna-luna   2.32     2.0     1\n",
       "3     aust-ust   2.14     1.0     1\n",
       "9     mine-ust   3.65     3.0     1\n",
       "13    luna-ust   3.08     2.0     1\n",
       "15   loop-mine   3.43     3.0     1\n",
       "20    halo-ust   3.83     3.0     1\n",
       "21   luna-aust   2.91     2.0     1\n",
       "22   bluna-ust   4.00     3.0     1\n",
       "26    anc-aust   3.87     3.0     1\n",
       "28  weweth-ust   4.75     3.5     1\n",
       "35   kuji-aust   4.00     3.0     1\n",
       "36  loop-whmim  12.17    11.0     8"
      ]
     },
     "execution_count": 14,
     "metadata": {},
     "output_type": "execute_result"
    }
   ],
   "source": [
    "aggregated[(aggregated['mode'] == aggregated['mode'].max()) | (aggregated['mode'] == aggregated['mode'].min())]\\\n",
    "    .sort_values(by=['mode'])"
   ]
  }
 ],
 "metadata": {
  "interpreter": {
   "hash": "b1e00c4c02fc48333235efc75f03fb75457c436b3b1518e216c638d11215803d"
  },
  "kernelspec": {
   "display_name": "Python 3.9.7 64-bit ('base': conda)",
   "language": "python",
   "name": "python3"
  },
  "language_info": {
   "codemirror_mode": {
    "name": "ipython",
    "version": 3
   },
   "file_extension": ".py",
   "mimetype": "text/x-python",
   "name": "python",
   "nbconvert_exporter": "python",
   "pygments_lexer": "ipython3",
   "version": "3.9.7"
  },
  "orig_nbformat": 4
 },
 "nbformat": 4,
 "nbformat_minor": 2
}
